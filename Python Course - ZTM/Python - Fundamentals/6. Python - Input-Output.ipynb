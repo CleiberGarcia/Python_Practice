{
 "cells": [
  {
   "cell_type": "markdown",
   "id": "eca2f79f",
   "metadata": {},
   "source": [
    "# 6. Python - Input-Output"
   ]
  },
  {
   "cell_type": "markdown",
   "id": "f24d687e",
   "metadata": {},
   "source": [
    "Author: Cleiber Garcia\n",
    "Date: 17 of February, 2023\n",
    "\n",
    "The content of this notebook was developed by me (Cleiber Garcia) as part of my participation in the course \"Complete Python Developer in 2023: Zero to Mastery\", offered through Udemy (https://www.udemy.com/course/complete-python-developer-zero-to-mastery/), by Andrei Neagoie of Zero to Mastery (https://zerotomastery.io/).\n",
    "\n",
    "The content of this notebook is based on Andrei's online Course (Complete Python Developer in 2023: Zero to Mastery), therefore it has a high degree of similarity with Andrei's work, however I took the liberty to make some changes in the python code, in order to give my personal touch and to make the examples clearer.\n",
    "\n",
    "My intension in developing this notebook is threefold: 1) to show that I have acquired proficiency in Python data input-output; 2) To show that I practicized the contents seen in the online class and 3) to help other students of the course Complete Python Developer in 2023: Zero to Mastery.\n",
    "\n",
    "Feel free to contact-me at cleiber.garcia@gmail.com"
   ]
  },
  {
   "cell_type": "code",
   "execution_count": 1,
   "id": "cc8b21eb",
   "metadata": {},
   "outputs": [
    {
     "name": "stdout",
     "output_type": "stream",
     "text": [
      "Please guess a number (1,10): 5\n",
      "Please guess a numbber (1,10): 4\n",
      "You guessed the number in 2 trials\n"
     ]
    }
   ],
   "source": [
    "import random\n",
    "\n",
    "random_number = random.randint(1,10)\n",
    "\n",
    "number_inf = int(input('Please guess a number (1,10): '))\n",
    "number_trials = 1\n",
    "\n",
    "while number_inf != random_number:\n",
    "    number_inf = int(input('Please guess a numbber (1,10): '))\n",
    "    number_trials +=1\n",
    "\n",
    "print(f'You guessed the number in {number_trials} trials')"
   ]
  },
  {
   "cell_type": "code",
   "execution_count": 2,
   "id": "511c0a61",
   "metadata": {},
   "outputs": [
    {
     "name": "stdout",
     "output_type": "stream",
     "text": [
      "what is your name? Cleiber\n",
      "Inform your password: Abc*&#\n",
      "Cleiber, your password ****** is 6 characters long\n"
     ]
    }
   ],
   "source": [
    "name = input('what is your name? ')\n",
    "password = input('Inform your password: ')\n",
    "length_password = len(password)\n",
    "password_mask = password.replace(password, '*'*length_password)\n",
    "\n",
    "print(f'{name}, your password {password_mask} is {length_password} characters long')"
   ]
  },
  {
   "cell_type": "code",
   "execution_count": null,
   "id": "736bef0a",
   "metadata": {},
   "outputs": [],
   "source": []
  }
 ],
 "metadata": {
  "kernelspec": {
   "display_name": "Python 3 (ipykernel)",
   "language": "python",
   "name": "python3"
  },
  "language_info": {
   "codemirror_mode": {
    "name": "ipython",
    "version": 3
   },
   "file_extension": ".py",
   "mimetype": "text/x-python",
   "name": "python",
   "nbconvert_exporter": "python",
   "pygments_lexer": "ipython3",
   "version": "3.10.9"
  }
 },
 "nbformat": 4,
 "nbformat_minor": 5
}
