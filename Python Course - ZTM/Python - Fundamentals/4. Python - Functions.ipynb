{
 "cells": [
  {
   "cell_type": "markdown",
   "id": "00764349",
   "metadata": {},
   "source": [
    "# 4. Python - Functions"
   ]
  },
  {
   "cell_type": "markdown",
   "id": "006fb258",
   "metadata": {},
   "source": [
    "Author: Cleiber Garcia\n",
    "Date: 17 of February, 2023\n",
    "\n",
    "The content of this notebook was developed by me (Cleiber Garcia) as part of my participation in the course \"Complete Python Developer in 2023: Zero to Mastery\", offered through Udemy (https://www.udemy.com/course/complete-python-developer-zero-to-mastery/), by Andrei Neagoie of Zero to Mastery (https://zerotomastery.io/).\n",
    "\n",
    "The content of this notebook is based on Andrei's online Course (Complete Python Developer in 2023: Zero to Mastery), therefore it has a high degree of similarity with Andrei's work, however I took the liberty to make some changes in the python code, in order to give my personal touch and to make the examples clearer.\n",
    "\n",
    "My intension in developing this notebook is threefold: 1) to show that I have acquired proficiency in Python fundamental data types; 2) To show that I practicized the contents seen in the online class and 3) to help other students of the course Complete Python Developer in 2023: Zero to Mastery.\n",
    "\n",
    "Feel free to contact-me at cleiber.garcia@gmail.com"
   ]
  },
  {
   "cell_type": "markdown",
   "id": "b45cefe6",
   "metadata": {},
   "source": [
    "## 4.1 Functions"
   ]
  },
  {
   "cell_type": "code",
   "execution_count": 49,
   "id": "7a7b8ff1",
   "metadata": {},
   "outputs": [
    {
     "name": "stdout",
     "output_type": "stream",
     "text": [
      "30\n"
     ]
    }
   ],
   "source": [
    "# One function invoking another one\n",
    "def sum_two_numbers(num1, num2):\n",
    "    def another_func(n1, n2):\n",
    "        return (n1 + n2)\n",
    "    return another_func(num1, num2)\n",
    "    \n",
    "total = sum_two_numbers(10,20)\n",
    "print(total)"
   ]
  },
  {
   "cell_type": "code",
   "execution_count": 50,
   "id": "107c460b",
   "metadata": {},
   "outputs": [
    {
     "name": "stdout",
     "output_type": "stream",
     "text": [
      "function_2:  x is local in reference to function_2\n",
      "function_1:  x is local in reference to function_1\n"
     ]
    }
   ],
   "source": [
    "# Scope global and local\n",
    "def function_1():\n",
    "    x = 'x is local in reference to function_1'\n",
    "    def function_2():\n",
    "        x = 'x is local in reference to function_2'\n",
    "        print('function_2: ', x)\n",
    "    function_2()\n",
    "    print('function_1: ', x)\n",
    "    \n",
    "function_1()"
   ]
  },
  {
   "cell_type": "code",
   "execution_count": 51,
   "id": "33dcd924",
   "metadata": {},
   "outputs": [
    {
     "name": "stdout",
     "output_type": "stream",
     "text": [
      "The highest even in the list [10,2,3,4,8,11] is:  10\n"
     ]
    }
   ],
   "source": [
    "#find the highest even number\n",
    "def highest_even(li):\n",
    "    greatest_even = 0\n",
    "    for item in li:\n",
    "        if item % 2 == 0:\n",
    "            if item > greatest_even:\n",
    "                greatest_even = item\n",
    "    return greatest_even\n",
    "\n",
    "print('The highest even in the list [10,2,3,4,8,11] is: ', highest_even([10,2,3,4,8,11]))"
   ]
  },
  {
   "cell_type": "code",
   "execution_count": 52,
   "id": "77df7e41",
   "metadata": {},
   "outputs": [
    {
     "name": "stdout",
     "output_type": "stream",
     "text": [
      "What is your age?: 19\n",
      "Powering On. Enjoy the ride!\n"
     ]
    }
   ],
   "source": [
    "# Asks for an age an invoke a function to determine status to drive\n",
    "def checkDriverAge(age):\n",
    "    if int(age) < 18:\n",
    "    \tmessage = \"Sorry, you are too young to drive this car. Powering off\"\n",
    "    elif int(age) > 18:\n",
    "    \tmessage = \"Powering On. Enjoy the ride!\"\n",
    "    elif int(age) == 18:\n",
    "    \tmessage = \"Congratulations on your first year of driving. Enjoy the ride!\"\n",
    "    return message\n",
    "\n",
    "age = input('What is your age?: ')\n",
    "\n",
    "print(checkDriverAge(age))"
   ]
  },
  {
   "cell_type": "code",
   "execution_count": 58,
   "id": "36e88a01",
   "metadata": {},
   "outputs": [
    {
     "name": "stdout",
     "output_type": "stream",
     "text": [
      "30\n"
     ]
    }
   ],
   "source": [
    "# *args and **kwargs\n",
    "def super_func(*args, **kwargs):\n",
    "    # sum the values in args\n",
    "    total_args = 0\n",
    "    for item in args:\n",
    "        total_args += item\n",
    "    \n",
    "    # sum the values in kwargs\n",
    "    total_kwargs = 0\n",
    "    for item in kwargs.values():\n",
    "        total_kwargs += item\n",
    "   \n",
    "    # sum total_args and total_kwargs\n",
    "    return total_args + total_kwargs\n",
    "\n",
    "print(super_func(1,2,3,4,5, num1=5, num2=10))"
   ]
  },
  {
   "cell_type": "markdown",
   "id": "8297dc30",
   "metadata": {},
   "source": [
    "## 4.2 Lambda Functions"
   ]
  },
  {
   "cell_type": "code",
   "execution_count": 59,
   "id": "b26dcc40",
   "metadata": {},
   "outputs": [
    {
     "name": "stdout",
     "output_type": "stream",
     "text": [
      "my_list:  [1, 2, 3]\n",
      "my_list * 2:  [2, 4, 6]\n"
     ]
    }
   ],
   "source": [
    "my_list = [1,2,3]\n",
    "print('my_list: ', my_list)\n",
    "\n",
    "# map using lambda to double my_list\n",
    "print('my_list * 2: ', list(map(lambda item: item*2, my_list)))"
   ]
  },
  {
   "cell_type": "code",
   "execution_count": 61,
   "id": "54589fbc",
   "metadata": {},
   "outputs": [
    {
     "name": "stdout",
     "output_type": "stream",
     "text": [
      "my_list:  [1, 2, 3]\n",
      "Filtering odd numbers from my_list:  [1, 3]\n"
     ]
    }
   ],
   "source": [
    "my_list = [1,2,3]\n",
    "print('my_list: ', my_list)\n",
    "\n",
    "# filter using lambda to filter just odd numbers from my_list\n",
    "print('Filtering odd numbers from my_list: ', list(filter(lambda item: item % 2 != 0, my_list)))"
   ]
  },
  {
   "cell_type": "code",
   "execution_count": 64,
   "id": "8d5c145c",
   "metadata": {},
   "outputs": [
    {
     "name": "stdout",
     "output_type": "stream",
     "text": [
      "my_list:  [5, 4, 3]\n",
      "squaring my_list:  [25, 16, 9]\n"
     ]
    }
   ],
   "source": [
    "# Squaring a list\n",
    "my_list = [5, 4, 3]\n",
    "print('my_list: ', my_list)\n",
    "print('squaring my_list: ', list(map(lambda item: item**2, my_list)))"
   ]
  },
  {
   "cell_type": "code",
   "execution_count": 74,
   "id": "c65c851b",
   "metadata": {},
   "outputs": [
    {
     "name": "stdout",
     "output_type": "stream",
     "text": [
      "my_list:  [(8, 2), (4, 3), (1, 9), (10, -1)]\n",
      "\n",
      "sort my_list by index 0:  [(1, 9), (4, 3), (8, 2), (10, -1)]\n",
      "\n",
      "sort my_list by index 1:  [(10, -1), (8, 2), (4, 3), (1, 9)]\n"
     ]
    }
   ],
   "source": [
    "# List sorting\n",
    "a = my_list =[(8,2), (4,3), (1,9), (10,-1)]\n",
    "print('my_list: ', my_list)\n",
    "print('')\n",
    "\n",
    "sorted_list_by_index_0 = sorted(\n",
    "    a,\n",
    "    key=lambda tuple: tuple[0]\n",
    ")\n",
    "print('sort my_list by index 0: ', sorted_list_by_index_0)\n",
    "\n",
    "print('')\n",
    "\n",
    "sorted_list_by_index_1 = sorted(\n",
    "    a,\n",
    "    key=lambda tuple: tuple[1]\n",
    ")\n",
    "print('sort my_list by index 1: ', sorted_list_by_index_1)"
   ]
  },
  {
   "cell_type": "code",
   "execution_count": null,
   "id": "44111ba4",
   "metadata": {},
   "outputs": [],
   "source": []
  }
 ],
 "metadata": {
  "kernelspec": {
   "display_name": "Python 3 (ipykernel)",
   "language": "python",
   "name": "python3"
  },
  "language_info": {
   "codemirror_mode": {
    "name": "ipython",
    "version": 3
   },
   "file_extension": ".py",
   "mimetype": "text/x-python",
   "name": "python",
   "nbconvert_exporter": "python",
   "pygments_lexer": "ipython3",
   "version": "3.10.9"
  }
 },
 "nbformat": 4,
 "nbformat_minor": 5
}
