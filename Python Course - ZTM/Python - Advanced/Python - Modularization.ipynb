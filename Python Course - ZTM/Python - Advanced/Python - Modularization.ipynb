{
 "cells": [
  {
   "cell_type": "markdown",
   "id": "fd0fa581",
   "metadata": {},
   "source": [
    "# 5. Python - Modularization"
   ]
  },
  {
   "cell_type": "markdown",
   "id": "d27ad99c",
   "metadata": {},
   "source": [
    "Author: Cleiber Garcia\n",
    "Date: 17 of February, 2023\n",
    "\n",
    "The content of this notebook was developed by me (Cleiber Garcia) as part of my participation in the course \"Complete Python Developer in 2023: Zero to Mastery\", offered through Udemy (https://www.udemy.com/course/complete-python-developer-zero-to-mastery/), by Andrei Neagoie of Zero to Mastery (https://zerotomastery.io/).\n",
    "\n",
    "The content of this notebook is based on Andrei's online Course (Complete Python Developer in 2023: Zero to Mastery), therefore it has a high degree of similarity with Andrei's work, however I took the liberty to make some changes in the python code, in order to give my personal touch and to make the examples clearer.\n",
    "\n",
    "My intension in developing this notebook is threefold: 1) to show that I have acquired proficiency in Python modularization; 2) To show that I practicized the contents seen in the online class and 3) to help other students of the course Complete Python Developer in 2023: Zero to Mastery.\n",
    "\n",
    "Feel free to contact-me at cleiber.garcia@gmail.com"
   ]
  },
  {
   "cell_type": "code",
   "execution_count": 17,
   "id": "ddc72dad",
   "metadata": {},
   "outputs": [],
   "source": [
    "# I created a fily utility.py with two functions:\n",
    "# multiply(num1,num2): returns num1 times num2\n",
    "# \n",
    "# divide(num1,num2): returns num1 divided by num2"
   ]
  },
  {
   "cell_type": "code",
   "execution_count": 21,
   "id": "fd3f44ac",
   "metadata": {},
   "outputs": [],
   "source": [
    "import utility as utl"
   ]
  },
  {
   "cell_type": "code",
   "execution_count": 22,
   "id": "d698b46e",
   "metadata": {},
   "outputs": [
    {
     "name": "stdout",
     "output_type": "stream",
     "text": [
      "6\n"
     ]
    }
   ],
   "source": [
    "# 2 * 3\n",
    "print(utl.multiply(2,3))"
   ]
  },
  {
   "cell_type": "code",
   "execution_count": 23,
   "id": "64ffc581",
   "metadata": {},
   "outputs": [
    {
     "name": "stdout",
     "output_type": "stream",
     "text": [
      "4.0\n"
     ]
    }
   ],
   "source": [
    "# 8 / 2\n",
    "print(utl.divide(8,2))"
   ]
  },
  {
   "cell_type": "code",
   "execution_count": 26,
   "id": "2c85c21e",
   "metadata": {},
   "outputs": [
    {
     "name": "stdout",
     "output_type": "stream",
     "text": [
      "2.0\n"
     ]
    }
   ],
   "source": [
    "# (5 * 6) / (3 * 5)\n",
    "print(utl.multiply(5,6) / utl.multiply(3,5))"
   ]
  },
  {
   "cell_type": "code",
   "execution_count": null,
   "id": "63abdb57",
   "metadata": {},
   "outputs": [],
   "source": []
  }
 ],
 "metadata": {
  "kernelspec": {
   "display_name": "Python 3 (ipykernel)",
   "language": "python",
   "name": "python3"
  },
  "language_info": {
   "codemirror_mode": {
    "name": "ipython",
    "version": 3
   },
   "file_extension": ".py",
   "mimetype": "text/x-python",
   "name": "python",
   "nbconvert_exporter": "python",
   "pygments_lexer": "ipython3",
   "version": "3.10.9"
  }
 },
 "nbformat": 4,
 "nbformat_minor": 5
}
