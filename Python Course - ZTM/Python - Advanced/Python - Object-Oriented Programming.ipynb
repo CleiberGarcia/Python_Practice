{
 "cells": [
  {
   "cell_type": "markdown",
   "id": "6ddf29c8",
   "metadata": {},
   "source": [
    "# Python - Object-Oriented Programming"
   ]
  },
  {
   "cell_type": "markdown",
   "id": "95770014",
   "metadata": {},
   "source": [
    "Author: Cleiber Garcia\n",
    "Date: 17 of February, 2023\n",
    "\n",
    "The content of this notebook was developed by me (Cleiber Garcia) as part of my participation in the course \"Complete Python Developer in 2023: Zero to Mastery\", offered through Udemy (https://www.udemy.com/course/complete-python-developer-zero-to-mastery/), by Andrei Neagoie of Zero to Mastery (https://zerotomastery.io/).\n",
    "\n",
    "The content of this notebook is based on Andrei's online Course (Complete Python Developer in 2023: Zero to Mastery), therefore it has a high degree of similarity with Andrei's work, however I took the liberty to make some changes in the python code, in order to give my personal touch and to make the examples clearer.\n",
    "\n",
    "My intension in developing this notebook is threefold: 1) to show that I have acquired proficiency in Python object-oriented programming; 2) To show that I practicized the contents seen in the online class and 3) to help other students of the course Complete Python Developer in 2023: Zero to Mastery.\n",
    "\n",
    "Feel free to contact-me at cleiber.garcia@gmail.com"
   ]
  },
  {
   "cell_type": "code",
   "execution_count": null,
   "id": "219b005d",
   "metadata": {},
   "outputs": [],
   "source": []
  },
  {
   "cell_type": "code",
   "execution_count": 8,
   "id": "096b9f59",
   "metadata": {},
   "outputs": [
    {
     "name": "stdout",
     "output_type": "stream",
     "text": [
      "The oldest cat is  3 years old\n"
     ]
    }
   ],
   "source": [
    "#Given the class below:\n",
    "class Cat:\n",
    "    species = 'mammal'\n",
    "    def __init__(self, name, age):\n",
    "        self.name = name\n",
    "        self.age = age\n",
    "\n",
    "\n",
    "# 1 Instantiate the 3 objects of class Cat\n",
    "Katty = Cat('Katty',1)\n",
    "Ketty = Cat('Ketty',2)\n",
    "Kitty = Cat('Kitty',3)\n",
    "\n",
    "\n",
    "# 2 Create a function that finds the oldest cat\n",
    "def oldest_cat(*args):\n",
    "    return max(args)\n",
    "\n",
    "# 3 Print out: \"The oldest cat is x years old.\". x will be the oldest cat age by using the function in #2\n",
    "oldest_age = oldest_cat(Katty.age, Ketty.age, Kitty.age)\n",
    "print(f'The oldest cat is  {oldest_age} years old')"
   ]
  },
  {
   "cell_type": "code",
   "execution_count": null,
   "id": "0be2d9ed",
   "metadata": {},
   "outputs": [],
   "source": []
  },
  {
   "cell_type": "code",
   "execution_count": 16,
   "id": "c30bcd75",
   "metadata": {},
   "outputs": [
    {
     "name": "stdout",
     "output_type": "stream",
     "text": [
      "shout method - My name is Paul\n",
      "Adding 5 and 3 using an instantiated object:  8\n",
      "Adding numbers 15 and 18 withoud instantiating an object:  33\n",
      "player2.name:  Peter\n",
      "player2.age:  40\n"
     ]
    }
   ],
   "source": [
    "class PlayerCharacter:\n",
    "    membership = True\n",
    "    \n",
    "    def __init__(self, name, age):\n",
    "        self.name = name\n",
    "        self.age = age\n",
    "    \n",
    "    def shout(self):\n",
    "        print(f'shout method - My name is {self.name}')\n",
    "        \n",
    "    @classmethod\n",
    "    def adding_numbers(cls, num1, num2):\n",
    "        return num1+num2\n",
    "    \n",
    "    @classmethod\n",
    "    def instantiate_obj(cls, name, num1, num2):\n",
    "        return cls(name, PlayerCharacter.adding_numbers(num1, num2))\n",
    "        \n",
    "# Instantiate player1: Paul, 32 years old\n",
    "player1 = PlayerCharacter('Paul', 32)\n",
    "player1.shout()\n",
    "print('Adding 5 and 3 using an instantiated object: ', player1.adding_numbers(5,3))\n",
    "\n",
    "# calling the class method adding_numbers\n",
    "# without instantiating PlayerCharacter\n",
    "print('Adding numbers 15 and 18 withoud instantiating an object: ', PlayerCharacter.adding_numbers(15,18))\n",
    "\n",
    "# Instantiate player2: Peter, \n",
    "player2 = PlayerCharacter.instantiate_obj('Peter', 19, 21)\n",
    "print('player2.name: ', player2.name)\n",
    "print('player2.age: ', player2.age)\n",
    "\n"
   ]
  },
  {
   "cell_type": "code",
   "execution_count": null,
   "id": "4e328c73",
   "metadata": {},
   "outputs": [],
   "source": []
  },
  {
   "cell_type": "code",
   "execution_count": 7,
   "id": "5c5ce4b3",
   "metadata": {},
   "outputs": [
    {
     "name": "stdout",
     "output_type": "stream",
     "text": [
      "my_list:  [0, 1, 2, 3, 4, 5, 6, 7, 8, 9, 10, 11, 12, 13, 14, 15, 16, 17, 18, 19, 20, 21, 22, 23, 24, 25, 26, 27, 28, 29, 30, 31, 32, 33, 34, 35, 36, 37, 38, 39, 40, 41, 42, 43, 44, 45, 46, 47, 48, 49, 50, 51, 52, 53, 54, 55, 56, 57, 58, 59, 60, 61, 62, 63, 64, 65, 66, 67, 68, 69, 70, 71, 72, 73, 74, 75, 76, 77, 78, 79, 80, 81, 82, 83, 84, 85, 86, 87, 88, 89, 90, 91, 92, 93, 94, 95, 96, 97, 98, 99, 100]\n"
     ]
    }
   ],
   "source": [
    "class MyGen():\n",
    "    current_number = 0\n",
    "    def __init__(self, first, last):\n",
    "        self.first = first\n",
    "        self.last  = last\n",
    "    \n",
    "    def __iter__(self):\n",
    "        return self\n",
    "    \n",
    "    def __next__(self):\n",
    "        if MyGen.current_number <= self.last:\n",
    "            new_number = MyGen.current_number\n",
    "            MyGen.current_number +=1\n",
    "            return new_number\n",
    "        raise StopIteration\n",
    "\n",
    "gen = MyGen(0,100) # Generate a sequence of values from 0 to 100\n",
    "\n",
    "\n",
    "# Build a list of numbers from 0 to 100\n",
    "my_list = []\n",
    "for i in gen:\n",
    "    my_list.append(i)\n",
    "print('my_list: ', my_list)"
   ]
  },
  {
   "cell_type": "code",
   "execution_count": null,
   "id": "4f1d66d4",
   "metadata": {},
   "outputs": [],
   "source": []
  },
  {
   "cell_type": "code",
   "execution_count": 17,
   "id": "8cd7e073",
   "metadata": {},
   "outputs": [
    {
     "name": "stdout",
     "output_type": "stream",
     "text": [
      "5 * 3 =  15\n",
      "8 / 3 =  2.6666666666666665\n"
     ]
    }
   ],
   "source": [
    "# utility.py\n",
    "\n",
    "def multiply(num1,num2):\n",
    "    return num1*num2\n",
    "\n",
    "def divide(num1,num2):\n",
    "    return num1/num2\n",
    "\n",
    "print('5 * 3 = ', multiply(5,3))\n",
    "\n",
    "print('8 / 3 = ', divide(8,3))"
   ]
  },
  {
   "cell_type": "code",
   "execution_count": 1,
   "id": "46948f10",
   "metadata": {},
   "outputs": [
    {
     "ename": "ModuleNotFoundError",
     "evalue": "No module named 'utility'",
     "output_type": "error",
     "traceback": [
      "\u001b[1;31m---------------------------------------------------------------------------\u001b[0m",
      "\u001b[1;31mModuleNotFoundError\u001b[0m                       Traceback (most recent call last)",
      "Input \u001b[1;32mIn [1]\u001b[0m, in \u001b[0;36m<cell line: 2>\u001b[1;34m()\u001b[0m\n\u001b[0;32m      1\u001b[0m \u001b[38;5;66;03m# The error below is due the fact that first we must have created a utility.py in order to be able to import it\u001b[39;00m\n\u001b[1;32m----> 2\u001b[0m \u001b[38;5;28;01mimport\u001b[39;00m \u001b[38;5;21;01mutility\u001b[39;00m\n\u001b[0;32m      4\u001b[0m \u001b[38;5;28mprint\u001b[39m(utility\u001b[38;5;241m.\u001b[39mmultiply(\u001b[38;5;241m2\u001b[39m,\u001b[38;5;241m3\u001b[39m))\n\u001b[0;32m      6\u001b[0m \u001b[38;5;28mprint\u001b[39m(utility\u001b[38;5;241m.\u001b[39mdivide(\u001b[38;5;241m8\u001b[39m,\u001b[38;5;241m2\u001b[39m))\n",
      "\u001b[1;31mModuleNotFoundError\u001b[0m: No module named 'utility'"
     ]
    }
   ],
   "source": [
    "# The error below is due the fact that first we must have created a utility.py in order to be able to import it\n",
    "import utility\n",
    "\n",
    "print(utility.multiply(2,3))\n",
    "\n",
    "print(utility.divide(8,2))"
   ]
  },
  {
   "cell_type": "code",
   "execution_count": null,
   "id": "1e25a183",
   "metadata": {},
   "outputs": [],
   "source": []
  }
 ],
 "metadata": {
  "kernelspec": {
   "display_name": "Python 3 (ipykernel)",
   "language": "python",
   "name": "python3"
  },
  "language_info": {
   "codemirror_mode": {
    "name": "ipython",
    "version": 3
   },
   "file_extension": ".py",
   "mimetype": "text/x-python",
   "name": "python",
   "nbconvert_exporter": "python",
   "pygments_lexer": "ipython3",
   "version": "3.10.9"
  }
 },
 "nbformat": 4,
 "nbformat_minor": 5
}
