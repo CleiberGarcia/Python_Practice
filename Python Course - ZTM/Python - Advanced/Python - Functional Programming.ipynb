{
 "cells": [
  {
   "cell_type": "markdown",
   "id": "e47c07e5",
   "metadata": {},
   "source": [
    "# Python - Functional Programming"
   ]
  },
  {
   "cell_type": "markdown",
   "id": "09b8aff6",
   "metadata": {},
   "source": [
    "Author: Cleiber Garcia\n",
    "Date: 17 of February, 2023\n",
    "\n",
    "The content of this notebook was developed by me (Cleiber Garcia) as part of my participation in the course \"Complete Python Developer in 2023: Zero to Mastery\", offered through Udemy (https://www.udemy.com/course/complete-python-developer-zero-to-mastery/), by Andrei Neagoie of Zero to Mastery (https://zerotomastery.io/).\n",
    "\n",
    "The content of this notebook is based on Andrei's online Course (Complete Python Developer in 2023: Zero to Mastery), therefore it has a high degree of similarity with Andrei's work, however I took the liberty to make some changes in the python code, in order to give my personal touch and to make the examples clearer.\n",
    "\n",
    "My intension in developing this notebook is threefold: 1) to show that I have acquired proficiency in Python functional programming; 2) To show that I practicized the contents seen in the online class and 3) to help other students of the course Complete Python Developer in 2023: Zero to Mastery.\n",
    "\n",
    "Feel free to contact-me at cleiber.garcia@gmail.com"
   ]
  },
  {
   "cell_type": "markdown",
   "id": "d0a49925",
   "metadata": {},
   "source": [
    "## map"
   ]
  },
  {
   "cell_type": "code",
   "execution_count": 6,
   "id": "2a3cbc6d",
   "metadata": {},
   "outputs": [
    {
     "name": "stdout",
     "output_type": "stream",
     "text": [
      "multiply my_list by 2:  [2, 4, 6]\n",
      "my_list:  [1, 2, 3]\n"
     ]
    }
   ],
   "source": [
    "# map\n",
    "my_list = [1,2,3]\n",
    "\n",
    "def multiply_by2(item):\n",
    "    return item*2\n",
    "\n",
    "print('multiply my_list by 2: ', list(map(multiply_by2, my_list)))\n",
    "\n",
    "print('my_list: ', my_list) # my_list was not affected by map"
   ]
  },
  {
   "cell_type": "markdown",
   "id": "13a9bba8",
   "metadata": {},
   "source": [
    "## filter"
   ]
  },
  {
   "cell_type": "code",
   "execution_count": 9,
   "id": "7a7c75fd",
   "metadata": {},
   "outputs": [
    {
     "name": "stdout",
     "output_type": "stream",
     "text": [
      "only odds from my_list:  [1, 3, 5, 7, 9]\n",
      "my_list:  [1, 2, 3, 4, 5, 6, 7, 8, 9]\n"
     ]
    }
   ],
   "source": [
    "# filter\n",
    "my_list = [1,2,3,4,5,6,7,8,9]\n",
    "def only_odd(item):\n",
    "    return item % 2 != 0\n",
    "\n",
    "print('only odds from my_list: ', list(filter(only_odd, my_list)))\n",
    "print('my_list: ', my_list)\n",
    "\n"
   ]
  },
  {
   "cell_type": "markdown",
   "id": "93fb17ee",
   "metadata": {},
   "source": [
    "## zip"
   ]
  },
  {
   "cell_type": "code",
   "execution_count": 19,
   "id": "4fdf7718",
   "metadata": {},
   "outputs": [
    {
     "name": "stdout",
     "output_type": "stream",
     "text": [
      "A_list:  [1, 2, 3, 4, 5, 6, 7, 8, 9]\n",
      "B_list:  [10, 20, 30]\n",
      "zip(A_list, B_list):  [(1, 10), (2, 20), (3, 30)]\n",
      "zip(B_list, A_list):  [(10, 1), (20, 2), (30, 3)]\n",
      "\n",
      "C_list:  [1, 2, 3, 4, 5]\n",
      "D_list:  [10, 20, 30, 40, 50, 60, 70, 80, 90]\n",
      "zip(C_list, D_list):  [(1, 10), (2, 20), (3, 30), (4, 40), (5, 50)]\n",
      "zip(D_list, C_list):  [(10, 1), (20, 2), (30, 3), (40, 4), (50, 5)]\n"
     ]
    }
   ],
   "source": [
    "# zip\n",
    "A_list = [1,2,3,4,5,6,7,8,9]\n",
    "B_list = [10,20,30]\n",
    "             \n",
    "C_list = [1,2,3,4,5]\n",
    "D_list = [10,20,30,40,50,60,70,80,90]\n",
    "\n",
    "print('A_list: ', A_list)\n",
    "print('B_list: ', B_list)\n",
    "print('zip(A_list, B_list): ', list(zip(A_list, B_list)))\n",
    "print('zip(B_list, A_list): ', list(zip(B_list, A_list)))\n",
    "print('')\n",
    "print('C_list: ', C_list)\n",
    "print('D_list: ', D_list)\n",
    "print('zip(C_list, D_list): ', list(zip(C_list, D_list)))\n",
    "print('zip(D_list, C_list): ', list(zip(D_list, C_list)))\n",
    "\n"
   ]
  },
  {
   "cell_type": "markdown",
   "id": "8134b76e",
   "metadata": {},
   "source": [
    "## reduce"
   ]
  },
  {
   "cell_type": "code",
   "execution_count": 8,
   "id": "59da119f",
   "metadata": {},
   "outputs": [
    {
     "name": "stdout",
     "output_type": "stream",
     "text": [
      "*** Sum the elements of my_list\n",
      "my_list:  [1, 2, 3]\n",
      "accumulator:  0 item:  1\n",
      "accumulator:  1 item:  2\n",
      "accumulator:  3 item:  3\n",
      "The sum of the elements of the list is:  6\n"
     ]
    }
   ],
   "source": [
    "# reduce\n",
    "from functools import reduce\n",
    "\n",
    "my_list = [1,2,3]\n",
    "print('*** Sum the elements of my_list')\n",
    "print('my_list: ', my_list)\n",
    "\n",
    "# add the the items of the list my_list\n",
    "def accumulator(acc, item):\n",
    "    print('accumulator: ', acc, 'item: ', item)\n",
    "    return acc + item\n",
    "\n",
    "print('The sum of the elements of the list is: ', reduce(accumulator, my_list, 0))"
   ]
  },
  {
   "cell_type": "markdown",
   "id": "5f83920a",
   "metadata": {},
   "source": [
    "### Practicing map, zip, filter, reduce"
   ]
  },
  {
   "cell_type": "code",
   "execution_count": 64,
   "id": "401f967e",
   "metadata": {},
   "outputs": [
    {
     "name": "stdout",
     "output_type": "stream",
     "text": [
      "my_pets:  ['sisi', 'bibi', 'titi', 'carla']\n",
      "my_pets capitalized:  ['SISI', 'BIBI', 'TITI', 'CARLA']\n"
     ]
    }
   ],
   "source": [
    "#1 Capitalize all of the pet names and print the list\n",
    "my_pets = ['sisi', 'bibi', 'titi', 'carla']\n",
    "\n",
    "def capitalize_names(name):\n",
    "    return name.upper()\n",
    "\n",
    "print('my_pets: ', my_pets)\n",
    "print('my_pets capitalized: ', list(map(capitalize_names, my_pets))) # using map to capitalize ped names"
   ]
  },
  {
   "cell_type": "code",
   "execution_count": 29,
   "id": "7dbd9f99",
   "metadata": {},
   "outputs": [
    {
     "name": "stdout",
     "output_type": "stream",
     "text": [
      "my_strings:  ['a', 'b', 'c', 'd', 'e']\n",
      "my_numbers:  [5, 4, 3, 2, 1]\n",
      "lists zipped:  [('a', 1), ('b', 2), ('c', 3), ('d', 4), ('e', 5)]\n"
     ]
    }
   ],
   "source": [
    "#2 Zip the 2 lists into a list of tuples, but sort the numbers from lowest to highest.\n",
    "my_strings = ['a', 'b', 'c', 'd', 'e']\n",
    "my_numbers = [5,4,3,2,1]\n",
    "\n",
    "print('my_strings: ', my_strings)\n",
    "print('my_numbers: ', my_numbers)\n",
    "\n",
    "my_numbers.sort() # sort my_numbers in ascending order\n",
    "print('lists zipped: ', list(zip(my_strings, my_numbers))) # using zip to combine the lists into a new list of tuples"
   ]
  },
  {
   "cell_type": "code",
   "execution_count": 37,
   "id": "42c9e802",
   "metadata": {},
   "outputs": [
    {
     "name": "stdout",
     "output_type": "stream",
     "text": [
      "scores (%):  [73, 20, 65, 19, 76, 100, 88]\n",
      "scores over 50%:  [73, 65, 76, 100, 88]\n"
     ]
    }
   ],
   "source": [
    "#3 Filter the scores that pass over 50%\n",
    "scores = [73, 20, 65, 19, 76, 100, 88]\n",
    "def scores_over_50(score):\n",
    "    return score > 50\n",
    "print('scores (%): ', scores)\n",
    "print(\"scores over 50%: \", list(filter(scores_over_50, scores))) # using filter to select scores over 50%"
   ]
  },
  {
   "cell_type": "code",
   "execution_count": 48,
   "id": "ef007d92",
   "metadata": {},
   "outputs": [
    {
     "name": "stdout",
     "output_type": "stream",
     "text": [
      "my_numbers [5, 4, 3, 2, 1]\n",
      "scores:  [73, 20, 65, 19, 76, 100, 88]\n",
      "zip:  [(5, 73), (4, 20), (3, 65), (2, 19), (1, 76)]\n"
     ]
    }
   ],
   "source": [
    "#4 Combine all of the numbers that are in a list on this file using reduce (my_numbers and scores). What is the total?\n",
    "my_numbers = [5,4,3,2,1]\n",
    "scores = [73, 20, 65, 19, 76, 100, 88]\n",
    "\n",
    "print('my_numbers', my_numbers)\n",
    "print('scores: ', scores)\n",
    "\n",
    "print('zip: ', list(zip(my_numbers, scores)))"
   ]
  },
  {
   "cell_type": "code",
   "execution_count": 63,
   "id": "81668017",
   "metadata": {},
   "outputs": [
    {
     "name": "stdout",
     "output_type": "stream",
     "text": [
      "my_numbers:  [5, 4, 3, 2, 1]\n",
      "scores:  [73, 20, 65, 19, 76, 100, 88]\n",
      "my_numbers + scores:  [78, 24, 68, 21, 77, 100, 88]\n",
      "The sum of the elements of my_numbers + scores is:  456\n",
      "\n"
     ]
    }
   ],
   "source": [
    "#4 Combine all of the numbers that are in a list on this file using reduce (my_numbers and scores). What is the total?\n",
    "\n",
    "# Combine the two lists in a single list\n",
    "import itertools\n",
    "combined_list = []\n",
    "my_numbers = [5,4,3,2,1]\n",
    "print('my_numbers: ', my_numbers)\n",
    "scores = [73, 20, 65, 19, 76, 100, 88]\n",
    "print('scores: ', scores)\n",
    "for e, i in itertools.zip_longest(my_numbers, scores, fillvalue = None):\n",
    "    if e != None: \n",
    "        f = e\n",
    "        g = i\n",
    "        f = f + g\n",
    "    else :\n",
    "        f = i\n",
    "    combined_list.append(f)\n",
    "\n",
    "print('my_numbers + scores: ', combined_list)\n",
    "\n",
    "# add the the items of combined_lsit\n",
    "def accumulator(acc, item):\n",
    "    #print('accumulator: ', acc, 'item: ', item)\n",
    "    return acc + item\n",
    "\n",
    "print('The sum of the elements of my_numbers + scores is: ', reduce(accumulator, combined_list, 0))\n",
    "print('')\n"
   ]
  },
  {
   "cell_type": "code",
   "execution_count": 73,
   "id": "53b2ba1a",
   "metadata": {},
   "outputs": [
    {
     "name": "stdout",
     "output_type": "stream",
     "text": [
      "combined_list:  [5, 4, 3, 2, 1, 73, 20, 65, 19, 76, 100, 88]\n",
      "0 5\n",
      "5 4\n",
      "9 3\n",
      "12 2\n",
      "14 1\n",
      "15 73\n",
      "88 20\n",
      "108 65\n",
      "173 19\n",
      "192 76\n",
      "268 100\n",
      "368 88\n",
      "456\n"
     ]
    }
   ],
   "source": [
    "combined_list = my_numbers + scores\n",
    "print('combined_list: ', combined_list)\n",
    "\n",
    "def add_items_list(acc, item_list):\n",
    "    print(acc, item_list)\n",
    "    return acc + item_list\n",
    "\n",
    "print(reduce(add_items_list, combined_list, 0))"
   ]
  },
  {
   "cell_type": "code",
   "execution_count": null,
   "id": "7f9fc3c3",
   "metadata": {},
   "outputs": [],
   "source": []
  }
 ],
 "metadata": {
  "kernelspec": {
   "display_name": "Python 3 (ipykernel)",
   "language": "python",
   "name": "python3"
  },
  "language_info": {
   "codemirror_mode": {
    "name": "ipython",
    "version": 3
   },
   "file_extension": ".py",
   "mimetype": "text/x-python",
   "name": "python",
   "nbconvert_exporter": "python",
   "pygments_lexer": "ipython3",
   "version": "3.10.9"
  }
 },
 "nbformat": 4,
 "nbformat_minor": 5
}
