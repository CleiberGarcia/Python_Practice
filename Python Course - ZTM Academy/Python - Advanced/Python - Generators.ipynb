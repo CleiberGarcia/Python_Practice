{
 "cells": [
  {
   "cell_type": "markdown",
   "id": "3448fa44",
   "metadata": {},
   "source": [
    "# Python - Generators"
   ]
  },
  {
   "cell_type": "markdown",
   "id": "a440b3d8",
   "metadata": {},
   "source": [
    "Author: Cleiber Garcia\n",
    "Date: 17 of February, 2023\n",
    "\n",
    "The content of this notebook was developed by me (Cleiber Garcia) as part of my participation in the course \"Complete Python Developer in 2023: Zero to Mastery\", offered through Udemy (https://www.udemy.com/course/complete-python-developer-zero-to-mastery/), by Andrei Neagoie of Zero to Mastery (https://zerotomastery.io/).\n",
    "\n",
    "The content of this notebook is based on Andrei's online Course (Complete Python Developer in 2023: Zero to Mastery), therefore it has a high degree of similarity with Andrei's work, however I took the liberty to make some changes in the python code, in order to give my personal touch and to make the examples clearer.\n",
    "\n",
    "My intension in developing this notebook is threefold: 1) to show that I have acquired proficiency in Python generators; 2) To show that I practicized the contents seen in the online class and 3) to help other students of the course Complete Python Developer in 2023: Zero to Mastery.\n",
    "\n",
    "Feel free to contact-me at cleiber.garcia@gmail.com"
   ]
  },
  {
   "cell_type": "code",
   "execution_count": 21,
   "id": "960fecdb",
   "metadata": {},
   "outputs": [
    {
     "name": "stdout",
     "output_type": "stream",
     "text": [
      "0\n",
      "1\n",
      "4\n",
      "9\n",
      "16\n",
      "25\n",
      "36\n",
      "49\n",
      "64\n",
      "81\n",
      "100\n",
      "121\n",
      "144\n",
      "169\n",
      "196\n",
      "225\n",
      "256\n",
      "289\n",
      "324\n",
      "361\n",
      "400\n",
      "441\n",
      "484\n",
      "529\n",
      "576\n",
      "625\n",
      "676\n",
      "729\n",
      "784\n",
      "841\n",
      "900\n"
     ]
    }
   ],
   "source": [
    "# Using generator function to square the numbers between 1 and 30, inclusive\n",
    "def generator_function(num):\n",
    "    for i in range(num):\n",
    "        yield i*i\n",
    "        \n",
    "for item in generator_function(31): # call generator_function to square the numbers between 0 and 30, inclusive\n",
    "    print(item)"
   ]
  },
  {
   "cell_type": "code",
   "execution_count": 22,
   "id": "f60e0adc",
   "metadata": {},
   "outputs": [
    {
     "name": "stdout",
     "output_type": "stream",
     "text": [
      "2\n",
      "4\n",
      "6\n"
     ]
    }
   ],
   "source": [
    "# Customized for to duplicate a list of numbers\n",
    "def special_for(iterable):\n",
    "    iterator = iter(iterable)\n",
    "    while True:\n",
    "        try:\n",
    "            #print(iterator)\n",
    "            print(next(iterator)*2)\n",
    "        except StopIteration:\n",
    "            break\n",
    "\n",
    "special_for([1,2,3])"
   ]
  },
  {
   "cell_type": "code",
   "execution_count": 23,
   "id": "97bfce82",
   "metadata": {},
   "outputs": [
    {
     "name": "stdout",
     "output_type": "stream",
     "text": [
      "0\n",
      "1\n",
      "2\n",
      "3\n",
      "4\n",
      "5\n",
      "6\n",
      "7\n",
      "8\n",
      "9\n",
      "10\n",
      "11\n",
      "12\n",
      "13\n",
      "14\n",
      "15\n",
      "16\n",
      "17\n",
      "18\n",
      "19\n"
     ]
    }
   ],
   "source": [
    "# Mimicking what range does\n",
    "class MyGen():\n",
    "    current = 0\n",
    "    def __init__(self, first, last):\n",
    "        self.first = first\n",
    "        self.last  = last\n",
    "        \n",
    "    def __iter__(self):\n",
    "        return self\n",
    "    \n",
    "    def __next__(self):\n",
    "        if MyGen.current < self.last:\n",
    "            num = MyGen.current\n",
    "            MyGen.current += 1\n",
    "            return num\n",
    "        raise StopIteration\n",
    "\n",
    "gen = MyGen(0,20)\n",
    "for i in gen: # print the numbers between 0 and 19, inclusive\n",
    "    print(i)"
   ]
  },
  {
   "cell_type": "code",
   "execution_count": null,
   "id": "6107f5a0",
   "metadata": {},
   "outputs": [],
   "source": []
  },
  {
   "cell_type": "code",
   "execution_count": 13,
   "id": "b94f8c3b",
   "metadata": {},
   "outputs": [
    {
     "name": "stdout",
     "output_type": "stream",
     "text": [
      "What is the limit? 13\n",
      "fibonacci 1 is: 0\n",
      "fibonacci 2 is: 1\n",
      "fibonacci 3 is: 1\n",
      "fibonacci 4 is: 2\n",
      "fibonacci 5 is: 3\n",
      "fibonacci 6 is: 5\n",
      "fibonacci 7 is: 8\n",
      "fibonacci 8 is: 13\n",
      "fibonacci 9 is: 21\n",
      "fibonacci 10 is: 34\n",
      "fibonacci 11 is: 55\n",
      "fibonacci 12 is: 89\n",
      "fibonacci 13 is: 144\n"
     ]
    }
   ],
   "source": [
    "# Using range generator do print the fibonacci sequence from 0 to the limit\n",
    "limit = int(input('What is the limit? '))\n",
    "\n",
    "if limit > 0:\n",
    "    fibonacci = []\n",
    "    fibonacci.append(0)\n",
    "    fibonacci.append(1)\n",
    "    \n",
    "    # From 3rd term on, the value of the term is the sum of the two anterior terms\n",
    "    for i in range(2,limit):\n",
    "        fibonacci.append(fibonacci[i-2]+fibonacci[i-1])\n",
    "\n",
    "    for i in range(0,limit):\n",
    "        print(f'fibonacci {i+1} is: {fibonacci[i]}')"
   ]
  },
  {
   "cell_type": "code",
   "execution_count": 16,
   "id": "42359916",
   "metadata": {},
   "outputs": [
    {
     "name": "stdout",
     "output_type": "stream",
     "text": [
      "What is the limit? 13\n",
      "0\n",
      "1\n",
      "1\n",
      "2\n",
      "3\n",
      "5\n",
      "8\n",
      "13\n",
      "21\n",
      "34\n",
      "55\n",
      "89\n",
      "144\n"
     ]
    }
   ],
   "source": [
    "# Another algorithm for fibonacci sequence, using yield to return a value\n",
    "def fib(number):\n",
    "    a = 0\n",
    "    b = 1\n",
    "    for i in range(number):\n",
    "        #yield a\n",
    "        #temp = a\n",
    "        #a = b\n",
    "        #b = temp + b\n",
    "        \n",
    "        yield a\n",
    "        temp = a + b\n",
    "        a = b\n",
    "        b = temp\n",
    "\n",
    "limit = int(input('What is the limit? '))\n",
    "for x in fib(limit):\n",
    "    print(x)"
   ]
  },
  {
   "cell_type": "code",
   "execution_count": 18,
   "id": "8ec2be22",
   "metadata": {},
   "outputs": [
    {
     "name": "stdout",
     "output_type": "stream",
     "text": [
      "What is the limit? 13\n",
      "[0, 1, 1, 2, 3, 5, 8, 13, 21, 34, 55, 89, 144]\n"
     ]
    }
   ],
   "source": [
    "# Another algorithm for fibonacci sequence, using a list to return values\n",
    "def fib2(number):\n",
    "    a = 0\n",
    "    b = 1\n",
    "    result = []\n",
    "    for i in range(number):\n",
    "        result.append(a)\n",
    "        temp = a\n",
    "        a = b\n",
    "        b = temp + a\n",
    "    return result\n",
    "\n",
    "limit = int(input('What is the limit? '))\n",
    "print(fib2(limit))"
   ]
  },
  {
   "cell_type": "code",
   "execution_count": null,
   "id": "312556cb",
   "metadata": {},
   "outputs": [],
   "source": []
  }
 ],
 "metadata": {
  "kernelspec": {
   "display_name": "Python 3 (ipykernel)",
   "language": "python",
   "name": "python3"
  },
  "language_info": {
   "codemirror_mode": {
    "name": "ipython",
    "version": 3
   },
   "file_extension": ".py",
   "mimetype": "text/x-python",
   "name": "python",
   "nbconvert_exporter": "python",
   "pygments_lexer": "ipython3",
   "version": "3.10.9"
  }
 },
 "nbformat": 4,
 "nbformat_minor": 5
}
