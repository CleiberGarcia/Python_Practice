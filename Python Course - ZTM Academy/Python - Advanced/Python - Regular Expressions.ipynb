{
 "cells": [
  {
   "cell_type": "markdown",
   "id": "fc0b1034",
   "metadata": {},
   "source": [
    "# Python - Regular Expressions"
   ]
  },
  {
   "cell_type": "markdown",
   "id": "72ce1af6",
   "metadata": {},
   "source": [
    "Author: Cleiber Garcia\n",
    "Date: 17 of February, 2023\n",
    "\n",
    "The content of this notebook was developed by me (Cleiber Garcia) as part of my participation in the course \"Complete Python Developer in 2023: Zero to Mastery\", offered through Udemy (https://www.udemy.com/course/complete-python-developer-zero-to-mastery/), by Andrei Neagoie of Zero to Mastery (https://zerotomastery.io/).\n",
    "\n",
    "The content of this notebook is based on Andrei's online Course (Complete Python Developer in 2023: Zero to Mastery), therefore it has a high degree of similarity with Andrei's work, however I took the liberty to make some changes in the python code, in order to give my personal touch and to make the examples clearer.\n",
    "\n",
    "My intension in developing this notebook is threefold: 1) to show that I have acquired proficiency in Python regular expression; 2) To show that I practicized the contents seen in the online class and 3) to help other students of the course Complete Python Developer in 2023: Zero to Mastery.\n",
    "\n",
    "Feel free to contact-me at cleiber.garcia@gmail.com"
   ]
  },
  {
   "cell_type": "markdown",
   "id": "2010ff16",
   "metadata": {},
   "source": [
    "## 14.1 Searching Using in Operator"
   ]
  },
  {
   "cell_type": "code",
   "execution_count": 2,
   "id": "2bd6e189",
   "metadata": {},
   "outputs": [],
   "source": [
    "text = 'search inside of this text please!'"
   ]
  },
  {
   "cell_type": "code",
   "execution_count": 3,
   "id": "f91e1696",
   "metadata": {},
   "outputs": [
    {
     "name": "stdout",
     "output_type": "stream",
     "text": [
      "The string 'search' is in the string 'search inside of this text please!'\n"
     ]
    }
   ],
   "source": [
    "# Tests if the string 'search' is in the string 'search inside of this text please!'\n",
    "if 'search' in text:\n",
    "    print(f\"The string \\'search\\' is in the string \\'{text}\\'\")"
   ]
  },
  {
   "cell_type": "markdown",
   "id": "10ce2776",
   "metadata": {},
   "source": [
    "## 14.2 Searching using the module re (Regular Expression)"
   ]
  },
  {
   "cell_type": "code",
   "execution_count": 4,
   "id": "8f1a419c",
   "metadata": {},
   "outputs": [],
   "source": [
    "# Import Python Regular Expression Module\n",
    "import re"
   ]
  },
  {
   "cell_type": "code",
   "execution_count": 5,
   "id": "4fd79a91",
   "metadata": {},
   "outputs": [
    {
     "data": {
      "text/plain": [
       "<re.Match object; span=(5, 8), match='dog'>"
      ]
     },
     "execution_count": 5,
     "metadata": {},
     "output_type": "execute_result"
    }
   ],
   "source": [
    "# Returns a match object with the string searched and \n",
    "# a tuple with where the first occurrence of it starts and ends\n",
    "text = 'This dog is a beutiful dog!'\n",
    "a = re.search('dog', text)\n",
    "a"
   ]
  },
  {
   "cell_type": "code",
   "execution_count": 6,
   "id": "9370faee",
   "metadata": {},
   "outputs": [
    {
     "data": {
      "text/plain": [
       "<re.Match object; span=(5, 8), match='dog'>"
      ]
     },
     "execution_count": 6,
     "metadata": {},
     "output_type": "execute_result"
    }
   ],
   "source": [
    "start = re.search('dog', text)\n",
    "start"
   ]
  },
  {
   "cell_type": "code",
   "execution_count": 7,
   "id": "447542ec",
   "metadata": {},
   "outputs": [
    {
     "data": {
      "text/plain": [
       "8"
      ]
     },
     "execution_count": 7,
     "metadata": {},
     "output_type": "execute_result"
    }
   ],
   "source": [
    "end = re.search('dog', text).end()\n",
    "end"
   ]
  },
  {
   "cell_type": "code",
   "execution_count": 15,
   "id": "4f743e84",
   "metadata": {},
   "outputs": [
    {
     "data": {
      "text/plain": [
       "['dog', 'dog']"
      ]
     },
     "execution_count": 15,
     "metadata": {},
     "output_type": "execute_result"
    }
   ],
   "source": [
    "# Returns a list with all the occurences of\n",
    "# the word searched in the text\n",
    "list_dogs = re.findall('dog', text)\n",
    "list_dogs"
   ]
  },
  {
   "cell_type": "code",
   "execution_count": 16,
   "id": "9c0916df",
   "metadata": {},
   "outputs": [
    {
     "data": {
      "text/plain": [
       "2"
      ]
     },
     "execution_count": 16,
     "metadata": {},
     "output_type": "execute_result"
    }
   ],
   "source": [
    "# Print the number of occurences of the string 'dog' in the string \n",
    "# 'This dog is a beutiful dog!'\n",
    "len(list_dogs)"
   ]
  },
  {
   "cell_type": "code",
   "execution_count": 9,
   "id": "eefd073f",
   "metadata": {},
   "outputs": [],
   "source": [
    "string1 = \"This is an interesting thing to do.\"\n",
    "string2 = \"This is an interesting thing to do also!\"\n",
    "string3 = \"This is an interesting thing to do also!\""
   ]
  },
  {
   "cell_type": "code",
   "execution_count": 10,
   "id": "2752e0c5",
   "metadata": {},
   "outputs": [],
   "source": [
    "pattern_str2 = re.compile(\"This is an interesting thing to do also!\")"
   ]
  },
  {
   "cell_type": "code",
   "execution_count": 14,
   "id": "646904d9",
   "metadata": {},
   "outputs": [
    {
     "name": "stdout",
     "output_type": "stream",
     "text": [
      "None\n"
     ]
    }
   ],
   "source": [
    "# Compare string2 and string1 to see if they match each other.\n",
    "# In case of match, returns starting and ending positions.\n",
    "# Returns none, otherwise\n",
    "print(pattern_str2.fullmatch(string1))"
   ]
  },
  {
   "cell_type": "code",
   "execution_count": 15,
   "id": "a4f37d49",
   "metadata": {},
   "outputs": [
    {
     "data": {
      "text/plain": [
       "<re.Match object; span=(0, 40), match='This is an interesting thing to do also!'>"
      ]
     },
     "execution_count": 15,
     "metadata": {},
     "output_type": "execute_result"
    }
   ],
   "source": [
    "# Compare string2 and string3 to see if they match each other.\n",
    "# In case of match, returns starting and ending positions.\n",
    "# Returns none, otherwise\n",
    "pattern_str2.fullmatch(string3)"
   ]
  },
  {
   "cell_type": "code",
   "execution_count": 16,
   "id": "796e0da6",
   "metadata": {},
   "outputs": [
    {
     "data": {
      "text/plain": [
       "<re.Match object; span=(0, 3), match='abc'>"
      ]
     },
     "execution_count": 16,
     "metadata": {},
     "output_type": "execute_result"
    }
   ],
   "source": [
    "# Tests if the string 'abcd! ef' starts with the string 'abc'\n",
    "# In case of match, returns start and end position\n",
    "pattern = re.compile('abc')\n",
    "pattern.match('abcd! ef')"
   ]
  },
  {
   "cell_type": "code",
   "execution_count": 22,
   "id": "2be7e483",
   "metadata": {},
   "outputs": [
    {
     "data": {
      "text/plain": [
       "<re.Match object; span=(0, 5), match='abcd!'>"
      ]
     },
     "execution_count": 22,
     "metadata": {},
     "output_type": "execute_result"
    }
   ],
   "source": [
    "# Tests if the string 'abcd! ef' starts with the string 'abcd!'\n",
    "# In case of match, returns start and end position\n",
    "pattern = re.compile('abcd!')\n",
    "pattern.match('abcd! ef')"
   ]
  },
  {
   "cell_type": "markdown",
   "id": "5c8bba7d",
   "metadata": {},
   "source": [
    "## 14.3 Exercise - E-mail Validation"
   ]
  },
  {
   "cell_type": "code",
   "execution_count": 17,
   "id": "5288eb82",
   "metadata": {},
   "outputs": [],
   "source": [
    "# Valid e-mail address may have:\n",
    "# before character @: characters a to z or A to Z or or digits 0 to 9 or . or _ or + or -\n",
    "# after character @: characters a to z or A to Z or digits 0 to 9 or . or _ or -\n",
    "# must end with . plus 2 characters a to z\n",
    "pattern_email = re.compile(r\"(^[a-zA-Z0-9._+-]+@[a-zA-Z0-9._-]+\\.[a-z]{2,2})\")"
   ]
  },
  {
   "cell_type": "code",
   "execution_count": 18,
   "id": "9ac14e7e",
   "metadata": {},
   "outputs": [],
   "source": [
    "# Defines a function to validate e-mail addres according to\n",
    "# above rules\n",
    "def email_validation(email):\n",
    "    if pattern_email.fullmatch(email):\n",
    "        status_email = f'E-mail {email} is valid!'\n",
    "    else:\n",
    "        status_email = f'E-mail {email} is invalid!'\n",
    "    return status_email"
   ]
  },
  {
   "cell_type": "code",
   "execution_count": 19,
   "id": "a0fe51d0",
   "metadata": {},
   "outputs": [
    {
     "name": "stdout",
     "output_type": "stream",
     "text": [
      "E-mail cleiBEr.gAR.123+32_sky-@city_goiania.state-goias.br is valid!\n"
     ]
    }
   ],
   "source": [
    "email = \"cleiBEr.gAR.123+32_sky-@city_goiania.state-goias.br\"\n",
    "print(email_validation(email))"
   ]
  },
  {
   "cell_type": "code",
   "execution_count": 20,
   "id": "d5de09f2",
   "metadata": {},
   "outputs": [
    {
     "name": "stdout",
     "output_type": "stream",
     "text": [
      "E-mail cleiBEr.gAR.123+32_sky- is invalid!\n"
     ]
    }
   ],
   "source": [
    "email = \"cleiBEr.gAR.123+32_sky-\"\n",
    "print(email_validation(email))"
   ]
  },
  {
   "cell_type": "code",
   "execution_count": 21,
   "id": "0508d262",
   "metadata": {},
   "outputs": [
    {
     "name": "stdout",
     "output_type": "stream",
     "text": [
      "E-mail 123@456.br is valid!\n"
     ]
    }
   ],
   "source": [
    "email = \"123@456.br\"\n",
    "print(email_validation(email))"
   ]
  },
  {
   "cell_type": "markdown",
   "id": "73220304",
   "metadata": {},
   "source": [
    "## 14.4 Password Validation"
   ]
  },
  {
   "cell_type": "code",
   "execution_count": 38,
   "id": "dbe896d4",
   "metadata": {},
   "outputs": [],
   "source": [
    "# Rules for password validation:\n",
    "# - At least 8 characters long\n",
    "# - Contain any sort of letters, numbers and $%#@ signs\n",
    "# - Has to end with a number\n",
    "\n",
    "pattern_passwd = re.compile(r\"[a-zA-Z0-9$%#@]{8,}\\d\")"
   ]
  },
  {
   "cell_type": "code",
   "execution_count": 39,
   "id": "503c9092",
   "metadata": {},
   "outputs": [],
   "source": [
    "# Defines a function to validate password according to\n",
    "# the rules above\n",
    "def passwd_validation(passwd):\n",
    "    if pattern_passwd.fullmatch(passwd):\n",
    "        status_passwd = f'Password {passwd} is valid!'\n",
    "    else:\n",
    "        status_passwd = f'Password {passwd} is invalid!'\n",
    "    return status_passwd"
   ]
  },
  {
   "cell_type": "code",
   "execution_count": 40,
   "id": "304531cd",
   "metadata": {},
   "outputs": [
    {
     "name": "stdout",
     "output_type": "stream",
     "text": [
      "Password aXyK%9wPQ#7 is valid!\n"
     ]
    }
   ],
   "source": [
    "passwd = \"aXyK%9wPQ#7\"\n",
    "print(passwd_validation(passwd))"
   ]
  },
  {
   "cell_type": "code",
   "execution_count": 44,
   "id": "413e57d5",
   "metadata": {},
   "outputs": [
    {
     "name": "stdout",
     "output_type": "stream",
     "text": [
      "Password a%9wMqHi@$P is invalid!\n"
     ]
    }
   ],
   "source": [
    "passwd = \"a%9wMqHi@$P\"\n",
    "print(passwd_validation(passwd))"
   ]
  },
  {
   "cell_type": "code",
   "execution_count": null,
   "id": "6fcc86f1",
   "metadata": {},
   "outputs": [],
   "source": []
  }
 ],
 "metadata": {
  "kernelspec": {
   "display_name": "Python 3 (ipykernel)",
   "language": "python",
   "name": "python3"
  },
  "language_info": {
   "codemirror_mode": {
    "name": "ipython",
    "version": 3
   },
   "file_extension": ".py",
   "mimetype": "text/x-python",
   "name": "python",
   "nbconvert_exporter": "python",
   "pygments_lexer": "ipython3",
   "version": "3.10.9"
  }
 },
 "nbformat": 4,
 "nbformat_minor": 5
}
