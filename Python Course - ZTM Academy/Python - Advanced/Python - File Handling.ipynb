{
 "cells": [
  {
   "cell_type": "markdown",
   "id": "e41d8025",
   "metadata": {},
   "source": [
    "# Python - File Handling"
   ]
  },
  {
   "cell_type": "markdown",
   "id": "03b2293c",
   "metadata": {},
   "source": [
    "Author: Cleiber Garcia\n",
    "Date: 17 of February, 2023\n",
    "\n",
    "The content of this notebook was developed by me (Cleiber Garcia) as part of my participation in the course \"Complete Python Developer in 2023: Zero to Mastery\", offered through Udemy (https://www.udemy.com/course/complete-python-developer-zero-to-mastery/), by Andrei Neagoie of Zero to Mastery (https://zerotomastery.io/).\n",
    "\n",
    "The content of this notebook is based on Andrei's online Course (Complete Python Developer in 2023: Zero to Mastery), therefore it has a high degree of similarity with Andrei's work, however I took the liberty to make some changes in the python code, in order to give my personal touch and to make the examples clearer.\n",
    "\n",
    "My intension in developing this notebook is threefold: 1) to show that I have acquired proficiency in Python file handling; 2) To show that I practicized the contents seen in the online class and 3) to help other students of the course Complete Python Developer in 2023: Zero to Mastery.\n",
    "\n",
    "Feel free to contact-me at cleiber.garcia@gmail.com"
   ]
  },
  {
   "cell_type": "code",
   "execution_count": 2,
   "id": "8e3d3c5c",
   "metadata": {},
   "outputs": [
    {
     "name": "stdout",
     "output_type": "stream",
     "text": [
      "['My name is Cleiber Garcia\\n', 'I work as a System Analyst\\n', 'I prefer remote jobs in IT area']\n"
     ]
    }
   ],
   "source": [
    "#open a file named 'my_file.txt' and print its content\n",
    "my_file = open('my_file.txt')\n",
    "\n",
    "# print the file's content as a list\n",
    "print(my_file.readlines())\n",
    "\n",
    "# close the file\n",
    "my_file.close()"
   ]
  },
  {
   "cell_type": "code",
   "execution_count": 3,
   "id": "671a0c9b",
   "metadata": {},
   "outputs": [
    {
     "ename": "ValueError",
     "evalue": "I/O operation on closed file.",
     "output_type": "error",
     "traceback": [
      "\u001b[1;31m---------------------------------------------------------------------------\u001b[0m",
      "\u001b[1;31mValueError\u001b[0m                                Traceback (most recent call last)",
      "Cell \u001b[1;32mIn[3], line 2\u001b[0m\n\u001b[0;32m      1\u001b[0m \u001b[38;5;66;03m# raise an exception since the file has been closed already\u001b[39;00m\n\u001b[1;32m----> 2\u001b[0m \u001b[38;5;28mprint\u001b[39m(\u001b[43mmy_file\u001b[49m\u001b[38;5;241;43m.\u001b[39;49m\u001b[43mreadlines\u001b[49m\u001b[43m(\u001b[49m\u001b[43m)\u001b[49m)\n",
      "\u001b[1;31mValueError\u001b[0m: I/O operation on closed file."
     ]
    }
   ],
   "source": [
    "# raise an exception since the file has been closed already\n",
    "print(my_file.readlines())"
   ]
  },
  {
   "cell_type": "code",
   "execution_count": 4,
   "id": "39a6d0eb",
   "metadata": {},
   "outputs": [
    {
     "name": "stdout",
     "output_type": "stream",
     "text": [
      "[\"I'm very happy :-)\"]\n"
     ]
    }
   ],
   "source": [
    "# Open a file happy.txt and print its content  \n",
    "try:\n",
    "    with open('happy.txt', mode='r') as my_file:\n",
    "        print(my_file.readlines())\n",
    "        my_file.close()\n",
    "except:\n",
    "    print('occured an error')"
   ]
  },
  {
   "cell_type": "code",
   "execution_count": null,
   "id": "c9ad564d",
   "metadata": {},
   "outputs": [],
   "source": []
  }
 ],
 "metadata": {
  "kernelspec": {
   "display_name": "Python 3 (ipykernel)",
   "language": "python",
   "name": "python3"
  },
  "language_info": {
   "codemirror_mode": {
    "name": "ipython",
    "version": 3
   },
   "file_extension": ".py",
   "mimetype": "text/x-python",
   "name": "python",
   "nbconvert_exporter": "python",
   "pygments_lexer": "ipython3",
   "version": "3.10.9"
  }
 },
 "nbformat": 4,
 "nbformat_minor": 5
}
