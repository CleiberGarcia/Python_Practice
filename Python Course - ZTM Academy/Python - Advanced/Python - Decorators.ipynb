{
 "cells": [
  {
   "cell_type": "markdown",
   "id": "0dc017b2",
   "metadata": {},
   "source": [
    "# Python - Decorators"
   ]
  },
  {
   "cell_type": "markdown",
   "id": "518263c3",
   "metadata": {},
   "source": [
    "Author: Cleiber Garcia\n",
    "Date: 14 of March, 2023\n",
    "\n",
    "The content of this notebook was developed by me (Cleiber Garcia) as part of my participation in the course \"Complete Python Developer in 2023: Zero to Mastery\", offered through Udemy (https://www.udemy.com/course/complete-python-developer-zero-to-mastery/), by Andrei Neagoie of Zero to Mastery (https://zerotomastery.io/).\n",
    "\n",
    "The content of this notebook is based on Andrei's online Course (Complete Python Developer in 2023: Zero to Mastery), therefore it has a high degree of similarity with Andrei's work, however I took the liberty to make some changes in the python code, in order to give my personal touch and to make the examples clearer.\n",
    "\n",
    "My intension in developing this notebook is threefold: 1) to show that I have acquired proficiency in Python decorators; 2) To show that I practicized the contents seen in the online class and 3) to help other students of the course Complete Python Developer in 2023: Zero to Mastery.\n",
    "\n",
    "Feel free to contact-me at cleiber.garcia@gmail.com"
   ]
  },
  {
   "cell_type": "code",
   "execution_count": 3,
   "id": "2d7e2d50",
   "metadata": {},
   "outputs": [
    {
     "name": "stdout",
     "output_type": "stream",
     "text": [
      "message has been sent\n"
     ]
    }
   ],
   "source": [
    "# Create an @authenticated decorator that only allows the function to run if user1 has 'valid' set to True:\n",
    "user1 = {\n",
    "    'name': 'Sorna',\n",
    "    'valid': True #changing this will either run or not run the message_friends function.\n",
    "}\n",
    "\n",
    "def authenticated(fn):\n",
    "  def wrapper(*args, **kwargs):\n",
    "      if args[0]['valid'] == True:\n",
    "          result = fn(*args, **kwargs)\n",
    "          return result\n",
    "      else:\n",
    "          print('invalid user')\n",
    "  return wrapper\n",
    "\n",
    "@authenticated\n",
    "def message_friends(user):\n",
    "    print('message has been sent')\n",
    "\n",
    "message_friends(user1)\n"
   ]
  },
  {
   "cell_type": "code",
   "execution_count": 5,
   "id": "f8ef77ff",
   "metadata": {},
   "outputs": [
    {
     "name": "stdout",
     "output_type": "stream",
     "text": [
      "invalid user\n"
     ]
    }
   ],
   "source": [
    "# Create an @authenticated decorator that only allows the function to run if user1 has 'valid' set to True:\n",
    "user1 = {\n",
    "    'name': 'Sorna',\n",
    "    'valid': False #changing this will either run or not run the message_friends function.\n",
    "}\n",
    "\n",
    "def authenticated(fn):\n",
    "  def wrapper(*args, **kwargs):\n",
    "      if args[0]['valid'] == True:\n",
    "          result = fn(*args, **kwargs)\n",
    "          return result\n",
    "      else:\n",
    "          print('invalid user')\n",
    "  return wrapper\n",
    "\n",
    "@authenticated\n",
    "def message_friends(user):\n",
    "    print('message has been sent')\n",
    "\n",
    "message_friends(user1)"
   ]
  },
  {
   "cell_type": "code",
   "execution_count": 3,
   "id": "a369500b",
   "metadata": {},
   "outputs": [
    {
     "name": "stdout",
     "output_type": "stream",
     "text": [
      "it took 0.11503386497497559 s\n"
     ]
    }
   ],
   "source": [
    "from time import time\n",
    "\n",
    "def performance(fn):\n",
    "    def wrapper(*args, **kwargs):\n",
    "        t1 = time()\n",
    "        result = fn(*args, **kwargs)\n",
    "        t2 = time()\n",
    "        print(f'it took {t2 - t1} s')\n",
    "        return result\n",
    "    return wrapper\n",
    "\n",
    "@performance\n",
    "def exec_time():\n",
    "    for i in range(1000000):\n",
    "        i*5\n",
    "        \n",
    "exec_time()\n",
    "        "
   ]
  },
  {
   "cell_type": "code",
   "execution_count": 6,
   "id": "8d4aa59e",
   "metadata": {},
   "outputs": [
    {
     "name": "stdout",
     "output_type": "stream",
     "text": [
      "Helooo guys!\n",
      "None\n"
     ]
    }
   ],
   "source": [
    "# In Python a function acts like variables (can be passed as parameters or attributed)\n",
    "\n",
    "def hello(func_X):\n",
    "    func_X()\n",
    "    \n",
    "def greet():\n",
    "    print('Helooo guys!')\n",
    "    \n",
    "a = hello(greet)\n",
    "\n",
    "print(a)\n",
    "\n"
   ]
  },
  {
   "cell_type": "code",
   "execution_count": null,
   "id": "12a2e61f",
   "metadata": {},
   "outputs": [],
   "source": []
  },
  {
   "cell_type": "code",
   "execution_count": 7,
   "id": "9f26a2c7",
   "metadata": {},
   "outputs": [
    {
     "name": "stdout",
     "output_type": "stream",
     "text": [
      "*************\n",
      "Hi\n",
      "*************\n"
     ]
    }
   ],
   "source": [
    "# Decorator Pattern\n",
    "def my_decorator(func):\n",
    "    def wrap_func(*args, **kwargs):\n",
    "        print('*************')\n",
    "        func(*args, **kwargs)\n",
    "        print('*************')\n",
    "    return wrap_func\n",
    "\n",
    "@my_decorator\n",
    "def hello(message):\n",
    "    print(message)\n",
    "    \n",
    "hello('Hi')"
   ]
  },
  {
   "cell_type": "code",
   "execution_count": 10,
   "id": "7dc6ffde",
   "metadata": {},
   "outputs": [
    {
     "name": "stdout",
     "output_type": "stream",
     "text": [
      "*************\n",
      "25\n",
      "*************\n"
     ]
    }
   ],
   "source": [
    "@my_decorator\n",
    "def square(number):\n",
    "    print(number**2)\n",
    "    \n",
    "    \n",
    "squared = my_decorator(square(5))"
   ]
  },
  {
   "cell_type": "code",
   "execution_count": 11,
   "id": "6d59034e",
   "metadata": {},
   "outputs": [
    {
     "name": "stdout",
     "output_type": "stream",
     "text": [
      "*************\n",
      "See ya later\n",
      "*************\n"
     ]
    },
    {
     "data": {
      "text/plain": [
       "<function __main__.my_decorator.<locals>.wrap_func(*args, **kwargs)>"
      ]
     },
     "execution_count": 11,
     "metadata": {},
     "output_type": "execute_result"
    }
   ],
   "source": [
    "@my_decorator\n",
    "def bye(message):\n",
    "    print(message)\n",
    "\n",
    "my_decorator(bye('See ya later'))"
   ]
  },
  {
   "cell_type": "code",
   "execution_count": null,
   "id": "d6cfdb82",
   "metadata": {},
   "outputs": [],
   "source": []
  }
 ],
 "metadata": {
  "kernelspec": {
   "display_name": "Python 3 (ipykernel)",
   "language": "python",
   "name": "python3"
  },
  "language_info": {
   "codemirror_mode": {
    "name": "ipython",
    "version": 3
   },
   "file_extension": ".py",
   "mimetype": "text/x-python",
   "name": "python",
   "nbconvert_exporter": "python",
   "pygments_lexer": "ipython3",
   "version": "3.10.9"
  }
 },
 "nbformat": 4,
 "nbformat_minor": 5
}
