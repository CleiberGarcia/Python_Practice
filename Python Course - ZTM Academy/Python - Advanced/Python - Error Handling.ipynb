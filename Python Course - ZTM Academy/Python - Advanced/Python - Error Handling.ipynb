{
 "cells": [
  {
   "cell_type": "markdown",
   "id": "a12b531b",
   "metadata": {},
   "source": [
    "# Python - Error Handling"
   ]
  },
  {
   "cell_type": "markdown",
   "id": "789e75b3",
   "metadata": {},
   "source": [
    "Author: Cleiber Garcia\n",
    "Date: 17 of February, 2023\n",
    "\n",
    "The content of this notebook was developed by me (Cleiber Garcia) as part of my participation in the course \"Complete Python Developer in 2023: Zero to Mastery\", offered through Udemy (https://www.udemy.com/course/complete-python-developer-zero-to-mastery/), by Andrei Neagoie of Zero to Mastery (https://zerotomastery.io/).\n",
    "\n",
    "The content of this notebook is based on Andrei's online Course (Complete Python Developer in 2023: Zero to Mastery), therefore it has a high degree of similarity with Andrei's work, however I took the liberty to make some changes in the python code, in order to give my personal touch and to make the examples clearer.\n",
    "\n",
    "My intension in developing this notebook is threefold: 1) to show that I have acquired proficiency in Python error handling; 2) To show that I practicized the contents seen in the online class and 3) to help other students of the course Complete Python Developer in 2023: Zero to Mastery.\n",
    "\n",
    "Feel free to contact-me at cleiber.garcia@gmail.com"
   ]
  },
  {
   "cell_type": "code",
   "execution_count": 1,
   "id": "7d53b977",
   "metadata": {},
   "outputs": [
    {
     "name": "stdout",
     "output_type": "stream",
     "text": [
      "What is your age? 38\n",
      "x:  2.6315789473684212\n",
      "What is your name? Paul\n",
      "Hi Paul\n",
      "You have lived 456 months already\n",
      "Thank you!\n",
      "Ok. I am finally done\n",
      "What is your age? 999\n",
      "Ok. I am finally done\n"
     ]
    }
   ],
   "source": [
    "# Handling multiple errors\n",
    "while True:\n",
    "    try:\n",
    "        age = int(input('What is your age? '))\n",
    "        if (age == 999):\n",
    "            break\n",
    "        months_lived = age * 12\n",
    "        x = 100/age\n",
    "       # raise Exception()\n",
    "    except ValueError:\n",
    "        print('Please enter a number')\n",
    "    except ZeroDivisionError:\n",
    "        print('Please inform age higher than 0')\n",
    "    except:\n",
    "        print('Error: 30xxx')\n",
    "        break\n",
    "    else:\n",
    "        print('x: ', x)\n",
    "        name = input('What is your name? ')\n",
    "        print(f'Hi {name}')\n",
    "        print(f'You have lived {months_lived} months already')\n",
    "        print('Thank you!')\n",
    "\n",
    "    finally:\n",
    "        print('Ok. I am finally done')"
   ]
  },
  {
   "cell_type": "code",
   "execution_count": null,
   "id": "74db5f29",
   "metadata": {},
   "outputs": [],
   "source": []
  }
 ],
 "metadata": {
  "kernelspec": {
   "display_name": "Python 3 (ipykernel)",
   "language": "python",
   "name": "python3"
  },
  "language_info": {
   "codemirror_mode": {
    "name": "ipython",
    "version": 3
   },
   "file_extension": ".py",
   "mimetype": "text/x-python",
   "name": "python",
   "nbconvert_exporter": "python",
   "pygments_lexer": "ipython3",
   "version": "3.10.9"
  }
 },
 "nbformat": 4,
 "nbformat_minor": 5
}
