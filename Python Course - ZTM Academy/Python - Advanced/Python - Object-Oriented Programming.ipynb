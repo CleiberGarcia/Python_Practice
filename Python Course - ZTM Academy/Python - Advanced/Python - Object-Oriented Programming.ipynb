{
 "cells": [
  {
   "cell_type": "markdown",
   "id": "6ddf29c8",
   "metadata": {},
   "source": [
    "# Python - Object-Oriented Programming"
   ]
  },
  {
   "cell_type": "markdown",
   "id": "95770014",
   "metadata": {},
   "source": [
    "Author: Cleiber Garcia\n",
    "Date: 17 of February, 2023\n",
    "\n",
    "The content of this notebook was developed by me (Cleiber Garcia) as part of my participation in the course \"Complete Python Developer in 2023: Zero to Mastery\", offered through Udemy (https://www.udemy.com/course/complete-python-developer-zero-to-mastery/), by Andrei Neagoie of Zero to Mastery (https://zerotomastery.io/).\n",
    "\n",
    "The content of this notebook is based on Andrei's online Course (Complete Python Developer in 2023: Zero to Mastery), therefore it has a high degree of similarity with Andrei's work, however I took the liberty to make some changes in the python code, in order to give my personal touch and to make the examples clearer.\n",
    "\n",
    "My intension in developing this notebook is threefold: 1) to show that I have acquired proficiency in Python object-oriented programming; 2) To show that I practicized the contents seen in the online class and 3) to help other students of the course Complete Python Developer in 2023: Zero to Mastery.\n",
    "\n",
    "Feel free to contact-me at cleiber.garcia@gmail.com"
   ]
  },
  {
   "cell_type": "markdown",
   "id": "a3806641",
   "metadata": {},
   "source": [
    "### Prototype of a Class"
   ]
  },
  {
   "cell_type": "code",
   "execution_count": 3,
   "id": "019072ed",
   "metadata": {},
   "outputs": [],
   "source": [
    "# Prototype of a Class\n",
    "class NameOfclass():\n",
    "    # Class Attribute\n",
    "    # It has same value for all \n",
    "    # objects of this class\n",
    "    class_attribute = 'value'\n",
    "    \n",
    "    # Constructor method\n",
    "    # It may have different values\n",
    "    # for different objects\n",
    "    def __init__(self, param1, param2):\n",
    "        self.param1 = param1\n",
    "        self.param2 = param2\n",
    "        \n",
    "    # Instance method\n",
    "    # It may have different values\n",
    "    # for different objects\n",
    "    def method_name(self):\n",
    "        # Code\n",
    "        print('Instance method')\n",
    "        \n",
    "    @classmethod\n",
    "    def cls_method_name(cls, param1, param2):\n",
    "        # Code\n",
    "        print('@classmethod')\n",
    "        \n",
    "    @staticmethod\n",
    "    def static_method_name(param1, param2):\n",
    "        # Code\n",
    "        print('@staticmethod')"
   ]
  },
  {
   "cell_type": "markdown",
   "id": "d73eb168",
   "metadata": {},
   "source": [
    "### Class PlayerCharacter"
   ]
  },
  {
   "cell_type": "code",
   "execution_count": 6,
   "id": "219b005d",
   "metadata": {},
   "outputs": [],
   "source": [
    "# Create a class PlayerCharacter\n",
    "class PlayerCharacter:\n",
    "    # class attribute\n",
    "    membership = True\n",
    "    \n",
    "    # Constructor Method\n",
    "    def __init__(self, name, age):\n",
    "        if (PlayerCharacter.membership):\n",
    "            # Class Attributes\n",
    "            self.name = name\n",
    "            self.age  = age\n",
    "    \n",
    "    # Instance Method\n",
    "    def shout(self):\n",
    "        print(f'My name is {self.name}')\n",
    "        print(f'My age is {self.age}')\n",
    "        \n",
    "    @classmethod\n",
    "    def adding_things(cls, num1, num2):\n",
    "        return num1 + num2\n",
    "    \n",
    "    @classmethod\n",
    "    def create_object(cls, name, age):\n",
    "        return cls(name, age)\n",
    "    \n",
    "    @staticmethod\n",
    "    def print_message(msg):\n",
    "        print('This is the message received: ', msg)"
   ]
  },
  {
   "cell_type": "code",
   "execution_count": 8,
   "id": "70d92621",
   "metadata": {},
   "outputs": [
    {
     "name": "stdout",
     "output_type": "stream",
     "text": [
      "PlayerCharacter adding things:  8\n"
     ]
    }
   ],
   "source": [
    "# Call adding_things method without instantiating \n",
    "# the object player1\n",
    "print('PlayerCharacter adding things: ', PlayerCharacter.adding_things(3,5))"
   ]
  },
  {
   "cell_type": "code",
   "execution_count": 43,
   "id": "598ccddd",
   "metadata": {},
   "outputs": [
    {
     "name": "stdout",
     "output_type": "stream",
     "text": [
      "My name is Cindy\n",
      "My age is 28\n",
      "None\n",
      "player1 membership is: True\n"
     ]
    }
   ],
   "source": [
    "# Instantiate object player1\n",
    "player1 = PlayerCharacter('Cindy', 28)\n",
    "print(player1.shout())\n",
    "print(f'player1 membership is: {player1.membership}')"
   ]
  },
  {
   "cell_type": "code",
   "execution_count": 44,
   "id": "b2313675",
   "metadata": {},
   "outputs": [
    {
     "name": "stdout",
     "output_type": "stream",
     "text": [
      "player2 name is:  Paul\n",
      "player2 age is:  32\n",
      "player2 membership is: True\n"
     ]
    }
   ],
   "source": [
    "player2 = PlayerCharacter('Paul', 32)\n",
    "print('player2 name is: ', player2.name)\n",
    "print('player2 age is: ', player2.age)\n",
    "print(f'player2 membership is: {player2.membership}')"
   ]
  },
  {
   "cell_type": "code",
   "execution_count": 45,
   "id": "02d703a2",
   "metadata": {},
   "outputs": [
    {
     "name": "stdout",
     "output_type": "stream",
     "text": [
      "player3 name is:  Juan\n",
      "player3 age is:  7\n"
     ]
    }
   ],
   "source": [
    "# Create the object player3 using the \n",
    "# class method create_object()\n",
    "player3 = PlayerCharacter.create_object('Juan', 7)\n",
    "print('player3 name is: ', player3.name)\n",
    "print('player3 age is: ', player3.age)"
   ]
  },
  {
   "cell_type": "code",
   "execution_count": 9,
   "id": "88e749fd",
   "metadata": {},
   "outputs": [
    {
     "name": "stdout",
     "output_type": "stream",
     "text": [
      "This is the message received:  Hello!\n"
     ]
    }
   ],
   "source": [
    "# Call a static method to print a message\n",
    "PlayerCharacter.print_message('Hello!')"
   ]
  },
  {
   "cell_type": "markdown",
   "id": "c2f4d9cd",
   "metadata": {},
   "source": [
    "### Class Cat"
   ]
  },
  {
   "cell_type": "code",
   "execution_count": 47,
   "id": "096b9f59",
   "metadata": {},
   "outputs": [
    {
     "name": "stdout",
     "output_type": "stream",
     "text": [
      "The oldest cat is  3 years old\n"
     ]
    }
   ],
   "source": [
    "#Given the class below:\n",
    "class Cat:\n",
    "    species = 'mammal'\n",
    "    def __init__(self, name, age):\n",
    "        self.name = name\n",
    "        self.age = age\n",
    "\n",
    "\n",
    "# 1 Instantiate the 3 objects of class Cat\n",
    "Katty = Cat('Katty',1)\n",
    "Ketty = Cat('Ketty',2)\n",
    "Kitty = Cat('Kitty',3)\n",
    "\n",
    "\n",
    "# 2 Create a function that finds the oldest cat\n",
    "def oldest_cat(*args):\n",
    "    return max(args)\n",
    "\n",
    "# 3 Print out: \"The oldest cat is x years old.\". x will be the oldest cat age by using the function in #2\n",
    "oldest_age = oldest_cat(Katty.age, Ketty.age, Kitty.age)\n",
    "print(f'The oldest cat is  {oldest_age} years old')"
   ]
  },
  {
   "cell_type": "markdown",
   "id": "03282dd3",
   "metadata": {},
   "source": [
    "### Class PlayerCharacter"
   ]
  },
  {
   "cell_type": "code",
   "execution_count": 48,
   "id": "c30bcd75",
   "metadata": {},
   "outputs": [
    {
     "name": "stdout",
     "output_type": "stream",
     "text": [
      "shout method - My name is Paul\n",
      "Adding 5 and 3 using an instantiated object:  8\n",
      "Adding numbers 15 and 18 withoud instantiating an object:  33\n",
      "player2.name:  Peter\n",
      "player2.age:  40\n"
     ]
    }
   ],
   "source": [
    "class PlayerCharacter:\n",
    "    membership = True\n",
    "    \n",
    "    def __init__(self, name, age):\n",
    "        self.name = name\n",
    "        self.age = age\n",
    "    \n",
    "    def shout(self):\n",
    "        print(f'shout method - My name is {self.name}')\n",
    "        \n",
    "    @classmethod\n",
    "    def adding_numbers(cls, num1, num2):\n",
    "        return num1+num2\n",
    "    \n",
    "    @classmethod\n",
    "    def instantiate_obj(cls, name, num1, num2):\n",
    "        return cls(name, PlayerCharacter.adding_numbers(num1, num2))\n",
    "        \n",
    "# Instantiate player1: Paul, 32 years old\n",
    "player1 = PlayerCharacter('Paul', 32)\n",
    "player1.shout()\n",
    "print('Adding 5 and 3 using an instantiated object: ', player1.adding_numbers(5,3))\n",
    "\n",
    "# calling the class method adding_numbers\n",
    "# without instantiating PlayerCharacter\n",
    "print('Adding numbers 15 and 18 withoud instantiating an object: ', PlayerCharacter.adding_numbers(15,18))\n",
    "\n",
    "# Instantiate player2: Peter, \n",
    "player2 = PlayerCharacter.instantiate_obj('Peter', 19, 21)\n",
    "print('player2.name: ', player2.name)\n",
    "print('player2.age: ', player2.age)\n",
    "\n"
   ]
  },
  {
   "cell_type": "markdown",
   "id": "19619d34",
   "metadata": {},
   "source": [
    "### Class MyGen"
   ]
  },
  {
   "cell_type": "code",
   "execution_count": 14,
   "id": "5c5ce4b3",
   "metadata": {},
   "outputs": [
    {
     "name": "stdout",
     "output_type": "stream",
     "text": [
      "my_list:  [0, 1, 2, 3, 4, 5, 6, 7, 8, 9, 10, 11, 12, 13, 14, 15, 16, 17, 18, 19, 20, 21, 22, 23, 24, 25, 26, 27, 28, 29, 30, 31, 32, 33, 34, 35, 36, 37, 38, 39, 40, 41, 42, 43, 44, 45, 46, 47, 48, 49, 50, 51, 52, 53, 54, 55, 56, 57, 58, 59, 60, 61, 62, 63, 64, 65, 66, 67, 68, 69, 70, 71, 72, 73, 74, 75, 76, 77, 78, 79, 80, 81, 82, 83, 84, 85, 86, 87, 88, 89, 90, 91, 92, 93, 94, 95, 96, 97, 98, 99, 100]\n"
     ]
    }
   ],
   "source": [
    "class MyGen():\n",
    "    current_number = 0\n",
    "    def __init__(self, first, last):\n",
    "        self.first = first\n",
    "        self.last  = last\n",
    "    \n",
    "    def __iter__(self):\n",
    "        return self\n",
    "    \n",
    "    def __next__(self):\n",
    "        if MyGen.current_number <= self.last:\n",
    "            new_number = MyGen.current_number\n",
    "            MyGen.current_number +=1\n",
    "            return new_number\n",
    "        raise StopIteration\n",
    "\n",
    "gen = MyGen(0,100) # Generate a sequence of values from 0 to 100\n",
    "\n",
    "# Build a list of numbers from 0 to 100\n",
    "my_list = []\n",
    "for i in gen:\n",
    "    my_list.append(i)\n",
    "print('my_list: ', my_list)"
   ]
  },
  {
   "cell_type": "markdown",
   "id": "a0bcfe4f",
   "metadata": {},
   "source": [
    "### Working with polimorphism, inheritance, encapsulation and abstraction"
   ]
  },
  {
   "cell_type": "code",
   "execution_count": 42,
   "id": "80709f56",
   "metadata": {},
   "outputs": [],
   "source": [
    "class User(object):\n",
    "    \n",
    "    def __init__(self, email):\n",
    "        self.email = email\n",
    "        \n",
    "    def sign_in(self):\n",
    "        print('code here')\n",
    "        \n",
    "    def attack(self):\n",
    "        print(\"User's attack method\")"
   ]
  },
  {
   "cell_type": "code",
   "execution_count": 51,
   "id": "c41fd9c8",
   "metadata": {},
   "outputs": [],
   "source": [
    "class Wizard(User):\n",
    "    def __init__(self, name, power, email):\n",
    "        self.name = name\n",
    "        self.power = power\n",
    "        # call the User's __init__ method\n",
    "        User.__init__(self, email)\n",
    "        #super().__init__(self, email)\n",
    "    \n",
    "    def attack(self):\n",
    "        # calling User's attack method\n",
    "        User.attack(self)\n",
    "        print(f'Wizard: attacking with power of {self.power}')"
   ]
  },
  {
   "cell_type": "code",
   "execution_count": 52,
   "id": "54244380",
   "metadata": {},
   "outputs": [
    {
     "name": "stdout",
     "output_type": "stream",
     "text": [
      "merlin@gmail.com\n"
     ]
    }
   ],
   "source": [
    "wizard1 = Wizard('Merlin', 60, 'merlin@gmail.com')\n",
    "print(wizard1.email)"
   ]
  },
  {
   "cell_type": "code",
   "execution_count": 53,
   "id": "232232e9",
   "metadata": {},
   "outputs": [],
   "source": [
    "class Archer(User):\n",
    "    def __init__(self, name, num_arrows, email):\n",
    "        self.name = name\n",
    "        self.num_arrows = num_arrows\n",
    "        ## call method __init__ of User's class\n",
    "        super().__init__(email)\n",
    "    \n",
    "    def attack(self):\n",
    "        print(f'Archer: attacking with arrows: arrows left - {self.num_arrows}')"
   ]
  },
  {
   "cell_type": "code",
   "execution_count": 62,
   "id": "60e84a9e",
   "metadata": {},
   "outputs": [
    {
     "name": "stdout",
     "output_type": "stream",
     "text": [
      "robin@gmail.com\n",
      "wizard1: \n",
      " ['__class__', '__delattr__', '__dict__', '__dir__', '__doc__', '__eq__', '__format__', '__ge__', '__getattribute__', '__gt__', '__hash__', '__init__', '__init_subclass__', '__le__', '__lt__', '__module__', '__ne__', '__new__', '__reduce__', '__reduce_ex__', '__repr__', '__setattr__', '__sizeof__', '__str__', '__subclasshook__', '__weakref__', 'attack', 'email', 'name', 'power', 'sign_in']\n"
     ]
    }
   ],
   "source": [
    "archer1 = Archer('Robin', 30, 'robin@gmail.com')\n",
    "print(archer1.email)\n",
    "\n",
    "# Instrospection\n",
    "print('wizard1: \\n', dir(wizard1))"
   ]
  },
  {
   "cell_type": "code",
   "execution_count": 63,
   "id": "acdba91d",
   "metadata": {},
   "outputs": [
    {
     "name": "stdout",
     "output_type": "stream",
     "text": [
      "User's attack method\n",
      "Wizard: attacking with power of 60\n",
      "Archer: attacking with arrows: arrows left - 30\n",
      "archer1: \n",
      " ['__class__', '__delattr__', '__dict__', '__dir__', '__doc__', '__eq__', '__format__', '__ge__', '__getattribute__', '__gt__', '__hash__', '__init__', '__init_subclass__', '__le__', '__lt__', '__module__', '__ne__', '__new__', '__reduce__', '__reduce_ex__', '__repr__', '__setattr__', '__sizeof__', '__str__', '__subclasshook__', '__weakref__', 'attack', 'email', 'name', 'power', 'sign_in']\n"
     ]
    }
   ],
   "source": [
    "def player_attack(char):\n",
    "    char.attack()\n",
    "    \n",
    "player_attack(wizard1)\n",
    "player_attack(archer1)\n",
    "\n",
    "# Instrospection\n",
    "print('archer1: \\n', dir(wizard1))"
   ]
  },
  {
   "cell_type": "code",
   "execution_count": 56,
   "id": "235b6052",
   "metadata": {},
   "outputs": [
    {
     "name": "stdout",
     "output_type": "stream",
     "text": [
      "User's attack method\n",
      "Wizard: attacking with power of 60\n",
      "Archer: attacking with arrows: arrows left - 30\n"
     ]
    }
   ],
   "source": [
    "for char in [wizard1, archer1]:\n",
    "    char.attack()"
   ]
  },
  {
   "cell_type": "code",
   "execution_count": 57,
   "id": "9625e9d8",
   "metadata": {},
   "outputs": [
    {
     "name": "stdout",
     "output_type": "stream",
     "text": [
      "True\n"
     ]
    }
   ],
   "source": [
    "print(isinstance(wizard1, User))"
   ]
  },
  {
   "cell_type": "code",
   "execution_count": 58,
   "id": "93533a4a",
   "metadata": {},
   "outputs": [
    {
     "name": "stdout",
     "output_type": "stream",
     "text": [
      "True\n"
     ]
    }
   ],
   "source": [
    "print(isinstance(wizard1, object))"
   ]
  },
  {
   "cell_type": "code",
   "execution_count": 59,
   "id": "c5462bd1",
   "metadata": {},
   "outputs": [
    {
     "name": "stdout",
     "output_type": "stream",
     "text": [
      "False\n"
     ]
    }
   ],
   "source": [
    "print(isinstance(wizard1, Archer))"
   ]
  },
  {
   "cell_type": "markdown",
   "id": "1a8c9414",
   "metadata": {},
   "source": [
    "### Practicing OOP - Pets everywhere"
   ]
  },
  {
   "cell_type": "code",
   "execution_count": 72,
   "id": "d1ff228c",
   "metadata": {},
   "outputs": [],
   "source": [
    "class Pets():\n",
    "    animals = []\n",
    "    def __init__(self,animals):\n",
    "        self.animals = animals\n",
    "    \n",
    "    def walk(self):\n",
    "        for animal in self.animals:\n",
    "            print(animal.walk())"
   ]
  },
  {
   "cell_type": "code",
   "execution_count": 84,
   "id": "e807f239",
   "metadata": {},
   "outputs": [],
   "source": [
    "class Cat():\n",
    "    is_lazy = True\n",
    "    \n",
    "    def __init__(self, name, age):\n",
    "        self.name = name\n",
    "        self.age = age\n",
    "        \n",
    "    def walk(self):\n",
    "        return f'{self.name} is just walking around'"
   ]
  },
  {
   "cell_type": "markdown",
   "id": "b0f3e4c1",
   "metadata": {},
   "source": [
    "### Instantiating Pets"
   ]
  },
  {
   "cell_type": "code",
   "execution_count": 85,
   "id": "d54408df",
   "metadata": {},
   "outputs": [],
   "source": [
    "class Simon(Cat):\n",
    "    def sing(self, sounds):\n",
    "        return f'{sounds}'"
   ]
  },
  {
   "cell_type": "code",
   "execution_count": 86,
   "id": "6a26f8b9",
   "metadata": {},
   "outputs": [],
   "source": [
    "class Sally(Cat):\n",
    "    def sing(self, sounds):\n",
    "        return f'{sounds}'"
   ]
  },
  {
   "cell_type": "code",
   "execution_count": 87,
   "id": "b94294a1",
   "metadata": {},
   "outputs": [],
   "source": [
    "class Suzy(Cat):\n",
    "    def sing(self, sounds):\n",
    "        return f'{sounds}'"
   ]
  },
  {
   "cell_type": "code",
   "execution_count": 88,
   "id": "a8a721ce",
   "metadata": {},
   "outputs": [],
   "source": [
    "# Create a list of pets\n",
    "my_cats = [Simon('Simon', 4),\n",
    "           Sally('Sally', 2),\n",
    "           Suzy('Suzy', 1)]\n",
    "\n",
    "# Instantiate Pet class with a list of cats\n",
    "my_pets = Pets(my_cats)"
   ]
  },
  {
   "cell_type": "code",
   "execution_count": 89,
   "id": "33f3385a",
   "metadata": {},
   "outputs": [
    {
     "name": "stdout",
     "output_type": "stream",
     "text": [
      "Simon is just walking around\n",
      "Sally is just walking around\n",
      "Suzy is just walking around\n"
     ]
    }
   ],
   "source": [
    "my_pets.walk()"
   ]
  },
  {
   "cell_type": "markdown",
   "id": "e0ef5016",
   "metadata": {},
   "source": [
    "### Another way of instantiating Pets"
   ]
  },
  {
   "cell_type": "code",
   "execution_count": 90,
   "id": "c83ffc51",
   "metadata": {},
   "outputs": [],
   "source": [
    "batman = Cat('Batman', 3)\n",
    "sherlock = Cat('Sherlock', 4)\n",
    "tarzan = Cat('Tarzan', 2)"
   ]
  },
  {
   "cell_type": "code",
   "execution_count": 91,
   "id": "f1e54d5f",
   "metadata": {},
   "outputs": [],
   "source": [
    "# Create a list of pets\n",
    "my_cats = [batman, sherlock, tarzan]\n",
    "\n",
    "# Instantiate Pet class with a list of cats\n",
    "my_pets = Pets(my_cats)"
   ]
  },
  {
   "cell_type": "code",
   "execution_count": 92,
   "id": "c3a032d2",
   "metadata": {},
   "outputs": [
    {
     "name": "stdout",
     "output_type": "stream",
     "text": [
      "Batman is just walking around\n",
      "Sherlock is just walking around\n",
      "Tarzan is just walking around\n"
     ]
    }
   ],
   "source": [
    "my_pets.walk()"
   ]
  },
  {
   "cell_type": "markdown",
   "id": "a896e465",
   "metadata": {},
   "source": [
    "### Dunder Methods"
   ]
  },
  {
   "cell_type": "code",
   "execution_count": 64,
   "id": "e022e869",
   "metadata": {},
   "outputs": [],
   "source": [
    "class Toy():\n",
    "    def __init__(self, color, age):\n",
    "        self.color = color\n",
    "        self.age = age\n",
    "        self.my_dict = {\n",
    "            'name' : 'Yoyo',\n",
    "            'has_pets' : False\n",
    "        }\n",
    "     \n",
    "    # redefine str method\n",
    "    def __str__(self):\n",
    "        return f'{self.color}'\n",
    "    \n",
    "    # redefine len method\n",
    "    def __len__(self):\n",
    "        return 5\n",
    "    \n",
    "    # redefine call method\n",
    "    def __call__(self):\n",
    "        return('yess??')\n",
    "    \n",
    "    # redefine getitem method\n",
    "    def __getitem__(self, i):\n",
    "        return self.my_dict[i]"
   ]
  },
  {
   "cell_type": "code",
   "execution_count": 65,
   "id": "0a9b5acc",
   "metadata": {},
   "outputs": [],
   "source": [
    "# Instantiate Toy()\n",
    "action_figure = Toy('red', 0)"
   ]
  },
  {
   "cell_type": "code",
   "execution_count": 66,
   "id": "3d1677a0",
   "metadata": {},
   "outputs": [
    {
     "name": "stdout",
     "output_type": "stream",
     "text": [
      "red\n"
     ]
    }
   ],
   "source": [
    "print(action_figure.__str__())"
   ]
  },
  {
   "cell_type": "code",
   "execution_count": 67,
   "id": "23accacf",
   "metadata": {},
   "outputs": [
    {
     "name": "stdout",
     "output_type": "stream",
     "text": [
      "red\n"
     ]
    }
   ],
   "source": [
    "print(str(action_figure))"
   ]
  },
  {
   "cell_type": "code",
   "execution_count": 68,
   "id": "e1d7d8ce",
   "metadata": {},
   "outputs": [
    {
     "name": "stdout",
     "output_type": "stream",
     "text": [
      "5\n"
     ]
    }
   ],
   "source": [
    "print(action_figure.__len__())"
   ]
  },
  {
   "cell_type": "code",
   "execution_count": 73,
   "id": "ac2d89c7",
   "metadata": {},
   "outputs": [
    {
     "name": "stdout",
     "output_type": "stream",
     "text": [
      "5\n"
     ]
    }
   ],
   "source": [
    "print(len(action_figure))"
   ]
  },
  {
   "cell_type": "code",
   "execution_count": 75,
   "id": "800ee2ae",
   "metadata": {},
   "outputs": [
    {
     "name": "stdout",
     "output_type": "stream",
     "text": [
      "yess??\n"
     ]
    }
   ],
   "source": [
    "print(action_figure.__call__())"
   ]
  },
  {
   "cell_type": "code",
   "execution_count": 70,
   "id": "9d54dcfc",
   "metadata": {},
   "outputs": [
    {
     "name": "stdout",
     "output_type": "stream",
     "text": [
      "red\n"
     ]
    }
   ],
   "source": [
    "print(action_figure)"
   ]
  },
  {
   "cell_type": "code",
   "execution_count": 71,
   "id": "d9e56108",
   "metadata": {},
   "outputs": [
    {
     "name": "stdout",
     "output_type": "stream",
     "text": [
      "Yoyo\n"
     ]
    }
   ],
   "source": [
    "print(action_figure['name'])"
   ]
  },
  {
   "cell_type": "markdown",
   "id": "00a3e3b9",
   "metadata": {},
   "source": [
    "### Practicing with dunder methods"
   ]
  },
  {
   "cell_type": "code",
   "execution_count": 99,
   "id": "722fd0f0",
   "metadata": {},
   "outputs": [],
   "source": [
    "class SuperList(list):\n",
    "    def __len__(self):\n",
    "        return 1000\n",
    "    \n",
    "super_list1 = SuperList();"
   ]
  },
  {
   "cell_type": "code",
   "execution_count": 100,
   "id": "a87eaade",
   "metadata": {},
   "outputs": [
    {
     "name": "stdout",
     "output_type": "stream",
     "text": [
      "1000\n"
     ]
    }
   ],
   "source": [
    "print(len(super_list1))"
   ]
  },
  {
   "cell_type": "code",
   "execution_count": 101,
   "id": "90cba561",
   "metadata": {},
   "outputs": [],
   "source": [
    "# Append 5 to super_list1\n",
    "super_list1.append(5)"
   ]
  },
  {
   "cell_type": "code",
   "execution_count": 102,
   "id": "9f0092bf",
   "metadata": {},
   "outputs": [
    {
     "name": "stdout",
     "output_type": "stream",
     "text": [
      "5\n"
     ]
    }
   ],
   "source": [
    "print(super_list1[0])"
   ]
  },
  {
   "cell_type": "code",
   "execution_count": 103,
   "id": "6c1f72f2",
   "metadata": {},
   "outputs": [
    {
     "name": "stdout",
     "output_type": "stream",
     "text": [
      "True\n"
     ]
    }
   ],
   "source": [
    "# Test if SuperList is a subclass of list class\n",
    "print(issubclass(SuperList, list))"
   ]
  },
  {
   "cell_type": "code",
   "execution_count": 104,
   "id": "138c88b3",
   "metadata": {},
   "outputs": [
    {
     "name": "stdout",
     "output_type": "stream",
     "text": [
      "True\n"
     ]
    }
   ],
   "source": [
    "# Test if list is a subclass of object class\n",
    "print(issubclass(list, object))"
   ]
  },
  {
   "cell_type": "code",
   "execution_count": 105,
   "id": "04817a03",
   "metadata": {},
   "outputs": [
    {
     "name": "stdout",
     "output_type": "stream",
     "text": [
      "True\n"
     ]
    }
   ],
   "source": [
    "# Test if SuperList is a subclass of object class\n",
    "print(issubclass(SuperList, object))"
   ]
  },
  {
   "cell_type": "markdown",
   "id": "614bcaef",
   "metadata": {},
   "source": [
    "### Working with multiple inheritance"
   ]
  },
  {
   "cell_type": "code",
   "execution_count": 115,
   "id": "c91b0511",
   "metadata": {},
   "outputs": [],
   "source": [
    "class User():\n",
    "    def sign_in(self):\n",
    "        print('You are logged in')"
   ]
  },
  {
   "cell_type": "code",
   "execution_count": 116,
   "id": "2cfc6304",
   "metadata": {},
   "outputs": [],
   "source": [
    "# Create a class Wizard as subclass of User\n",
    "class Wizard(User):\n",
    "    def __init__(self, name, power):\n",
    "        self.name = name\n",
    "        self.power = power\n",
    "        \n",
    "    def attack(self):\n",
    "        print(f'attacking with poser of {self.power}')"
   ]
  },
  {
   "cell_type": "code",
   "execution_count": 117,
   "id": "d66e582e",
   "metadata": {},
   "outputs": [],
   "source": [
    "# Create a class Archer as a subclass of User\n",
    "class Archer(User):\n",
    "    def __init__(self, name, arrows):\n",
    "        self.name = name\n",
    "        self.arrows = arrows\n",
    "        \n",
    "    def check_arrows(self):\n",
    "        print(f'{self.arrows} remaining')\n",
    "        \n",
    "    def run(self):\n",
    "        print('ran really fast')"
   ]
  },
  {
   "cell_type": "code",
   "execution_count": 118,
   "id": "9ad80af8",
   "metadata": {},
   "outputs": [],
   "source": [
    "# Create a class HybridBorg as a subclass of Wizard and \n",
    "# also a subclass of Archer (multiple inheritance)\n",
    "class HybridBorg(Wizard, Archer):\n",
    "    def __init__(self, name, power, arrows):\n",
    "        Wizard.__init__(self, name, power)\n",
    "        Archer.__init__(self, name, arrows)"
   ]
  },
  {
   "cell_type": "code",
   "execution_count": 119,
   "id": "cff35658",
   "metadata": {},
   "outputs": [],
   "source": [
    "# Instantiate an object hb1 of the class HybridBorg\n",
    "hb1 = HybridBorg('borgie', 50, 100)"
   ]
  },
  {
   "cell_type": "code",
   "execution_count": 120,
   "id": "dc99f163",
   "metadata": {},
   "outputs": [
    {
     "name": "stdout",
     "output_type": "stream",
     "text": [
      "You are logged in\n",
      "None\n"
     ]
    }
   ],
   "source": [
    "# sign_in() is a method of the super class User\n",
    "print(hb1.sign_in())"
   ]
  },
  {
   "cell_type": "code",
   "execution_count": 121,
   "id": "136c2b51",
   "metadata": {},
   "outputs": [
    {
     "name": "stdout",
     "output_type": "stream",
     "text": [
      "attacking with poser of 50\n",
      "None\n"
     ]
    }
   ],
   "source": [
    "# attack() is a method of the super class Wizard\n",
    "print(hb1.attack())"
   ]
  },
  {
   "cell_type": "code",
   "execution_count": 122,
   "id": "4070da44",
   "metadata": {},
   "outputs": [
    {
     "name": "stdout",
     "output_type": "stream",
     "text": [
      "100 remaining\n",
      "None\n"
     ]
    }
   ],
   "source": [
    "# check_arrows() is a metod of the super class Archer\n",
    "print(hb1.check_arrows())"
   ]
  },
  {
   "cell_type": "code",
   "execution_count": 123,
   "id": "16c7a03a",
   "metadata": {},
   "outputs": [
    {
     "name": "stdout",
     "output_type": "stream",
     "text": [
      "ran really fast\n",
      "None\n"
     ]
    }
   ],
   "source": [
    "# run() is a method of the super class Archer\n",
    "print(hb1.run())"
   ]
  },
  {
   "cell_type": "markdown",
   "id": "08f6883e",
   "metadata": {},
   "source": [
    "### Method Resolution Order (MRO)"
   ]
  },
  {
   "cell_type": "code",
   "execution_count": 143,
   "id": "e7b5f1d6",
   "metadata": {},
   "outputs": [],
   "source": [
    "class A():\n",
    "    whereiam = 'class A'\n",
    "\n",
    "class B(A):\n",
    "    whereiam = 'class B'\n",
    "    \n",
    "class C(A):\n",
    "    whereiam = 'class C'\n",
    "    \n",
    "class D(B, C):\n",
    "    whereiam = 'class D'"
   ]
  },
  {
   "cell_type": "code",
   "execution_count": 145,
   "id": "da7707e8",
   "metadata": {},
   "outputs": [
    {
     "name": "stdout",
     "output_type": "stream",
     "text": [
      "[<class '__main__.D'>, <class '__main__.B'>, <class '__main__.C'>, <class '__main__.A'>, <class 'object'>]\n"
     ]
    }
   ],
   "source": [
    "# Order of method resolution: D(main) --> B(main)--> C(main) --> A(main) --> object(main)\n",
    "print(D.mro())"
   ]
  },
  {
   "cell_type": "code",
   "execution_count": 146,
   "id": "58f05c28",
   "metadata": {},
   "outputs": [
    {
     "name": "stdout",
     "output_type": "stream",
     "text": [
      "class D\n"
     ]
    }
   ],
   "source": [
    "print(D.whereiam)"
   ]
  },
  {
   "cell_type": "code",
   "execution_count": 142,
   "id": "e40f3cc5",
   "metadata": {},
   "outputs": [
    {
     "name": "stdout",
     "output_type": "stream",
     "text": [
      "class B\n"
     ]
    }
   ],
   "source": [
    "# Pass class D\n",
    "class A():\n",
    "    whereiam = 'class A'\n",
    "\n",
    "class B(A):\n",
    "    whereiam = 'class B'\n",
    "    \n",
    "class C(A):\n",
    "    whereiam = 'class C'\n",
    "    \n",
    "class D(B, C):\n",
    "    pass\n",
    "\n",
    "print(D.whereiam)"
   ]
  },
  {
   "cell_type": "code",
   "execution_count": 138,
   "id": "513cd3a1",
   "metadata": {},
   "outputs": [
    {
     "name": "stdout",
     "output_type": "stream",
     "text": [
      "class C\n"
     ]
    }
   ],
   "source": [
    "# Passes classes D and B\n",
    "class A():\n",
    "    whereiam = 'class A'\n",
    "\n",
    "class B(A):\n",
    "    pass\n",
    "    \n",
    "class C(A):\n",
    "    whereiam = 'class C'\n",
    "    \n",
    "class D(B, C):\n",
    "    pass\n",
    "\n",
    "print(D.whereiam)"
   ]
  },
  {
   "cell_type": "code",
   "execution_count": 140,
   "id": "6ea9d604",
   "metadata": {},
   "outputs": [
    {
     "name": "stdout",
     "output_type": "stream",
     "text": [
      "class A\n"
     ]
    }
   ],
   "source": [
    "# Passes classes D, B and C\n",
    "class A():\n",
    "    whereiam = 'class A'\n",
    "\n",
    "class B(A):\n",
    "    pass\n",
    "    \n",
    "class C(A):\n",
    "   pass\n",
    "    \n",
    "class D(B, C):\n",
    "    pass\n",
    "\n",
    "print(D.whereiam)"
   ]
  },
  {
   "cell_type": "code",
   "execution_count": 150,
   "id": "ae9e3e28",
   "metadata": {},
   "outputs": [
    {
     "name": "stdout",
     "output_type": "stream",
     "text": [
      "<slot wrapper '__str__' of 'object' objects>\n"
     ]
    }
   ],
   "source": [
    "# D is a subclass of the super class object\n",
    "print(D.__str__)"
   ]
  },
  {
   "cell_type": "code",
   "execution_count": 152,
   "id": "054d3f53",
   "metadata": {},
   "outputs": [
    {
     "name": "stdout",
     "output_type": "stream",
     "text": [
      "(<class '__main__.M'>, <class '__main__.B'>, <class '__main__.A'>, <class '__main__.X'>, <class '__main__.Y'>, <class '__main__.Z'>, <class 'object'>)\n"
     ]
    }
   ],
   "source": [
    "# M --> B --> A --> X --> Y --> Z --> object\n",
    "# M --> Z --> object\n",
    "\n",
    "class X: pass\n",
    "\n",
    "class Y: pass\n",
    "\n",
    "class Z: pass\n",
    "\n",
    "class A(X, Y): pass\n",
    "\n",
    "class B(Y, Z): pass\n",
    "\n",
    "class M(B, A, Z): pass\n",
    "\n",
    "print(M.__mro__)"
   ]
  },
  {
   "cell_type": "code",
   "execution_count": null,
   "id": "2c942465",
   "metadata": {},
   "outputs": [],
   "source": []
  }
 ],
 "metadata": {
  "kernelspec": {
   "display_name": "Python 3 (ipykernel)",
   "language": "python",
   "name": "python3"
  },
  "language_info": {
   "codemirror_mode": {
    "name": "ipython",
    "version": 3
   },
   "file_extension": ".py",
   "mimetype": "text/x-python",
   "name": "python",
   "nbconvert_exporter": "python",
   "pygments_lexer": "ipython3",
   "version": "3.10.9"
  }
 },
 "nbformat": 4,
 "nbformat_minor": 5
}
