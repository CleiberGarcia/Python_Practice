{
 "cells": [
  {
   "cell_type": "markdown",
   "id": "37362b1c",
   "metadata": {},
   "source": [
    "# 7. Python Comprehension"
   ]
  },
  {
   "cell_type": "markdown",
   "id": "c7557d46",
   "metadata": {},
   "source": [
    "Author: Cleiber Garcia\n",
    "Date: 17 of February, 2023\n",
    "\n",
    "The content of this notebook was developed by me (Cleiber Garcia) as part of my participation in the course \"Complete Python Developer in 2023: Zero to Mastery\", offered through Udemy (https://www.udemy.com/course/complete-python-developer-zero-to-mastery/), by Andrei Neagoie of Zero to Mastery (https://zerotomastery.io/).\n",
    "\n",
    "The content of this notebook is based on Andrei's online Course (Complete Python Developer in 2023: Zero to Mastery), therefore it has a high degree of similarity with Andrei's work, however I took the liberty to make some changes in the python code, in order to give my personal touch and to make the examples clearer.\n",
    "\n",
    "My intension in developing this notebook is threefold: 1) to show that I have acquired proficiency in Python comprehension technique; 2) To show that I practicized the contents seen in the online class and 3) to help other students of the course Complete Python Developer in 2023: Zero to Mastery.\n",
    "\n",
    "Feel free to contact-me at cleiber.garcia@gmail.com"
   ]
  },
  {
   "cell_type": "markdown",
   "id": "a58675ec",
   "metadata": {},
   "source": [
    "## 7.1 Dictionary Comprehension"
   ]
  },
  {
   "cell_type": "code",
   "execution_count": 5,
   "id": "5e49ad3f",
   "metadata": {},
   "outputs": [
    {
     "name": "stdout",
     "output_type": "stream",
     "text": [
      "dict1:  {'a': 1, 'b': 2, 'c': 3, 'd': 4, 'e': 5, 'f': 6}\n"
     ]
    }
   ],
   "source": [
    "### Disctionary comprehension\n",
    "\n",
    "dict1 = {\n",
    "    'a': 1,\n",
    "    'b': 2,\n",
    "    'c': 3,\n",
    "    'd': 4,\n",
    "    'e': 5,\n",
    "    'f': 6\n",
    "    }\n",
    "\n",
    "print('dict1: ', dict1)"
   ]
  },
  {
   "cell_type": "code",
   "execution_count": 8,
   "id": "40389d8a",
   "metadata": {},
   "outputs": [
    {
     "name": "stdout",
     "output_type": "stream",
     "text": [
      "squared_even_dict1:  {'b': 4, 'd': 16, 'f': 36}\n"
     ]
    }
   ],
   "source": [
    "# Create a new dictionary with squared even numbers from dict1\n",
    "squared_even_dict1 = {key:value**2 for key,value in dict1.items() if value % 2 == 0}\n",
    "print('squared_even_dict1: ', squared_even_dict1)"
   ]
  },
  {
   "cell_type": "code",
   "execution_count": 12,
   "id": "42959ac1",
   "metadata": {},
   "outputs": [
    {
     "name": "stdout",
     "output_type": "stream",
     "text": [
      "dict2:  {1: 1, 3: 3, 5: 5}\n"
     ]
    }
   ],
   "source": [
    "# Create a dictionary for the items in the list [1,2,3,4,5] that are odd\n",
    "dict2 = {item:item for item in [1,2,3,4,5] if item % 2 != 0}\n",
    "print('dict2: ', dict2)"
   ]
  },
  {
   "cell_type": "markdown",
   "id": "ceb6c537",
   "metadata": {},
   "source": [
    "## 7.2 List Comprehension"
   ]
  },
  {
   "cell_type": "code",
   "execution_count": 11,
   "id": "f3be5013",
   "metadata": {},
   "outputs": [
    {
     "name": "stdout",
     "output_type": "stream",
     "text": [
      "['h', 'e', 'l', 'l', 'o']\n"
     ]
    }
   ],
   "source": [
    "# Creates a list with the characters of the word 'hello'\n",
    "# without list comprehension\n",
    "my_list = []\n",
    "for char in 'hello':\n",
    "    my_list.append(char)\n",
    "    \n",
    "print(my_list)"
   ]
  },
  {
   "cell_type": "code",
   "execution_count": 10,
   "id": "9bc9a69f",
   "metadata": {},
   "outputs": [
    {
     "name": "stdout",
     "output_type": "stream",
     "text": [
      "['h', 'e', 'l', 'l', 'o']\n"
     ]
    }
   ],
   "source": [
    "# Creates a list with the characters of the word 'hello'\n",
    "# with list comprehension\n",
    "my_list = [char for char in 'hello']\n",
    "print(my_list)"
   ]
  },
  {
   "cell_type": "code",
   "execution_count": 13,
   "id": "1bc04ac6",
   "metadata": {},
   "outputs": [
    {
     "name": "stdout",
     "output_type": "stream",
     "text": [
      "[0, 1, 2, 3, 4, 5, 6, 7, 8, 9, 10, 11, 12, 13, 14, 15, 16, 17, 18, 19, 20, 21, 22, 23, 24, 25, 26, 27, 28, 29, 30, 31, 32, 33, 34, 35, 36, 37, 38, 39, 40, 41, 42, 43, 44, 45, 46, 47, 48, 49, 50, 51, 52, 53, 54, 55, 56, 57, 58, 59, 60, 61, 62, 63, 64, 65, 66, 67, 68, 69, 70, 71, 72, 73, 74, 75, 76, 77, 78, 79, 80, 81, 82, 83, 84, 85, 86, 87, 88, 89, 90, 91, 92, 93, 94, 95, 96, 97, 98, 99, 100]\n"
     ]
    }
   ],
   "source": [
    "# Set a list with numbers in the range 0 to 100\n",
    "list3 = [number for number in range(0,101)]\n",
    "print(list3)"
   ]
  },
  {
   "cell_type": "code",
   "execution_count": 14,
   "id": "b05f087a",
   "metadata": {},
   "outputs": [
    {
     "name": "stdout",
     "output_type": "stream",
     "text": [
      "[0, 2, 4, 6, 8, 10, 12, 14, 16, 18, 20, 22, 24, 26, 28, 30, 32, 34, 36, 38, 40, 42, 44, 46, 48, 50, 52, 54, 56, 58, 60, 62, 64, 66, 68, 70, 72, 74, 76, 78, 80, 82, 84, 86, 88, 90, 92, 94, 96, 98, 100, 102, 104, 106, 108, 110, 112, 114, 116, 118, 120, 122, 124, 126, 128, 130, 132, 134, 136, 138, 140, 142, 144, 146, 148, 150, 152, 154, 156, 158, 160, 162, 164, 166, 168, 170, 172, 174, 176, 178, 180, 182, 184, 186, 188, 190, 192, 194, 196, 198, 200]\n"
     ]
    }
   ],
   "source": [
    "# Create a list of doubled numbers in the range 0 to 100\n",
    "list4 = [number * 2 for number in range(0,101)]\n",
    "print(list4)"
   ]
  },
  {
   "cell_type": "code",
   "execution_count": 15,
   "id": "90021fd5",
   "metadata": {},
   "outputs": [
    {
     "name": "stdout",
     "output_type": "stream",
     "text": [
      "[0, 4, 16, 36, 64, 100, 144, 196, 256, 324, 400, 484, 576, 676, 784, 900, 1024, 1156, 1296, 1444, 1600, 1764, 1936, 2116, 2304, 2500, 2704, 2916, 3136, 3364, 3600, 3844, 4096, 4356, 4624, 4900, 5184, 5476, 5776, 6084, 6400, 6724, 7056, 7396, 7744, 8100, 8464, 8836, 9216, 9604, 10000]\n"
     ]
    }
   ],
   "source": [
    "# Create a list of squared even numbers in the range 0 to 100\n",
    "list5 = [number**2 for number in range(0,101) if number % 2 == 0]\n",
    "print(list5)"
   ]
  },
  {
   "cell_type": "markdown",
   "id": "88579720",
   "metadata": {},
   "source": [
    "## 7.3 Set Comprehension"
   ]
  },
  {
   "cell_type": "code",
   "execution_count": 20,
   "id": "664e4af4",
   "metadata": {},
   "outputs": [
    {
     "name": "stdout",
     "output_type": "stream",
     "text": [
      "set_even_0_to_10:  [0, 4, 16, 36, 64, 100]\n"
     ]
    }
   ],
   "source": [
    "# Create a set with squared even numbers in the range 0 to 10 with the set's elements in ascending order\n",
    "set_even_0_to_10 = sorted({number**2 for number in range(0,11) if number % 2 == 0})\n",
    "print('set_even_0_to_10: ', set_even_0_to_10)"
   ]
  },
  {
   "cell_type": "code",
   "execution_count": null,
   "id": "7ed2b649",
   "metadata": {},
   "outputs": [],
   "source": []
  }
 ],
 "metadata": {
  "kernelspec": {
   "display_name": "Python 3 (ipykernel)",
   "language": "python",
   "name": "python3"
  },
  "language_info": {
   "codemirror_mode": {
    "name": "ipython",
    "version": 3
   },
   "file_extension": ".py",
   "mimetype": "text/x-python",
   "name": "python",
   "nbconvert_exporter": "python",
   "pygments_lexer": "ipython3",
   "version": "3.10.9"
  }
 },
 "nbformat": 4,
 "nbformat_minor": 5
}
