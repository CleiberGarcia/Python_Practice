{
 "cells": [
  {
   "cell_type": "markdown",
   "id": "77bc9757",
   "metadata": {},
   "source": [
    "# Python Fundamental Data Types"
   ]
  },
  {
   "cell_type": "markdown",
   "id": "b52b8320",
   "metadata": {},
   "source": [
    "Author: Cleiber Garcia\n",
    "Date: 17 of February, 2023\n",
    "\n",
    "The content of this notebook was developed by me (Cleiber Garcia) as part of my participation in the course \"Complete Python Developer in 2023: Zero to Mastery\", offered through Udemy (https://www.udemy.com/course/complete-python-developer-zero-to-mastery/), by Andrei Neagoie of Zero to Mastery (https://zerotomastery.io/).\n",
    "\n",
    "The content of this notebook is based on Andrei's online Course (Complete Python Developer in 2023: Zero to Mastery), therefore it has a high degree of similarity with Andrei's work, however I took the liberty to make some changes in the python code, in order to give my personal touch and to make the examples clearer.\n",
    "\n",
    "My intension in developing this notebook is threefold: 1) to show that I have acquired proficiency in Python fundamental data types; 2) To show that I practicized the contents seen in the online class and 3) to help other students of the course Complete Python Developer in 2023: Zero to Mastery.\n",
    "\n",
    "Feel free to contact-me at cleiber.garcia@gmail.com"
   ]
  },
  {
   "cell_type": "markdown",
   "id": "22c20af4",
   "metadata": {},
   "source": [
    "## 1. Integer"
   ]
  },
  {
   "cell_type": "code",
   "execution_count": 8,
   "id": "c70ce7eb",
   "metadata": {},
   "outputs": [
    {
     "name": "stdout",
     "output_type": "stream",
     "text": [
      "*** integer ***\n",
      "A:  10\n",
      "B:  3\n",
      "A + B :  13\n",
      "A - B :  7\n",
      "A * B :  30\n",
      "A / B :  3.3333333333333335\n",
      "A // B :  3\n",
      "A ** B :  1000\n",
      "A % B :  1\n"
     ]
    }
   ],
   "source": [
    "print('*** integer ***')\n",
    "A = 10\n",
    "B = 3\n",
    "print('A: ', A)\n",
    "print('B: ', B)\n",
    "print('A + B : ', A + B) # addition\n",
    "print('A - B : ', A - B) # subtraction\n",
    "print('A * B : ', A * B) # multiplication\n",
    "print('A / B : ', A / B) # division with decimal expansion\n",
    "print('A // B : ', A // B) # integer division\n",
    "print('A ** B : ', A ** B) # exponentiation\n",
    "print('A % B : ', A % B) # modulo (remainder of A divied by B)"
   ]
  },
  {
   "cell_type": "markdown",
   "id": "3cda0e91",
   "metadata": {},
   "source": [
    "## 2. Float"
   ]
  },
  {
   "cell_type": "code",
   "execution_count": 9,
   "id": "fe183d97",
   "metadata": {},
   "outputs": [
    {
     "name": "stdout",
     "output_type": "stream",
     "text": [
      "A:  10.8\n",
      "B:  3.5\n",
      "A + B :  14.3\n",
      "A - B :  7.300000000000001\n",
      "A * B :  37.800000000000004\n",
      "A / B :  3.085714285714286\n",
      "A // B :  3.0\n",
      "A ** B :  4139.836070159688\n",
      "A % B :  0.3000000000000007\n"
     ]
    }
   ],
   "source": [
    "A = 10.8\n",
    "B = 3.5\n",
    "print('A: ', A)\n",
    "print('B: ', B)\n",
    "print('A + B : ', A + B) # addition\n",
    "print('A - B : ', A - B) # subtraction\n",
    "print('A * B : ', A * B) # multiplication\n",
    "print('A / B : ', A / B) # division with decimal expansion\n",
    "print('A // B : ', A // B) # division without decimal expansion\n",
    "print('A ** B : ', A ** B) # exponentiation\n",
    "print('A % B : ', A % B) # modulo (remainder of A divided by B)"
   ]
  },
  {
   "cell_type": "markdown",
   "id": "c1030376",
   "metadata": {},
   "source": [
    "## 3. Complex Numbers"
   ]
  },
  {
   "cell_type": "code",
   "execution_count": 56,
   "id": "51ac275e",
   "metadata": {},
   "outputs": [
    {
     "name": "stdout",
     "output_type": "stream",
     "text": [
      "z:  (5+3j)\n",
      "The real part of complex number is : 5.0\n",
      "The imaginary part of complex number is : 3.0\n"
     ]
    }
   ],
   "source": [
    "# Complex Numbers\n",
    "#import cmath \n",
    "x = 5\n",
    "y = 3\n",
    "z = complex(x,y);\n",
    "print(\"z: \", z)\n",
    "print (\"The real part of complex number is : \",end=\"\") \n",
    "print (z.real) \n",
    "  \n",
    "print (\"The imaginary part of complex number is : \",end=\"\") \n",
    "print (z.imag) "
   ]
  },
  {
   "cell_type": "markdown",
   "id": "c774bcba",
   "metadata": {},
   "source": [
    "## 4. String"
   ]
  },
  {
   "cell_type": "code",
   "execution_count": 20,
   "id": "fb783ea0",
   "metadata": {},
   "outputs": [
    {
     "name": "stdout",
     "output_type": "stream",
     "text": [
      "*** string ***\n",
      "valor : 012345678\n",
      "valor[3:] : 345678\n",
      "valor[0::2] : 02468\n",
      "valor[:4] : 0123\n",
      "valor[-1] : 8\n",
      "valor[-2] : 7\n",
      "valor[-4:-2] : 56\n"
     ]
    }
   ],
   "source": [
    "print('*** string ***')\n",
    "valor = '012345678'\n",
    "print(f'valor : {valor}')\n",
    "print(f'valor[3:] : {valor[3:]}')\n",
    "print(f'valor[0::2] : {valor[0::2]}')\n",
    "print(f'valor[:4] : {valor[:4]}')\n",
    "print(f'valor[-1] : {valor[-1]}')\n",
    "print(f'valor[-2] : {valor[-2]}')\n",
    "print(f'valor[-4:-2] : {valor[-4:-2]}')"
   ]
  },
  {
   "cell_type": "code",
   "execution_count": 32,
   "id": "a821d0d1",
   "metadata": {},
   "outputs": [
    {
     "name": "stdout",
     "output_type": "stream",
     "text": [
      "**** formatted strings ****\n",
      "Hi Paul. You are 55 years old.\n",
      "Hi Anne. You are 32 years old.\n"
     ]
    }
   ],
   "source": [
    "print('**** formatted strings ****')\n",
    "\n",
    "name = 'Paul'\n",
    "age = 55\n",
    "print(f'Hi {name}. You are {age} years old.')\n",
    "\n",
    "print('Hi {}. You are {} years old.'.format('Anne', 32))"
   ]
  },
  {
   "cell_type": "code",
   "execution_count": 37,
   "id": "c7d07b3e",
   "metadata": {},
   "outputs": [
    {
     "name": "stdout",
     "output_type": "stream",
     "text": [
      "quote:  to be or not TO BE\n",
      "quote.upper():  TO BE OR NOT TO BE\n",
      "quote.lower():  to be or not to be\n",
      "quote.title():  To Be Or Not To Be\n"
     ]
    }
   ],
   "source": [
    "# built-in methods\n",
    "quote = 'to be or not TO BE'\n",
    "print('quote: ', quote)\n",
    "print('quote.upper(): ', quote.upper())\n",
    "print('quote.lower(): ', quote.lower())\n",
    "print('quote.title(): ', quote.title())"
   ]
  },
  {
   "cell_type": "markdown",
   "id": "ec8269b7",
   "metadata": {},
   "source": [
    "## 5. List"
   ]
  },
  {
   "cell_type": "markdown",
   "id": "e4eff494",
   "metadata": {},
   "source": [
    "### 5.1 List Methods"
   ]
  },
  {
   "cell_type": "code",
   "execution_count": 2,
   "id": "abaea398",
   "metadata": {},
   "outputs": [
    {
     "name": "stdout",
     "output_type": "stream",
     "text": [
      "list qty d: 2\n"
     ]
    }
   ],
   "source": [
    "basket = ['a','Z', 'A', 'b', 'd', 'd']\n",
    "\n",
    "# Count()\n",
    "print(f\"list qty d: {basket.count('d')}\")"
   ]
  },
  {
   "cell_type": "code",
   "execution_count": 4,
   "id": "a7ee57ad",
   "metadata": {},
   "outputs": [
    {
     "name": "stdout",
     "output_type": "stream",
     "text": [
      "basket:  ['a', 'Z', 'A', 'b', 'd', 'd']\n",
      "basket_2:  ['A', 'Z', 'a', 'b', 'd', 'd']\n"
     ]
    }
   ],
   "source": [
    "# Sort()\n",
    "basket_2 = basket[:] # does not modify the content of basket\n",
    "basket_2.sort()\n",
    "print('basket: ', basket)\n",
    "print('basket_2: ', basket_2)"
   ]
  },
  {
   "cell_type": "code",
   "execution_count": 6,
   "id": "5924e9ee",
   "metadata": {},
   "outputs": [
    {
     "name": "stdout",
     "output_type": "stream",
     "text": [
      "basket:  ['A', 'Z', 'a', 'b', 'd', 'd']\n",
      "basket_3:  ['A', 'Z', 'a', 'b', 'd', 'd']\n"
     ]
    }
   ],
   "source": [
    "basket_3 = basket # both point to the same address\n",
    "basket_3.sort() # modify the content of basket\n",
    "print('basket: ', basket)\n",
    "print('basket_3: ', basket_3)"
   ]
  },
  {
   "cell_type": "code",
   "execution_count": 8,
   "id": "8e0f4f9f",
   "metadata": {},
   "outputs": [
    {
     "name": "stdout",
     "output_type": "stream",
     "text": [
      "basket reversed:  ['A', 'Z', 'a', 'b', 'd', 'd']\n"
     ]
    }
   ],
   "source": [
    "# Reverse()\n",
    "basket.reverse()\n",
    "print('basket reversed: ', basket)"
   ]
  },
  {
   "cell_type": "code",
   "execution_count": 9,
   "id": "b4e8093b",
   "metadata": {},
   "outputs": [
    {
     "name": "stdout",
     "output_type": "stream",
     "text": [
      "Basket length:  6\n"
     ]
    }
   ],
   "source": [
    "# Len()\n",
    "print('Basket length: ',len(basket))"
   ]
  },
  {
   "cell_type": "code",
   "execution_count": 10,
   "id": "11dace13",
   "metadata": {},
   "outputs": [
    {
     "name": "stdout",
     "output_type": "stream",
     "text": [
      "-- Slicing --\n",
      "basket:  ['A', 'Z', 'a', 'b', 'd', 'd']\n",
      "basket[::-1]:  ['d', 'd', 'b', 'a', 'Z', 'A']\n"
     ]
    }
   ],
   "source": [
    "# Slicing\n",
    "print('-- Slicing --')\n",
    "print('basket: ', basket)\n",
    "print('basket[::-1]: ', basket[::-1])"
   ]
  },
  {
   "cell_type": "code",
   "execution_count": 19,
   "id": "1f620e05",
   "metadata": {},
   "outputs": [],
   "source": [
    "ran50 = range(1,50)"
   ]
  },
  {
   "cell_type": "code",
   "execution_count": 21,
   "id": "3c15018b",
   "metadata": {},
   "outputs": [
    {
     "name": "stdout",
     "output_type": "stream",
     "text": [
      "[1, 2, 3, 4, 5, 6, 7, 8, 9, 10, 11, 12, 13, 14, 15, 16, 17, 18, 19, 20, 21, 22, 23, 24, 25, 26, 27, 28, 29, 30, 31, 32, 33, 34, 35, 36, 37, 38, 39, 40, 41, 42, 43, 44, 45, 46, 47, 48, 49]\n"
     ]
    }
   ],
   "source": [
    "print(list(ran50))"
   ]
  },
  {
   "cell_type": "code",
   "execution_count": 38,
   "id": "06996fd4",
   "metadata": {},
   "outputs": [
    {
     "name": "stdout",
     "output_type": "stream",
     "text": [
      "[1, 2, 3, 4, 5, 6, 7, 8, 9, 10, 11, 12, 13, 14, 15, 16, 17, 18, 19, 20, 21, 22, 23, 24, 25, 26, 27, 28, 29, 30, 31, 32, 33, 34, 35, 36, 37, 38, 39, 40, 41, 42, 43, 44, 45, 46, 47, 48, 49, 50]\n",
      "---\n",
      "[0, 1, 2, 3, 4, 5, 6, 7, 8, 9, 10, 11, 12, 13, 14, 15, 16, 17, 18, 19, 20, 21, 22, 23, 24, 25, 26, 27, 28, 29, 30, 31, 32, 33, 34, 35, 36, 37, 38, 39, 40, 41, 42, 43, 44, 45, 46, 47, 48, 49, 50]\n"
     ]
    }
   ],
   "source": [
    "# Range()\n",
    "\n",
    "# Build a list with all numbers from 1 to 50\n",
    "print(list(range(1,51)))\n",
    "print('---')\n",
    "\n",
    "# Build a list with all numbers from 1 to 50\n",
    "print(list(range(51)))"
   ]
  },
  {
   "cell_type": "code",
   "execution_count": 63,
   "id": "73ee727a",
   "metadata": {},
   "outputs": [
    {
     "name": "stdout",
     "output_type": "stream",
     "text": [
      "Hi my name is Cleiber.\n"
     ]
    }
   ],
   "source": [
    "# Join()\n",
    "sentence = ' '.join(['Hi', 'my name is', 'Cleiber.'])\n",
    "print(sentence)"
   ]
  },
  {
   "cell_type": "code",
   "execution_count": 213,
   "id": "6d41e3b6",
   "metadata": {},
   "outputs": [
    {
     "name": "stdout",
     "output_type": "stream",
     "text": [
      "a,b,c, *other, d = [1,2,3,4,5,6,7,8,9,0]\n",
      "a:  1\n",
      "b:  2\n",
      "c:  3\n",
      "other:  [4, 5, 6, 7, 8, 9]\n",
      "d:  0\n"
     ]
    }
   ],
   "source": [
    "# List unpacking\n",
    "a,b,c, *other, d = [1,2,3,4,5,6,7,8,9,0]\n",
    "print('a,b,c, *other, d = [1,2,3,4,5,6,7,8,9,0]')\n",
    "print('a: ', a)\n",
    "print('b: ', b)\n",
    "print('c: ', c)\n",
    "print('other: ', other)\n",
    "print('d: ', d)"
   ]
  },
  {
   "cell_type": "markdown",
   "id": "b55a0adf",
   "metadata": {},
   "source": [
    "### 5.2 List Comprehension"
   ]
  },
  {
   "cell_type": "code",
   "execution_count": 23,
   "id": "7c52733b",
   "metadata": {},
   "outputs": [
    {
     "name": "stdout",
     "output_type": "stream",
     "text": [
      "my_list:  ['h', 'e', 'l', 'l', 'o']\n"
     ]
    }
   ],
   "source": [
    "# Build a list with all characters of the word 'hello'\n",
    "my_list = [char for char in 'hello']\n",
    "print('my_list: ', my_list)"
   ]
  },
  {
   "cell_type": "code",
   "execution_count": 26,
   "id": "2111a531",
   "metadata": {},
   "outputs": [
    {
     "name": "stdout",
     "output_type": "stream",
     "text": [
      "my_list2:  [0, 1, 2, 3, 4, 5, 6, 7, 8, 9, 10, 11, 12, 13, 14, 15, 16, 17, 18, 19, 20, 21, 22, 23, 24, 25, 26, 27, 28, 29, 30, 31, 32, 33, 34, 35, 36, 37, 38, 39, 40, 41, 42, 43, 44, 45, 46, 47, 48, 49, 50, 51, 52, 53, 54, 55, 56, 57, 58, 59, 60, 61, 62, 63, 64, 65, 66, 67, 68, 69, 70, 71, 72, 73, 74, 75, 76, 77, 78, 79, 80, 81, 82, 83, 84, 85, 86, 87, 88, 89, 90, 91, 92, 93, 94, 95, 96, 97, 98, 99, 100]\n"
     ]
    }
   ],
   "source": [
    "# Build a list with all numbers between 0 and 100, inclusive\n",
    "my_list2 = [num for num in range(0,101)]\n",
    "print('my_list2: ', my_list2)"
   ]
  },
  {
   "cell_type": "code",
   "execution_count": 29,
   "id": "df013d6a",
   "metadata": {},
   "outputs": [
    {
     "name": "stdout",
     "output_type": "stream",
     "text": [
      "my_list3:  [0, 1, 4, 9, 16, 25, 36, 49, 64, 81, 100, 121, 144, 169, 196, 225, 256, 289, 324, 361, 400, 441, 484, 529, 576, 625, 676, 729, 784, 841, 900, 961, 1024, 1089, 1156, 1225, 1296, 1369, 1444, 1521, 1600, 1681, 1764, 1849, 1936, 2025, 2116, 2209, 2304, 2401, 2500, 2601, 2704, 2809, 2916, 3025, 3136, 3249, 3364, 3481, 3600, 3721, 3844, 3969, 4096, 4225, 4356, 4489, 4624, 4761, 4900, 5041, 5184, 5329, 5476, 5625, 5776, 5929, 6084, 6241, 6400, 6561, 6724, 6889, 7056, 7225, 7396, 7569, 7744, 7921, 8100, 8281, 8464, 8649, 8836, 9025, 9216, 9409, 9604, 9801, 10000]\n"
     ]
    }
   ],
   "source": [
    "# Square all numbers between 0 and 100, inclusive\n",
    "my_list3 = [num**2 for num in range(0,101)]\n",
    "print('my_list3: ', my_list3)"
   ]
  },
  {
   "cell_type": "code",
   "execution_count": 30,
   "id": "2d828e72",
   "metadata": {},
   "outputs": [
    {
     "name": "stdout",
     "output_type": "stream",
     "text": [
      "my_list4:  [0, 4, 16, 36, 64, 100, 144, 196, 256, 324, 400, 484, 576, 676, 784, 900, 1024, 1156, 1296, 1444, 1600, 1764, 1936, 2116, 2304, 2500, 2704, 2916, 3136, 3364, 3600, 3844, 4096, 4356, 4624, 4900, 5184, 5476, 5776, 6084, 6400, 6724, 7056, 7396, 7744, 8100, 8464, 8836, 9216, 9604, 10000]\n"
     ]
    }
   ],
   "source": [
    "# Square all even numbers between 0 and 100\n",
    "my_list4 = [num**2 for num in range(0,101) if num % 2 == 0]\n",
    "print('my_list4: ', my_list4)"
   ]
  },
  {
   "cell_type": "markdown",
   "id": "bf6c08c3",
   "metadata": {},
   "source": [
    "## 6. Tuple"
   ]
  },
  {
   "cell_type": "code",
   "execution_count": 40,
   "id": "8ef4610d",
   "metadata": {},
   "outputs": [
    {
     "name": "stdout",
     "output_type": "stream",
     "text": [
      "my_tuple:  (1, 2, 3, 4, 5)\n",
      "5 in my_tuple:  True\n"
     ]
    }
   ],
   "source": [
    "my_tuple = (1,2,3,4,5)\n",
    "print('my_tuple: ', my_tuple)\n",
    "print('5 in my_tuple: ', 5 in my_tuple)"
   ]
  },
  {
   "cell_type": "code",
   "execution_count": 41,
   "id": "f983831f",
   "metadata": {},
   "outputs": [
    {
     "name": "stdout",
     "output_type": "stream",
     "text": [
      "new_tuple:  (1, 2, 3)\n"
     ]
    }
   ],
   "source": [
    "new_tuple = my_tuple[:3]\n",
    "print('new_tuple: ', new_tuple)"
   ]
  },
  {
   "cell_type": "code",
   "execution_count": 42,
   "id": "ea11d175",
   "metadata": {},
   "outputs": [
    {
     "name": "stdout",
     "output_type": "stream",
     "text": [
      "my_tuple:  (1, 2, 3, 4, 5)\n",
      "x,y,z, *other = my_tuple\n",
      "x:  1\n",
      "y:  2\n",
      "z:  3\n",
      "other:  [4, 5]\n"
     ]
    }
   ],
   "source": [
    "x,y,z, *other = my_tuple # my_tuple = (1,2,3,4,5)\n",
    "print('my_tuple: ', my_tuple)\n",
    "print('x,y,z, *other = my_tuple')\n",
    "print('x: ', x)\n",
    "print('y: ', y)\n",
    "print('z: ', z)\n",
    "print('other: ', other)"
   ]
  },
  {
   "cell_type": "code",
   "execution_count": 46,
   "id": "b04d950d",
   "metadata": {},
   "outputs": [
    {
     "name": "stdout",
     "output_type": "stream",
     "text": [
      "my_tuple:  (1, 2, 3, 4, 5)\n",
      "lenght of my_tuple:  5\n",
      "qty of 3 in my_tuple:  1\n",
      "index of 3 in my_tuple:  2\n",
      "my_tuple[4]:  5\n"
     ]
    }
   ],
   "source": [
    "print('my_tuple: ', my_tuple)\n",
    "print('lenght of my_tuple: ', len(my_tuple))\n",
    "print('qty of 3 in my_tuple: ',my_tuple.count(3))\n",
    "print('index of 3 in my_tuple: ',my_tuple.index(3))\n",
    "print('my_tuple[4]: ', my_tuple[4])"
   ]
  },
  {
   "cell_type": "code",
   "execution_count": 48,
   "id": "c2cce70c",
   "metadata": {},
   "outputs": [
    {
     "name": "stdout",
     "output_type": "stream",
     "text": [
      "user:  {(1, 2): [3, 5, 6], (3, 4): [7, 8, 9]}\n",
      "user[(1,2)]:  [3, 5, 6]\n",
      "user[(1,2)][0]:  3\n",
      "user[(3,4)]:  [7, 8, 9]\n",
      "user[(3,4)][2]:  9\n"
     ]
    }
   ],
   "source": [
    "# A dictionary with tuples as keys and lists as values\n",
    "user = {\n",
    "    (1,2): [3, 5, 6],\n",
    "    (3,4): [7, 8, 9],\n",
    "        }\n",
    "\n",
    "print('user: ', user)\n",
    "print('user[(1,2)]: ', user[(1,2)])\n",
    "print('user[(1,2)][0]: ', user[(1,2)][0])\n",
    "print('user[(3,4)]: ', user[(3,4)])\n",
    "print('user[(3,4)][2]: ', user[(3,4)][2])"
   ]
  },
  {
   "cell_type": "markdown",
   "id": "f90e3641",
   "metadata": {},
   "source": [
    "## 7. Dictionary"
   ]
  },
  {
   "cell_type": "markdown",
   "id": "c81a4614",
   "metadata": {},
   "source": [
    "### 7.1 Definition and Example of a Dictionary"
   ]
  },
  {
   "cell_type": "code",
   "execution_count": 219,
   "id": "657bc7db",
   "metadata": {},
   "outputs": [
    {
     "name": "stdout",
     "output_type": "stream",
     "text": [
      "xyz:  {'a': 1, 'b': 2}\n",
      "b:  2\n"
     ]
    }
   ],
   "source": [
    "# Dictionary\n",
    "# A dictionary is formed by pairs of key:value\n",
    "xyz = {\n",
    "    'a': 1,\n",
    "    'b': 2\n",
    "}\n",
    "\n",
    "print('xyz: ', xyz)\n",
    "print('b: ', xyz['b'])"
   ]
  },
  {
   "cell_type": "code",
   "execution_count": 218,
   "id": "75f2749f",
   "metadata": {},
   "outputs": [
    {
     "name": "stdout",
     "output_type": "stream",
     "text": [
      "dictionary:  {'a': [1, 2, 3], 'b': 'hello', 'c': True}\n",
      "dictionary['a']:  [1, 2, 3]\n",
      "dictionary['a'][0]:  1\n"
     ]
    }
   ],
   "source": [
    "dictionary = {\n",
    "    'a': [1,2,3],\n",
    "    'b': 'hello',\n",
    "    'c': True\n",
    "}\n",
    "\n",
    "print('dictionary: ', dictionary)\n",
    "print(\"dictionary['a']: \", dictionary['a'])\n",
    "print(\"dictionary['a'][0]: \", dictionary['a'][0])"
   ]
  },
  {
   "cell_type": "markdown",
   "id": "6faf2331",
   "metadata": {},
   "source": [
    "### 7.2 Dictionary Comprehension"
   ]
  },
  {
   "cell_type": "code",
   "execution_count": 51,
   "id": "b6148b57",
   "metadata": {},
   "outputs": [
    {
     "name": "stdout",
     "output_type": "stream",
     "text": [
      "simple_dict:  {'a': 1, 'b': 2, 'c': 3, 'd': 4, 'e': 5, 'f': 6}\n"
     ]
    }
   ],
   "source": [
    "#dictionary comprehension\n",
    "\n",
    "simple_dict = {\n",
    "    'a': 1,\n",
    "    'b': 2,\n",
    "    'c': 3,\n",
    "    'd': 4,\n",
    "    'e': 5,\n",
    "    'f': 6\n",
    "}\n",
    "\n",
    "print('simple_dict: ', simple_dict)"
   ]
  },
  {
   "cell_type": "code",
   "execution_count": 53,
   "id": "c2aa729f",
   "metadata": {},
   "outputs": [
    {
     "name": "stdout",
     "output_type": "stream",
     "text": [
      "{'b': 4, 'd': 16, 'f': 36}\n"
     ]
    }
   ],
   "source": [
    "# Square the even values\n",
    "my_dict = {key:value**2 for key,value in \n",
    "           simple_dict.items() if value % 2 == 0}\n",
    "print(my_dict)"
   ]
  },
  {
   "cell_type": "code",
   "execution_count": 55,
   "id": "e76dfa69",
   "metadata": {},
   "outputs": [
    {
     "name": "stdout",
     "output_type": "stream",
     "text": [
      "{1: 1, 2: 4, 3: 9, 4: 16, 5: 25, 6: 36}\n"
     ]
    }
   ],
   "source": [
    "# Square all values\n",
    "my_dict2 = {num:num**2 for num in [1,2,3,4,5,6]}\n",
    "print(my_dict2)"
   ]
  },
  {
   "cell_type": "markdown",
   "id": "367b4a61",
   "metadata": {},
   "source": [
    "### 7.3 A Dictionary with a tuple as key and a list as value"
   ]
  },
  {
   "cell_type": "code",
   "execution_count": 56,
   "id": "290d455b",
   "metadata": {},
   "outputs": [
    {
     "name": "stdout",
     "output_type": "stream",
     "text": [
      "user keys:  dict_keys([(1, 2)])\n",
      "user items:  dict_items([((1, 2), [1, 2, 3])])\n",
      "user[(1,2)]:  [1, 2, 3]\n"
     ]
    }
   ],
   "source": [
    "user = {\n",
    "    (1,2): [1,2,3],\n",
    "        }\n",
    "\n",
    "print('user keys: ',user.keys())\n",
    "print('user items: ', user.items())\n",
    "print('user[(1,2)]: ', user[(1,2)])"
   ]
  },
  {
   "cell_type": "markdown",
   "id": "6d0ae6eb",
   "metadata": {},
   "source": [
    "### 7.4 A List with dictionary as element"
   ]
  },
  {
   "cell_type": "code",
   "execution_count": 61,
   "id": "7de78e64",
   "metadata": {},
   "outputs": [
    {
     "name": "stdout",
     "output_type": "stream",
     "text": [
      "my_list:  [{'a': [1, 2, 3], 'b': 'hello', 'c': True}, {'x': [5, 6, 7], 'y': 'bye', 'z': False}]\n",
      "\n",
      "my_list[0]:  {'a': [1, 2, 3], 'b': 'hello', 'c': True}\n",
      "my_list[0]['a']:  [1, 2, 3]\n",
      "my_list[0]['a'][2]:  3\n",
      "my_list[0]['b']:  hello\n",
      "my_list[0]['c']:  True\n"
     ]
    }
   ],
   "source": [
    "# my_list = [{'a': [1,2,3], 'b': 'hello', 'c': True}, {'x': [5,6,7], 'y': 'bye', 'z': False }]\n",
    "my_list = [\n",
    "    {\n",
    "     'a': [1,2,3],\n",
    "     'b': 'hello',\n",
    "     'c': True\n",
    "    },\n",
    "    {\n",
    "     'x': [5,6,7],\n",
    "     'y': 'bye',\n",
    "     'z': False\n",
    "    }    \n",
    "]\n",
    "\n",
    "#my_list = [{'a': [1,2,3], 'b': 'hello', 'c': True}, {'x': [5,6,7], 'y': 'bye', 'z': False }]\n",
    "\n",
    "print('my_list: ', my_list)\n",
    "print('')\n",
    "print('my_list[0]: ', my_list[0])\n",
    "print(\"my_list[0]['a']: \", my_list[0]['a'])\n",
    "print(\"my_list[0]['a'][2]: \", my_list[0]['a'][2])\n",
    "print(\"my_list[0]['b']: \", my_list[0]['b'])\n",
    "print(\"my_list[0]['c']: \", my_list[0]['c'])"
   ]
  },
  {
   "cell_type": "code",
   "execution_count": 62,
   "id": "1b124bb8",
   "metadata": {},
   "outputs": [
    {
     "name": "stdout",
     "output_type": "stream",
     "text": [
      "\n",
      "my_list:  [{'a': [1, 2, 3], 'b': 'hello', 'c': True}, {'x': [5, 6, 7], 'y': 'bye', 'z': False}]\n",
      "\n",
      "my_list[1]:  {'x': [5, 6, 7], 'y': 'bye', 'z': False}\n",
      "my_list[1]['x']:  [5, 6, 7]\n",
      "my_list[1]['x'][0]:  5\n",
      "my_list[1]['y']:  bye\n",
      "my_list[1]['z']:  False\n"
     ]
    }
   ],
   "source": [
    "print('')\n",
    "print('my_list: ', my_list)\n",
    "print('')\n",
    "print('my_list[1]: ', my_list[1])\n",
    "print(\"my_list[1]['x']: \", my_list[1]['x'])\n",
    "print(\"my_list[1]['x'][0]: \", my_list[1]['x'][0])\n",
    "print(\"my_list[1]['y']: \", my_list[1]['y'])\n",
    "print(\"my_list[1]['z']: \", my_list[1]['z'])\n"
   ]
  },
  {
   "cell_type": "markdown",
   "id": "ec326185",
   "metadata": {},
   "source": [
    "## 8. Set"
   ]
  },
  {
   "cell_type": "markdown",
   "id": "265404e4",
   "metadata": {},
   "source": [
    "### 8.1 Set Definition and examples"
   ]
  },
  {
   "cell_type": "code",
   "execution_count": 222,
   "id": "54364b08",
   "metadata": {},
   "outputs": [
    {
     "name": "stdout",
     "output_type": "stream",
     "text": [
      "my_set:  {1, 2, 3, 4, 5, 7, 8}\n"
     ]
    }
   ],
   "source": [
    "# A set is a collection of objects. It is a collection of concrete or abstract things\n",
    "my_set = {5, 2, 1, 7, 3, 4, 5, 8}\n",
    "print('my_set: ', my_set)"
   ]
  },
  {
   "cell_type": "code",
   "execution_count": 90,
   "id": "ea6c243e",
   "metadata": {},
   "outputs": [
    {
     "name": "stdout",
     "output_type": "stream",
     "text": [
      "my_set:  {1, 2, 3, 4, 5, 6, 7, 8}\n"
     ]
    }
   ],
   "source": [
    "# add 6 to the set my_set\n",
    "my_set.add(6)\n",
    "print('my_set: ', my_set)"
   ]
  },
  {
   "cell_type": "code",
   "execution_count": 95,
   "id": "4368567a",
   "metadata": {},
   "outputs": [
    {
     "name": "stdout",
     "output_type": "stream",
     "text": [
      "my_list_with_duplicates:  [1, 2, 3, 4, 5, 5]\n",
      "my_list_without_duplicates:  {1, 2, 3, 4, 5}\n"
     ]
    }
   ],
   "source": [
    "my_list_with_duplicates = [1,2,3,4,5,5]\n",
    "print('my_list_with_duplicates: ', my_list_with_duplicates)\n",
    "\n",
    "# removing duplicate values\n",
    "my_list_without_duplicates = set(my_list_with_duplicates)\n",
    "print('my_list_without_duplicates: ', my_list_without_duplicates)"
   ]
  },
  {
   "cell_type": "code",
   "execution_count": 97,
   "id": "ec69d59a",
   "metadata": {},
   "outputs": [
    {
     "name": "stdout",
     "output_type": "stream",
     "text": [
      "my_set:  {50, 20, 40, 10, 30}\n",
      "my_list:  [50, 20, 40, 10, 30]\n"
     ]
    }
   ],
   "source": [
    "# converting set into list\n",
    "my_set = {10,20,30,40,50}\n",
    "my_list = list(my_set)\n",
    "print('my_set: ', my_set)\n",
    "print('my_list: ', my_list)"
   ]
  },
  {
   "cell_type": "code",
   "execution_count": 64,
   "id": "93a423aa",
   "metadata": {},
   "outputs": [
    {
     "name": "stdout",
     "output_type": "stream",
     "text": [
      "set_A:  {1, 2, 3}\n"
     ]
    }
   ],
   "source": [
    "# Even if we make set_B = set_A, both set_A and set_B\n",
    "# have different memory address\n",
    "set_A = {1,2,3}\n",
    "print('set_A: ', set_A)"
   ]
  },
  {
   "cell_type": "code",
   "execution_count": 66,
   "id": "ccc1db5e",
   "metadata": {},
   "outputs": [
    {
     "name": "stdout",
     "output_type": "stream",
     "text": [
      "set_B = set_A\n",
      "set_B:  {1, 2, 3}\n"
     ]
    }
   ],
   "source": [
    "set_B = set_A\n",
    "print('set_B = set_A')\n",
    "print('set_B: ', set_B)"
   ]
  },
  {
   "cell_type": "code",
   "execution_count": 67,
   "id": "e7c7f310",
   "metadata": {},
   "outputs": [
    {
     "name": "stdout",
     "output_type": "stream",
     "text": [
      "set_B = {6,7,8}\n",
      "set_B:  {8, 6, 7}\n",
      "set_A after changing set_B:  {1, 2, 3}\n"
     ]
    }
   ],
   "source": [
    "set_B = {6,7,8}\n",
    "print('set_B = {6,7,8}')\n",
    "print('set_B: ', set_B)\n",
    "print('set_A after changing set_B: ', set_A)"
   ]
  },
  {
   "cell_type": "markdown",
   "id": "dfce97b4",
   "metadata": {},
   "source": [
    "### 8.2 Set Comprehension"
   ]
  },
  {
   "cell_type": "code",
   "execution_count": 224,
   "id": "4a289f93",
   "metadata": {},
   "outputs": [
    {
     "name": "stdout",
     "output_type": "stream",
     "text": [
      "my_set1:  {'l', 'e', 'h', 'o'}\n",
      "my_set2:  {0, 1, 2, 3, 4, 5, 6, 7, 8, 9}\n",
      "my_set3:  {0, 1, 64, 4, 36, 9, 16, 49, 81, 25}\n",
      "my_set4:  {0, 64, 4, 36, 16}\n"
     ]
    }
   ],
   "source": [
    "# set comprehension\n",
    "\n",
    "my_set1 = {char for char in 'hello'}\n",
    "print('my_set1: ', my_set1)\n",
    "\n",
    "my_set2 = {num for num in range(0,10)}\n",
    "print('my_set2: ', my_set2)\n",
    "\n",
    "my_set3 = {num**2 for num in range(0,10)}\n",
    "print('my_set3: ', my_set3)\n",
    "\n",
    "my_set4 = {num**2 for num in range(0,10) if num % 2 == 0}\n",
    "print('my_set4: ', my_set4)"
   ]
  },
  {
   "cell_type": "markdown",
   "id": "97a68ed6",
   "metadata": {},
   "source": [
    "### 8.3 Operations on Sets"
   ]
  },
  {
   "cell_type": "code",
   "execution_count": 71,
   "id": "ade04f04",
   "metadata": {},
   "outputs": [
    {
     "name": "stdout",
     "output_type": "stream",
     "text": [
      "set_A:  {1, 2, 3, 4, 5}\n",
      "set_B:  {3, 4, 5, 6, 7, 8, 9, 10}\n"
     ]
    }
   ],
   "source": [
    "set_B = {3,4,5,6,7,8,9,10}\n",
    "set_A = {1,2,3,4,5}\n",
    "print('set_A: ', set_A)\n",
    "print('set_B: ', set_B)"
   ]
  },
  {
   "cell_type": "markdown",
   "id": "7408a489",
   "metadata": {},
   "source": [
    "#### 8.3.1 Difference "
   ]
  },
  {
   "cell_type": "code",
   "execution_count": 73,
   "id": "1ed4e391",
   "metadata": {},
   "outputs": [
    {
     "name": "stdout",
     "output_type": "stream",
     "text": [
      "before set_A difference set_B: \n",
      "* set_A:  {1, 2, 3, 4, 5}\n",
      "* set_B:  {3, 4, 5, 6, 7, 8, 9, 10}\n",
      "\n"
     ]
    }
   ],
   "source": [
    "print('before set_A difference set_B: ')\n",
    "print('* set_A: ', set_A)\n",
    "print('* set_B: ', set_B)\n",
    "print('')"
   ]
  },
  {
   "cell_type": "code",
   "execution_count": 82,
   "id": "259f53ef",
   "metadata": {},
   "outputs": [
    {
     "name": "stdout",
     "output_type": "stream",
     "text": [
      "setX:  {1, 2, 3, 4}\n",
      "setY:  {3, 4, 5, 6}\n",
      "setX - setY:  {1, 2}\n",
      "setX:  {1, 2, 3, 4}\n",
      "setY:  {3, 4, 5, 6}\n"
     ]
    }
   ],
   "source": [
    "# difference: setX - setY, remove from setX all elements that are in setY, but does not update setX\n",
    "setX = {1,2,3,4}\n",
    "setY = {3,4,5,6}\n",
    "print('setX: ', setX)\n",
    "print('setY: ', setY)\n",
    "print('setX - setY: ', setX - setY)\n",
    "print('setX: ', setX)\n",
    "print('setY: ', setY)"
   ]
  },
  {
   "cell_type": "code",
   "execution_count": 83,
   "id": "fa26f6e5",
   "metadata": {},
   "outputs": [
    {
     "name": "stdout",
     "output_type": "stream",
     "text": [
      "setX:  {1, 2, 3, 4}\n",
      "setY:  {3, 4, 5, 6}\n",
      "setY - setX:  {5, 6}\n",
      "setX:  {1, 2, 3, 4}\n",
      "setY:  {3, 4, 5, 6}\n"
     ]
    }
   ],
   "source": [
    "# difference: setY - setX, remove from setY all elements that are in setX, but does not update setY\n",
    "setX = {1,2,3,4}\n",
    "setY = {3,4,5,6}\n",
    "print('setX: ', setX)\n",
    "print('setY: ', setY)\n",
    "print('setY - setX: ', setY - setX)\n",
    "print('setX: ', setX)\n",
    "print('setY: ', setY)"
   ]
  },
  {
   "cell_type": "code",
   "execution_count": 86,
   "id": "1096e5c7",
   "metadata": {},
   "outputs": [
    {
     "name": "stdout",
     "output_type": "stream",
     "text": [
      "setX:  {1, 2, 3, 4}\n",
      "setY:  {3, 4, 5, 6}\n",
      "setX.difference(setY):  {1, 2}\n",
      "setX:  {1, 2, 3, 4}\n",
      "setY:  {3, 4, 5, 6}\n"
     ]
    }
   ],
   "source": [
    "# difference: setX.difference(setY), remove from setX all elements that are in setY, but does not update setX\n",
    "setX = {1,2,3,4} \n",
    "setY = {3,4,5,6}\n",
    "print('setX: ', setX)\n",
    "print('setY: ', setY)\n",
    "print('setX.difference(setY): ', setX.difference(setY))\n",
    "print('setX: ', setX)\n",
    "print('setY: ', setY)"
   ]
  },
  {
   "cell_type": "code",
   "execution_count": null,
   "id": "618621ea",
   "metadata": {},
   "outputs": [],
   "source": [
    "# difference: setY.difference(setX), remove from setY all elements that are in setX, but does not update setY\n",
    "setX = {1,2,3,4} \n",
    "setY = {3,4,5,6}\n",
    "print('setX: ', setX)\n",
    "print('setY: ', setY)\n",
    "print('setX.difference(setY): ', setX.difference(setY))\n",
    "print('setY.difference(setX): ', setY.difference(setX))\n",
    "print('setX: ', setX)\n",
    "print('setY: ', setY)"
   ]
  },
  {
   "cell_type": "code",
   "execution_count": 94,
   "id": "34fddf98",
   "metadata": {},
   "outputs": [
    {
     "name": "stdout",
     "output_type": "stream",
     "text": [
      "** Before difference operation:\n",
      "set_A:  {1, 2, 3, 4, 5}\n",
      "set_B:  {3, 4, 5, 6, 7, 8, 9, 10}\n",
      "set_A.difference(set_B)):  {1, 2}\n",
      "set_A - set_B:  {1, 2}\n",
      "\n",
      "after difference operation: \n",
      "set_A  {1, 2, 3, 4, 5}\n",
      "set_B  {3, 4, 5, 6, 7, 8, 9, 10}\n"
     ]
    }
   ],
   "source": [
    "# difference: A - B, remove from set_A all elements that are in set_B, but does not update set_A\n",
    "print('** Before difference operation:')\n",
    "print('set_A: ', set_A)\n",
    "print('set_B: ', set_B)\n",
    "print('set_A.difference(set_B)): ', set_A.difference(set_B))\n",
    "print('set_A - set_B: ', set_A - set_B)\n",
    "print('')\n",
    "print('after difference operation: ')\n",
    "print('set_A ', set_A)\n",
    "print('set_B ', set_B)"
   ]
  },
  {
   "cell_type": "code",
   "execution_count": 95,
   "id": "2197d30b",
   "metadata": {},
   "outputs": [
    {
     "name": "stdout",
     "output_type": "stream",
     "text": [
      "** Before difference operation:\n",
      "set_A:  {1, 2, 3, 4, 5}\n",
      "set_B:  {3, 4, 5, 6, 7, 8, 9, 10}\n",
      "set_B.difference(set_A)):  {6, 7, 8, 9, 10}\n",
      "set_B - set_A:  {6, 7, 8, 9, 10}\n",
      "\n",
      "after difference operation: \n",
      "set_A  {1, 2, 3, 4, 5}\n",
      "set_B  {3, 4, 5, 6, 7, 8, 9, 10}\n"
     ]
    }
   ],
   "source": [
    "# difference: B - A, remove from set_B all elements that are in set_A, but does not update set_B\n",
    "print('** Before difference operation:')\n",
    "print('set_A: ', set_A)\n",
    "print('set_B: ', set_B)\n",
    "print('set_B.difference(set_A)): ', set_B.difference(set_A))\n",
    "print('set_B - set_A: ', set_B - set_A)\n",
    "print('')\n",
    "print('after difference operation: ')\n",
    "print('set_A ', set_A)\n",
    "print('set_B ', set_B)"
   ]
  },
  {
   "cell_type": "markdown",
   "id": "d2922bf8",
   "metadata": {},
   "source": [
    "#### 8.3.2 Difference_update"
   ]
  },
  {
   "cell_type": "code",
   "execution_count": 96,
   "id": "7f502534",
   "metadata": {},
   "outputs": [
    {
     "name": "stdout",
     "output_type": "stream",
     "text": [
      "before difference operation:\n",
      "* set_A:  {1, 2, 3, 4, 5}\n",
      "* set_B:  {3, 4, 5, 6, 7, 8, 9, 10}\n",
      "after difference operation:\n",
      "* set_A:  {1, 2}\n",
      "* set_B:  {3, 4, 5, 6, 7, 8, 9, 10}\n"
     ]
    }
   ],
   "source": [
    "# set_A.difference_update(set_B): remove from A all elements that are in B, and update set_A\n",
    "\n",
    "set_A = {1,2,3,4,5}\n",
    "set_B = {3,4,5,6,7,8,9,10}\n",
    "print('before difference operation:')\n",
    "print('* set_A: ', set_A)\n",
    "print('* set_B: ', set_B)\n",
    "\n",
    "set_A.difference_update(set_B)\n",
    "\n",
    "print('after difference operation:')\n",
    "print('* set_A: ', set_A)\n",
    "print('* set_B: ', set_B)"
   ]
  },
  {
   "cell_type": "code",
   "execution_count": 97,
   "id": "03ebd0c3",
   "metadata": {
    "scrolled": true
   },
   "outputs": [
    {
     "name": "stdout",
     "output_type": "stream",
     "text": [
      "before difference operation:\n",
      "* set_A:  {1, 2, 3, 4, 5}\n",
      "* set_B:  {3, 4, 5, 6, 7, 8, 9, 10}\n",
      "after difference operation:\n",
      "* set_A:  {1, 2, 3, 4, 5}\n",
      "* set_B:  {6, 7, 8, 9, 10}\n"
     ]
    }
   ],
   "source": [
    "# set_B.difference_update(set_A): remove from B all elements that are in A, and update set_B\n",
    "\n",
    "set_A = {1,2,3,4,5}\n",
    "set_B = {3,4,5,6,7,8,9,10}\n",
    "print('before difference operation:')\n",
    "print('* set_A: ', set_A)\n",
    "print('* set_B: ', set_B)\n",
    "\n",
    "set_B.difference_update(set_A) \n",
    "\n",
    "print('after difference operation:')\n",
    "print('* set_A: ', set_A)\n",
    "print('* set_B: ', set_B)"
   ]
  },
  {
   "cell_type": "markdown",
   "id": "8ae60e70",
   "metadata": {},
   "source": [
    "#### 8.3.3 Intersection"
   ]
  },
  {
   "cell_type": "code",
   "execution_count": 145,
   "id": "42c8bdfd",
   "metadata": {},
   "outputs": [
    {
     "name": "stdout",
     "output_type": "stream",
     "text": [
      "set_A intersection set_B:  {3, 4, 5}\n",
      "set_A & set_B:  {3, 4, 5}\n"
     ]
    }
   ],
   "source": [
    "# intersection: new set with common elements between A and B\n",
    "set_A = {1,2,3,4,5}\n",
    "set_B = {3,4,5,6,7,8,9,10}\n",
    "\n",
    "print('set_A intersection set_B: ', set_A.intersection(set_B))\n",
    "print('set_A & set_B: ', set_A & set_B)"
   ]
  },
  {
   "cell_type": "markdown",
   "id": "e1cad0dc",
   "metadata": {},
   "source": [
    "#### 8.3.4 Remove"
   ]
  },
  {
   "cell_type": "code",
   "execution_count": 147,
   "id": "5595a58a",
   "metadata": {},
   "outputs": [
    {
     "name": "stdout",
     "output_type": "stream",
     "text": [
      "set_M:  {8, 9}\n"
     ]
    }
   ],
   "source": [
    "# remove: remove an element from a set\n",
    "set_M = {7,8,9}\n",
    "set_M.remove(7)\n",
    "print('set_M: ',set_M)"
   ]
  },
  {
   "cell_type": "markdown",
   "id": "8fe451fa",
   "metadata": {},
   "source": [
    "#### 8.3.5 Isdisjoint"
   ]
  },
  {
   "cell_type": "code",
   "execution_count": 186,
   "id": "77a214c5",
   "metadata": {},
   "outputs": [
    {
     "name": "stdout",
     "output_type": "stream",
     "text": [
      "set_A:  {1, 2, 3, 4, 5}\n",
      "set_C:  {1, 2, 3}\n",
      "set_C isdisjoint set_A:  False\n",
      "\n",
      "set_A:  {1, 2, 3, 4, 5}\n",
      "set_C:  {21, 22, 23, 24, 25}\n",
      "set_C isdisjoint set_A:  True\n"
     ]
    }
   ],
   "source": [
    "# isdisjoint() function check whether the two sets are disjoint or not. \n",
    "# Two sets are said to be disjoint when they have no element in common\n",
    "\n",
    "# set_C.isdisjoint(set_A)\n",
    "# - True: set_C and set_A does not have elements in common\n",
    "# - False set_C and set_A have elements in common\n",
    "set_A = {1,2,3,4,5}\n",
    "set_C = {1,2,3}\n",
    "print('set_A: ', set_A)\n",
    "print('set_C: ', set_C)\n",
    "print('set_C isdisjoint set_A: ', set_C.isdisjoint(set_A))\n",
    "\n",
    "print('')\n",
    "set_A = {1,2,3,4,5}\n",
    "set_C = {21, 22, 23, 24, 25}\n",
    "print('set_A: ', set_A)\n",
    "print('set_C: ', set_C)\n",
    "print('set_C isdisjoint set_A: ', set_C.isdisjoint(set_A))"
   ]
  },
  {
   "cell_type": "markdown",
   "id": "3d0ed352",
   "metadata": {},
   "source": [
    "#### 8.3.6 Union"
   ]
  },
  {
   "cell_type": "code",
   "execution_count": 188,
   "id": "224cc14d",
   "metadata": {},
   "outputs": [
    {
     "name": "stdout",
     "output_type": "stream",
     "text": [
      "set_A:  {1, 2, 3, 4, 5}\n",
      "set_B:  {1, 2, 3, 4, 5}\n",
      "set_A union set_B:  {1, 2, 3, 4, 5}\n",
      "set_A | set_B:  {1, 2, 3, 4, 5}\n"
     ]
    }
   ],
   "source": [
    "# union\n",
    "# new set with all elements that are in A and/or are in B\n",
    "print('set_A: ', set_A)\n",
    "print('set_B: ', set_B)\n",
    "print('set_A union set_B: ', set_A.union(set_B))\n",
    "print('set_A | set_B: ', set_A | set_B)"
   ]
  },
  {
   "cell_type": "markdown",
   "id": "6bb297f8",
   "metadata": {},
   "source": [
    "#### 8.3.7 Issubset"
   ]
  },
  {
   "cell_type": "code",
   "execution_count": 189,
   "id": "d06d284f",
   "metadata": {},
   "outputs": [
    {
     "name": "stdout",
     "output_type": "stream",
     "text": [
      "set_C:  {1, 2, 3, 4, 5, 9}\n",
      "set_A:  {1, 2, 3, 4, 5}\n",
      "set_C.issubset(set_A):  False\n",
      "\n",
      "set_C:  {4, 5}\n",
      "set_A:  {1, 2, 3, 4, 5}\n",
      "set_C.issubset(set_A):  True\n"
     ]
    }
   ],
   "source": [
    "# set_C.issubset(set_A):\n",
    "# - True: all elements of set_C belongs to set_A\n",
    "# - False: at least one element of set_C does not belong to set_A\n",
    "set_A = {1,2,3,4,5}\n",
    "set_C = {1,2,3,4,5,9}\n",
    "print('set_C: ', set_C)\n",
    "print('set_A: ', set_A)\n",
    "print('set_C.issubset(set_A): ', set_C.issubset(set_A))\n",
    "print('')\n",
    "set_A = {1,2,3,4,5}\n",
    "set_C = {4,5}\n",
    "print('set_C: ', set_C)\n",
    "print('set_A: ', set_A)\n",
    "print('set_C.issubset(set_A): ', set_C.issubset(set_A))"
   ]
  },
  {
   "cell_type": "markdown",
   "id": "326588e1",
   "metadata": {},
   "source": [
    "#### 8.3.8 Issuperset"
   ]
  },
  {
   "cell_type": "code",
   "execution_count": 190,
   "id": "69e31531",
   "metadata": {},
   "outputs": [
    {
     "name": "stdout",
     "output_type": "stream",
     "text": [
      "set_A:  {1, 2, 3, 4, 5}\n",
      "set_C:  {8, 1, 3}\n",
      "set_A.issuperset(set_C):  False\n",
      "\n",
      "set_A:  {1, 2, 3, 4, 5}\n",
      "set_C:  {2, 3, 5}\n",
      "set_A.issuperset(set_C):  True\n"
     ]
    }
   ],
   "source": [
    "# set_A.issuperset(set_C)):\n",
    "# - True: set_A contains all elements of set_C\n",
    "# - False: there is at least one element of set_C that there is not in set_A\n",
    "set_A = {1,2,3,4,5}\n",
    "set_C = {1, 3, 8}\n",
    "print('set_A: ', set_A)\n",
    "print('set_C: ', set_C)\n",
    "print('set_A.issuperset(set_C): ', set_A.issuperset(set_C))\n",
    "print('')\n",
    "set_A = {1,2,3,4,5}\n",
    "set_C = {5, 2, 3}\n",
    "print('set_A: ', set_A)\n",
    "print('set_C: ', set_C)\n",
    "print('set_A.issuperset(set_C): ', set_A.issuperset(set_C))"
   ]
  },
  {
   "cell_type": "markdown",
   "id": "86dc9064",
   "metadata": {},
   "source": [
    "#### 8.3.9 Clear"
   ]
  },
  {
   "cell_type": "code",
   "execution_count": 191,
   "id": "6236f993",
   "metadata": {},
   "outputs": [
    {
     "name": "stdout",
     "output_type": "stream",
     "text": [
      "set_A:  {1, 2, 3, 4, 5}\n",
      "set_A after set_A.clear():  None\n"
     ]
    }
   ],
   "source": [
    "# clear\n",
    "# remove all elements from a set\n",
    "set_A = {1,2,3,4,5}\n",
    "print('set_A: ', set_A)\n",
    "print('set_A after set_A.clear(): ', set_A.clear())"
   ]
  },
  {
   "cell_type": "markdown",
   "id": "dc42829d",
   "metadata": {},
   "source": [
    "#### 8.3.10 Copy"
   ]
  },
  {
   "cell_type": "code",
   "execution_count": 183,
   "id": "a46b82be",
   "metadata": {},
   "outputs": [
    {
     "name": "stdout",
     "output_type": "stream",
     "text": [
      "set_A:  {1, 2, 3, 4, 5}\n",
      "set_B:  {3, 4, 5, 6, 7, 8, 9, 10}\n",
      "set_A after set_A = set_B.copy():  {3, 4, 5, 6, 7, 8, 9, 10}\n"
     ]
    }
   ],
   "source": [
    "# set_A = set_B.copy(): set_A becomes a copy of set_B\n",
    "set_A = {1, 2, 3, 4, 5}\n",
    "set_B = {3,4,5,6,7,8,9,10}\n",
    "print('set_A: ', set_A)\n",
    "print('set_B: ', set_B)\n",
    "set_A = set_B.copy()\n",
    "print('set_A after set_A = set_B.copy(): ', set_A)"
   ]
  },
  {
   "cell_type": "code",
   "execution_count": 184,
   "id": "50fc0b8b",
   "metadata": {},
   "outputs": [
    {
     "name": "stdout",
     "output_type": "stream",
     "text": [
      "set_A:  {1, 2, 3, 4, 5}\n",
      "set_B:  {3, 4, 5, 6, 7, 8, 9, 10}\n",
      "set_B after set_B = set_A.copy():  {1, 2, 3, 4, 5}\n"
     ]
    }
   ],
   "source": [
    "# set_B = set_A.copy(): set_B becomes a copy of set_A\n",
    "set_A = {1, 2, 3, 4, 5}\n",
    "set_B = {3,4,5,6,7,8,9,10}\n",
    "print('set_A: ', set_A)\n",
    "print('set_B: ', set_B)\n",
    "set_B = set_A.copy()\n",
    "print('set_B after set_B = set_A.copy(): ', set_B)"
   ]
  },
  {
   "cell_type": "code",
   "execution_count": null,
   "id": "d0f852ca",
   "metadata": {},
   "outputs": [],
   "source": []
  }
 ],
 "metadata": {
  "kernelspec": {
   "display_name": "Python 3 (ipykernel)",
   "language": "python",
   "name": "python3"
  },
  "language_info": {
   "codemirror_mode": {
    "name": "ipython",
    "version": 3
   },
   "file_extension": ".py",
   "mimetype": "text/x-python",
   "name": "python",
   "nbconvert_exporter": "python",
   "pygments_lexer": "ipython3",
   "version": "3.10.9"
  }
 },
 "nbformat": 4,
 "nbformat_minor": 5
}
