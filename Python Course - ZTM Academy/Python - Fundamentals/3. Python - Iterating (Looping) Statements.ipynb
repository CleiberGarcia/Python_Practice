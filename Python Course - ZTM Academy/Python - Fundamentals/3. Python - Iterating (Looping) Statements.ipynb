{
 "cells": [
  {
   "cell_type": "markdown",
   "id": "6ddf29c8",
   "metadata": {},
   "source": [
    "# Python - Iteration (Looping) Statements\n",
    "- Iteration Statements: for, while"
   ]
  },
  {
   "cell_type": "markdown",
   "id": "6eb2a8d2",
   "metadata": {},
   "source": [
    "Author: Cleiber Garcia\n",
    "Date: 17 of February, 2023\n",
    "\n",
    "The content of this notebook was developed by me (Cleiber Garcia) as part of my participation in the course \"Complete Python Developer in 2023: Zero to Mastery\", offered through Udemy (https://www.udemy.com/course/complete-python-developer-zero-to-mastery/), by Andrei Neagoie of Zero to Mastery (https://zerotomastery.io/).\n",
    "\n",
    "The content of this notebook is based on Andrei's online Course (Complete Python Developer in 2023: Zero to Mastery), therefore it has a high degree of similarity with Andrei's work, however I took the liberty to make some changes in the python code, in order to give my personal touch and to make the examples clearer.\n",
    "\n",
    "My intension in developing this notebook is threefold: 1) to show that I have acquired proficiency in Python iterating (looping) statements; 2) To show that I practicized the contents seen in the online class and 3) to help other students of the course Complete Python Developer in 2023: Zero to Mastery.\n",
    "\n",
    "Feel free to contact-me at cleiber.garcia@gmail.com"
   ]
  },
  {
   "cell_type": "markdown",
   "id": "855da84c",
   "metadata": {},
   "source": [
    "## 1. Iteration Statements"
   ]
  },
  {
   "cell_type": "markdown",
   "id": "b51f35f4",
   "metadata": {},
   "source": [
    "### 1.1 For loop"
   ]
  },
  {
   "cell_type": "code",
   "execution_count": 9,
   "id": "6f1eccc6",
   "metadata": {},
   "outputs": [
    {
     "name": "stdout",
     "output_type": "stream",
     "text": [
      "1 a\n",
      "1 b\n",
      "1 c\n",
      "2 a\n",
      "2 b\n",
      "2 c\n",
      "2 a\n",
      "2 b\n",
      "2 c\n",
      "3 a\n",
      "3 b\n",
      "3 c\n",
      "4 a\n",
      "4 b\n",
      "4 c\n"
     ]
    }
   ],
   "source": [
    "for item in (1,2,2,3,4):\n",
    "    for x in ['a', 'b', 'c']:\n",
    "        print(item, x)"
   ]
  },
  {
   "cell_type": "code",
   "execution_count": 4,
   "id": "c63f65f9",
   "metadata": {},
   "outputs": [
    {
     "name": "stdout",
     "output_type": "stream",
     "text": [
      "1\n",
      "2\n",
      "3\n"
     ]
    }
   ],
   "source": [
    "# Print the elements of my_list\n",
    "my_list = [1,2,3]\n",
    "for item in my_list:\n",
    "    print(item)"
   ]
  },
  {
   "cell_type": "code",
   "execution_count": 9,
   "id": "b3f66ffd",
   "metadata": {},
   "outputs": [
    {
     "data": {
      "text/plain": [
       "list"
      ]
     },
     "execution_count": 9,
     "metadata": {},
     "output_type": "execute_result"
    }
   ],
   "source": [
    "type(my_list)"
   ]
  },
  {
   "cell_type": "code",
   "execution_count": 11,
   "id": "30ff959b",
   "metadata": {},
   "outputs": [],
   "source": [
    "user = {\n",
    "        'name': 'Peter',\n",
    "        'age': 45,\n",
    "        'can_swim': False\n",
    "}"
   ]
  },
  {
   "cell_type": "code",
   "execution_count": 12,
   "id": "1267e025",
   "metadata": {},
   "outputs": [
    {
     "name": "stdout",
     "output_type": "stream",
     "text": [
      "('name', 'Peter')\n",
      "('age', 45)\n",
      "('can_swim', False)\n"
     ]
    }
   ],
   "source": [
    "for item in user.items():\n",
    "    print(item)"
   ]
  },
  {
   "cell_type": "code",
   "execution_count": 15,
   "id": "22a1f030",
   "metadata": {},
   "outputs": [
    {
     "name": "stdout",
     "output_type": "stream",
     "text": [
      "name Peter\n",
      "age 45\n",
      "can_swim False\n"
     ]
    }
   ],
   "source": [
    "for key, value in user.items():\n",
    "    print(key, value)"
   ]
  },
  {
   "cell_type": "code",
   "execution_count": 7,
   "id": "785b6f59",
   "metadata": {},
   "outputs": [
    {
     "name": "stdout",
     "output_type": "stream",
     "text": [
      "2\n",
      "4\n",
      "6\n"
     ]
    }
   ],
   "source": [
    "# Iterable\n",
    "def special_for(iterable):\n",
    "    iterator = iter(iterable)\n",
    "    while True:\n",
    "        try:\n",
    "            print(next(iterator)*2)\n",
    "        except StopIteration:\n",
    "            break\n",
    "\n",
    "special_for([1,2,3])"
   ]
  },
  {
   "cell_type": "code",
   "execution_count": 9,
   "id": "9a07b845",
   "metadata": {},
   "outputs": [
    {
     "name": "stdout",
     "output_type": "stream",
     "text": [
      "2\n",
      "4\n",
      "6\n"
     ]
    }
   ],
   "source": [
    "# Iterable\n",
    "def special_for(x):\n",
    "    y = iter(x)\n",
    "    while True:\n",
    "        try:\n",
    "            print(next(y)*2)\n",
    "        except StopIteration:\n",
    "            break\n",
    "\n",
    "special_for([1,2,3])"
   ]
  },
  {
   "cell_type": "code",
   "execution_count": 10,
   "id": "2916be45",
   "metadata": {},
   "outputs": [
    {
     "name": "stdout",
     "output_type": "stream",
     "text": [
      "[0, 1, 2, 3, 4, 5, 6, 7, 8, 9]\n",
      "[0, 1, 2, 3, 4, 5, 6, 7, 8, 9]\n",
      "[0, 1, 2, 3, 4, 5, 6, 7, 8, 9]\n",
      "[0, 1, 2, 3, 4, 5, 6, 7, 8, 9]\n",
      "[0, 1, 2, 3, 4, 5, 6, 7, 8, 9]\n"
     ]
    }
   ],
   "source": [
    "# Print 5 lists ranging from 0 to 9, each\n",
    "for _ in range(5):\n",
    "    print(list(range(10)))"
   ]
  },
  {
   "cell_type": "code",
   "execution_count": 2,
   "id": "96ffa33a",
   "metadata": {},
   "outputs": [
    {
     "name": "stdout",
     "output_type": "stream",
     "text": [
      "Input a number >= 0: 5\n",
      "Factorial of 5 is 120\n"
     ]
    }
   ],
   "source": [
    "# Asking for a non-negative integer number and calculating and printing its factorial\n",
    "n = int(input(\"Input a number >= 0: \"))\n",
    "if n < 0:\n",
    "    print(\"Number must be >= 0\")\n",
    "if n == 0:\n",
    "    fatorial = 1\n",
    "if n == 1:\n",
    "    fatorial = 1\n",
    "if n > 1:\n",
    "    fatorial = 1\n",
    "    for i in range(1,n+1):\n",
    "        fatorial = fatorial * i\n",
    "print(f\"Factorial of {n} is {fatorial}\")"
   ]
  },
  {
   "cell_type": "code",
   "execution_count": 8,
   "id": "3b3af9a0",
   "metadata": {},
   "outputs": [
    {
     "name": "stdout",
     "output_type": "stream",
     "text": [
      "The sum of the numbers between 1 and 10 is   55\n"
     ]
    }
   ],
   "source": [
    "# Calculating and printing the sum of the integer numbers between 1 and 10, inclusive\n",
    "sum = 0\n",
    "my_list = [1,2,3,4,5,6,7,8,9,10]\n",
    "\n",
    "for value in my_list:\n",
    "    sum += value\n",
    "\n",
    "print('The sum of the numbers between 1 and 10 is  ', sum)"
   ]
  },
  {
   "cell_type": "code",
   "execution_count": 9,
   "id": "08821159",
   "metadata": {},
   "outputs": [
    {
     "name": "stdout",
     "output_type": "stream",
     "text": [
      "   *   \n",
      "  ***  \n",
      " ***** \n",
      "*******\n",
      "   *   \n",
      "   *   \n"
     ]
    }
   ],
   "source": [
    "# Print an image of a pine tree\n",
    "picture = [\n",
    "    [0,0,0,1,0,0,0],\n",
    "    [0,0,1,1,1,0,0],\n",
    "    [0,1,1,1,1,1,0],\n",
    "    [1,1,1,1,1,1,1],\n",
    "    [0,0,0,1,0,0,0],\n",
    "    [0,0,0,1,0,0,0]\n",
    "]\n",
    "\n",
    "#for row in [0,1,2,3,4,5]:\n",
    "for row in range(6):\n",
    "    line = \"\"\n",
    "    #for col in [0,1,2,3,4,5,6]:\n",
    "    for col in range(7):\n",
    "        if (picture[row][col]) == 0:\n",
    "            line = line + ' '\n",
    "        elif (picture[row][col]) == 1:\n",
    "            line = line + '*'\n",
    "    print(line)\n",
    "    line = \"\""
   ]
  },
  {
   "cell_type": "code",
   "execution_count": 11,
   "id": "a8d7323a",
   "metadata": {},
   "outputs": [
    {
     "name": "stdout",
     "output_type": "stream",
     "text": [
      "0 H\n",
      "1 e\n",
      "2 l\n",
      "3 l\n",
      "4 o\n",
      "5 o\n",
      "6 o\n",
      "7 o\n",
      "\n"
     ]
    }
   ],
   "source": [
    "# Print the letters of the word 'Helloooo' and its corresponding index\n",
    "for i,char in enumerate('Helloooo'):\n",
    "    print(i, char)\n",
    "\n",
    "print('')"
   ]
  },
  {
   "cell_type": "code",
   "execution_count": 12,
   "id": "82a51e1c",
   "metadata": {},
   "outputs": [
    {
     "name": "stdout",
     "output_type": "stream",
     "text": [
      "0 1\n",
      "1 2\n",
      "2 3\n"
     ]
    }
   ],
   "source": [
    "# Print the tuple (1,2,3) and its corresponding index\n",
    "for i,number in enumerate((1,2,3)):\n",
    "    print(i,number)"
   ]
  },
  {
   "cell_type": "markdown",
   "id": "d6fc3466",
   "metadata": {},
   "source": [
    "### 1.2 While loop"
   ]
  },
  {
   "cell_type": "code",
   "execution_count": 1,
   "id": "82b1a58d",
   "metadata": {},
   "outputs": [
    {
     "name": "stdout",
     "output_type": "stream",
     "text": [
      "a\n",
      "b\n",
      "c\n"
     ]
    }
   ],
   "source": [
    "# Print the elements of my_tuple\n",
    "i = 0\n",
    "my_tuple = ('a', 'b', 'c')\n",
    "while i < len(my_tuple):\n",
    "    print(my_tuple[i])\n",
    "    i += 1"
   ]
  },
  {
   "cell_type": "code",
   "execution_count": 6,
   "id": "24dbdac2",
   "metadata": {},
   "outputs": [
    {
     "name": "stdout",
     "output_type": "stream",
     "text": [
      "[0, 1, 2, 3, 4, 5, 6, 7, 8, 9, 10, 11, 12, 13, 14, 15]\n"
     ]
    }
   ],
   "source": [
    "# Print the values between 0 and 15\n",
    "my_list = [] # initialize a list\n",
    "i = 0\n",
    "while i < 20:\n",
    "   my_list.append(i)\n",
    "   if i == 15:\n",
    "        break\n",
    "   i = i + 1\n",
    "    \n",
    "print(my_list)"
   ]
  },
  {
   "cell_type": "code",
   "execution_count": 7,
   "id": "19127719",
   "metadata": {},
   "outputs": [
    {
     "data": {
      "text/plain": [
       "tuple"
      ]
     },
     "execution_count": 7,
     "metadata": {},
     "output_type": "execute_result"
    }
   ],
   "source": [
    "type(my_tuple)"
   ]
  },
  {
   "cell_type": "code",
   "execution_count": 1,
   "id": "ee29ba3f",
   "metadata": {},
   "outputs": [
    {
     "name": "stdout",
     "output_type": "stream",
     "text": [
      "stopping at 15\n",
      "[0, 2, 4, 6, 8, 10, 12, 14]\n"
     ]
    }
   ],
   "source": [
    "# Print the even numbers less than 15\n",
    "# while tests if i < 30, but in the while-body, if i == 15, the loop is interrupted\n",
    "i = 0\n",
    "my_list = []\n",
    "while i < 30:\n",
    " \n",
    "    if i % 2 == 0:\n",
    "        my_list.append(i)\n",
    "        \n",
    "    i = i + 1\n",
    "    if i == 15:\n",
    "        print('stopping at 15')\n",
    "        break\n",
    "    else:\n",
    "        continue\n",
    "       \n",
    "print(my_list)"
   ]
  },
  {
   "cell_type": "code",
   "execution_count": 2,
   "id": "929468a6",
   "metadata": {},
   "outputs": [
    {
     "name": "stdout",
     "output_type": "stream",
     "text": [
      "Inform grade (or 99 to finish): 7\n",
      "** Error: Grade must be between 0.0 and 1.0\n",
      "Inform grade (or 99 to finish): -7\n",
      "** Error: Grade must be between 0.0 and 1.0\n",
      "Inform grade (or 99 to finish): 2.45\n",
      "** Error: Grade must be between 0.0 and 1.0\n",
      "Inform grade (or 99 to finish): 0.5\n",
      "For grade: 0.5, the classification is: F\n",
      "Inform grade (or 99 to finish): 99\n",
      "out of while loop\n"
     ]
    }
   ],
   "source": [
    "# Ast to inform a grade and determines a classification associated with the\n",
    "# grade informed\n",
    "grade = float(input(\"Inform grade (or 99 to finish): \"))\n",
    "while grade != 99:\n",
    "    \n",
    "    if not (0.0 <= grade <= 1.0):\n",
    "        print(\"** Error: Grade must be between 0.0 and 1.0\")     \n",
    "    else:   \n",
    "        if grade >= 0.9:\n",
    "            classif = 'A'\n",
    "        elif grade >= 0.8:\n",
    "            classif = 'B'\n",
    "        elif grade >= 0.7:\n",
    "            classif = 'C'\n",
    "        elif grade >= 0.6:\n",
    "            classif = 'D'\n",
    "        else: \n",
    "            classif = 'F'\n",
    "        print(f\"For grade: {grade}, the classification is: {classif}\")\n",
    "\n",
    "    grade = float(input(\"Inform grade (or 99 to finish): \"))\n",
    "\n",
    "print('out of while loop')"
   ]
  },
  {
   "cell_type": "code",
   "execution_count": 3,
   "id": "9479f2a6",
   "metadata": {
    "scrolled": true
   },
   "outputs": [
    {
     "name": "stdout",
     "output_type": "stream",
     "text": [
      "Inform a year: 2045\n",
      "2045 is not a leap year\n",
      "Entre um ano: 2024\n",
      "2024 is a leap year\n",
      "Entre um ano: 2022\n",
      "2022 is not a leap year\n",
      "Entre um ano: 2020\n",
      "2020 is a leap year\n",
      "Entre um ano: -5\n"
     ]
    }
   ],
   "source": [
    "# Ask to inform a year and verify if the value informed is a leap year\n",
    "year = int(input('Inform a year: '))\n",
    "while year > 0:  \n",
    "    if year % 4 == 0:\n",
    "        if year % 100 == 0:\n",
    "            if year % 400 == 0:\n",
    "              # print(f'{year} is a leap year')\n",
    "               print(year,'is a leap year')\n",
    "            else:\n",
    "              # print(f'{year} is not a leap year')\n",
    "               print(year,'is not a leap year')\n",
    "        else:\n",
    "           #print('f{year} is a leap year')\n",
    "            print(year,'is a leap year')\n",
    "    else:\n",
    "      # print('f{year} is not a leap year')\n",
    "        print(year,'is not a leap year')\n",
    "        \n",
    "    year = int(input('Entre um ano: '))\n"
   ]
  },
  {
   "cell_type": "code",
   "execution_count": 13,
   "id": "bd238593",
   "metadata": {},
   "outputs": [
    {
     "name": "stdout",
     "output_type": "stream",
     "text": [
      "1\n",
      "2\n",
      "3\n",
      "4\n",
      "***\n",
      "6\n",
      "7\n",
      "8\n",
      "9\n",
      "***\n",
      "11\n",
      "got stopped at 12\n"
     ]
    }
   ],
   "source": [
    "# Print the numbers between 0 and 15. If number is multiple of 5, print '***' instead\n",
    "i = 0\n",
    "while i <= 15:\n",
    "    i = i + 1\n",
    "    if i == 12:\n",
    "        print('got stopped at 12')\n",
    "        break\n",
    "    elif i % 5 == 0:\n",
    "        print('***')\n",
    "        continue # continue go to the top (to the loop)\n",
    "    print(i)"
   ]
  },
  {
   "cell_type": "code",
   "execution_count": 4,
   "id": "ecc43a4a",
   "metadata": {},
   "outputs": [
    {
     "name": "stdout",
     "output_type": "stream",
     "text": [
      "Inform a non-negative integer number: 193542\n",
      "The sum of the digits of the number 193542 is 24\n"
     ]
    }
   ],
   "source": [
    "# Ask a number and print the sum of its digits. For examplo, if the number informed is 145, then the sum of its \n",
    "# digits is 10\n",
    "number = int(input(\"Inform a non-negative integer number: \"))\n",
    "numberInput = number\n",
    "result = 0\n",
    "remainder = 999\n",
    "while remainder !=0:\n",
    "    remainder = number % 10\n",
    "    result = result + remainder\n",
    "    number = int(number/10)\n",
    "print(f\"The sum of the digits of the number {numberInput} is {result}\")"
   ]
  },
  {
   "cell_type": "code",
   "execution_count": 6,
   "id": "dee05f6a",
   "metadata": {},
   "outputs": [
    {
     "name": "stdout",
     "output_type": "stream",
     "text": [
      "   *   \n",
      "  ***  \n",
      " ***** \n",
      "*******\n",
      "   *   \n",
      "   *   \n"
     ]
    }
   ],
   "source": [
    "# Print a picture of a pine tree\n",
    "picture = [\n",
    "    [0,0,0,1,0,0,0],\n",
    "    [0,0,1,1,1,0,0],\n",
    "    [0,1,1,1,1,1,0],\n",
    "    [1,1,1,1,1,1,1],\n",
    "    [0,0,0,1,0,0,0],\n",
    "    [0,0,0,1,0,0,0]\n",
    "]\n",
    "\n",
    "qty_lin = 0\n",
    "line = \"\"\n",
    "while qty_lin < 6:\n",
    "    qty_col = 0\n",
    "    while qty_col < 7:\n",
    "        if (picture[qty_lin][qty_col]) == 0:\n",
    "            line = line + ' '\n",
    "        elif (picture[qty_lin][qty_col]) == 1:\n",
    "            line = line + '*'\n",
    "        qty_col = qty_col + 1\n",
    "    print(line)\n",
    "    #print(\"\")\n",
    "    line = \"\"\n",
    "    qty_lin = qty_lin + 1"
   ]
  },
  {
   "cell_type": "code",
   "execution_count": null,
   "id": "5c5ce4b3",
   "metadata": {},
   "outputs": [],
   "source": []
  }
 ],
 "metadata": {
  "kernelspec": {
   "display_name": "Python 3 (ipykernel)",
   "language": "python",
   "name": "python3"
  },
  "language_info": {
   "codemirror_mode": {
    "name": "ipython",
    "version": 3
   },
   "file_extension": ".py",
   "mimetype": "text/x-python",
   "name": "python",
   "nbconvert_exporter": "python",
   "pygments_lexer": "ipython3",
   "version": "3.10.9"
  }
 },
 "nbformat": 4,
 "nbformat_minor": 5
}
