{
 "cells": [
  {
   "cell_type": "markdown",
   "id": "6ddf29c8",
   "metadata": {},
   "source": [
    "# Python - Decision-Making Statements\n",
    "- Decision-making Statements: if/else, if/elif, ternary operator"
   ]
  },
  {
   "cell_type": "markdown",
   "id": "e53c8162",
   "metadata": {},
   "source": [
    "Author: Cleiber Garcia\n",
    "Date: 17 of February, 2023\n",
    "\n",
    "The content of this notebook was developed by me (Cleiber Garcia) as part of my participation in the course \"Complete Python Developer in 2023: Zero to Mastery\", offered through Udemy (https://www.udemy.com/course/complete-python-developer-zero-to-mastery/), by Andrei Neagoie of Zero to Mastery (https://zerotomastery.io/).\n",
    "\n",
    "The content of this notebook is based on Andrei's online Course (Complete Python Developer in 2023: Zero to Mastery), therefore it has a high degree of similarity with Andrei's work, however I took the liberty to make some changes in the python code, in order to give my personal touch and to make the examples clearer.\n",
    "\n",
    "My intension in developing this notebook is threefold: 1) to show that I have acquired proficiency in Python decision-making statements; 2) To show that I practicized the contents seen in the online class and 3) to help other students of the course Complete Python Developer in 2023: Zero to Mastery.\n",
    "\n",
    "Feel free to contact-me at cleiber.garcia@gmail.com"
   ]
  },
  {
   "cell_type": "markdown",
   "id": "bed13795",
   "metadata": {},
   "source": [
    "## 1. Decision-making Statements: if/else, if/elif, ternary operator"
   ]
  },
  {
   "cell_type": "markdown",
   "id": "2552631c",
   "metadata": {},
   "source": [
    "### 1.1 if/else, if/elif"
   ]
  },
  {
   "cell_type": "code",
   "execution_count": 2,
   "id": "f9b7be5c",
   "metadata": {},
   "outputs": [
    {
     "name": "stdout",
     "output_type": "stream",
     "text": [
      "Are you a magician? (yes or no): no\n"
     ]
    }
   ],
   "source": [
    "# Ask if he/she is a magician or not\n",
    "is_magician = input('Are you a magician? (yes or no): ')"
   ]
  },
  {
   "cell_type": "code",
   "execution_count": 3,
   "id": "191a4295",
   "metadata": {},
   "outputs": [
    {
     "name": "stdout",
     "output_type": "stream",
     "text": [
      "Is magigian? False\n"
     ]
    }
   ],
   "source": [
    "if is_magician.upper() == 'YES':\n",
    "    is_magician = True\n",
    "else:\n",
    "    is_magician = False\n",
    "    \n",
    "print(f'Is magigian? {is_magician}')"
   ]
  },
  {
   "cell_type": "code",
   "execution_count": 4,
   "id": "b20f2304",
   "metadata": {},
   "outputs": [
    {
     "name": "stdout",
     "output_type": "stream",
     "text": [
      "Are you an expert? (yes or no): yes\n"
     ]
    }
   ],
   "source": [
    "# Ask if he/she is a expert\n",
    "is_expert   = input('Are you an expert? (yes or no): ')"
   ]
  },
  {
   "cell_type": "code",
   "execution_count": 5,
   "id": "2c413a1a",
   "metadata": {},
   "outputs": [
    {
     "name": "stdout",
     "output_type": "stream",
     "text": [
      "Is expert? True\n"
     ]
    }
   ],
   "source": [
    "if is_expert.upper() == 'YES':\n",
    "    is_expert = True\n",
    "else:\n",
    "    is_expert = False\n",
    "\n",
    "print(f'Is expert? {is_expert}')"
   ]
  },
  {
   "cell_type": "code",
   "execution_count": 6,
   "id": "50639db7",
   "metadata": {},
   "outputs": [
    {
     "name": "stdout",
     "output_type": "stream",
     "text": [
      "Is magigian? False\n",
      "Is expert? True\n"
     ]
    }
   ],
   "source": [
    "print(f'Is magigian? {is_magician}')\n",
    "print(f'Is expert? {is_expert}')"
   ]
  },
  {
   "cell_type": "code",
   "execution_count": 7,
   "id": "52391841",
   "metadata": {},
   "outputs": [
    {
     "name": "stdout",
     "output_type": "stream",
     "text": [
      "You need magic power\n"
     ]
    }
   ],
   "source": [
    "if (is_magician and is_expert):\n",
    "    print('You are a master magician!')\n",
    "elif (is_magician and not is_expert):\n",
    "    print(\"at least you're getting there\")\n",
    "elif(not is_magician):\n",
    "    print('You need magic power')"
   ]
  },
  {
   "cell_type": "markdown",
   "id": "7d646c81",
   "metadata": {},
   "source": [
    "### 1.2 Ternary Operators"
   ]
  },
  {
   "cell_type": "code",
   "execution_count": 8,
   "id": "2f578863",
   "metadata": {},
   "outputs": [
    {
     "name": "stdout",
     "output_type": "stream",
     "text": [
      "message allowed\n"
     ]
    }
   ],
   "source": [
    "is_friend = True\n",
    "\n",
    "can_message = 'message allowed' if is_friend else \"message not allowed\"\n",
    "\n",
    "print(can_message)"
   ]
  },
  {
   "cell_type": "code",
   "execution_count": null,
   "id": "5c5ce4b3",
   "metadata": {},
   "outputs": [],
   "source": []
  }
 ],
 "metadata": {
  "kernelspec": {
   "display_name": "Python 3 (ipykernel)",
   "language": "python",
   "name": "python3"
  },
  "language_info": {
   "codemirror_mode": {
    "name": "ipython",
    "version": 3
   },
   "file_extension": ".py",
   "mimetype": "text/x-python",
   "name": "python",
   "nbconvert_exporter": "python",
   "pygments_lexer": "ipython3",
   "version": "3.10.9"
  }
 },
 "nbformat": 4,
 "nbformat_minor": 5
}
