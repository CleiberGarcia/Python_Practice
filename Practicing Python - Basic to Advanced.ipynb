{
 "cells": [
  {
   "cell_type": "markdown",
   "id": "4daa5a24",
   "metadata": {},
   "source": [
    "# Practicing Python - Basic to Advanced"
   ]
  },
  {
   "cell_type": "markdown",
   "id": "c6b074f3",
   "metadata": {},
   "source": [
    "* Author: Cleiber Garcia\n",
    "* Date: August, 2023\n",
    "    \n",
    "This notebook is part of the Udemy course I am attending at Udemy: 'Curso de Python 3 do básico ao avançado - com projetos reais' (Python 3 Course - From Basic to Advanced, with Real Projects) taught by Luiz Otavio Miranda. This course have 141 hours in total and more than 700 classes.\n",
    "\n",
    "The Python code, at a high level, I wrote line by line, trying to understand what was being done. The level of seamlessness with the notebook provided by the teacher in class is almost 100%, but I tried to adjust it here and there to give it my touch.\n",
    "\n",
    "For more information please contact me at cleiber.garcia@gmail.com"
   ]
  },
  {
   "cell_type": "markdown",
   "id": "645f1231",
   "metadata": {},
   "source": [
    "# Summary <a id='Summary'></a>"
   ]
  },
  {
   "cell_type": "markdown",
   "id": "e6c06778",
   "metadata": {},
   "source": [
    "## 1. Nível Bronze (Bronze: Basic)"
   ]
  },
  {
   "cell_type": "markdown",
   "id": "7f0b95fb",
   "metadata": {},
   "source": [
    "* [0. Atribuição](#Atribuicao)\n",
    "* [1. Comments and DocStrings](#CommentsAndDocStrings)\n",
    "* [2. Function print()](#FunctionPrint)\n",
    "* [3. Data Types](#DataTypes)\n",
    "* [4. Variáveis e Expressões](#VariaveisExpressoes)\n",
    "* [5. Operações Aritméticas](#OperacoesAritmeticas)\n",
    "* [6. Operação com strings](#OperacoesComStrings)\n",
    "* [7. Entrada de dados](#EntradaDeDados)\n",
    "* [8. Estrutura de decisão: if: / elif: / else:](#EstruturaIfElse)\n",
    "* [9. Operadores de Comparação (relacionais)](#OperadoresRelacionais)\n",
    "* [10. Operadores Lógicos (and, or, not)](#OperadoresLogicos)\n",
    "* [11. Operadores: `in` e `not in`](#OperadoresInNotIn)\n",
    "* [12. Formatação de Strings](#FormatacaoDeStrings)\n",
    "* [13. Fatiamento de strings (substring)](#FatiamentoDeStrings)\n",
    "* [14. Tratamento de exceção (try / except)](#TratamentoDeExcecao)\n",
    "* [15. Estrutura de Repetição `while`](#While)\n",
    "* [16. Estrutura de Repetição `for`](#For)\n",
    "* [17. Listas e Tuplas](#ListasETuplas)\n",
    "* [18. Dicionarios](#Dicionarios)\n",
    "* [19. Empacotamento e desempacotamento de dicionários](#EmpacotDesempacotDict)\n",
    "* [20. Sets](#Sets)"
   ]
  },
  {
   "cell_type": "markdown",
   "id": "447dc925",
   "metadata": {},
   "source": [
    "[Summary](#Summary)"
   ]
  },
  {
   "cell_type": "markdown",
   "id": "f62da01d",
   "metadata": {},
   "source": [
    "## 2. Nível Prata (Silver: Intermediary)"
   ]
  },
  {
   "cell_type": "markdown",
   "id": "0aad00af",
   "metadata": {},
   "source": [
    "\n",
    "* [1. Funções](#Funcoes)\n",
    "* [2. Funções Lambda](#FuncoesLambda)\n",
    "* [3. List Comprehension](#ListComprehension)\n",
    "* [4. Método isinstance()](#IsInstance)\n",
    "* [5. Truthy e Falsy](#TruthyFalsy)\n",
    "* [6. hasattr() e getattr()](#HasattrGetattr)\n",
    "* [7. Generators](#Generators)\n",
    "* [8. Módulos Python](#PythonModules)\n",
    "* [9. Adiando a execução de funções](#AdiaExecFuncoes)\n",
    "* [10. Locals e Globals](#LocalsEGlobals)\n",
    "* [11. Funções Decorators](#Decorators)\n",
    "* [12. Combinando listas: zip()](#Zip)\n",
    "* [13. Contador sem fim: count()](#Count)\n",
    "* [14. Combinations, permutations and product](#CombinatPermutProd)\n",
    "* [15. Group by](#GroupBy)\n",
    "* [16. map(), filter() e reduce()](#MapFilterReduce)\n",
    "* [16.1 map()](#map)\n",
    "* [16.2 filter()](#filter)\n",
    "* [16.3 reduce()](#reduce)\n",
    "* [17. Funções recursivas](#FuncoesRecursivas)\n",
    "* [18. Criando ambientes virtuais](#CriandoAmbientesVirtuais)\n",
    "* [19. Gerenciador de Contexto (Context Manager)](#ContextManager)\n",
    "* [20. Manipulação de arquivos no Python](#ManipArquivosPython)\n",
    "* [21. Positional arguments](#PositionalArguments)\n",
    "* [22. Raising of exceptions](#RaisingOfExceptions)"
   ]
  },
  {
   "cell_type": "markdown",
   "id": "b6b816ef",
   "metadata": {},
   "source": [
    "[Summary](#Summary)"
   ]
  },
  {
   "cell_type": "markdown",
   "id": "5ce4c33c",
   "metadata": {},
   "source": [
    "## 3. Nível Ouro (Gold: Advanced)"
   ]
  },
  {
   "cell_type": "markdown",
   "id": "4e652b43",
   "metadata": {},
   "source": [
    "* [1. Orientação a Objetos](#OrientacaoObjetos)\n",
    "* [2. Dataclasses](#DataClasses)"
   ]
  },
  {
   "cell_type": "markdown",
   "id": "c878ae0d",
   "metadata": {},
   "source": [
    "[Summary](#Summary)"
   ]
  },
  {
   "cell_type": "markdown",
   "id": "f4f6a739",
   "metadata": {},
   "source": [
    "## Exercícios de Consolidação (Consolidation Exercises)\n",
    "* [Exercício 1: entrada de dados com if/else](#Exercicio1)\n",
    "* [Exercício 2: teste se par ou ímpar](#Exercicio2)\n",
    "* [Exercício 3: jogo de adivinhação](#Exercicio3)\n",
    "* [Exercício 4: exibir conteúdo de uma lista](#Exercicio4)\n",
    "* [Exercício 5: lista de compras](#Exercicio5)\n",
    "* [Exercício 6: Calcular os dígitos verificadores do CPF](#Exercicio6)\n",
    "* [Exercício 7: Função para multiplicar números](#Exercicio7)\n",
    "* [Exercício 8: Aninhamento de Funções](#Exercicio8)\n",
    "* [Exercício 9: Perguntas e respostas](#Exercicio9)\n",
    "* [Exercício 10: Elimina registros duplicados](#Exercicio10)\n",
    "* [Exercício 11: Manipulando dicionários - aumento de preços de produtos](#ManipDicAumentaPreço)\n",
    "* [Exercício 12: Unir duas listas em uma só](#UnirListas)\n",
    "* [Exercício 13: Lista de tarefas (utilizando JSON)](#ListaTarefas)\n",
    "* [Exercício 14: Salvando a classe em JSON](#SalvandoClasseEmJSON)\n",
    "* [Exercício 15: Exercício 15: Building Classes](#BuildingClasses)"
   ]
  },
  {
   "cell_type": "markdown",
   "id": "c9a4bd04",
   "metadata": {},
   "source": [
    "[Summary](#Summary)"
   ]
  },
  {
   "cell_type": "markdown",
   "id": "6b9c7c96",
   "metadata": {},
   "source": [
    "### 0. Interpretador Python (Python Interpreter)"
   ]
  },
  {
   "cell_type": "markdown",
   "id": "abd54b27",
   "metadata": {},
   "source": [
    "* python mod.py (executa o mod): python my_script.py\n",
    "* python -u (unbuffered)\n",
    "* python -m mod (lib mod como script): python -m venv my_virtual_env\n",
    "* python -c 'cmd' (comando) python -c 'print(123);print(456)'\n",
    "* python -i mod.py (interativo com mod)"
   ]
  },
  {
   "cell_type": "markdown",
   "id": "e7776402",
   "metadata": {},
   "source": [
    "### 0. Atribuição (=) (Assignment) <a id='Atribuicao'></a>"
   ]
  },
  {
   "cell_type": "code",
   "execution_count": 238,
   "id": "a6f45366",
   "metadata": {},
   "outputs": [
    {
     "name": "stdout",
     "output_type": "stream",
     "text": [
      "123\n"
     ]
    }
   ],
   "source": [
    "# Atribui 123 à variável valor\n",
    "valor = 123\n",
    "print(valor)"
   ]
  },
  {
   "cell_type": "code",
   "execution_count": 240,
   "id": "b820d953",
   "metadata": {},
   "outputs": [
    {
     "name": "stdout",
     "output_type": "stream",
     "text": [
      "Luiz\n",
      "['Paulo', 'Kátia']\n"
     ]
    }
   ],
   "source": [
    "\"\"\"\n",
    "Introdução ao empacotamento e desempacotamento\n",
    "\"\"\"\n",
    "_, _, nome, *resto = ['Maria', 'Helena', 'Luiz', 'Paulo', 'Kátia']\n",
    "print(nome)\n",
    "print(resto)"
   ]
  },
  {
   "cell_type": "markdown",
   "id": "d5e446f2",
   "metadata": {},
   "source": [
    "[Summary](#Summary)"
   ]
  },
  {
   "cell_type": "markdown",
   "id": "4421f614",
   "metadata": {},
   "source": [
    "### 1. Comments and DocStrings <a id='CommentsAndDocStrings'></a>"
   ]
  },
  {
   "cell_type": "code",
   "execution_count": 23,
   "id": "0bf950e3",
   "metadata": {},
   "outputs": [
    {
     "name": "stdout",
     "output_type": "stream",
     "text": [
      "123\n",
      "456\n"
     ]
    }
   ],
   "source": [
    "\"\"\"\n",
    "DocString\n",
    "E escrever o que eu\n",
    "quiser\n",
    "\n",
    "\n",
    "asdfasdfd\n",
    "\"\"\"\n",
    "\n",
    "''' Usar para escrever suas notas '''\n",
    "\n",
    "# Permite escrever um comentário\n",
    "print(123)  # Na frente\n",
    "# Abaixo\n",
    "print(456)"
   ]
  },
  {
   "cell_type": "markdown",
   "id": "b5fff2f5",
   "metadata": {},
   "source": [
    "[Summary](#Summary)"
   ]
  },
  {
   "cell_type": "markdown",
   "id": "a26f0d55",
   "metadata": {},
   "source": [
    "### 2. Function print() <a id='FunctionPrint'></a>"
   ]
  },
  {
   "cell_type": "code",
   "execution_count": 24,
   "id": "f3762dc9",
   "metadata": {},
   "outputs": [
    {
     "name": "stdout",
     "output_type": "stream",
     "text": [
      "12341011#56-78\n",
      "9-10\n"
     ]
    }
   ],
   "source": [
    "# \\r\\n -> CRLF\n",
    "# \\n -> LF\n",
    "print(12, 34, 1011, sep=\"\", end='#')\n",
    "print(56, 78, sep='-', end='\\n')\n",
    "print(9, 10, sep='-', end='\\n')"
   ]
  },
  {
   "cell_type": "markdown",
   "id": "36cc7182",
   "metadata": {},
   "source": [
    "### 3. Data Types <a id='DataTypes'></a>"
   ]
  },
  {
   "cell_type": "markdown",
   "id": "438063f0",
   "metadata": {},
   "source": [
    "#### string --> cadeia de caracteres\n",
    "Contém 1 ou mais caracteres, sejam letras,\n",
    "números ou caracteres especiais\n",
    "a-z, A-Z, 0 - 9, %@*..."
   ]
  },
  {
   "cell_type": "code",
   "execution_count": 27,
   "id": "21796ab0",
   "metadata": {},
   "outputs": [
    {
     "name": "stdout",
     "output_type": "stream",
     "text": [
      "sou uma string\n",
      "sou uma string\n",
      "sou uma 'string' também\n",
      "sou uma \"string\" também\n"
     ]
    }
   ],
   "source": [
    "a = \"sou uma string\"\n",
    "b = 'sou uma string'\n",
    "c = \"sou uma 'string' também\"\n",
    "d = 'sou uma \"string\" também'\n",
    "print(a)\n",
    "print(b)\n",
    "print(c)\n",
    "print(d)"
   ]
  },
  {
   "cell_type": "markdown",
   "id": "d04bfd4a",
   "metadata": {},
   "source": [
    "##### int -> Número inteiro\n",
    "O tipo int representa qualquer número\n",
    "positivo ou negativo. int sem sinal é considerado\n",
    "positivo."
   ]
  },
  {
   "cell_type": "code",
   "execution_count": 22,
   "id": "c0b949b1",
   "metadata": {},
   "outputs": [
    {
     "name": "stdout",
     "output_type": "stream",
     "text": [
      "11\n",
      "-11\n",
      "0\n",
      "<class 'int'>\n",
      "<class 'int'>\n"
     ]
    }
   ],
   "source": [
    "print(11) # int\n",
    "print(-11) # int\n",
    "print(0)\n",
    "print(type(-11))\n",
    "print(type(11))"
   ]
  },
  {
   "cell_type": "markdown",
   "id": "94c20e45",
   "metadata": {},
   "source": [
    "##### float -> Número com ponto flutuante (aproximação de números reais)\n",
    "O tipo float representa qualquer número\n",
    "positivo ou negativo com ponto flutuante.\n",
    "float sem sinal é considerado positivo"
   ]
  },
  {
   "cell_type": "code",
   "execution_count": 267,
   "id": "e373db43",
   "metadata": {},
   "outputs": [
    {
     "name": "stdout",
     "output_type": "stream",
     "text": [
      "1.1 10.11\n",
      "0.0 -1.5\n",
      "<class 'float'>\n",
      "<class 'float'>\n"
     ]
    }
   ],
   "source": [
    "print(1.1, 10.11)\n",
    "print(0.0, -1.5)\n",
    "print(type(1.1))\n",
    "print(type(-1.5))"
   ]
  },
  {
   "cell_type": "code",
   "execution_count": 269,
   "id": "9fccf529",
   "metadata": {},
   "outputs": [
    {
     "name": "stdout",
     "output_type": "stream",
     "text": [
      "0.7999999999999999\n"
     ]
    }
   ],
   "source": [
    "\"\"\"\n",
    "Imprecisão de ponto flutuante\n",
    "Double-precision floating-point format IEEE 754\n",
    "https://en.wikipedia.org/wiki/Double-precision_floating-point_format\n",
    "https://docs.python.org/pt-br/3/tutorial/floatingpoint.html\n",
    "\"\"\"\n",
    "\n",
    "# Problema na operação com números em \n",
    "# ponto flutuante (aproximação de números reais)\n",
    "numero_1 = 0.1\n",
    "numero_2 = 0.7\n",
    "numero_3 = numero_1 + numero_2\n",
    "print(numero_3)"
   ]
  },
  {
   "cell_type": "code",
   "execution_count": 265,
   "id": "8f4f8a1d",
   "metadata": {},
   "outputs": [
    {
     "name": "stdout",
     "output_type": "stream",
     "text": [
      "0.80\n",
      "0.8\n"
     ]
    }
   ],
   "source": [
    "print(f'{numero_3:.2f}')\n",
    "print(round(numero_3, 2))"
   ]
  },
  {
   "cell_type": "code",
   "execution_count": 266,
   "id": "dcf40199",
   "metadata": {},
   "outputs": [
    {
     "name": "stdout",
     "output_type": "stream",
     "text": [
      "0.8\n"
     ]
    }
   ],
   "source": [
    "import decimal\n",
    "\n",
    "numero_1 = decimal.Decimal('0.1')\n",
    "numero_2 = decimal.Decimal('0.7')\n",
    "numero_3 = numero_1 + numero_2\n",
    "print(numero_3)"
   ]
  },
  {
   "cell_type": "markdown",
   "id": "9fa7535b",
   "metadata": {},
   "source": [
    "##### Boolen operator --> operador lógico (True ou False)"
   ]
  },
  {
   "cell_type": "code",
   "execution_count": 14,
   "id": "6c122d1f",
   "metadata": {},
   "outputs": [
    {
     "name": "stdout",
     "output_type": "stream",
     "text": [
      "True\n",
      "False\n",
      "<class 'bool'>\n",
      "<class 'bool'>\n",
      "<class 'bool'>\n",
      "<class 'bool'>\n"
     ]
    }
   ],
   "source": [
    "print(10 == 10)  # Sim => True (Verdadeiro)\n",
    "print(10 == 11)  # Não => False (Falso)\n",
    "print(type(True))\n",
    "print(type(False))\n",
    "print(type(10 == 10))\n",
    "print(type(10 == 11))"
   ]
  },
  {
   "cell_type": "markdown",
   "id": "d284fb3e",
   "metadata": {},
   "source": [
    "#### Conversão de tipos (type coersion)\n",
    "conversão de tipos ou \n",
    "type convertion ou typecasting ou coercion, \n",
    "é o ato de converter um tipo de dado primitivo (buit-in data type) e \n",
    "imutável em outro tipo de dado primitivo e imutável \n",
    "tipos imutáveis e primitivos:\n",
    "str, int, float, bool"
   ]
  },
  {
   "cell_type": "code",
   "execution_count": 29,
   "id": "1ccc94bb",
   "metadata": {},
   "outputs": [
    {
     "name": "stdout",
     "output_type": "stream",
     "text": [
      "1 <class 'int'>\n"
     ]
    }
   ],
   "source": [
    "print(int('1'), type(int('1')))"
   ]
  },
  {
   "cell_type": "code",
   "execution_count": 31,
   "id": "50e6b96d",
   "metadata": {},
   "outputs": [
    {
     "name": "stdout",
     "output_type": "stream",
     "text": [
      "<class 'float'>\n",
      "2.0\n"
     ]
    }
   ],
   "source": [
    "soma = float('1') + 1\n",
    "print(type(soma))\n",
    "print(soma)"
   ]
  },
  {
   "cell_type": "code",
   "execution_count": 37,
   "id": "ad35d3c1",
   "metadata": {},
   "outputs": [
    {
     "name": "stdout",
     "output_type": "stream",
     "text": [
      "<class 'str'>\n"
     ]
    }
   ],
   "source": [
    "answer = ' '\n",
    "print(type(answer))"
   ]
  },
  {
   "cell_type": "code",
   "execution_count": 38,
   "id": "22bedc37",
   "metadata": {
    "scrolled": true
   },
   "outputs": [
    {
     "name": "stdout",
     "output_type": "stream",
     "text": [
      "<class 'bool'>\n",
      "True\n"
     ]
    }
   ],
   "source": [
    "answer = bool(' ')\n",
    "print(type(answer))\n",
    "print(answer)"
   ]
  },
  {
   "cell_type": "markdown",
   "id": "9a326133",
   "metadata": {},
   "source": [
    "[Summary](#Summary)"
   ]
  },
  {
   "cell_type": "markdown",
   "id": "f94e824c",
   "metadata": {},
   "source": [
    "### 4. Variáveis e Expressões (Variables and Expressions) <a id='VariaveisExpressoes'></a>"
   ]
  },
  {
   "cell_type": "code",
   "execution_count": 39,
   "id": "8126522f",
   "metadata": {},
   "outputs": [],
   "source": [
    "# Variáveis são usadas para salvar algo na memória do computador.\n",
    "# PEP8: inicie variáveis com letras minúsculas, pode usar\n",
    "# números e underline _.\n",
    "# O sinal de = é o operador de atribuição. Ele é usado para\n",
    "# atribuir um valor a um nome (variável).\n",
    "# Uso: nome_variavel = expressão"
   ]
  },
  {
   "cell_type": "code",
   "execution_count": 40,
   "id": "a6b5c96e",
   "metadata": {},
   "outputs": [
    {
     "name": "stdout",
     "output_type": "stream",
     "text": [
      "Nome: Luiz Idade: 17\n",
      "É maior? False\n"
     ]
    }
   ],
   "source": [
    "nome = 'Luiz'\n",
    "idade = 17\n",
    "maior_de_idade = idade >= 18\n",
    "print('Nome:', nome, 'Idade:', idade)\n",
    "print('É maior?', maior_de_idade)"
   ]
  },
  {
   "cell_type": "code",
   "execution_count": 417,
   "id": "aa1766e2",
   "metadata": {},
   "outputs": [
    {
     "name": "stdout",
     "output_type": "stream",
     "text": [
      "Nome: Luiz Otávio\n",
      "Sobrenome: Miranda\n",
      "Idade: 18\n",
      "Ano de nascimento: 2004\n",
      "É maior de idade? True\n",
      "Altura em metros: 1.8\n"
     ]
    }
   ],
   "source": [
    "nome = 'Luiz Otávio'\n",
    "sobrenome = 'Miranda'\n",
    "idade = 18\n",
    "ano_nascimento = 2022 - idade\n",
    "maior_de_idade = idade >= 18\n",
    "altura_metros = 1.80\n",
    "\n",
    "print('Nome:', nome)\n",
    "print('Sobrenome:', sobrenome)\n",
    "print('Idade:', idade)\n",
    "print('Ano de nascimento:', ano_nascimento)\n",
    "print('É maior de idade?', maior_de_idade)\n",
    "print('Altura em metros:', altura_metros)"
   ]
  },
  {
   "cell_type": "code",
   "execution_count": 271,
   "id": "2c866090",
   "metadata": {},
   "outputs": [
    {
     "name": "stdout",
     "output_type": "stream",
     "text": [
      "Velocidade carro passou do radar 1\n",
      "Carro passou radar 1\n",
      "carro multado em radar 1\n"
     ]
    }
   ],
   "source": [
    "\"\"\"\n",
    "CONSTANTE = \"Variáveis\" que não vão mudar\n",
    "\"\"\"\n",
    "velocidade = 61  # velocidade atual do carro\n",
    "local_carro = 100  # local em que o carro está na estrada\n",
    "\n",
    "RADAR_1 = 60  # velocidade máxima do radar 1\n",
    "LOCAL_1 = 100  # local onde o radar 1 está\n",
    "RADAR_RANGE = 1  # A distância onde o radar pega\n",
    "\n",
    "vel_carro_pass_radar_1 = velocidade > RADAR_1\n",
    "carro_passou_radar_1 = local_carro >= (LOCAL_1 - RADAR_RANGE) and \\\n",
    "    local_carro <= (LOCAL_1 + RADAR_RANGE)\n",
    "carro_multado_radar_1 = carro_passou_radar_1 and vel_carro_pass_radar_1\n",
    "\n",
    "if vel_carro_pass_radar_1:\n",
    "    print('Velocidade carro passou do radar 1')\n",
    "\n",
    "if carro_passou_radar_1:\n",
    "    print('Carro passou radar 1')\n",
    "\n",
    "if carro_multado_radar_1:\n",
    "    print('carro multado em radar 1')"
   ]
  },
  {
   "cell_type": "markdown",
   "id": "a2f151a4",
   "metadata": {},
   "source": [
    "[Summary](#Summary)"
   ]
  },
  {
   "cell_type": "markdown",
   "id": "030572fd",
   "metadata": {},
   "source": [
    "### 5. Operações Aritméticas (Arithmetic Operators) <a id='OperacoesAritmeticas'></a>"
   ]
  },
  {
   "cell_type": "code",
   "execution_count": 43,
   "id": "f0e404c5",
   "metadata": {},
   "outputs": [
    {
     "name": "stdout",
     "output_type": "stream",
     "text": [
      "Adição 20\n"
     ]
    }
   ],
   "source": [
    "# Adição\n",
    "adicao = 10 + 10\n",
    "print('Adição', adicao)"
   ]
  },
  {
   "cell_type": "code",
   "execution_count": 44,
   "id": "83ade956",
   "metadata": {},
   "outputs": [
    {
     "name": "stdout",
     "output_type": "stream",
     "text": [
      "Subtração 5\n"
     ]
    }
   ],
   "source": [
    "# Subtração\n",
    "subtracao = 10 - 5\n",
    "print('Subtração', subtracao)"
   ]
  },
  {
   "cell_type": "code",
   "execution_count": 45,
   "id": "00a4200d",
   "metadata": {},
   "outputs": [
    {
     "name": "stdout",
     "output_type": "stream",
     "text": [
      "Multiplicação 100\n"
     ]
    }
   ],
   "source": [
    "# Multiplicação\n",
    "multiplicacao = 10 * 10\n",
    "print('Multiplicação', multiplicacao)"
   ]
  },
  {
   "cell_type": "code",
   "execution_count": 46,
   "id": "1eb33999",
   "metadata": {},
   "outputs": [
    {
     "name": "stdout",
     "output_type": "stream",
     "text": [
      "Divisão 3.3333333333333335\n"
     ]
    }
   ],
   "source": [
    "# Divisão\n",
    "divisao = 10 / 3  # float\n",
    "print('Divisão', divisao)"
   ]
  },
  {
   "cell_type": "code",
   "execution_count": 47,
   "id": "3dcdf1b7",
   "metadata": {},
   "outputs": [
    {
     "name": "stdout",
     "output_type": "stream",
     "text": [
      "Divisão inteira 3\n"
     ]
    }
   ],
   "source": [
    "# Divisão inteira\n",
    "divisao_inteira = 10 // 3\n",
    "print('Divisão inteira', divisao_inteira)"
   ]
  },
  {
   "cell_type": "code",
   "execution_count": 48,
   "id": "631adfdd",
   "metadata": {},
   "outputs": [
    {
     "name": "stdout",
     "output_type": "stream",
     "text": [
      "Exponenciação 1024\n"
     ]
    }
   ],
   "source": [
    "# Exponenciação\n",
    "exponenciacao = 2 ** 10\n",
    "print('Exponenciação', exponenciacao)"
   ]
  },
  {
   "cell_type": "code",
   "execution_count": 57,
   "id": "d662522b",
   "metadata": {},
   "outputs": [
    {
     "name": "stdout",
     "output_type": "stream",
     "text": [
      "55 módulo 2 = 55 resto 2 = 55 % 2: 1\n",
      "10 módulo 3 = 10 resto 3 = 10 % 3: 1\n",
      "16 % 8: 0\n",
      "10 % 4: 2\n",
      "15 % 2: 1\n"
     ]
    }
   ],
   "source": [
    "# Módulo (resto da divisão)\n",
    "modulo = 55 % 2  # resto da divisão\n",
    "print(f'55 módulo 2 = 55 resto 2 = 55 % 2: {modulo}')\n",
    "\n",
    "print(f'10 módulo 3 = 10 resto 3 = 10 % 3: {10 % 3}')\n",
    "print(f'16 % 8: {16 % 8}')\n",
    "print(f'10 % 4: {10 % 4}')\n",
    "print(f'15 % 2: {15 % 2}')"
   ]
  },
  {
   "cell_type": "code",
   "execution_count": 59,
   "id": "b76e1b74",
   "metadata": {},
   "outputs": [
    {
     "name": "stdout",
     "output_type": "stream",
     "text": [
      "1024\n"
     ]
    }
   ],
   "source": [
    "# Expressão aritmética (ordem de precedência)\n",
    "# 1. Parênteses: ()\n",
    "# 2. Exponenciação: **\n",
    "# 3. Multiplicação e divisão: *, /\n",
    "# 3. Adição e subtração: +, - \n",
    "\n",
    "expressao = (1 + int(0.5 + 0.5)) ** (5 + 5)\n",
    "print(expressao)"
   ]
  },
  {
   "cell_type": "code",
   "execution_count": 61,
   "id": "c5fa73b8",
   "metadata": {},
   "outputs": [
    {
     "name": "stdout",
     "output_type": "stream",
     "text": [
      "Luiz Otávio tem 1.8 de altura,\n",
      "pesa 95 quilos e seu imc é\n",
      "29.320987654320987\n"
     ]
    }
   ],
   "source": [
    "nome = 'Luiz Otávio'\n",
    "altura = 1.80\n",
    "peso = 95\n",
    "imc = peso / altura ** 2\n",
    "\n",
    "print(nome, 'tem', altura, 'de altura,',)\n",
    "print('pesa', peso, 'quilos e seu imc é',)\n",
    "print(imc)"
   ]
  },
  {
   "cell_type": "code",
   "execution_count": 64,
   "id": "d4c21ed2",
   "metadata": {},
   "outputs": [
    {
     "name": "stdout",
     "output_type": "stream",
     "text": [
      "Luiz Otávio tem 1.80 de altura,\n",
      "pesa 95 quilos e seu imc é\n",
      "29.32\n"
     ]
    }
   ],
   "source": [
    "print(f'{nome} tem {altura:.2f} de altura,')\n",
    "print(f'pesa {peso} quilos e seu imc é',)\n",
    "print(f'{imc:.2f}')"
   ]
  },
  {
   "cell_type": "markdown",
   "id": "4cf77695",
   "metadata": {},
   "source": [
    "[Summary](#Summary)"
   ]
  },
  {
   "cell_type": "markdown",
   "id": "54f67135",
   "metadata": {},
   "source": [
    "### 6. Operação com strings (Operations with Strings) <a id='OperacoesComStrings'></a>"
   ]
  },
  {
   "cell_type": "code",
   "execution_count": 89,
   "id": "8d3995d8",
   "metadata": {},
   "outputs": [
    {
     "name": "stdout",
     "output_type": "stream",
     "text": [
      "Luiz Otávio\n"
     ]
    }
   ],
   "source": [
    "# Concatenação\n",
    "concatenacao = 'Luiz' + ' ' + 'Otávio'\n",
    "print(concatenacao)"
   ]
  },
  {
   "cell_type": "code",
   "execution_count": 90,
   "id": "223cb97c",
   "metadata": {},
   "outputs": [
    {
     "name": "stdout",
     "output_type": "stream",
     "text": [
      "AAAAAAAAAA\n"
     ]
    }
   ],
   "source": [
    "# Multiplicação (repetição)\n",
    "A_dez_vezes = 'A' * 10\n",
    "print(A_dez_vezes)"
   ]
  },
  {
   "cell_type": "code",
   "execution_count": 91,
   "id": "02b85b89",
   "metadata": {},
   "outputs": [
    {
     "name": "stdout",
     "output_type": "stream",
     "text": [
      "LuizLuizLuiz\n"
     ]
    }
   ],
   "source": [
    "tres_vezes_luiz = 3 * 'Luiz'\n",
    "print(tres_vezes_luiz)"
   ]
  },
  {
   "cell_type": "code",
   "execution_count": 92,
   "id": "2c309e62",
   "metadata": {},
   "outputs": [
    {
     "name": "stdout",
     "output_type": "stream",
     "text": [
      "b=BBBBBB a=AAAAA a=AAAAA c=1.10\n"
     ]
    }
   ],
   "source": [
    "# Formatação de strings (f-strings)\n",
    "a = 'AAAAA' \n",
    "b = 'BBBBBB'\n",
    "c = 1.1\n",
    "string = 'b={nome2} a={nome1} a={nome1} c={nome3:.2f}'\n",
    "formato = string.format(\n",
    "    nome1=a, nome2=b, nome3=c\n",
    ")\n",
    "\n",
    "print(formato)"
   ]
  },
  {
   "cell_type": "code",
   "execution_count": 93,
   "id": "9240007a",
   "metadata": {},
   "outputs": [
    {
     "name": "stdout",
     "output_type": "stream",
     "text": [
      "b=BBBBBB a=AAAAA a=AAAAA c=1.10\n"
     ]
    }
   ],
   "source": [
    "print(f'b={b} a={a} a={a} c={c:.2f}')"
   ]
  },
  {
   "cell_type": "markdown",
   "id": "1ede526d",
   "metadata": {},
   "source": [
    "[Summary](#Summary)"
   ]
  },
  {
   "cell_type": "markdown",
   "id": "44660f94",
   "metadata": {},
   "source": [
    "### 7. Entrada de dados (Data Input) <a id='EntradaDeDados'></a>"
   ]
  },
  {
   "cell_type": "code",
   "execution_count": 94,
   "id": "8868d7fd",
   "metadata": {},
   "outputs": [
    {
     "name": "stdout",
     "output_type": "stream",
     "text": [
      "Digite um número: 7\n",
      "Digite outro número: 3\n",
      "A soma dos números é: 10\n"
     ]
    }
   ],
   "source": [
    "# Entrada de dados via teclado\n",
    "numero_1 = int(input('Digite um número: '))\n",
    "numero_2 = int(input('Digite outro número: '))\n",
    "\n",
    "print(f'A soma dos números é: {numero_1 + numero_2}')"
   ]
  },
  {
   "cell_type": "markdown",
   "id": "f282c249",
   "metadata": {},
   "source": [
    "[Summary](#Summary)"
   ]
  },
  {
   "cell_type": "markdown",
   "id": "a1874c1a",
   "metadata": {},
   "source": [
    "### 8. Estrutura de decisão: if: / elif: / else: <a id='EstruturaIfElse'></a>"
   ]
  },
  {
   "cell_type": "code",
   "execution_count": 173,
   "id": "370cd2c0",
   "metadata": {},
   "outputs": [
    {
     "name": "stdout",
     "output_type": "stream",
     "text": [
      "Não faça algo\n",
      "Não passou no if\n"
     ]
    }
   ],
   "source": [
    "\"\"\"\n",
    "Flag (Bandeira) - Marcar um local\n",
    "None = Não valor\n",
    "is e is not = é ou não é (tipo, valor, identidade)\n",
    "id = Identidade\n",
    "\"\"\"\n",
    "condicao = False\n",
    "passou_no_if = None\n",
    "\n",
    "if condicao:\n",
    "    passou_no_if = True\n",
    "    print('Faça algo')\n",
    "else:\n",
    "    print('Não faça algo')\n",
    "\n",
    "\n",
    "if passou_no_if is None:\n",
    "    print('Não passou no if')\n",
    "else:\n",
    "    print('Passou no if')"
   ]
  },
  {
   "cell_type": "code",
   "execution_count": 97,
   "id": "11892227",
   "metadata": {},
   "outputs": [
    {
     "name": "stdout",
     "output_type": "stream",
     "text": [
      "Você quer \"entrar\" ou \"sair\"? sair\n",
      "Você saiu do sistema\n",
      "FORA DOS BLOCOS\n"
     ]
    }
   ],
   "source": [
    "# if / elif      / else\n",
    "entrada = input('Você quer \"entrar\" ou \"sair\"? ')\n",
    "\n",
    "if entrada == 'entrar':\n",
    "    print('Você entrou no sistema')\n",
    "\n",
    "    print(12341234)\n",
    "elif entrada == 'sair':\n",
    "    print('Você saiu do sistema')\n",
    "else:\n",
    "    print('Você não digitou nem entrar e nem sair.')\n",
    "\n",
    "print('FORA DOS BLOCOS')"
   ]
  },
  {
   "cell_type": "code",
   "execution_count": 332,
   "id": "8cef6bbd",
   "metadata": {},
   "outputs": [
    {
     "name": "stdout",
     "output_type": "stream",
     "text": [
      "Código para condição 3\n",
      "Fora do if\n"
     ]
    }
   ],
   "source": [
    "# If aninhado: if / elif / elif / elif / ... / elif / else\n",
    "condicao1 = False\n",
    "condicao2 = False\n",
    "condicao3 = True\n",
    "condicao4 = True\n",
    "\n",
    "if condicao1:\n",
    "    print('Código para condição 1')\n",
    "elif condicao2:\n",
    "    print('Código para condição 2')\n",
    "elif condicao3:\n",
    "    print('Código para condição 3')\n",
    "elif condicao4:\n",
    "    print('Código para condição 4')\n",
    "else:\n",
    "    print('Nenhuma condição foi satisfeita.')\n",
    "\n",
    "print('Fora do if')"
   ]
  },
  {
   "cell_type": "code",
   "execution_count": 338,
   "id": "f83941a5",
   "metadata": {},
   "outputs": [
    {
     "name": "stdout",
     "output_type": "stream",
     "text": [
      "Igual\n"
     ]
    }
   ],
   "source": [
    "\"\"\"\n",
    "Operação ternária (condicional de uma linha)\n",
    "<valor> if <condicao> else <outro valor>\n",
    "\"\"\"\n",
    "condicao = 10 == 10\n",
    "teste_igualdade = 'Igual' if condicao else 'Diferente'\n",
    "print(teste_igualdade)"
   ]
  },
  {
   "cell_type": "code",
   "execution_count": 337,
   "id": "c07672d7",
   "metadata": {},
   "outputs": [
    {
     "name": "stdout",
     "output_type": "stream",
     "text": [
      "Diferente\n"
     ]
    }
   ],
   "source": [
    "\"\"\"\n",
    "Operação ternária (condicional de uma linha)\n",
    "<valor> if <condicao> else <outro valor>\n",
    "\"\"\"\n",
    "condicao = 10 == 11\n",
    "teste_igualdade = 'Igual' if condicao else 'Diferente'\n",
    "print(teste_igualdade)"
   ]
  },
  {
   "cell_type": "markdown",
   "id": "674716f7",
   "metadata": {},
   "source": [
    "[Summary](#Summary)"
   ]
  },
  {
   "cell_type": "markdown",
   "id": "1d19339b",
   "metadata": {},
   "source": [
    "### 9. Operadores de Comparação (relacionais) <a id='OperadoresRelacionais'></a>"
   ]
  },
  {
   "cell_type": "code",
   "execution_count": 99,
   "id": "e782b6cc",
   "metadata": {},
   "outputs": [
    {
     "name": "stdout",
     "output_type": "stream",
     "text": [
      "maior: 2 > 1 = True\n",
      "maior_ou_igual: 2 >= 2 = True\n",
      "menor: 1 < 2 = True\n",
      "menor_ou_igual: 2 <= 2 = True\n",
      "igual: \"2\" == \"2\" = True\n",
      "diferente:  \"2\" != \"3\" = True\n"
     ]
    }
   ],
   "source": [
    "# Operadores de comparação (relacionais)\n",
    "# OP      Significado         Exemplo (True)\n",
    "# >       maior               2 > 1\n",
    "# >=      maior ou igual      2 >= 2\n",
    "# <       menor               1 < 2\n",
    "# <=      menor ou igual      2 <= 2\n",
    "# ==      igual               'a' == 'a'\n",
    "# !=      diferente           'a' != 'b'\n",
    "\n",
    "print(f'maior: 2 > 1 = {2 > 1}')\n",
    "print(f'maior_ou_igual: 2 >= 2 = {2 >= 2}')\n",
    "\n",
    "print(f'menor: 1 < 2 = {1 < 2}')\n",
    "print(f'menor_ou_igual: 2 <= 2 = {2 <= 2}')\n",
    "print(f'igual: \"2\" == \"2\" = {\"2\" == \"2\"}')\n",
    "print(f'diferente:  \"2\" != \"3\" = {\"2\" != \"3\"}')"
   ]
  },
  {
   "cell_type": "code",
   "execution_count": 138,
   "id": "6741eab9",
   "metadata": {},
   "outputs": [
    {
     "name": "stdout",
     "output_type": "stream",
     "text": [
      "Digite um valor: 7\n",
      "Digite outro valor: 11\n",
      "segundo_valor=11 é maior do que primeiro_valor=7\n"
     ]
    }
   ],
   "source": [
    "# Obtem dois valores numéricos e \n",
    "# imprime 'maior', 'igual' ou 'menor'\n",
    "primeiro_valor = int(input('Digite um valor: '))\n",
    "segundo_valor = int(input('Digite outro valor: '))\n",
    "\n",
    "if primeiro_valor > segundo_valor:\n",
    "    print(\n",
    "        f'{primeiro_valor=} é maior que '\n",
    "        f' {segundo_valor=}'\n",
    "    )\n",
    "elif primeiro_valor == segundo_valor:\n",
    "    print(\n",
    "        f'{primeiro_valor=} é igual '\n",
    "        f'ao {segundo_valor=}'\n",
    "    )\n",
    "else:\n",
    "    print(\n",
    "        f'{segundo_valor=} é maior '\n",
    "        f'do que {primeiro_valor=}'\n",
    "    )"
   ]
  },
  {
   "cell_type": "markdown",
   "id": "eb902ceb",
   "metadata": {},
   "source": [
    "[Summary](#Summary)"
   ]
  },
  {
   "cell_type": "markdown",
   "id": "2161563b",
   "metadata": {},
   "source": [
    "### 10. Operadores Lógicos (and, or, not) <a id='OperadoresLogicos'></a>"
   ]
  },
  {
   "cell_type": "code",
   "execution_count": 117,
   "id": "103a5de0",
   "metadata": {},
   "outputs": [
    {
     "name": "stdout",
     "output_type": "stream",
     "text": [
      "True and False: False\n",
      "True and 0: 0\n",
      "123 and True: True\n",
      "\"aaa\" and True: True\n",
      "None and True: None\n",
      "None and False: None\n"
     ]
    }
   ],
   "source": [
    "# Operadores lógicos\n",
    "print(f'True and False: {True and False}')\n",
    "print(f'True and 0: {True and 0}')\n",
    "print(f'123 and True: {123 and True}')\n",
    "print(f'\"aaa\" and True: {\"aaa\" and True}')\n",
    "print(f'None and True: {None and True}')\n",
    "print(f'None and False: {None and False}')"
   ]
  },
  {
   "cell_type": "code",
   "execution_count": 120,
   "id": "0a698263",
   "metadata": {},
   "outputs": [
    {
     "name": "stdout",
     "output_type": "stream",
     "text": [
      "Senha: \n",
      "Sem senha\n"
     ]
    }
   ],
   "source": [
    "# Avaliação de curto circuito\n",
    "senha = input('Senha: ') or 'Sem senha'\n",
    "print(senha)"
   ]
  },
  {
   "cell_type": "code",
   "execution_count": 122,
   "id": "5f268811",
   "metadata": {},
   "outputs": [
    {
     "name": "stdout",
     "output_type": "stream",
     "text": [
      "[E]ntrar [S]air: F\n",
      "Senha: 123456\n",
      "Sair\n"
     ]
    }
   ],
   "source": [
    "# Avaliação de curto circuito\n",
    "\n",
    "senha_permitida = 123456\n",
    "\n",
    "entrada = input('[E]ntrar [S]air: ')\n",
    "senha_digitada = input('Senha: ')\n",
    "\n",
    "if (entrada == 'E' or entrada == 'e') and senha_digitada == senha_permitida:\n",
    "     print('Entrar')\n",
    "else:\n",
    "     print('Sair')"
   ]
  },
  {
   "cell_type": "code",
   "execution_count": 124,
   "id": "99a07aec",
   "metadata": {},
   "outputs": [
    {
     "name": "stdout",
     "output_type": "stream",
     "text": [
      "not True: False\n",
      "not False: True\n"
     ]
    }
   ],
   "source": [
    "# Operador lógico \"not\"\n",
    "#\n",
    "# not True = False\n",
    "# not False = True\n",
    "\n",
    "print(f'not True: {not True}')  # False\n",
    "print(f'not False: {not False}')  # True"
   ]
  },
  {
   "cell_type": "markdown",
   "id": "cc909482",
   "metadata": {},
   "source": [
    "[Summary](#Summary)"
   ]
  },
  {
   "cell_type": "markdown",
   "id": "be7a5030",
   "metadata": {},
   "source": [
    "### 11. Operadores: `in` e `not in` <a id='OperadoresInNotIn'></a>"
   ]
  },
  {
   "cell_type": "code",
   "execution_count": 133,
   "id": "798d4294",
   "metadata": {},
   "outputs": [
    {
     "name": "stdout",
     "output_type": "stream",
     "text": [
      "nome: Otávio\n",
      "nome[2]: á\n",
      "nome[-4]: á\n",
      "True\n",
      "False\n",
      "----------\n",
      "False\n",
      "True\n"
     ]
    }
   ],
   "source": [
    "# Operadores in e not in\n",
    "# Strings são iteráveis\n",
    "#  0 1 2 3 4 5\n",
    "#  O t á v i o\n",
    "# -6-5-4-3-2-1\n",
    "\n",
    "nome = 'Otávio'\n",
    "print(f'nome: {nome}')\n",
    "print(f'nome[2]: {nome[2]}')\n",
    "print(f'nome[-4]: {nome[-4]}')\n",
    "print('vio' in nome)\n",
    "print('zero' in nome)\n",
    "\n",
    "print(10 * '-')\n",
    "print('vio' not in nome)\n",
    "print('zero' not in nome)"
   ]
  },
  {
   "cell_type": "code",
   "execution_count": 129,
   "id": "a48f1974",
   "metadata": {},
   "outputs": [
    {
     "name": "stdout",
     "output_type": "stream",
     "text": [
      "Digite seu nome: Cleiber Garcia\n",
      "Digite o que deseja encontrar: eib\n",
      "eib está em Cleiber Garcia\n"
     ]
    }
   ],
   "source": [
    "# Pesquisa a existência de uma substring em uma string dada\n",
    "nome = input('Digite seu nome: ')\n",
    "encontrar = input('Digite o que deseja encontrar: ')\n",
    "\n",
    "if encontrar in nome:\n",
    "    print(f'{encontrar} está em {nome}')\n",
    "else:\n",
    "    print(f'{encontrar} não está em {nome}')"
   ]
  },
  {
   "cell_type": "markdown",
   "id": "7a12f9f0",
   "metadata": {},
   "source": [
    "[Summary](#Summary)"
   ]
  },
  {
   "cell_type": "markdown",
   "id": "52d29e44",
   "metadata": {},
   "source": [
    "### 12. Formatação de Strings (String Formatting) <a id='FormatacaoDeStrings'></a>"
   ]
  },
  {
   "cell_type": "code",
   "execution_count": 154,
   "id": "6ae9b363",
   "metadata": {},
   "outputs": [
    {
     "name": "stdout",
     "output_type": "stream",
     "text": [
      "Luiz, o preço é R$1000.96\n",
      "O hexadecimal de 1500 é 000005DC\n"
     ]
    }
   ],
   "source": [
    "\"\"\"\n",
    "Substituição de strings\n",
    "s - string\n",
    "d e i - int\n",
    "f - float\n",
    "x e X - Hexadecimal (ABCDEF0123456789)\n",
    "\"\"\"\n",
    "nome = 'Luiz'\n",
    "preco = 1000.95897643\n",
    "variavel = '%s, o preço é R$%.2f' % (nome, preco)\n",
    "print(variavel)\n",
    "print('O hexadecimal de %d é %08X' % (1500, 1500))"
   ]
  },
  {
   "cell_type": "code",
   "execution_count": 176,
   "id": "034a1826",
   "metadata": {},
   "outputs": [
    {
     "name": "stdout",
     "output_type": "stream",
     "text": [
      "ABC\n",
      "       ABC\n",
      "ABC       .\n",
      "   ABC    .\n",
      "-001,234.5\n",
      "O hexadecimal de 1500 é 000005DC\n",
      "'ABC'\n"
     ]
    }
   ],
   "source": [
    "\"\"\"\n",
    "Formatação básica de strings\n",
    "s - string\n",
    "d - int\n",
    "f - float\n",
    ".<número de dígitos>f\n",
    "x ou X - Hexadecimal\n",
    "(Caractere)(><^)(quantidade)\n",
    "> - Esquerda\n",
    "< - Direita\n",
    "^ - Centro\n",
    "= - Força o número a aparecer antes dos zeros\n",
    "Sinal - + ou -\n",
    "Ex.: 0>-100,.1f\n",
    "Conversion flags - !r !s !a \n",
    "\"\"\"\n",
    "variavel = 'ABC'\n",
    "print(f'{variavel}')\n",
    "print(f'{variavel: >10}') # alinhamento à esquerda\n",
    "print(f'{variavel: <10}.') # alinhamento à direita\n",
    "print(f'{variavel: ^10}.') # centralizado\n",
    "print(f'{-1234.4873648123746:0=+10,.1f}')\n",
    "print(f'O hexadecimal de 1500 é {1500:08X}')\n",
    "print(f'{variavel!r}')"
   ]
  },
  {
   "cell_type": "code",
   "execution_count": 183,
   "id": "66f682ee",
   "metadata": {},
   "outputs": [
    {
     "name": "stdout",
     "output_type": "stream",
     "text": [
      "0000123456\n"
     ]
    }
   ],
   "source": [
    "\"\"\"\n",
    "https://docs.python.org/pt-br/3/library/stdtypes.html\n",
    "Imutáveis que vimos: str, int, float, bool\n",
    "\"\"\"\n",
    "valor_1 = '123456'\n",
    "print(valor_1.zfill(10))"
   ]
  },
  {
   "cell_type": "code",
   "execution_count": 185,
   "id": "2241370c",
   "metadata": {},
   "outputs": [
    {
     "name": "stdout",
     "output_type": "stream",
     "text": [
      "123ABC56\n"
     ]
    }
   ],
   "source": [
    "valor_2 = f'{valor_1[:3]}ABC{valor_1[4:]}'\n",
    "print(valor_2)"
   ]
  },
  {
   "cell_type": "markdown",
   "id": "bc04f2d5",
   "metadata": {},
   "source": [
    "[Summary](#Summary)"
   ]
  },
  {
   "cell_type": "markdown",
   "id": "e8620aaf",
   "metadata": {},
   "source": [
    "### 13. Fatiamento de strings (Substring) <a id='FatiamentoDeStrings'></a>"
   ]
  },
  {
   "cell_type": "code",
   "execution_count": 159,
   "id": "68aa780d",
   "metadata": {},
   "outputs": [
    {
     "name": "stdout",
     "output_type": "stream",
     "text": [
      "9876543210\n"
     ]
    }
   ],
   "source": [
    "\"\"\"\n",
    "Fatiamento de strings\n",
    " 012345678\n",
    " Olá mundo\n",
    "-987654321\n",
    "Fatiamento [início:fim:incremento ou decremento] [::]\n",
    "Obs.: a função len retorna a qtd \n",
    "de caracteres da str\n",
    "\"\"\"\n",
    "variavel = '0123456789'\n",
    "print(variavel[::-1])"
   ]
  },
  {
   "cell_type": "code",
   "execution_count": 167,
   "id": "152fa1af",
   "metadata": {},
   "outputs": [
    {
     "name": "stdout",
     "output_type": "stream",
     "text": [
      "234\n"
     ]
    }
   ],
   "source": [
    "variavel = '0123456789'\n",
    "print(variavel[2:5:1]) # Observar que 2:5 só conta 2, 3 e 4"
   ]
  },
  {
   "cell_type": "markdown",
   "id": "f051d1ec",
   "metadata": {},
   "source": [
    "[Summary](#Summary)"
   ]
  },
  {
   "cell_type": "markdown",
   "id": "21923673",
   "metadata": {},
   "source": [
    "### 14. Tratamento de exceção (Exception Handling): `try` and `except` <a id='TratamentoDeExcecao'></a>"
   ]
  },
  {
   "cell_type": "code",
   "execution_count": 169,
   "id": "0e2f6189",
   "metadata": {},
   "outputs": [
    {
     "name": "stdout",
     "output_type": "stream",
     "text": [
      "Vou dobrar o número que vc digitar: 12a\n",
      "Isso não é um número\n"
     ]
    }
   ],
   "source": [
    "\"\"\"\n",
    "Introdução ao try/except\n",
    "try -> tentar executar o código\n",
    "except -> ocorreu algum erro ao tentar executar\n",
    "\"\"\"\n",
    "numero_str = input('Vou dobrar o número que vc digitar: ')\n",
    "\n",
    "try:\n",
    "    numero_float = float(numero_str)\n",
    "    print('FLOAT:', numero_float)\n",
    "    print(f'O dobro de {numero_str} é {numero_float * 2:.2f}')\n",
    "except:\n",
    "    print('Isso não é um número')"
   ]
  },
  {
   "cell_type": "code",
   "execution_count": 170,
   "id": "341b6af4",
   "metadata": {},
   "outputs": [
    {
     "name": "stdout",
     "output_type": "stream",
     "text": [
      "Your answer is 0.3333333333333333\n",
      "Try again!\n"
     ]
    }
   ],
   "source": [
    "try:\n",
    "   result = 1/3\n",
    "except ZeroDivisionError as err:\n",
    "   print(err)\n",
    "else:\n",
    "   print(f\"Your answer is {result}\")\n",
    "finally:\n",
    "    print('Try again!')"
   ]
  },
  {
   "cell_type": "code",
   "execution_count": 547,
   "id": "287fee49",
   "metadata": {},
   "outputs": [
    {
     "name": "stdout",
     "output_type": "stream",
     "text": [
      "division by zero\n",
      "Try again!\n"
     ]
    }
   ],
   "source": [
    "try:\n",
    "   result = 1/0\n",
    "except ZeroDivisionError as err:\n",
    "   print(err)\n",
    "else:\n",
    "   print(f\"Your answer is {result}\")\n",
    "finally:\n",
    "    print('Try again!')"
   ]
  },
  {
   "cell_type": "code",
   "execution_count": 550,
   "id": "16d31e0f",
   "metadata": {},
   "outputs": [
    {
     "name": "stdout",
     "output_type": "stream",
     "text": [
      "except1\n",
      "ZeroDivisionError\n",
      "division by zero\n",
      "CONTINUAR\n"
     ]
    }
   ],
   "source": [
    "# (Parte 2) try e except para tratar exceções\n",
    "# a = 18\n",
    "# b = 0\n",
    "# c = a / b\n",
    "\n",
    "try:\n",
    "    a = 18\n",
    "    b = 0\n",
    "    # print(b[0])\n",
    "    # print('Linha 1'[1000])\n",
    "    c = a / b\n",
    "    print('Linha 2')\n",
    "except ZeroDivisionError as e:\n",
    "    print('except1')\n",
    "    print(e.__class__.__name__)\n",
    "    print(e)\n",
    "except NameError:\n",
    "    print('except2')\n",
    "    print('Nome b não está definido')\n",
    "except (TypeError, IndexError) as error:\n",
    "    print('except3')\n",
    "    print('TypeError + IndexError')\n",
    "    print('MSG:', error)\n",
    "    print('Nome:', error.__class__.__name__)\n",
    "except Exception:\n",
    "    print('except4')\n",
    "    print('ERRO DESCONHECIDO.')\n",
    "\n",
    "print('CONTINUAR')"
   ]
  },
  {
   "cell_type": "code",
   "execution_count": 552,
   "id": "d22b1008",
   "metadata": {},
   "outputs": [
    {
     "name": "stdout",
     "output_type": "stream",
     "text": [
      "ABRIR ARQUIVO\n",
      "ZeroDivisionError\n",
      "division by zero\n",
      "DIVIDIU ZERO\n",
      "FECHAR ARQUIVO\n"
     ]
    }
   ],
   "source": [
    "# try, except, else e finally\n",
    "# https://docs.python.org/pt-br/3/library/exceptions.html#built-in-exceptions\n",
    "try:\n",
    "    print('ABRIR ARQUIVO')\n",
    "    8/0\n",
    "except ZeroDivisionError as e:\n",
    "    print(e.__class__.__name__)\n",
    "    print(e)\n",
    "    print('DIVIDIU ZERO')\n",
    "except IndexError as error:\n",
    "    print('IndexError')\n",
    "except (NameError, ImportError):\n",
    "    print('NameError, ImportError')\n",
    "else:\n",
    "    print('Não deu erro')\n",
    "finally:\n",
    "    print('FECHAR ARQUIVO')"
   ]
  },
  {
   "cell_type": "code",
   "execution_count": 557,
   "id": "90b9343a",
   "metadata": {},
   "outputs": [
    {
     "name": "stdout",
     "output_type": "stream",
     "text": [
      "--> 8 / 4: 2.0\n"
     ]
    },
    {
     "ename": "TypeError",
     "evalue": "\"0\" deve ser int ou float. \"str\" enviado.",
     "output_type": "error",
     "traceback": [
      "\u001b[1;31m---------------------------------------------------------------------------\u001b[0m",
      "\u001b[1;31mTypeError\u001b[0m                                 Traceback (most recent call last)",
      "Cell \u001b[1;32mIn[557], line 27\u001b[0m\n\u001b[0;32m     23\u001b[0m     \u001b[38;5;28;01mreturn\u001b[39;00m n \u001b[38;5;241m/\u001b[39m d\n\u001b[0;32m     25\u001b[0m \u001b[38;5;28mprint\u001b[39m(\u001b[38;5;124mf\u001b[39m\u001b[38;5;124m'\u001b[39m\u001b[38;5;124m--> 8 / 4: \u001b[39m\u001b[38;5;132;01m{\u001b[39;00mdivide(\u001b[38;5;241m8\u001b[39m, \u001b[38;5;241m4\u001b[39m)\u001b[38;5;132;01m}\u001b[39;00m\u001b[38;5;124m'\u001b[39m)\n\u001b[1;32m---> 27\u001b[0m \u001b[38;5;28mprint\u001b[39m(\u001b[38;5;124mf\u001b[39m\u001b[38;5;124m'\u001b[39m\u001b[38;5;124m--> 8 / 0: \u001b[39m\u001b[38;5;132;01m{\u001b[39;00mdivide(\u001b[38;5;241m8\u001b[39m, \u001b[38;5;124m\"\u001b[39m\u001b[38;5;124m0\u001b[39m\u001b[38;5;124m\"\u001b[39m)\u001b[38;5;132;01m}\u001b[39;00m\u001b[38;5;124m'\u001b[39m)\n",
      "Cell \u001b[1;32mIn[557], line 21\u001b[0m, in \u001b[0;36mdivide\u001b[1;34m(n, d)\u001b[0m\n\u001b[0;32m     19\u001b[0m \u001b[38;5;28;01mdef\u001b[39;00m \u001b[38;5;21mdivide\u001b[39m(n, d):\n\u001b[0;32m     20\u001b[0m     deve_ser_int_ou_float(n)\n\u001b[1;32m---> 21\u001b[0m     \u001b[43mdeve_ser_int_ou_float\u001b[49m\u001b[43m(\u001b[49m\u001b[43md\u001b[49m\u001b[43m)\u001b[49m\n\u001b[0;32m     22\u001b[0m     nao_aceito_zero(d)\n\u001b[0;32m     23\u001b[0m     \u001b[38;5;28;01mreturn\u001b[39;00m n \u001b[38;5;241m/\u001b[39m d\n",
      "Cell \u001b[1;32mIn[557], line 12\u001b[0m, in \u001b[0;36mdeve_ser_int_ou_float\u001b[1;34m(n)\u001b[0m\n\u001b[0;32m     10\u001b[0m tipo_n \u001b[38;5;241m=\u001b[39m \u001b[38;5;28mtype\u001b[39m(n)\n\u001b[0;32m     11\u001b[0m \u001b[38;5;28;01mif\u001b[39;00m \u001b[38;5;129;01mnot\u001b[39;00m \u001b[38;5;28misinstance\u001b[39m(n, (\u001b[38;5;28mfloat\u001b[39m, \u001b[38;5;28mint\u001b[39m)):\n\u001b[1;32m---> 12\u001b[0m     \u001b[38;5;28;01mraise\u001b[39;00m \u001b[38;5;167;01mTypeError\u001b[39;00m(\n\u001b[0;32m     13\u001b[0m         \u001b[38;5;124mf\u001b[39m\u001b[38;5;124m'\u001b[39m\u001b[38;5;124m\"\u001b[39m\u001b[38;5;132;01m{\u001b[39;00mn\u001b[38;5;132;01m}\u001b[39;00m\u001b[38;5;124m\"\u001b[39m\u001b[38;5;124m deve ser int ou float. \u001b[39m\u001b[38;5;124m'\u001b[39m\n\u001b[0;32m     14\u001b[0m         \u001b[38;5;124mf\u001b[39m\u001b[38;5;124m'\u001b[39m\u001b[38;5;124m\"\u001b[39m\u001b[38;5;132;01m{\u001b[39;00mtipo_n\u001b[38;5;241m.\u001b[39m\u001b[38;5;18m__name__\u001b[39m\u001b[38;5;132;01m}\u001b[39;00m\u001b[38;5;124m\"\u001b[39m\u001b[38;5;124m enviado.\u001b[39m\u001b[38;5;124m'\u001b[39m\n\u001b[0;32m     15\u001b[0m     )\n\u001b[0;32m     16\u001b[0m \u001b[38;5;28;01mreturn\u001b[39;00m \u001b[38;5;28;01mTrue\u001b[39;00m\n",
      "\u001b[1;31mTypeError\u001b[0m: \"0\" deve ser int ou float. \"str\" enviado."
     ]
    }
   ],
   "source": [
    "# raise - lançando exceções (erros)\n",
    "# https://docs.python.org/pt-br/3/library/exceptions.html#built-in-exceptions\n",
    "def nao_aceito_zero(d):\n",
    "    if d == 0:\n",
    "        raise ZeroDivisionError('Você está tentando dividir por zero')\n",
    "    return True\n",
    "\n",
    "\n",
    "def deve_ser_int_ou_float(n):\n",
    "    tipo_n = type(n)\n",
    "    if not isinstance(n, (float, int)):\n",
    "        raise TypeError(\n",
    "            f'\"{n}\" deve ser int ou float. '\n",
    "            f'\"{tipo_n.__name__}\" enviado.'\n",
    "        )\n",
    "    return True\n",
    "\n",
    "\n",
    "def divide(n, d):\n",
    "    deve_ser_int_ou_float(n)\n",
    "    deve_ser_int_ou_float(d)\n",
    "    nao_aceito_zero(d)\n",
    "    return n / d\n",
    "\n",
    "print(f'--> 8 / 4: {divide(8, 4)}')\n",
    "\n",
    "print(f'--> 8 / 0: {divide(8, \"0\")}')"
   ]
  },
  {
   "cell_type": "markdown",
   "id": "e8a6eb21",
   "metadata": {},
   "source": [
    "[Summary](#Summary)"
   ]
  },
  {
   "cell_type": "markdown",
   "id": "e3829244",
   "metadata": {},
   "source": [
    "### 15. Estrutura de Repetição `while`  <a id='While'></a>"
   ]
  },
  {
   "cell_type": "code",
   "execution_count": 187,
   "id": "404d4ad3",
   "metadata": {},
   "outputs": [
    {
     "name": "stdout",
     "output_type": "stream",
     "text": [
      "Qual o seu nome (digite sair para encerrar): Júlio\n",
      "Seu nome é Júlio\n",
      "Qual o seu nome (digite sair para encerrar): Antônia\n",
      "Seu nome é Antônia\n",
      "Qual o seu nome (digite sair para encerrar): sair\n",
      "Seu nome é sair\n",
      "Acabou\n"
     ]
    }
   ],
   "source": [
    "\"\"\"\n",
    "Repetições\n",
    "while (enquanto)\n",
    "Executa uma ação enquanto uma condição for verdadeira\n",
    "Loop infinito -> Quando um código não tem fim\n",
    "\"\"\"\n",
    "condicao = True\n",
    "\n",
    "while condicao:\n",
    "    nome = input('Qual o seu nome (digite sair para encerrar): ')\n",
    "    print(f'Seu nome é {nome}')\n",
    "\n",
    "    if nome == 'sair':\n",
    "        break\n",
    "\n",
    "print('Acabou')"
   ]
  },
  {
   "cell_type": "code",
   "execution_count": 188,
   "id": "50ffe3f4",
   "metadata": {},
   "outputs": [
    {
     "name": "stdout",
     "output_type": "stream",
     "text": [
      "1\n",
      "2\n",
      "3\n",
      "4\n",
      "5\n",
      "6\n",
      "7\n",
      "8\n",
      "9\n",
      "10\n",
      "11\n",
      "Acabou\n"
     ]
    }
   ],
   "source": [
    "\"\"\"\n",
    "Repetições\n",
    "while (enquanto)\n",
    "Executa uma ação enquanto uma condição for verdadeira\n",
    "Loop infinito -> Quando um código não tem fim\n",
    "\"\"\"\n",
    "contador = 0\n",
    "\n",
    "while contador <= 10:\n",
    "    contador = contador + 1\n",
    "    print(contador)\n",
    "\n",
    "print('Acabou')"
   ]
  },
  {
   "cell_type": "code",
   "execution_count": 189,
   "id": "8cbe9ce9",
   "metadata": {},
   "outputs": [
    {
     "name": "stdout",
     "output_type": "stream",
     "text": [
      "2.0\n"
     ]
    }
   ],
   "source": [
    "\"\"\"\n",
    "Operadores de atribuição\n",
    "= += -= *= /= //= **= %=\n",
    "\"\"\"\n",
    "contador = 10\n",
    "\n",
    "contador /= 5\n",
    "print(contador)"
   ]
  },
  {
   "cell_type": "code",
   "execution_count": 190,
   "id": "ed958320",
   "metadata": {},
   "outputs": [
    {
     "name": "stdout",
     "output_type": "stream",
     "text": [
      "1\n",
      "2\n",
      "3\n",
      "4\n",
      "5\n",
      "Não vou mostrar o 6.\n",
      "7\n",
      "8\n",
      "9\n",
      "Não vou mostrar o 10\n",
      "Não vou mostrar o 11\n",
      "Não vou mostrar o 12\n",
      "Não vou mostrar o 13\n",
      "Não vou mostrar o 14\n",
      "Não vou mostrar o 15\n",
      "Não vou mostrar o 16\n",
      "Não vou mostrar o 17\n",
      "18\n",
      "19\n",
      "20\n",
      "21\n",
      "22\n",
      "23\n",
      "24\n",
      "25\n",
      "26\n",
      "27\n",
      "28\n",
      "29\n",
      "30\n",
      "Acabou\n"
     ]
    }
   ],
   "source": [
    "\"\"\"\n",
    "Repetições\n",
    "while (enquanto)\n",
    "Executa uma ação enquanto uma condição for verdadeira\n",
    "Loop infinito -> Quando um código não tem fim\n",
    "\"\"\"\n",
    "contador = 0\n",
    "\n",
    "while contador <= 40:\n",
    "    contador += 1\n",
    "\n",
    "    if contador == 6:\n",
    "        print('Não vou mostrar o 6.')\n",
    "        continue\n",
    "\n",
    "    if contador >= 10 and contador <= 17:\n",
    "        print('Não vou mostrar o', contador)\n",
    "        continue\n",
    "\n",
    "    print(contador)\n",
    "\n",
    "    if contador == 30:\n",
    "        break\n",
    "\n",
    "\n",
    "print('Acabou')"
   ]
  },
  {
   "cell_type": "code",
   "execution_count": 192,
   "id": "a1095845",
   "metadata": {},
   "outputs": [
    {
     "name": "stdout",
     "output_type": "stream",
     "text": [
      "linha=1 coluna=1\n",
      "linha=1 coluna=2\n",
      "linha=2 coluna=1\n",
      "linha=2 coluna=2\n",
      "linha=3 coluna=1\n",
      "linha=3 coluna=2\n",
      "Acabou\n"
     ]
    }
   ],
   "source": [
    "\"\"\"\n",
    "Repetições\n",
    "while (enquanto)\n",
    "Executa uma ação enquanto uma condição for verdadeira\n",
    "Loop infinito -> Quando um código não tem fim\n",
    "\"\"\"\n",
    "qtd_linhas = 3\n",
    "qtd_colunas = 2\n",
    "\n",
    "linha = 1\n",
    "while linha <= qtd_linhas:\n",
    "    coluna = 1\n",
    "    while coluna <= qtd_colunas:\n",
    "        print(f'{linha=} {coluna=}')\n",
    "        coluna += 1\n",
    "    linha += 1\n",
    "\n",
    "\n",
    "print('Acabou')"
   ]
  },
  {
   "cell_type": "code",
   "execution_count": 193,
   "id": "979fba3b",
   "metadata": {},
   "outputs": [
    {
     "name": "stdout",
     "output_type": "stream",
     "text": [
      "*M*a*r*i*a* *H*e*l*e*n*a*\n"
     ]
    }
   ],
   "source": [
    "\"\"\"\n",
    "Iterando strings com while\n",
    "\"\"\"\n",
    "#       012345678910\n",
    "# nome = 'Luiz Otávio'  # Iteráveis\n",
    "#      1110987654321\n",
    "\n",
    "\n",
    "nome = 'Maria Helena'  # Iteráveis\n",
    "\n",
    "indice = 0\n",
    "novo_nome = ''\n",
    "while indice < len(nome):\n",
    "    letra = nome[indice]\n",
    "    novo_nome += f'*{letra}'\n",
    "    indice += 1\n",
    "\n",
    "novo_nome += '*'\n",
    "print(novo_nome)"
   ]
  },
  {
   "cell_type": "code",
   "execution_count": 194,
   "id": "431b7f88",
   "metadata": {},
   "outputs": [
    {
     "name": "stdout",
     "output_type": "stream",
     "text": [
      "Digite um número: 5\n",
      "Digite outro número: 3\n",
      "Digite o operador (+-/*): +\n",
      "Realizando sua conta. Confira o resultado abaixo:\n",
      "5.0+3.0= 8.0\n",
      "Quer sair? [s]im: s\n"
     ]
    }
   ],
   "source": [
    "\"\"\" Calculadora com while \"\"\"\n",
    "while True:\n",
    "    numero_1 = input('Digite um número: ')\n",
    "    numero_2 = input('Digite outro número: ')\n",
    "    operador = input('Digite o operador (+-/*): ')\n",
    "\n",
    "    numeros_validos = None\n",
    "    num_1_float = 0\n",
    "    num_2_float = 0\n",
    "\n",
    "    try:\n",
    "        num_1_float = float(numero_1)\n",
    "        num_2_float = float(numero_2)\n",
    "        numeros_validos = True\n",
    "    except:\n",
    "        numeros_validos = None\n",
    "\n",
    "    if numeros_validos is None:\n",
    "        print('Um ou ambos os números digitados são inválidos.')\n",
    "        continue\n",
    "\n",
    "    operadores_permitidos = '+-/*'\n",
    "\n",
    "    if operador not in operadores_permitidos:\n",
    "        print('Operador inválido.')\n",
    "        continue\n",
    "\n",
    "    if len(operador) > 1:\n",
    "        print('Digite apenas um operador.')\n",
    "        continue\n",
    "\n",
    "    print('Realizando sua conta. Confira o resultado abaixo:')\n",
    "\n",
    "    if operador == '+':\n",
    "        print(f'{num_1_float}+{num_2_float}=', num_1_float + num_2_float)\n",
    "    elif operador == '-':\n",
    "        print(f'{num_1_float}-{num_2_float}=', num_1_float - num_2_float)\n",
    "    elif operador == '/':\n",
    "        print(f'{num_1_float}/{num_2_float}=', num_1_float / num_2_float)\n",
    "    elif operador == '*':\n",
    "        print(f'{num_1_float}*{num_2_float}=', num_1_float * num_2_float)\n",
    "    else:\n",
    "        print('Nunca deveria chegar aqui.')\n",
    "\n",
    "    sair = input('Quer sair? [s]im: ').lower().startswith('s')\n",
    "\n",
    "    if sair is True:\n",
    "        break"
   ]
  },
  {
   "cell_type": "code",
   "execution_count": 195,
   "id": "49ab45e7",
   "metadata": {},
   "outputs": [
    {
     "name": "stdout",
     "output_type": "stream",
     "text": [
      "V\n",
      "a\n",
      "l\n",
      "o\n",
      "r\n",
      "Fora do while.\n"
     ]
    }
   ],
   "source": [
    "\"\"\" while/else \"\"\"\n",
    "string = 'Valor qualquer'\n",
    "\n",
    "i = 0\n",
    "while i < len(string):\n",
    "    letra = string[i]\n",
    "\n",
    "    if letra == ' ':\n",
    "        break\n",
    "\n",
    "    print(letra)\n",
    "    i += 1\n",
    "else:\n",
    "    print('Não encontrei um espaço na string.')\n",
    "print('Fora do while.')"
   ]
  },
  {
   "cell_type": "code",
   "execution_count": 197,
   "id": "efdf678e",
   "metadata": {},
   "outputs": [
    {
     "name": "stdout",
     "output_type": "stream",
     "text": [
      "A letra que apareceu mais vezes foi \"e\" que apareceu 5x\n"
     ]
    }
   ],
   "source": [
    "frase = 'O céu está azul e conberto de nuvens'\n",
    "\n",
    "i = 0\n",
    "qtd_apareceu_mais_vezes = 0\n",
    "letra_apareceu_mais_vezes = ''\n",
    "\n",
    "while i < len(frase):\n",
    "    letra_atual = frase[i]\n",
    "\n",
    "    if letra_atual == ' ':\n",
    "        i += 1\n",
    "        continue\n",
    "\n",
    "    qtd_atual = frase.count(letra_atual)\n",
    "\n",
    "    if qtd_apareceu_mais_vezes <= qtd_atual:\n",
    "        qtd_apareceu_mais_vezes = qtd_atual\n",
    "        letra_apareceu_mais_vezes = letra_atual\n",
    "\n",
    "    i += 1\n",
    "\n",
    "print(\n",
    "    'A letra que apareceu mais vezes foi '\n",
    "    f'\"{letra_apareceu_mais_vezes}\" que apareceu '\n",
    "    f'{qtd_apareceu_mais_vezes}x'\n",
    ")"
   ]
  },
  {
   "cell_type": "markdown",
   "id": "8b0b6dc1",
   "metadata": {},
   "source": [
    "[Summary](#Summary)"
   ]
  },
  {
   "cell_type": "markdown",
   "id": "4fcacaf3",
   "metadata": {},
   "source": [
    "### 16. Estrutura de Repetição `for` <a id='For'></a>"
   ]
  },
  {
   "cell_type": "code",
   "execution_count": 214,
   "id": "7c63211e",
   "metadata": {},
   "outputs": [
    {
     "name": "stdout",
     "output_type": "stream",
     "text": [
      "[0, 8, 16, 24, 32, 40, 48, 56, 64, 72, 80, 88, 96]\n"
     ]
    }
   ],
   "source": [
    "\"\"\"\n",
    "For + Range\n",
    "range -> range(start, stop, step)\n",
    "\"\"\"\n",
    "numeros = range(0, 100, 8)\n",
    "lista_numeros = []\n",
    "\n",
    "for numero in numeros:\n",
    "    lista_numeros.append(numero)\n",
    "    \n",
    "print(lista_numeros)"
   ]
  },
  {
   "cell_type": "code",
   "execution_count": 202,
   "id": "bf6d8509",
   "metadata": {},
   "outputs": [
    {
     "name": "stdout",
     "output_type": "stream",
     "text": [
      "texto: Python\n",
      "texto_com_ast: *P*y*t*h*o*n\n"
     ]
    }
   ],
   "source": [
    "# senha_salva = '123456'\n",
    "# senha_digitada = ''\n",
    "# repeticoes = 0\n",
    "\n",
    "# while senha_salva != senha_digitada:\n",
    "#     senha_digitada = input(f'Sua senha ({repeticoes}x): ')\n",
    "\n",
    "#     repeticoes += 1\n",
    "\n",
    "# print(repeticoes)\n",
    "# print('Aquele laço acima pode ter repetições infinitas')\n",
    "texto = 'Python'\n",
    "print(f'texto: {texto}')\n",
    "\n",
    "texto_com_ast = ''\n",
    "for letra in texto:\n",
    "    texto_com_ast += f'*{letra}'\n",
    "print(f'texto_com_ast: {texto_com_ast}')"
   ]
  },
  {
   "cell_type": "code",
   "execution_count": 215,
   "id": "387d0ee9",
   "metadata": {},
   "outputs": [
    {
     "name": "stdout",
     "output_type": "stream",
     "text": [
      "L\n",
      "u\n",
      "i\n",
      "z\n"
     ]
    }
   ],
   "source": [
    "\"\"\"\n",
    "Iterável -> str, range, etc (__iter__)\n",
    "Iterador -> quem sabe entregar um valor por vez\n",
    "next -> me entregue o próximo valor\n",
    "iter -> me entregue seu iterador\n",
    "\"\"\"\n",
    "# for letra in texto\n",
    "texto = 'Luiz'  # iterável\n",
    "\n",
    "iteratador = iter(texto)  # iterator\n",
    "\n",
    "while True:\n",
    "     try:\n",
    "         letra = next(iteratador)\n",
    "         print(letra)\n",
    "     except StopIteration:\n",
    "         break"
   ]
  },
  {
   "cell_type": "code",
   "execution_count": 216,
   "id": "c3d3cce4",
   "metadata": {},
   "outputs": [
    {
     "name": "stdout",
     "output_type": "stream",
     "text": [
      "L\n",
      "u\n",
      "i\n",
      "z\n"
     ]
    }
   ],
   "source": [
    "for letra in texto:\n",
    "    print(letra)"
   ]
  },
  {
   "cell_type": "code",
   "execution_count": 220,
   "id": "bc95e8af",
   "metadata": {},
   "outputs": [
    {
     "name": "stdout",
     "output_type": "stream",
     "text": [
      "0 1\n",
      "0 2\n",
      "1 1\n",
      "1 2\n",
      "i é 2, pulando...\n",
      "3 1\n",
      "3 2\n",
      "4 1\n",
      "4 2\n",
      "5 1\n",
      "5 2\n",
      "6 1\n",
      "6 2\n",
      "7 1\n",
      "7 2\n",
      "8 1\n",
      "8 2\n",
      "9 1\n",
      "9 2\n",
      "For completo com sucesso!\n"
     ]
    }
   ],
   "source": [
    "for i in range(10):\n",
    "    if i == 2:\n",
    "        print('i é 2, pulando...')\n",
    "        continue\n",
    "\n",
    "    if i == 12:\n",
    "        print('i é 12, \"for j\" não executará')\n",
    "        break\n",
    "\n",
    "    for j in range(1, 3):\n",
    "        print(i, j)\n",
    "else:\n",
    "    print('For completo com sucesso!')"
   ]
  },
  {
   "cell_type": "code",
   "execution_count": 227,
   "id": "9ebd47d9",
   "metadata": {},
   "outputs": [
    {
     "name": "stdout",
     "output_type": "stream",
     "text": [
      "endereço de memória lista_a: 2396175126592\n",
      "endereço de memória lista_b: 2396175126656\n",
      "['Qualquer coisa', 'Maria', 1, True, 1.2]\n",
      "['Luiz', 'Maria', 1, True, 1.2]\n"
     ]
    }
   ],
   "source": [
    "\"\"\"\n",
    "Cuidados com dados mutáveis\n",
    "= - copiado o valor (imutáveis)\n",
    "= - aponta para o mesmo valor na memória (mutável)\n",
    "\"\"\"\n",
    "lista_a = ['Luiz', 'Maria', 1, True, 1.2]\n",
    "print(f'endereço de memória lista_a: {id(lista_a)}')\n",
    "lista_b = lista_a.copy()\n",
    "print(f'endereço de memória lista_b: {id(lista_b)}')\n",
    "\n",
    "lista_a[0] = 'Qualquer coisa'\n",
    "print(lista_a)\n",
    "print(lista_b)"
   ]
  },
  {
   "cell_type": "code",
   "execution_count": 228,
   "id": "94d46296",
   "metadata": {},
   "outputs": [
    {
     "name": "stdout",
     "output_type": "stream",
     "text": [
      "Maria <class 'str'>\n",
      "Helena <class 'str'>\n",
      "Luiz <class 'str'>\n"
     ]
    }
   ],
   "source": [
    "\"\"\"\n",
    "for in com listas\n",
    "\"\"\"\n",
    "lista = ['Maria', 'Helena', 'Luiz']\n",
    "\n",
    "for nome in lista:\n",
    "    print(nome, type(nome))"
   ]
  },
  {
   "cell_type": "markdown",
   "id": "30d9cf0c",
   "metadata": {},
   "source": [
    "[Summary](#Summary)"
   ]
  },
  {
   "cell_type": "markdown",
   "id": "03496ef5",
   "metadata": {},
   "source": [
    "### 17. Listas e Tuplas (Lists and Tuples) <a id='ListasETuplas'></a>"
   ]
  },
  {
   "cell_type": "code",
   "execution_count": 296,
   "id": "8b63a802",
   "metadata": {},
   "outputs": [
    {
     "name": "stdout",
     "output_type": "stream",
     "text": [
      "lista: [10, 20, 30, 40, 50, 60]\n",
      "indice: 0 - lista[0]: 10\n",
      "indice: 1 - lista[1]: 20\n",
      "indice: 2 - lista[2]: 30\n",
      "indice: 3 - lista[3]: 40\n",
      "indice: 4 - lista[4]: 50\n",
      "indice: 5 - lista[5]: 60\n"
     ]
    }
   ],
   "source": [
    "\"\"\"\n",
    "Listas em Python\n",
    "Tipo list - Mutável\n",
    "Suporta vários valores de qualquer tipo\n",
    "Conhecimentos reutilizáveis - índices e fatiamento\n",
    "Métodos úteis:\n",
    "    append, insert, pop, del, clear, extend, +\n",
    "Create Read Update   Delete\n",
    "Criar, ler, alterar, apagar = lista[i] (CRUD)\n",
    "\"\"\"\n",
    "#         0   1   2   3   4   5\n",
    "lista = [10, 20, 30, 40, 50, 60]\n",
    "\n",
    "print(f'lista: {lista}')\n",
    "\n",
    "for indice in range(len(lista)):\n",
    "    print(f'indice: {indice} - lista[{indice}]: {lista[indice]}')"
   ]
  },
  {
   "cell_type": "code",
   "execution_count": 297,
   "id": "074db1d0",
   "metadata": {},
   "outputs": [
    {
     "name": "stdout",
     "output_type": "stream",
     "text": [
      "[10, 20, 300, 40, 50, 60]\n"
     ]
    }
   ],
   "source": [
    "# modifica a lista em determinada posição (indice)\n",
    "lista[2] = 300\n",
    "print(lista)"
   ]
  },
  {
   "cell_type": "code",
   "execution_count": 298,
   "id": "ff54d914",
   "metadata": {},
   "outputs": [
    {
     "name": "stdout",
     "output_type": "stream",
     "text": [
      "[10, 20, 40, 50, 60]\n"
     ]
    }
   ],
   "source": [
    "# Exclui (deleta) determinado valor na lista, excluindo seu índice (sua posição)\n",
    "del lista[2]\n",
    "print(lista)"
   ]
  },
  {
   "cell_type": "code",
   "execution_count": 299,
   "id": "55e72a48",
   "metadata": {},
   "outputs": [
    {
     "name": "stdout",
     "output_type": "stream",
     "text": [
      "[10, 20, 40, 50, 60, 80]\n"
     ]
    }
   ],
   "source": [
    "# Inclui determinado valor no fim da lista\n",
    "lista.append(80)\n",
    "print(lista)"
   ]
  },
  {
   "cell_type": "code",
   "execution_count": 300,
   "id": "bf45d7e7",
   "metadata": {},
   "outputs": [
    {
     "data": {
      "text/plain": [
       "80"
      ]
     },
     "execution_count": 300,
     "metadata": {},
     "output_type": "execute_result"
    }
   ],
   "source": [
    "# Exibe e retira o último elemento da lista\n",
    "lista.pop()"
   ]
  },
  {
   "cell_type": "code",
   "execution_count": 301,
   "id": "251dacaa",
   "metadata": {},
   "outputs": [
    {
     "name": "stdout",
     "output_type": "stream",
     "text": [
      "[10, 20, 40, 50, 60]\n"
     ]
    }
   ],
   "source": [
    "# Exibe a lista após o pop\n",
    "print(lista)"
   ]
  },
  {
   "cell_type": "code",
   "execution_count": 246,
   "id": "f6bfd677",
   "metadata": {},
   "outputs": [
    {
     "name": "stdout",
     "output_type": "stream",
     "text": [
      "tupla_nomes: ('Maria', 'Helena', 'Luiz')\n",
      "lista_nomes: ['Maria', 'Helena', 'Luiz']\n",
      "Luiz\n",
      "Luiz\n"
     ]
    }
   ],
   "source": [
    "\"\"\"\n",
    "Tipo tupla - Uma lista imutável\n",
    "\"\"\"\n",
    "tupla_nomes = ('Maria', 'Helena', 'Luiz')\n",
    "print(f'tupla_nomes: {tupla_nomes}')\n",
    "lista_nomes = ['Maria', 'Helena', 'Luiz']\n",
    "print(f'lista_nomes: {lista_nomes}')\n",
    "print(tupla_nomes[-1])\n",
    "print(lista_nomes[-1])"
   ]
  },
  {
   "cell_type": "code",
   "execution_count": 255,
   "id": "91f56972",
   "metadata": {
    "scrolled": true
   },
   "outputs": [
    {
     "name": "stdout",
     "output_type": "stream",
     "text": [
      "0  -  Maria  -  Maria\n",
      "1  -  Helena  -  Helena\n",
      "2  -  Luiz  -  Luiz\n",
      "3  -  João  -  João\n",
      "---\n",
      "(0, 'Maria')\n",
      "(1, 'Helena')\n",
      "(2, 'Luiz')\n",
      "(3, 'João')\n",
      "---\n",
      "indice: 0 - nome: Maria\n",
      "indice: 1 - nome: Helena\n",
      "indice: 2 - nome: Luiz\n",
      "indice: 3 - nome: João\n"
     ]
    }
   ],
   "source": [
    "\"\"\"\n",
    "enumerate - enumera iteráveis (índices)\n",
    "\"\"\"\n",
    "# [(0, 'Maria'), (1, 'Helena'), (2, 'Luiz'), (3, 'João')]\n",
    "lista = ['Maria', 'Helena', 'Luiz']\n",
    "lista.append('João')\n",
    "\n",
    "for indice, nome in enumerate(lista):\n",
    "    print(indice, ' - ', nome, ' - ', lista[indice])\n",
    "\n",
    "print('---')\n",
    "lista_enumerate = enumerate(lista)\n",
    "for item in lista_enumerate:\n",
    "    print(item)\n",
    "    \n",
    "print('---')\n",
    "for indice,nome in enumerate(lista):\n",
    "    print(f'indice: {indice} - nome: {nome}')"
   ]
  },
  {
   "cell_type": "code",
   "execution_count": 310,
   "id": "4911fbed",
   "metadata": {},
   "outputs": [
    {
     "name": "stdout",
     "output_type": "stream",
     "text": [
      "   Que dia é hoje?    Hoje é domingo   \n",
      "['   Que dia é hoje', '    Hoje é domingo   ']\n"
     ]
    }
   ],
   "source": [
    "\"\"\"\n",
    "split e join com list e str\n",
    "split - divide uma string (list)\n",
    "join - une uma string\n",
    "\"\"\"\n",
    "frase_completa = '   Que dia é hoje?    Hoje é domingo   '  \n",
    "print(frase_completa)\n",
    "\n",
    "lista_frases_separadas = frase_completa.split('?')\n",
    "print(lista_frases_separadas)"
   ]
  },
  {
   "cell_type": "code",
   "execution_count": 311,
   "id": "85cc0027",
   "metadata": {},
   "outputs": [
    {
     "name": "stdout",
     "output_type": "stream",
     "text": [
      "['Que dia é hoje', 'Hoje é domingo']\n"
     ]
    }
   ],
   "source": [
    "lista_frases = []\n",
    "for i, frase in enumerate(lista_frases_separadas):\n",
    "    lista_frases.append(lista_frases_separadas[i].strip())\n",
    "\n",
    "print(lista_frases)"
   ]
  },
  {
   "cell_type": "code",
   "execution_count": 312,
   "id": "1a955e99",
   "metadata": {},
   "outputs": [
    {
     "name": "stdout",
     "output_type": "stream",
     "text": [
      "Que dia é hoje? Hoje é domingo\n"
     ]
    }
   ],
   "source": [
    "frases_unidas = '? '.join(lista_frases)\n",
    "print(frases_unidas)"
   ]
  },
  {
   "cell_type": "code",
   "execution_count": 315,
   "id": "42819407",
   "metadata": {},
   "outputs": [
    {
     "name": "stdout",
     "output_type": "stream",
     "text": [
      "Elaine\n",
      "Helena\n",
      "Eduarda\n"
     ]
    }
   ],
   "source": [
    "\"\"\"\n",
    "Lista de listas e seus índices\n",
    "\"\"\"\n",
    "salas = [\n",
    "    # col0        col1\n",
    "    ['Maria', 'Helena', ],  # Linha 0\n",
    "    # col0\n",
    "    ['Elaine', ],  # Linha 1\n",
    "    # col0    col1      col2\n",
    "    ['Luiz', 'João', 'Eduarda', ],  # Linha 2\n",
    "]\n",
    "\n",
    "print(salas[1][0]) # Elaine --> linha 1, col 0\n",
    "print(salas[0][1]) # Helena --> linha 0, col 1\n",
    "print(salas[2][2]) # Eduarda --> linha 2, col 2"
   ]
  },
  {
   "cell_type": "code",
   "execution_count": 319,
   "id": "c487de61",
   "metadata": {},
   "outputs": [
    {
     "name": "stdout",
     "output_type": "stream",
     "text": [
      "A sala é ['Maria', 'Helena']\n",
      "Maria\n",
      "Helena\n",
      "A sala é ['Elaine']\n",
      "Elaine\n",
      "A sala é ['Luiz', 'João', 'Eduarda']\n",
      "Luiz\n",
      "João\n",
      "Eduarda\n"
     ]
    }
   ],
   "source": [
    "for sala in salas:\n",
    "    print(f'A sala é {sala}')\n",
    "    for aluno in sala:\n",
    "        print(aluno)"
   ]
  },
  {
   "cell_type": "code",
   "execution_count": 326,
   "id": "96f2de59",
   "metadata": {},
   "outputs": [
    {
     "name": "stdout",
     "output_type": "stream",
     "text": [
      "primeiro: Maria - segundo: Helena - penultimo: Karla - ultimo: Eduarda\n"
     ]
    }
   ],
   "source": [
    "# Desempacotamento em chamadas\n",
    "# de métodos e funções\n",
    "lista = ['Maria', 'Helena', 1, 2, 3, 'Karla', 'Eduarda']\n",
    "\n",
    "primeiro, segundo, *_, penultimo, ultimo = lista\n",
    "print(f'primeiro: {primeiro} - segundo: {segundo} - penultimo: {penultimo} - ultimo: {ultimo}')"
   ]
  },
  {
   "cell_type": "code",
   "execution_count": 329,
   "id": "76accbfe",
   "metadata": {},
   "outputs": [
    {
     "name": "stdout",
     "output_type": "stream",
     "text": [
      "Maria Helena 1 2 3 Karla Eduarda\n"
     ]
    }
   ],
   "source": [
    "# Desempacota a lista\n",
    "print(*lista)"
   ]
  },
  {
   "cell_type": "code",
   "execution_count": 511,
   "id": "cfa7c8ac",
   "metadata": {},
   "outputs": [
    {
     "name": "stdout",
     "output_type": "stream",
     "text": [
      "[['Maria', 'Helena'], ['Elaine'], ['Luiz', 'João', 'Eduarda']]\n",
      "['Maria', 'Helena'] ['Elaine'] ['Luiz', 'João', 'Eduarda']\n"
     ]
    }
   ],
   "source": [
    "# Desempacotamento em chamadas\n",
    "# de métodos e funções\n",
    "salas = [\n",
    "    # 0        1\n",
    "    ['Maria', 'Helena', ],  # 0\n",
    "    # 0\n",
    "    ['Elaine', ],  # 1\n",
    "    # 0       1       2\n",
    "    ['Luiz', 'João', 'Eduarda', ],  # 2\n",
    "]\n",
    "\n",
    "print(salas)\n",
    "print(*salas)"
   ]
  },
  {
   "cell_type": "markdown",
   "id": "33638a46",
   "metadata": {},
   "source": [
    "[Summary](#Summary)"
   ]
  },
  {
   "cell_type": "markdown",
   "id": "68547f36",
   "metadata": {},
   "source": [
    "### 18. Dicionarios (Dictionary) <a id='Dicionarios'></a>"
   ]
  },
  {
   "cell_type": "code",
   "execution_count": 461,
   "id": "12c50813",
   "metadata": {},
   "outputs": [
    {
     "name": "stdout",
     "output_type": "stream",
     "text": [
      "Luiz\n",
      "Luiz\n",
      "Luiz\n",
      "{'sobrenome': 'Miranda'}\n",
      "('sobrenome', 'Miranda')\n",
      "{}\n",
      "{'nome': 'novo valor', 'idade': 30}\n"
     ]
    }
   ],
   "source": [
    "# Métodos úteis dos dicionários em Python\n",
    "# len - quantas chaves\n",
    "# keys - iterável com as chaves\n",
    "# values - iterável com os valores\n",
    "# items - iterável com chaves e valores\n",
    "# setdefault - adiciona valor se a chave não existe\n",
    "# copy - retorna uma cópia rasa (shallow copy)\n",
    "# get - obtém uma chave\n",
    "# pop - Apaga um item com a chave especificada (del)\n",
    "# popitem - Apaga o último item adicionado\n",
    "# update - Atualiza um dicionário com outro\n",
    "p1 = {\n",
    "    'nome': 'Luiz',\n",
    "    'sobrenome': 'Miranda',\n",
    "}\n",
    "print(p1['nome'])\n",
    "print(p1.get('nome', 'Não existe'))\n",
    "nome = p1.pop('nome')\n",
    "print(nome)\n",
    "print(p1)\n",
    "ultima_chave = p1.popitem()\n",
    "print(ultima_chave)\n",
    "print(p1)\n",
    "p1.update({\n",
    "     'nome': 'novo valor',\n",
    "     'idade': 30,\n",
    " })\n",
    "p1.update(nome='novo valor', idade=30)\n",
    "tupla = (('nome', 'novo valor'), ('idade', 30))\n",
    "lista = [['nome', 'novo valor'], ['idade', 30]]\n",
    "p1.update(lista)\n",
    "print(p1)"
   ]
  },
  {
   "cell_type": "markdown",
   "id": "b45d39c1",
   "metadata": {},
   "source": [
    "[Summary](#Summary)"
   ]
  },
  {
   "cell_type": "markdown",
   "id": "79ea2ab5",
   "metadata": {},
   "source": [
    "### 19. Empacotamento e desempacotamento de dicionários (Packing and Unpacking of Dictionaries) <a id='EmpacotDesempacotDict'></a>"
   ]
  },
  {
   "cell_type": "code",
   "execution_count": 500,
   "id": "ae31bf89",
   "metadata": {},
   "outputs": [
    {
     "name": "stdout",
     "output_type": "stream",
     "text": [
      "1 2\n",
      "2 1\n",
      "---\n",
      "nome Aline\n",
      "sobrenome Souza\n",
      "---\n",
      "idade 16\n",
      "altura 1.6\n",
      "---\n",
      "{'nome': 'Aline', 'sobrenome': 'Souza', 'idade': 16, 'altura': 1.6}\n"
     ]
    }
   ],
   "source": [
    "# Empacotamento e desempacotamento de dicionários\n",
    "a, b = 1, 2\n",
    "print(a, b)\n",
    "a, b = b, a\n",
    "print(a, b)\n",
    "\n",
    "print('---')\n",
    "\n",
    "pessoa = {\n",
    "    'nome': 'Aline',\n",
    "    'sobrenome': 'Souza',\n",
    "}\n",
    "\n",
    "for chave, valor in pessoa.items():\n",
    "    print(chave, valor)\n",
    "    \n",
    "print('---')\n",
    "\n",
    "dados_pessoa = {\n",
    "    'idade': 16,\n",
    "    'altura': 1.6,\n",
    "}\n",
    "\n",
    "for chave, valor in dados_pessoa.items():\n",
    "    print(chave, valor)\n",
    "    \n",
    "print('---')\n",
    "\n",
    "pessoas_completa = {**pessoa, **dados_pessoa}\n",
    "print(pessoas_completa)"
   ]
  },
  {
   "cell_type": "code",
   "execution_count": 502,
   "id": "b3b38ee4",
   "metadata": {},
   "outputs": [
    {
     "name": "stdout",
     "output_type": "stream",
     "text": [
      "NÃO NOMEADOS: ()\n",
      "nome Joana\n",
      "qlq 123\n",
      "NÃO NOMEADOS: ()\n",
      "nome Aline\n",
      "sobrenome Souza\n",
      "idade 16\n",
      "altura 1.6\n",
      "NÃO NOMEADOS: ()\n",
      "arg1 1\n",
      "arg2 2\n",
      "arg3 3\n",
      "arg4 4\n"
     ]
    }
   ],
   "source": [
    "# args e kwargs\n",
    "# args (já vimos)\n",
    "# kwargs - keyword arguments (argumentos nomeados)\n",
    "\n",
    "\n",
    "def mostro_argumentos_nomeados(*args, **kwargs):\n",
    "    print('NÃO NOMEADOS:', args)\n",
    "\n",
    "    for chave, valor in kwargs.items():\n",
    "        print(chave, valor)\n",
    "\n",
    "mostro_argumentos_nomeados(nome='Joana', qlq=123)\n",
    "mostro_argumentos_nomeados(**pessoas_completa)\n",
    "\n",
    "configuracoes = {\n",
    "    'arg1': 1,\n",
    "    'arg2': 2,\n",
    "    'arg3': 3,\n",
    "    'arg4': 4,\n",
    "}\n",
    "mostro_argumentos_nomeados(**configuracoes)\n"
   ]
  },
  {
   "cell_type": "code",
   "execution_count": 507,
   "id": "c3b114e5",
   "metadata": {},
   "outputs": [
    {
     "name": "stdout",
     "output_type": "stream",
     "text": [
      "dict_items([('nome', 'Aline'), ('sobrenome', 'Souza')])\n",
      "nome Aline\n",
      "sobrenome Souza\n"
     ]
    }
   ],
   "source": [
    "# Desempacotamento de dicionário\n",
    "pessoa = {\n",
    "    'nome': 'Aline',\n",
    "    'sobrenome': 'Souza',\n",
    "}\n",
    "\n",
    "print(pessoa.items())\n",
    "\n",
    "(a1, a2), (b1, b2) = pessoa.items()\n",
    "print(a1, a2)\n",
    "print(b1, b2)"
   ]
  },
  {
   "cell_type": "markdown",
   "id": "9affb705",
   "metadata": {},
   "source": [
    "[Summary](#Summary)"
   ]
  },
  {
   "cell_type": "markdown",
   "id": "48e15ec5",
   "metadata": {},
   "source": [
    "### 20. Sets <a id='Sets'></a>"
   ]
  },
  {
   "cell_type": "code",
   "execution_count": 467,
   "id": "d5d8ea5b",
   "metadata": {},
   "outputs": [
    {
     "name": "stdout",
     "output_type": "stream",
     "text": [
      "s1: {'z', 'u', 'L', 'i'}\n",
      "s2: set()\n",
      "s3: {'Luiz', 1, 2, 3}\n"
     ]
    }
   ],
   "source": [
    "# Sets - Conjuntos em Python (tipo set)\n",
    "# Conjuntos são ensinados na matemática\n",
    "# https://brasilescola.uol.com.br/matematica/conjunto.htm\n",
    "# Representados graficamente pelo diagrama de Venn\n",
    "# Sets em Python são mutáveis, porém aceitam apenas\n",
    "# tipos imutáveis como valor interno.\n",
    "\n",
    "# Criando um set\n",
    "# set(iterável) ou {1, 2, 3}\n",
    "s1 = set('Luiz')\n",
    "s2 = set()  # vazio\n",
    "s3 = {'Luiz', 1, 2, 3}  # com dados\n",
    "print(f's1: {s1}')\n",
    "print(f's2: {s2}')\n",
    "print(f's3: {s3}')"
   ]
  },
  {
   "cell_type": "code",
   "execution_count": 468,
   "id": "34c46bf9",
   "metadata": {},
   "outputs": [
    {
     "name": "stdout",
     "output_type": "stream",
     "text": [
      "l1: [1, 2, 3, 3, 3, 3, 3, 1]\n",
      "s4: {1, 2, 3}\n",
      "l2: [1, 2, 3]\n"
     ]
    }
   ],
   "source": [
    "# Sets são eficientes para remover valores duplicados\n",
    "# de iteráveis.\n",
    "# - Seus valores serão sempre únicos;\n",
    "# - Não aceitam valores mutáveis;\n",
    "# - não tem índexes;\n",
    "# - não garantem ordem;\n",
    "# - são iteráveis (for, in, not in)\n",
    "l1 = [1, 2, 3, 3, 3, 3, 3, 1]\n",
    "s4 = set(l1)\n",
    "l2 = list(s4)\n",
    "print(f'l1: {l1}')\n",
    "print(f's4: {s4}')\n",
    "print(f'l2: {l2}')"
   ]
  },
  {
   "cell_type": "code",
   "execution_count": 470,
   "id": "4ce66316",
   "metadata": {},
   "outputs": [
    {
     "name": "stdout",
     "output_type": "stream",
     "text": [
      "True\n",
      "False\n",
      "1\n",
      "2\n",
      "3\n"
     ]
    }
   ],
   "source": [
    "s1 = {1, 2, 3}\n",
    "\n",
    "print(3 in s1)\n",
    "print(5 in s1)\n",
    "\n",
    "for numero in s1:\n",
    "    print(numero)"
   ]
  },
  {
   "cell_type": "code",
   "execution_count": 473,
   "id": "76798af0",
   "metadata": {},
   "outputs": [
    {
     "name": "stdout",
     "output_type": "stream",
     "text": [
      "{1, 2, 3, 4}\n",
      "---\n",
      "set()\n"
     ]
    }
   ],
   "source": [
    "# Métodos úteis:\n",
    "# add, update, clear, discard\n",
    "s1 = set()\n",
    "s1.add('Luiz')\n",
    "s1.add(1)\n",
    "s1.update(('Olá mundo', 1, 2, 3, 4))\n",
    "s1.discard('Olá mundo')\n",
    "s1.discard('Luiz')\n",
    "print(s1)\n",
    "\n",
    "print('---')\n",
    "s1.clear()\n",
    "print(s1)"
   ]
  },
  {
   "cell_type": "code",
   "execution_count": 478,
   "id": "1268c31d",
   "metadata": {},
   "outputs": [
    {
     "name": "stdout",
     "output_type": "stream",
     "text": [
      "s1: {1, 2, 3}\n",
      "s2: {2, 3, 4}\n",
      "s3 = s1 | s2: {1, 2, 3, 4}\n",
      "s4 = s1 & s2: {2, 3}\n",
      "s5 = s2 - s1: {4}\n",
      "s6 = s1 ^ s2: {1, 4}\n"
     ]
    }
   ],
   "source": [
    "# Operadores úteis:\n",
    "# união | união (union) - Une\n",
    "# intersecção & (intersection) - Itens presentes em ambos\n",
    "# diferença - Itens presentes apenas no set da esquerda\n",
    "# diferença simétrica ^ - Itens que não estão em ambos\n",
    "s1 = {1, 2, 3}\n",
    "print(f's1: {s1}')\n",
    "\n",
    "s2 = {2, 3, 4}\n",
    "print(f's2: {s2}')\n",
    "\n",
    "s3 = s1 | s2 # união\n",
    "print(f's3 = s1 | s2: {s3}')\n",
    "\n",
    "s4 = s1 & s2 # intersecção\n",
    "print(f's4 = s1 & s2: {s4}')\n",
    "\n",
    "s5 = s2 - s1 # diferença\n",
    "print(f's5 = s2 - s1: {s5}')\n",
    "\n",
    "s6 = s1 ^ s2 # diferença simétrica\n",
    "print(f's6 = s1 ^ s2: {s6}')"
   ]
  },
  {
   "cell_type": "markdown",
   "id": "55ce50ec",
   "metadata": {},
   "source": [
    "[Summary](#Summary)"
   ]
  },
  {
   "cell_type": "markdown",
   "id": "997e9f31",
   "metadata": {},
   "source": [
    "## 2. Nível Prata (Silver: Intermediary)"
   ]
  },
  {
   "cell_type": "markdown",
   "id": "d87c567a",
   "metadata": {},
   "source": [
    "### 1. Funções (Functions) <a id='Funcoes'></a>"
   ]
  },
  {
   "cell_type": "code",
   "execution_count": 383,
   "id": "9f4b7caf",
   "metadata": {},
   "outputs": [
    {
     "name": "stdout",
     "output_type": "stream",
     "text": [
      "Olá, Luiz Otávio!\n",
      "Olá, Maria!\n",
      "Olá, Helena!\n",
      "Olá, Sem nome!\n"
     ]
    }
   ],
   "source": [
    "\"\"\"\n",
    "Introdução às funções (def) em Python\n",
    "Funções são trechos de código usados para \n",
    "replicar determinada ação ao longo do seu código.\n",
    "Elas podem receber valores para parâmetros (argumentos) \n",
    "e retornar um valor específico.\n",
    "Por padrão, funções Python retornam None (nada).\n",
    "\"\"\"\n",
    "\n",
    "def saudacao(nome='Sem nome'):\n",
    "    print(f'Olá, {nome}!')\n",
    "\n",
    "\n",
    "saudacao('Luiz Otávio')\n",
    "saudacao('Maria')\n",
    "saudacao('Helena')\n",
    "saudacao()"
   ]
  },
  {
   "cell_type": "code",
   "execution_count": 385,
   "id": "496eb930",
   "metadata": {},
   "outputs": [
    {
     "name": "stdout",
     "output_type": "stream",
     "text": [
      "1 2 3\n",
      "4 5 6\n"
     ]
    }
   ],
   "source": [
    "# Imprime os três parâmetros recebidos\n",
    "def imprimir(a, b, c):\n",
    "    print(a, b, c)\n",
    "\n",
    "imprimir(1, 2, 3)\n",
    "imprimir(4, 5, 6)"
   ]
  },
  {
   "cell_type": "code",
   "execution_count": 386,
   "id": "54a49fb7",
   "metadata": {},
   "outputs": [
    {
     "name": "stdout",
     "output_type": "stream",
     "text": [
      "x=1 y=2 z=3 | x + y + z =  6\n",
      "x=1 y=2 z=5 | x + y + z =  8\n",
      "1-2-3\n"
     ]
    }
   ],
   "source": [
    "\"\"\"\n",
    "Argumentos nomeados e não nomeados em funções Python\n",
    "Argumento nomeado tem nome com sinal de igual\n",
    "Argumento não nomeado recebe apenas o argumento (valor)\n",
    "\"\"\"\n",
    "\n",
    "\n",
    "def soma(x, y, z):\n",
    "    # Definição\n",
    "    print(f'{x=} y={y} {z=}', '|', 'x + y + z = ', x + y + z)\n",
    "\n",
    "\n",
    "soma(1, 2, 3)\n",
    "soma(1, y=2, z=5)\n",
    "\n",
    "print(1, 2, 3, sep='-')"
   ]
  },
  {
   "cell_type": "code",
   "execution_count": 390,
   "id": "e0f3a442",
   "metadata": {},
   "outputs": [
    {
     "name": "stdout",
     "output_type": "stream",
     "text": [
      "x=3 y=5 <> x + y: 8\n",
      "x=2 y=9 z=-1 <> x + y + z: 10\n"
     ]
    }
   ],
   "source": [
    "\"\"\"\n",
    "Valores padrão para parâmetros\n",
    "Ao definir uma função, os parâmetros podem\n",
    "ter valores padrão. Caso o valor não seja\n",
    "enviado para o parâmetro, o valor padrão será\n",
    "usado.\n",
    "Refatorar: editar o seu código.\n",
    "\"\"\"\n",
    "\n",
    "def soma(x, y, z=None):\n",
    "    if z is not None:\n",
    "        print(f'{x=} {y=} {z=} <> x + y + z: {x + y + z}')\n",
    "    else:\n",
    "        print(f'{x=} {y=} <> x + y: {x + y}')\n",
    "\n",
    "soma(3,5)\n",
    "\n",
    "soma(2,9,-1)"
   ]
  },
  {
   "cell_type": "code",
   "execution_count": 407,
   "id": "ea4da0e5",
   "metadata": {},
   "outputs": [
    {
     "name": "stdout",
     "output_type": "stream",
     "text": [
      "x antes de executar funcao_xy: 10\n",
      "y antes de executar funcao_xy: 15\n",
      "x interno: 20\n",
      "y interno: 30\n",
      "x após executar funcao_xy: 10\n",
      "y após executar funcao_xy: 30\n"
     ]
    }
   ],
   "source": [
    "# Escopo da função\n",
    "\"\"\"\n",
    "Escopo de funções em Python\n",
    "Escopo significa o local onde aquele código pode atingir.\n",
    "Existe o escopo global e local.\n",
    "O escopo global é o escopo onde todo o código é alcançavel.\n",
    "O escopo local é o escopo onde apenas nomes do mesmo local\n",
    "podem ser alcançados.\n",
    "\n",
    "Não temos acesso a nomes de escopos internos nos escopos\n",
    "externos.\n",
    "A palavra global faz uma variável do escopo externo \n",
    "ser a mesma no escopo interno.\n",
    "\"\"\"\n",
    "\n",
    "x = 10 # escopo global\n",
    "y = 15 # escopo global\n",
    "\n",
    "def funcao_xy():\n",
    "    global y\n",
    "    y = 30\n",
    "    x = 20 # escopo local\n",
    "    print(f'x interno: {x}') # refere-se ao x local\n",
    "    print(f'y interno: {y}')\n",
    "    \n",
    "    \n",
    "print(f'x antes de executar funcao_xy: {x}') # refere-se ao x global\n",
    "print(f'y antes de executar funcao_xy: {y}')\n",
    "\n",
    "funcao_xy()\n",
    "\n",
    "print(f'x após executar funcao_xy: {x}') # refere-se ao x global\n",
    "print(f'y após executar funcao_xy: {y}')\n"
   ]
  },
  {
   "cell_type": "code",
   "execution_count": 409,
   "id": "d2428c92",
   "metadata": {},
   "outputs": [
    {
     "name": "stdout",
     "output_type": "stream",
     "text": [
      "4\n",
      "6\n",
      "[10, 20]\n"
     ]
    }
   ],
   "source": [
    "\"\"\"\n",
    "Retorno de valores das funções (return)\n",
    "\"\"\"\n",
    "\n",
    "\n",
    "def soma(x, y):\n",
    "    if x > 10:\n",
    "        return [10, 20]\n",
    "    return x + y\n",
    "\n",
    "soma1 = soma(2, 2)\n",
    "soma2 = soma(3, 3)\n",
    "print(soma1)\n",
    "print(soma2)\n",
    "print(soma(11, 55))"
   ]
  },
  {
   "cell_type": "code",
   "execution_count": 412,
   "id": "6e567bf5",
   "metadata": {},
   "outputs": [
    {
     "name": "stdout",
     "output_type": "stream",
     "text": [
      "x: 1, y: 2, resto: [3, 4, 5, 6, 7]\n",
      "8\n",
      "6\n",
      "15\n"
     ]
    }
   ],
   "source": [
    "# Argumentos não nomeados\n",
    "\"\"\"\n",
    "args - Argumentos não nomeados\n",
    "* - *args (empacotamento e desempacotamento)\n",
    "\"\"\"\n",
    "\n",
    "x, y, *resto = 1, 2, 3, 4, 5, 6, 7\n",
    "print(f'x: {x}, y: {y}, resto: {resto}')\n",
    "\n",
    "\n",
    "def soma(x, y):\n",
    "    return x + y\n",
    "\n",
    "print(soma(3,5))\n",
    "\n",
    "def soma_args(*args):\n",
    "    total = 0\n",
    "    for numero in args:\n",
    "        total += numero\n",
    "    return total\n",
    "\n",
    "\n",
    "soma_1_2_3 = soma_args(1, 2, 3)\n",
    "print(soma_1_2_3)\n",
    "\n",
    "soma_4_5_6 = soma_args(4, 5, 6)\n",
    "print(soma_4_5_6)"
   ]
  },
  {
   "cell_type": "code",
   "execution_count": 414,
   "id": "f9cd3253",
   "metadata": {},
   "outputs": [
    {
     "name": "stdout",
     "output_type": "stream",
     "text": [
      "116\n",
      "1 2 3 4 5 6 7 78 10\n"
     ]
    }
   ],
   "source": [
    "numeros = 1, 2, 3, 4, 5, 6, 7, 78, 10\n",
    "outra_soma = soma_args(*numeros)\n",
    "print(outra_soma)\n",
    "print(*numeros)"
   ]
  },
  {
   "cell_type": "code",
   "execution_count": 418,
   "id": "ed8d71c7",
   "metadata": {},
   "outputs": [
    {
     "name": "stdout",
     "output_type": "stream",
     "text": [
      "Bom dia, Luiz!\n",
      "Boa noite, Maria!\n"
     ]
    }
   ],
   "source": [
    "\"\"\"\n",
    "Higher Order Functions\n",
    "Funções de primeira classe\n",
    "\"\"\"\n",
    "\n",
    "\n",
    "def saudacao(msg, nome):\n",
    "    return f'{msg}, {nome}!'\n",
    "\n",
    "\n",
    "def executa(funcao, *args):\n",
    "    return funcao(*args)\n",
    "\n",
    "\n",
    "print(\n",
    "    executa(saudacao, 'Bom dia', 'Luiz')\n",
    ")\n",
    "print(\n",
    "    executa(saudacao, 'Boa noite', 'Maria')\n",
    ")"
   ]
  },
  {
   "cell_type": "code",
   "execution_count": 438,
   "id": "6a5f8452",
   "metadata": {},
   "outputs": [
    {
     "name": "stdout",
     "output_type": "stream",
     "text": [
      "2 + 3: 5\n",
      "2 - 3: -1\n"
     ]
    }
   ],
   "source": [
    "\"\"\"\n",
    "Higher Order Functions\n",
    "Funções de primeira classe\n",
    "\"\"\"\n",
    "\n",
    "def soma(a, b):\n",
    "    return a + b\n",
    "\n",
    "def subtracao(a, b):\n",
    "    return a - b\n",
    "\n",
    "def executa(funcao, *args):\n",
    "    return funcao(*args)\n",
    "\n",
    "print(f'2 + 3: {executa(soma, 2, 3)}')\n",
    "print(f'2 - 3: {executa(subtracao, 2, 3)}')"
   ]
  },
  {
   "cell_type": "code",
   "execution_count": 442,
   "id": "56d2a526",
   "metadata": {},
   "outputs": [
    {
     "name": "stdout",
     "output_type": "stream",
     "text": [
      "Bom dia, João\n"
     ]
    }
   ],
   "source": [
    "\"\"\"\n",
    "Closure e funções que retornam outras funções\n",
    "\"\"\"\n",
    "\n",
    "def criar_saudacao(saudacao,nome):\n",
    "    return f'{saudacao}, {nome}'\n",
    "\n",
    "bom_dia = 'Bom dia'\n",
    "boa_noite = 'Boa noite'\n",
    "\n",
    "print(criar_saudacao(bom_dia, 'João'))"
   ]
  },
  {
   "cell_type": "code",
   "execution_count": 452,
   "id": "0d516d50",
   "metadata": {},
   "outputs": [
    {
     "name": "stdout",
     "output_type": "stream",
     "text": [
      "Bom dia, Jonas\n"
     ]
    }
   ],
   "source": [
    "\"\"\"\n",
    "Closure e funções que retornam outras funções\n",
    "\"\"\"\n",
    "\n",
    "def criar_saudacao(saudacao):\n",
    "    def saudar(nome):\n",
    "        return f'{saudacao}, {nome}'\n",
    "    return saudar\n",
    "\n",
    "bom_dia = criar_saudacao('Bom dia')\n",
    "\n",
    "print(bom_dia('Jonas'))"
   ]
  },
  {
   "cell_type": "code",
   "execution_count": 133,
   "id": "e977f8a5",
   "metadata": {},
   "outputs": [
    {
     "name": "stdout",
     "output_type": "stream",
     "text": [
      "Bom dia, Maria!\n",
      "Boa noite, Maria!\n",
      "Bom dia, Joana!\n",
      "Boa noite, Joana!\n",
      "Bom dia, Luiz!\n",
      "Boa noite, Luiz!\n"
     ]
    }
   ],
   "source": [
    "\"\"\"\n",
    "Closure e funções que retornam outras funções\n",
    "\"\"\"\n",
    "\n",
    "def criar_saudacao(saudacao):\n",
    "    def saudar(nome):\n",
    "        return f'{saudacao}, {nome}!'\n",
    "    return saudar\n",
    "\n",
    "\n",
    "falar_bom_dia = criar_saudacao('Bom dia')\n",
    "falar_boa_noite = criar_saudacao('Boa noite')\n",
    "\n",
    "for nome in ['Maria', 'Joana', 'Luiz']:\n",
    "    print(falar_bom_dia(nome))\n",
    "    print(falar_boa_noite(nome))"
   ]
  },
  {
   "cell_type": "markdown",
   "id": "4bd5d816",
   "metadata": {},
   "source": [
    "[Summary](#Summary)"
   ]
  },
  {
   "cell_type": "markdown",
   "id": "44c72a44",
   "metadata": {},
   "source": [
    "### 2. Funções Lambda (Lambda Function) <a id='FuncoesLambda'></a>"
   ]
  },
  {
   "cell_type": "code",
   "execution_count": 486,
   "id": "7b253926",
   "metadata": {},
   "outputs": [
    {
     "name": "stdout",
     "output_type": "stream",
     "text": [
      "{'nome': 'Luiz', 'sobrenome': 'Miranda'}\n",
      "{'nome': 'Maria', 'sobrenome': 'Oliveira'}\n",
      "{'nome': 'Daniel', 'sobrenome': 'Silva'}\n",
      "{'nome': 'Eduardo', 'sobrenome': 'Moreira'}\n",
      "{'nome': 'Aline', 'sobrenome': 'Souza'}\n",
      "\n"
     ]
    }
   ],
   "source": [
    "# Introdução à função lambda (função anônima de uma linha)\n",
    "# A função lambda é uma função como qualquer\n",
    "# outra em Python. Porém, são funções anônimas\n",
    "# que contém apenas uma linha. Ou seja, tudo\n",
    "# deve ser contido dentro de uma única\n",
    "# expressão.\n",
    "# lista = [\n",
    "#     {'nome': 'Luiz', 'sobrenome': 'miranda'},\n",
    "#     {'nome': 'Maria', 'sobrenome': 'Oliveira'},\n",
    "#     {'nome': 'Daniel', 'sobrenome': 'Silva'},\n",
    "#     {'nome': 'Eduardo', 'sobrenome': 'Moreira'},\n",
    "#     {'nome': 'Aline', 'sobrenome': 'Souza'},\n",
    "# ]\n",
    "# lista = [4, 32, 1, 34, 5, 6, 6, 21, ]\n",
    "# lista.sort(reverse=True)\n",
    "# sorted(lista)\n",
    "lista = [\n",
    "    {'nome': 'Luiz', 'sobrenome': 'Miranda'},\n",
    "    {'nome': 'Maria', 'sobrenome': 'Oliveira'},\n",
    "    {'nome': 'Daniel', 'sobrenome': 'Silva'},\n",
    "    {'nome': 'Eduardo', 'sobrenome': 'Moreira'},\n",
    "    {'nome': 'Aline', 'sobrenome': 'Souza'},\n",
    "]\n",
    "\n",
    "\n",
    "def exibir(lista):\n",
    "    for item in lista:\n",
    "        print(item)\n",
    "    print()\n",
    "    \n",
    "exibir(lista)"
   ]
  },
  {
   "cell_type": "code",
   "execution_count": 492,
   "id": "556f043f",
   "metadata": {},
   "outputs": [
    {
     "name": "stdout",
     "output_type": "stream",
     "text": [
      "Lista classificada por nome:\n",
      "{'nome': 'Aline', 'sobrenome': 'Souza'}\n",
      "{'nome': 'Daniel', 'sobrenome': 'Silva'}\n",
      "{'nome': 'Eduardo', 'sobrenome': 'Moreira'}\n",
      "{'nome': 'Luiz', 'sobrenome': 'Miranda'}\n",
      "{'nome': 'Maria', 'sobrenome': 'Oliveira'}\n",
      "\n",
      "\n",
      "Lista classificada por sobrenome:\n",
      "{'nome': 'Luiz', 'sobrenome': 'Miranda'}\n",
      "{'nome': 'Eduardo', 'sobrenome': 'Moreira'}\n",
      "{'nome': 'Maria', 'sobrenome': 'Oliveira'}\n",
      "{'nome': 'Daniel', 'sobrenome': 'Silva'}\n",
      "{'nome': 'Aline', 'sobrenome': 'Souza'}\n",
      "\n"
     ]
    }
   ],
   "source": [
    "l1 = sorted(lista, key=lambda item: item['nome'])\n",
    "l2 = sorted(lista, key=lambda item: item['sobrenome'])\n",
    "\n",
    "print('Lista classificada por nome:')\n",
    "exibir(l1)\n",
    "print('\\nLista classificada por sobrenome:')\n",
    "exibir(l2)"
   ]
  },
  {
   "cell_type": "code",
   "execution_count": 493,
   "id": "b7bb4fcf",
   "metadata": {},
   "outputs": [
    {
     "name": "stdout",
     "output_type": "stream",
     "text": [
      "4\n",
      "5\n",
      "28\n"
     ]
    }
   ],
   "source": [
    "def executa(funcao, *args):\n",
    "    return funcao(*args)\n",
    "\n",
    "duplica = executa(\n",
    "    lambda m: lambda n: n * m,\n",
    "    2\n",
    ")\n",
    "print(duplica(2))\n",
    "\n",
    "print(\n",
    "    executa(\n",
    "        lambda x, y: x + y,\n",
    "        2, 3\n",
    "    ),\n",
    ")\n",
    "\n",
    "print(\n",
    "    executa(\n",
    "        lambda *args: sum(args),\n",
    "        1, 2, 3, 4, 5, 6, 7\n",
    "    )\n",
    ")\n"
   ]
  },
  {
   "cell_type": "markdown",
   "id": "538cdd35",
   "metadata": {},
   "source": [
    "[Summary](#Summary)"
   ]
  },
  {
   "cell_type": "markdown",
   "id": "9c8debc3",
   "metadata": {},
   "source": [
    "### 3. List Comprehension <a id='ListComprehension'></a>"
   ]
  },
  {
   "cell_type": "code",
   "execution_count": 510,
   "id": "f50b7a87",
   "metadata": {},
   "outputs": [
    {
     "name": "stdout",
     "output_type": "stream",
     "text": [
      "[0, 2, 4, 6, 8, 10, 12, 14, 16, 18]\n",
      "--- produtos:\n",
      "[{'nome': 'p1', 'preco': 20},\n",
      " {'nome': 'p2', 'preco': 10},\n",
      " {'nome': 'p3', 'preco': 30}]\n",
      "--- novos produtos:\n",
      "[{'nome': 'p1', 'preco': 20},\n",
      " {'nome': 'p3', 'preco': 31.5}]\n"
     ]
    }
   ],
   "source": [
    "# Introdução à List comprehension em Python\n",
    "# List comprehension é uma forma rápida para criar listas\n",
    "# a partir de iteráveis.\n",
    "# print(list(range(10)))\n",
    "import pprint\n",
    "\n",
    "\n",
    "def p(v):\n",
    "    pprint.pprint(v, sort_dicts=False, width=40)\n",
    "\n",
    "\n",
    "lista = []\n",
    "for numero in range(10):\n",
    "    lista.append(numero)\n",
    "# print(lista)\n",
    "\n",
    "lista = [\n",
    "    numero * 2\n",
    "    for numero in range(10)\n",
    "]\n",
    "\n",
    "print(lista)\n",
    "\n",
    "# Mapeamento de dados em list comprehension\n",
    "produtos = [\n",
    "    {'nome': 'p1', 'preco': 20, },\n",
    "    {'nome': 'p2', 'preco': 10, },\n",
    "    {'nome': 'p3', 'preco': 30, },\n",
    "]\n",
    "\n",
    "print('--- produtos:')\n",
    "p(produtos)\n",
    "\n",
    "print('--- novos produtos:')\n",
    "novos_produtos = [\n",
    "    {**produto, 'preco': produto['preco'] * 1.05}\n",
    "    if produto['preco'] > 20 else {**produto}\n",
    "    for produto in produtos\n",
    "]\n",
    "\n",
    "# # print(novos_produtos)\n",
    "# print(novos_produtos)\n",
    "# p(novos_produtos)\n",
    "# lista = [n for n in range(10) if n < 5]\n",
    "novos_produtos = [\n",
    "    {**produto, 'preco': produto['preco'] * 1.05}\n",
    "    if produto['preco'] > 20 else {**produto}\n",
    "    for produto in produtos\n",
    "    if (produto['preco'] >= 20 and produto['preco'] * 1.05) > 10\n",
    "]\n",
    "p(novos_produtos)"
   ]
  },
  {
   "cell_type": "code",
   "execution_count": 513,
   "id": "ae8c71ef",
   "metadata": {},
   "outputs": [
    {
     "name": "stdout",
     "output_type": "stream",
     "text": [
      "[(0, 0), (0, 1), (0, 2), (1, 0), (1, 1), (1, 2), (2, 0), (2, 1), (2, 2)]\n"
     ]
    }
   ],
   "source": [
    "lista = []\n",
    "for x in range(3):\n",
    "    for y in range(3):\n",
    "        lista.append((x, y))\n",
    "print(lista)"
   ]
  },
  {
   "cell_type": "code",
   "execution_count": 515,
   "id": "cca64992",
   "metadata": {},
   "outputs": [
    {
     "name": "stdout",
     "output_type": "stream",
     "text": [
      "[(0, 0), (0, 1), (0, 2), (1, 0), (1, 1), (1, 2), (2, 0), (2, 1), (2, 2)]\n"
     ]
    }
   ],
   "source": [
    "lista = [\n",
    "    (x, y)\n",
    "    for x in range(3)\n",
    "    for y in range(3)\n",
    "]\n",
    "\n",
    "print(lista)"
   ]
  },
  {
   "cell_type": "code",
   "execution_count": 516,
   "id": "af23bbc8",
   "metadata": {},
   "outputs": [
    {
     "name": "stdout",
     "output_type": "stream",
     "text": [
      "[[(0, 'L'), (0, 'u'), (0, 'i'), (0, 'z')], [(1, 'L'), (1, 'u'), (1, 'i'), (1, 'z')], [(2, 'L'), (2, 'u'), (2, 'i'), (2, 'z')]]\n"
     ]
    }
   ],
   "source": [
    "lista = [\n",
    "    [(x, letra) for letra in 'Luiz']\n",
    "    for x in range(3)\n",
    "]\n",
    "\n",
    "print(lista)"
   ]
  },
  {
   "cell_type": "code",
   "execution_count": 519,
   "id": "30f145b9",
   "metadata": {},
   "outputs": [
    {
     "name": "stdout",
     "output_type": "stream",
     "text": [
      "[[(0, 'L'), (0, 'u'), (0, 'i'), (0, 'z')], [(1, 'L'), (1, 'u'), (1, 'i'), (1, 'z')], [(2, 'L'), (2, 'u'), (2, 'i'), (2, 'z')]]\n"
     ]
    }
   ],
   "source": [
    "lista = [ [(x, letra) for letra in 'Luiz']  for  x in  range(3)]\n",
    "\n",
    "print(lista)"
   ]
  },
  {
   "cell_type": "code",
   "execution_count": 520,
   "id": "2417b2e8",
   "metadata": {},
   "outputs": [
    {
     "name": "stdout",
     "output_type": "stream",
     "text": [
      "{32, 1, 2, 64, 4, 128, 256, 512, 8, 16}\n"
     ]
    }
   ],
   "source": [
    "# Dictionary Comprehension e Set Comprehension\n",
    "produto = {\n",
    "    'nome': 'Caneta Azul',\n",
    "    'preco': 2.5,\n",
    "    'categoria': 'Escritório',\n",
    "}\n",
    "\n",
    "dc = {\n",
    "    chave: valor.upper()\n",
    "    if isinstance(valor, str) else valor\n",
    "    for chave, valor\n",
    "    in produto.items()\n",
    "    if chave != 'categoria'\n",
    "}\n",
    "\n",
    "lista = [\n",
    "    ('a', 'valor a'),\n",
    "    ('b', 'valor a'),\n",
    "    ('b', 'valor a'),\n",
    "]\n",
    "dc = {\n",
    "    chave: valor\n",
    "    for chave, valor in lista\n",
    "}\n",
    "\n",
    "s1 = {2 ** i for i in range(10)}\n",
    "print(s1)"
   ]
  },
  {
   "cell_type": "markdown",
   "id": "49729fda",
   "metadata": {},
   "source": [
    "[Summary](#Summary)"
   ]
  },
  {
   "cell_type": "markdown",
   "id": "227d7bcf",
   "metadata": {},
   "source": [
    "### 4. Método isinstance() <a id='IsInstance'></a>"
   ]
  },
  {
   "cell_type": "code",
   "execution_count": 521,
   "id": "253599a2",
   "metadata": {},
   "outputs": [
    {
     "name": "stdout",
     "output_type": "stream",
     "text": [
      "STR\n",
      "A\n",
      "NUM\n",
      "1 2\n",
      "NUM\n",
      "1.1 2.2\n",
      "NUM\n",
      "True 2\n",
      "OUTRO\n",
      "[0, 1, 2]\n",
      "OUTRO\n",
      "(1, 2)\n",
      "SET\n",
      "{0, 1, 5} True\n",
      "OUTRO\n",
      "{'nome': 'Luiz'}\n"
     ]
    }
   ],
   "source": [
    "# isinstace - para saber se objeto é de determinado tipo\n",
    "lista = [\n",
    "    'a', 1, 1.1, True, [0, 1, 2], (1, 2),\n",
    "    {0, 1}, {'nome': 'Luiz'},\n",
    "]\n",
    "\n",
    "for item in lista:\n",
    "    if isinstance(item, set):\n",
    "        print('SET')\n",
    "        item.add(5)\n",
    "        print(item, isinstance(item, set))\n",
    "\n",
    "    elif isinstance(item, str):\n",
    "        print('STR')\n",
    "        print(item.upper())\n",
    "\n",
    "    elif isinstance(item, (int, float)):\n",
    "        print('NUM')\n",
    "        print(item, item * 2)\n",
    "    else:\n",
    "        print('OUTRO')\n",
    "        print(item)\n"
   ]
  },
  {
   "cell_type": "markdown",
   "id": "13d601af",
   "metadata": {},
   "source": [
    "[Summary](#Summary)"
   ]
  },
  {
   "cell_type": "markdown",
   "id": "2a79af38",
   "metadata": {},
   "source": [
    "### 5. Truthy e Falsy <a id='TruthyFalsy'></a>"
   ]
  },
  {
   "cell_type": "code",
   "execution_count": 522,
   "id": "6cc22034",
   "metadata": {},
   "outputs": [
    {
     "name": "stdout",
     "output_type": "stream",
     "text": [
      "TESTE truthy\n",
      "lista=[] falsy\n",
      "dicionario={} falsy\n",
      "conjunto=set() falsy\n",
      "tupla=() falsy\n",
      "string='' falsy\n",
      "inteito=0 falsy\n",
      "flutuante=0.0 falsy\n",
      "nada=None falsy\n",
      "falso=False falsy\n",
      "intervalo=range(0, 0) falsy\n"
     ]
    }
   ],
   "source": [
    "# Valores Truthy e Falsy, Tipos Mutáveis e Imutáveis\n",
    "# Mutáveis [] {} set()\n",
    "# Imutáveis () \"\" 0 0.0 None False range(0, 10)\n",
    "lista = []\n",
    "dicionario = {}\n",
    "conjunto = set()\n",
    "tupla = ()\n",
    "string = ''\n",
    "inteito = 0\n",
    "flutuante = 0.0\n",
    "nada = None\n",
    "falso = False\n",
    "intervalo = range(0)\n",
    "\n",
    "\n",
    "def falsy(valor):\n",
    "    return 'falsy'if not valor else 'truthy'\n",
    "\n",
    "\n",
    "print(f'TESTE', falsy('TESTE'))\n",
    "print(f'{lista=}', falsy(lista))\n",
    "print(f'{dicionario=}', falsy(dicionario))\n",
    "print(f'{conjunto=}', falsy(conjunto))\n",
    "print(f'{tupla=}', falsy(tupla))\n",
    "print(f'{string=}', falsy(string))\n",
    "print(f'{inteito=}', falsy(inteito))\n",
    "print(f'{flutuante=}', falsy(flutuante))\n",
    "print(f'{nada=}', falsy(nada))\n",
    "print(f'{falso=}', falsy(falso))\n",
    "print(f'{intervalo=}', falsy(intervalo))\n"
   ]
  },
  {
   "cell_type": "markdown",
   "id": "704cf330",
   "metadata": {},
   "source": [
    "[Summary](#Summary)"
   ]
  },
  {
   "cell_type": "markdown",
   "id": "412552e8",
   "metadata": {},
   "source": [
    "### 6. hasattr() e getattr() <a id='HasattrGetattr'></a>"
   ]
  },
  {
   "cell_type": "code",
   "execution_count": 524,
   "id": "1f50e6da",
   "metadata": {},
   "outputs": [
    {
     "name": "stdout",
     "output_type": "stream",
     "text": [
      "Existe o método strip\n",
      "Luiz\n"
     ]
    }
   ],
   "source": [
    "# dir, hasattr e getattr em Python\n",
    "string = 'Luiz'\n",
    "metodo = 'strip'\n",
    "\n",
    "if hasattr(string, metodo):\n",
    "    print(f'Existe o método {metodo}')\n",
    "    print(getattr(string, metodo)())\n",
    "else:\n",
    "    print('Não existe o método', metodo)\n"
   ]
  },
  {
   "cell_type": "markdown",
   "id": "611f674b",
   "metadata": {},
   "source": [
    "[Summary](#Summary)"
   ]
  },
  {
   "cell_type": "markdown",
   "id": "42d4135e",
   "metadata": {},
   "source": [
    "### 7. Generators <a id='Generators'></a>"
   ]
  },
  {
   "cell_type": "code",
   "execution_count": 530,
   "id": "47968166",
   "metadata": {},
   "outputs": [
    {
     "name": "stdout",
     "output_type": "stream",
     "text": [
      "size in memory of a list: 8448728\n",
      "size in memory of a generator: 104\n",
      "0\n",
      "1\n"
     ]
    }
   ],
   "source": [
    "import sys\n",
    "\n",
    "# Generator expression, Iterables e Iterators em Python\n",
    "iterable = ['Eu', 'Tenho', '__iter__']\n",
    "iterator = iter(iterable)  # tem __iter__ e __next__\n",
    "lista = [n for n in range(1000000)]\n",
    "generator = (n for n in range(1000000))\n",
    "\n",
    "print(f'size in memory of a list: {sys.getsizeof(lista)}')\n",
    "print(f'size in memory of a generator: {sys.getsizeof(generator)}')\n",
    "\n",
    "print(next(generator))\n",
    "print(next(generator))\n",
    "\n",
    "# for n in generator:\n",
    "#     print(n)"
   ]
  },
  {
   "cell_type": "code",
   "execution_count": 532,
   "id": "bf5b2820",
   "metadata": {},
   "outputs": [
    {
     "name": "stdout",
     "output_type": "stream",
     "text": [
      "0\n",
      "1\n",
      "2\n",
      "3\n",
      "4\n",
      "5\n",
      "6\n",
      "7\n",
      "8\n",
      "9\n"
     ]
    }
   ],
   "source": [
    "# Introdução às Generator functions em Python\n",
    "# generator = (n for n in range(1000000))\n",
    "\n",
    "def generator(n=0, maximum=10):\n",
    "    while True:\n",
    "        yield n\n",
    "        n += 1\n",
    "\n",
    "        if n >= maximum:\n",
    "            return\n",
    "\n",
    "\n",
    "gen = generator(maximum=10)\n",
    "for n in gen:\n",
    "    print(n)\n"
   ]
  },
  {
   "cell_type": "code",
   "execution_count": 546,
   "id": "8159f9a8",
   "metadata": {},
   "outputs": [
    {
     "name": "stdout",
     "output_type": "stream",
     "text": [
      "COMECOU GEN1\n",
      " n in g1: 1\n",
      " n in g1: 2\n",
      " n in g1: 3\n",
      "ACABOU GEN1\n",
      "---\n",
      "COMECOU GEN2\n",
      " n in g2: 4\n",
      " n in g2: 5\n",
      " n in g2: 6\n",
      "ACABOU GEN2\n",
      "***\n",
      "COMECOU GEN2\n",
      "COMECOU GEN1\n",
      "1\n",
      "2\n",
      "3\n",
      "ACABOU GEN1\n",
      "4\n",
      "5\n",
      "6\n",
      "ACABOU GEN2\n"
     ]
    }
   ],
   "source": [
    "# Yield from\n",
    "def gen1():\n",
    "    print('COMECOU GEN1')\n",
    "    yield 1\n",
    "    yield 2\n",
    "    yield 3\n",
    "    print('ACABOU GEN1')\n",
    "\n",
    "def gen2(gen=None):\n",
    "    print('COMECOU GEN2')\n",
    "    if gen is not None:\n",
    "        yield from gen\n",
    "    yield 4\n",
    "    yield 5\n",
    "    yield 6\n",
    "    print('ACABOU GEN2')\n",
    " \n",
    "def gen3():\n",
    "    print('COMECOU GEN3')\n",
    "    yield 10\n",
    "    yield 20\n",
    "    yield 30\n",
    "    print('ACABOU GEN3')\n",
    "\n",
    "g1 = gen1()\n",
    "for n in g1:\n",
    "    print(f' n in g1: {n}')\n",
    "\n",
    "print('---')\n",
    "\n",
    "g2 = gen2()\n",
    "for n in g2:\n",
    "    print(f' n in g2: {n}')\n",
    "\n",
    "print('***')\n",
    "\n",
    "g21 = gen2(gen1())\n",
    "\n",
    "for numero in g21:\n",
    "    print(numero)"
   ]
  },
  {
   "cell_type": "markdown",
   "id": "a70335ba",
   "metadata": {},
   "source": [
    "[Summary](#Summary)"
   ]
  },
  {
   "cell_type": "markdown",
   "id": "4b294315",
   "metadata": {},
   "source": [
    "### 8. Módulos Python (Python Modules) <a id='PythonModules'></a>"
   ]
  },
  {
   "cell_type": "code",
   "execution_count": 561,
   "id": "5675d6fa",
   "metadata": {},
   "outputs": [
    {
     "name": "stdout",
     "output_type": "stream",
     "text": [
      "win32\n",
      "A MINHA\n",
      "win32\n"
     ]
    }
   ],
   "source": [
    "# Módulos padrão do Python (import, from, as e *)\n",
    "# https://docs.python.org/3/py-modindex.html\n",
    "# inteiro - import nome_modulo\n",
    "# Vantagens: você tem o namespace do módulo\n",
    "# Desvantagens: nomes grandes\n",
    "\n",
    "import sys\n",
    "\n",
    "platform = 'A MINHA'\n",
    "print(sys.platform) # platform do sys\n",
    "print(platform)     # platform minha\n",
    "\n",
    "# partes - from nome_modulo import objeto1, objeto2\n",
    "# Vantagens: nomes pequenos\n",
    "# Desvantagens: Sem o namespace do módulo\n",
    "\n",
    "from sys import exit, platform\n",
    "\n",
    "print(platform) # platform do sys"
   ]
  },
  {
   "cell_type": "code",
   "execution_count": 578,
   "id": "f849e8f3",
   "metadata": {},
   "outputs": [
    {
     "name": "stdout",
     "output_type": "stream",
     "text": [
      "win32\n",
      "alguma coisa\n",
      "win32\n",
      "win32\n"
     ]
    }
   ],
   "source": [
    "# alias 1 - import nome_modulo as apelido\n",
    "import sys as s\n",
    "\n",
    "sys = 'alguma coisa' # sobrepõe sys do sistema\n",
    "print(s.platform)  # s é alias para sys do sistema\n",
    "print(sys)\n",
    "\n",
    "\n",
    "# alias 2 - from nome_modulo import objeto as apelido\n",
    "from sys import exit as ex\n",
    "from sys import platform as pf\n",
    "\n",
    "print(pf)\n",
    "\n",
    "# Vantagens: você pode reservar nomes para seu código\n",
    "# Desvantagens: pode ficar fora do padrão da linguagem\n",
    "\n",
    "# má prática - from nome_modulo import *\n",
    "# Vantagens: importa tudo de um módulo\n",
    "# Desvantagens: importa tudo de um módulo\n",
    "from sys import exit, platform\n",
    "\n",
    "print(platform)\n",
    "#sys.exit()"
   ]
  },
  {
   "cell_type": "code",
   "execution_count": 579,
   "id": "92275be1",
   "metadata": {},
   "outputs": [],
   "source": [
    "# aula97_m.py\n",
    "#variavel_modulo = 'Luiz'\n",
    "#\n",
    "#\n",
    "#def soma(x, y):\n",
    "#    return x + y"
   ]
  },
  {
   "cell_type": "code",
   "execution_count": 580,
   "id": "ec5a1616",
   "metadata": {},
   "outputs": [
    {
     "name": "stdout",
     "output_type": "stream",
     "text": [
      "Luiz\n",
      "5\n",
      "Luiz\n",
      "5\n"
     ]
    }
   ],
   "source": [
    "# Modularização - Entendendo os seus próprios módulos Python\n",
    "# O primeiro módulo executado chama-se __main__\n",
    "# Você pode importar outro módulo inteiro ou parte do módulo\n",
    "# O python conhece a pasta onde o __main__ está e as pastas\n",
    "# abaixo dele.\n",
    "# Ele não reconhece pastas e módulos acima do __main__ por\n",
    "# padrão\n",
    "# O python conhece todos os módulos e pacotes presentes\n",
    "# nos caminhos de sys.path\n",
    "\n",
    "import aula97_m\n",
    "from aula97_m import soma, variavel_modulo\n",
    "\n",
    "# print('Este módulo se chama', __name__)\n",
    "print(aula97_m.variavel_modulo)\n",
    "print(aula97_m.soma(2, 3))\n",
    "print(variavel_modulo)\n",
    "print(soma(2, 3))"
   ]
  },
  {
   "cell_type": "code",
   "execution_count": 581,
   "id": "70ddc92d",
   "metadata": {},
   "outputs": [],
   "source": [
    "# aula98_m.py\n",
    "#print(123)\n",
    "#\n",
    "#variavel = 'Luiz 1'"
   ]
  },
  {
   "cell_type": "code",
   "execution_count": 583,
   "id": "098a5e5c",
   "metadata": {},
   "outputs": [
    {
     "name": "stdout",
     "output_type": "stream",
     "text": [
      "Luiz 1\n",
      "123\n",
      "0\n",
      "123\n",
      "1\n",
      "123\n",
      "2\n",
      "123\n",
      "3\n",
      "123\n",
      "4\n",
      "123\n",
      "5\n",
      "123\n",
      "6\n",
      "123\n",
      "7\n",
      "123\n",
      "8\n",
      "123\n",
      "9\n",
      "Fim\n"
     ]
    }
   ],
   "source": [
    "import importlib\n",
    "\n",
    "import aula98_m\n",
    "\n",
    "print(aula98_m.variavel)\n",
    "\n",
    "for i in range(10):\n",
    "    importlib.reload(aula98_m)\n",
    "    print(i)\n",
    "\n",
    "print('Fim')"
   ]
  },
  {
   "cell_type": "code",
   "execution_count": 584,
   "id": "700c8ff7",
   "metadata": {},
   "outputs": [
    {
     "name": "stdout",
     "output_type": "stream",
     "text": [
      "5\n",
      "oi\n"
     ]
    }
   ],
   "source": [
    "# import aula99_package.modulo\n",
    "# from aula99_package import modulo\n",
    "# from aula99_package.modulo import *\n",
    "\n",
    "# # from aula99_package.modulo import soma_do_modulo\n",
    "\n",
    "# # print(*path, sep='\\n')\n",
    "# print(soma_do_modulo(1, 2))\n",
    "# print(aula99_package.modulo.soma_do_modulo(1, 2))\n",
    "# print(modulo.soma_do_modulo(1, 2))\n",
    "# print(variavel)\n",
    "# print(nova_variavel)\n",
    "# from aula99_package.modulo import fala_oi, soma_do_modulo\n",
    "\n",
    "# print(__name__)\n",
    "# fala_oi()\n",
    "\n",
    "from aula99_package import falar_oi, soma_do_modulo\n",
    "\n",
    "print(soma_do_modulo(2, 3))\n",
    "falar_oi()"
   ]
  },
  {
   "cell_type": "markdown",
   "id": "7a7d00e2",
   "metadata": {},
   "source": [
    "[Summary](#Summary)"
   ]
  },
  {
   "cell_type": "markdown",
   "id": "70eb55af",
   "metadata": {},
   "source": [
    "### 9. Adiando a execução de funções (Deferring the Execution of Functions) <a id='AdiaExecFuncoes'></a>"
   ]
  },
  {
   "cell_type": "code",
   "execution_count": 589,
   "id": "905166cf",
   "metadata": {},
   "outputs": [
    {
     "name": "stdout",
     "output_type": "stream",
     "text": [
      "soma_com_cinco: <function criar_funcao.<locals>.interna at 0x0000022DE81B7760>\n",
      "multiplica_por_dez: <function criar_funcao.<locals>.interna at 0x0000022DE81B7640>\n",
      "15\n",
      "100\n"
     ]
    }
   ],
   "source": [
    "# Exercício - Adiando execução de funções\n",
    "def soma(x, y):\n",
    "    return x + y\n",
    "\n",
    "\n",
    "def multiplica(x, y):\n",
    "    return x * y\n",
    "\n",
    "\n",
    "def criar_funcao(funcao, x):\n",
    "    def interna(y):\n",
    "        return funcao(x, y)\n",
    "    return interna\n",
    "\n",
    "\n",
    "soma_com_cinco = criar_funcao(soma, 5)\n",
    "print(f'soma_com_cinco: {soma_com_cinco}')\n",
    "\n",
    "multiplica_por_dez = criar_funcao(multiplica, 10)\n",
    "print(f'multiplica_por_dez: {multiplica_por_dez}')\n",
    "\n",
    "print(soma_com_cinco(10))\n",
    "print(multiplica_por_dez(10))"
   ]
  },
  {
   "cell_type": "markdown",
   "id": "28fb1bf3",
   "metadata": {},
   "source": [
    "[Summary](#Summary)"
   ]
  },
  {
   "cell_type": "markdown",
   "id": "9d17be51",
   "metadata": {},
   "source": [
    "### 10. Locals e Globals <a id='LocalsEGlobals'></a>"
   ]
  },
  {
   "cell_type": "code",
   "execution_count": 603,
   "id": "1268ca42",
   "metadata": {},
   "outputs": [
    {
     "name": "stdout",
     "output_type": "stream",
     "text": [
      "dentro1: <function fora.<locals>.dentro at 0x0000022DE6DBD2D0>\n",
      "dentro2: <function fora.<locals>.dentro at 0x0000022DEA5E4AF0>\n",
      "10\n",
      "20\n"
     ]
    }
   ],
   "source": [
    "# Variáveis livres + nonlocal (locals, globals)\n",
    "#print(globals())\n",
    "def fora(x):\n",
    "    a = x\n",
    "    def dentro():\n",
    "        #print(locals())\n",
    "        return a\n",
    "    return dentro\n",
    "\n",
    "\n",
    "dentro1 = fora(10)\n",
    "print(f'dentro1: {dentro1}')\n",
    "dentro2 = fora(20)\n",
    "print(f'dentro2: {dentro2}')\n",
    "\n",
    "print(dentro1())\n",
    "print(dentro2())\n",
    "\n",
    "# Variáveis livres + nonlocal (locals, globals)\n",
    "# print(globals())\n",
    "# def fora(x):\n",
    "#     a = x\n",
    "\n",
    "#     def dentro():\n",
    "#         # print(locals())\n",
    "\n",
    "#         return a\n",
    "#     return dentro\n",
    "\n",
    "\n",
    "# dentro1 = fora(10)\n",
    "# dentro2 = fora(20)\n",
    "\n",
    "# print(dentro1())\n",
    "# print(dentro2())"
   ]
  },
  {
   "cell_type": "code",
   "execution_count": 605,
   "id": "91062f5c",
   "metadata": {},
   "outputs": [
    {
     "name": "stdout",
     "output_type": "stream",
     "text": [
      "ab\n",
      "abc\n",
      "abcd\n",
      "abcd\n"
     ]
    }
   ],
   "source": [
    "def concatenar(string_inicial):\n",
    "    valor_final = string_inicial\n",
    "\n",
    "    def interna(valor_a_concatenar=''):\n",
    "        nonlocal valor_final\n",
    "        valor_final += valor_a_concatenar\n",
    "        return valor_final\n",
    "    return interna\n",
    "\n",
    "\n",
    "c = concatenar('a')\n",
    "print(c('b'))\n",
    "print(c('c'))\n",
    "print(c('d'))\n",
    "final = c()\n",
    "print(final)"
   ]
  },
  {
   "cell_type": "markdown",
   "id": "d8a596cd",
   "metadata": {},
   "source": [
    "[Summary](#Summary)"
   ]
  },
  {
   "cell_type": "markdown",
   "id": "bedca87b",
   "metadata": {},
   "source": [
    "### 11. Funções Decorators <a id='Decorators'></a>"
   ]
  },
  {
   "cell_type": "code",
   "execution_count": 610,
   "id": "ae0661d3",
   "metadata": {},
   "outputs": [
    {
     "name": "stdout",
     "output_type": "stream",
     "text": [
      "Vou te decorar\n",
      "O seu resultado foi !dlroW ,olleH.\n",
      "Ok, agora você foi decorada\n",
      "!dlroW ,olleH\n"
     ]
    }
   ],
   "source": [
    "# Funções decoradoras e decoradores\n",
    "# Decorar = Adicionar / Remover/ Restringir / Alterar\n",
    "# Funções decoradoras são funções que decoram outras funções\n",
    "# Decoradores são usados para fazer o Python\n",
    "# usar as funções decoradoras em outras funções.\n",
    "\n",
    "def decorar_funcao(func):\n",
    "    def interna(*args, **kwargs):\n",
    "        print('Vou te decorar')\n",
    "        for arg in args:\n",
    "            e_string(arg)\n",
    "        resultado = func(*args, **kwargs)\n",
    "        print(f'O seu resultado foi {resultado}.')\n",
    "        print('Ok, agora você foi decorada')\n",
    "        return resultado\n",
    "    return interna\n",
    "\n",
    "\n",
    "def inverte_string(string):\n",
    "    return string[::-1]\n",
    "\n",
    "\n",
    "def e_string(param):\n",
    "    if not isinstance(param, str):\n",
    "        raise TypeError('param deve ser uma string')\n",
    "\n",
    "\n",
    "inverte_string_checando_parametro = decorar_funcao(inverte_string)\n",
    "invertida = inverte_string_checando_parametro('Hello, World!')\n",
    "print(invertida)\n"
   ]
  },
  {
   "cell_type": "code",
   "execution_count": 619,
   "id": "e368d569",
   "metadata": {},
   "outputs": [
    {
     "name": "stdout",
     "output_type": "stream",
     "text": [
      "Vou te decorar\n",
      "interna\n",
      "O seu resultado foi 321.\n",
      "Ok, agora você foi decorada\n",
      "321\n"
     ]
    }
   ],
   "source": [
    "# Funções decoradoras e decoradores\n",
    "# Decorar = Adicionar / Remover/ Restringir / Alterar\n",
    "# Funções decoradoras são funções que decoram outras funções\n",
    "# Decoradores são usados para fazer o Python\n",
    "# usar as funções decoradoras em outras funções.\n",
    "# Decoradores são \"Syntax Sugar\" (Açúcar sintático)\n",
    "\n",
    "def e_string(param):\n",
    "    if not isinstance(param, str):\n",
    "        raise TypeError('param deve ser uma string')\n",
    "\n",
    "def criar_funcao(func):\n",
    "    def interna(*args, **kwargs):\n",
    "        print('Vou te decorar')\n",
    "        for arg in args:\n",
    "            e_string(arg)\n",
    "        resultado = func(*args, **kwargs)\n",
    "        print(f'O seu resultado foi {resultado}.')\n",
    "        print('Ok, agora você foi decorada')\n",
    "        return resultado\n",
    "    return interna\n",
    "\n",
    "\n",
    "@criar_funcao\n",
    "def inverte_string(string):\n",
    "    print(f'{inverte_string.__name__}')\n",
    "    return string[::-1]\n",
    "\n",
    "invertida = inverte_string('123')\n",
    "print(invertida)"
   ]
  },
  {
   "cell_type": "code",
   "execution_count": 620,
   "id": "97d7cf3a",
   "metadata": {},
   "outputs": [
    {
     "name": "stdout",
     "output_type": "stream",
     "text": [
      "Decorador: 1\n",
      "Decorador: 2\n",
      "Decorador: 3\n",
      "Decorador: 4\n",
      "Decorador: 5\n"
     ]
    }
   ],
   "source": [
    "# Ordem dos decoradores\n",
    "def parametros_decorador(nome):\n",
    "    def decorador(func):\n",
    "        print('Decorador:', nome)\n",
    "\n",
    "        def sua_nova_funcao(*args, **kwargs):\n",
    "            res = func(*args, **kwargs)\n",
    "            final = f'{res} {nome}'\n",
    "            return final\n",
    "        return sua_nova_funcao\n",
    "    return decorador\n",
    "\n",
    "\n",
    "@parametros_decorador(nome='5')\n",
    "@parametros_decorador(nome='4')\n",
    "@parametros_decorador(nome='3')\n",
    "@parametros_decorador(nome='2')\n",
    "@parametros_decorador(nome='1')\n",
    "def soma(x, y):\n",
    "    return x + y"
   ]
  },
  {
   "cell_type": "markdown",
   "id": "51b1847b",
   "metadata": {},
   "source": [
    "[Summary](#Summary)"
   ]
  },
  {
   "cell_type": "markdown",
   "id": "c2cc0221",
   "metadata": {},
   "source": [
    "### 12. Combinando Listas: zip() <a id='Zip'></a>"
   ]
  },
  {
   "cell_type": "code",
   "execution_count": 631,
   "id": "0504c682",
   "metadata": {},
   "outputs": [
    {
     "name": "stdout",
     "output_type": "stream",
     "text": [
      "length l1: 3\n",
      "length l2: 4\n",
      "length l3: 3\n"
     ]
    }
   ],
   "source": [
    "l1 = ['Salvador', 'Ubatuba', 'Belo Horizonte']\n",
    "l2 = ['BA', 'SP', 'MG', 'RJ']\n",
    "\n",
    "l3 = list(zip(l1,l2))\n",
    "\n",
    "print(f'length l1: {len(l1)}')\n",
    "print(f'length l2: {len(l2)}')\n",
    "print(f'length l3: {len(l3)}')"
   ]
  },
  {
   "cell_type": "code",
   "execution_count": 636,
   "id": "2d4ac40a",
   "metadata": {},
   "outputs": [
    {
     "name": "stdout",
     "output_type": "stream",
     "text": [
      "[('Salvador', 'BA'), ('Ubatuba', 'SP'), ('Belo Horizonte', 'MG'), ('Goiania', 'GO'), ('Brasilia', '***')]\n"
     ]
    }
   ],
   "source": [
    "from itertools import zip_longest\n",
    "\n",
    "l1 = ['Salvador', 'Ubatuba', 'Belo Horizonte', 'Goiania', 'Brasilia']\n",
    "l2 = ['BA', 'SP', 'MG', 'GO']\n",
    "\n",
    "print(list(zip_longest(l1, l2, fillvalue='***')))"
   ]
  },
  {
   "cell_type": "code",
   "execution_count": 637,
   "id": "220fe06b",
   "metadata": {},
   "outputs": [
    {
     "name": "stdout",
     "output_type": "stream",
     "text": [
      "[('Salvador', 'BA'), ('Ubatuba', 'SP'), ('Belo Horizonte', 'MG'), ('Rio de Janeiro', 'RJ'), ('Goiania', 'GO'), ('Brasilia', 'DF'), ('***', 'RN'), ('***', 'SC')]\n"
     ]
    }
   ],
   "source": [
    "from itertools import zip_longest\n",
    "\n",
    "l1 = ['Salvador', 'Ubatuba', 'Belo Horizonte', 'Rio de Janeiro', 'Goiania', 'Brasilia']\n",
    "l2 = ['BA', 'SP', 'MG', 'RJ', 'GO', 'DF', 'RN', 'SC']\n",
    "\n",
    "print(list(zip_longest(l1, l2, fillvalue='***')))"
   ]
  },
  {
   "cell_type": "markdown",
   "id": "70fd4ca5",
   "metadata": {},
   "source": [
    "[Summary](#Summary)"
   ]
  },
  {
   "cell_type": "markdown",
   "id": "0df93006",
   "metadata": {},
   "source": [
    "### 13. Contador sem fim: count() <a id='Count'></a>"
   ]
  },
  {
   "cell_type": "code",
   "execution_count": 640,
   "id": "57c45e7f",
   "metadata": {},
   "outputs": [
    {
     "name": "stdout",
     "output_type": "stream",
     "text": [
      "c1 True\n",
      "c1 True\n",
      "r1 True\n",
      "r1 False\n",
      "count\n",
      "8\n",
      "16\n",
      "24\n",
      "32\n",
      "40\n",
      "48\n",
      "56\n",
      "64\n",
      "72\n",
      "80\n",
      "88\n",
      "96\n",
      "---\n",
      "range\n",
      "8\n",
      "16\n",
      "24\n",
      "32\n",
      "40\n",
      "48\n",
      "56\n",
      "64\n",
      "72\n",
      "80\n",
      "88\n",
      "96\n"
     ]
    }
   ],
   "source": [
    "# count é um iterador sem fim (itertools)\n",
    "from itertools import count\n",
    "\n",
    "c1 = count(step=8, start=8)\n",
    "r1 = range(8, 100, 8)\n",
    "\n",
    "print('c1', hasattr(c1, '__iter__')) # True --> é iterável\n",
    "print('c1', hasattr(c1, '__next__')) # True --> se é iterável e tem __next__ então é iterator\n",
    "print('r1', hasattr(r1, '__iter__')) # True --> é iterável\n",
    "print('r1', hasattr(r1, '__next__')) # False --> então não é iterator\n",
    "\n",
    "print('count')\n",
    "for i in c1:\n",
    "    if i >= 100:\n",
    "        break\n",
    "    print(i)\n",
    "    \n",
    "print('---')\n",
    "\n",
    "print('range')\n",
    "for i in r1:\n",
    "    print(i)"
   ]
  },
  {
   "cell_type": "markdown",
   "id": "ca5c398c",
   "metadata": {},
   "source": [
    "[Summary](#Summary)"
   ]
  },
  {
   "cell_type": "markdown",
   "id": "7cd48e32",
   "metadata": {},
   "source": [
    "### 14. Combinations, permutations and product <a id='CombinatPermutProd'></a>"
   ]
  },
  {
   "cell_type": "code",
   "execution_count": 643,
   "id": "6b2d142d",
   "metadata": {},
   "outputs": [
    {
     "name": "stdout",
     "output_type": "stream",
     "text": [
      "---- combinations ----\n",
      "('João', 'Joana')\n",
      "('João', 'Luiz')\n",
      "('João', 'Letícia')\n",
      "('Joana', 'Luiz')\n",
      "('Joana', 'Letícia')\n",
      "('Luiz', 'Letícia')\n",
      "\n",
      "---- permutations ----\n",
      "('João', 'Joana')\n",
      "('João', 'Luiz')\n",
      "('João', 'Letícia')\n",
      "('Joana', 'João')\n",
      "('Joana', 'Luiz')\n",
      "('Joana', 'Letícia')\n",
      "('Luiz', 'João')\n",
      "('Luiz', 'Joana')\n",
      "('Luiz', 'Letícia')\n",
      "('Letícia', 'João')\n",
      "('Letícia', 'Joana')\n",
      "('Letícia', 'Luiz')\n",
      "\n",
      "---- product ----\n",
      "('preta', 'p')\n",
      "('preta', 'm')\n",
      "('preta', 'g')\n",
      "('branca', 'p')\n",
      "('branca', 'm')\n",
      "('branca', 'g')\n",
      "\n"
     ]
    }
   ],
   "source": [
    "# Combinations, Permutations e Product - Itertools\n",
    "# Combinação - Ordem não importa - iterável + tamanho do grupo\n",
    "# Permutação - Ordem importa\n",
    "# Produto - Ordem importa e repete valores únicos\n",
    "from itertools import combinations, permutations, product\n",
    "\n",
    "\n",
    "def print_iter(iterator):\n",
    "    print(*list(iterator), sep='\\n')\n",
    "    print()\n",
    "\n",
    "\n",
    "pessoas = [\n",
    "    'João', 'Joana', 'Luiz', 'Letícia',\n",
    "]\n",
    "camisetas = [\n",
    "    ['preta', 'branca'],\n",
    "    ['p', 'm', 'g'],\n",
    "]\n",
    "\n",
    "print('---- combinations ----')\n",
    "print_iter(combinations(pessoas, 2))\n",
    "\n",
    "print('---- permutations ----')\n",
    "print_iter(permutations(pessoas, 2))\n",
    "\n",
    "print('---- product ----')\n",
    "print_iter(product(*camisetas))"
   ]
  },
  {
   "cell_type": "markdown",
   "id": "e6a7be7b",
   "metadata": {},
   "source": [
    "[Summary](#Summary)"
   ]
  },
  {
   "cell_type": "markdown",
   "id": "7209dc79",
   "metadata": {},
   "source": [
    "### 15. Group by <a id='GroupBy'></a>"
   ]
  },
  {
   "cell_type": "code",
   "execution_count": 644,
   "id": "623db674",
   "metadata": {},
   "outputs": [
    {
     "name": "stdout",
     "output_type": "stream",
     "text": [
      "A\n",
      "{'nome': 'Luiz', 'nota': 'A'}\n",
      "{'nome': 'Fabrício', 'nota': 'A'}\n",
      "{'nome': 'João', 'nota': 'A'}\n",
      "{'nome': 'André', 'nota': 'A'}\n",
      "B\n",
      "{'nome': 'Letícia', 'nota': 'B'}\n",
      "{'nome': 'Eduardo', 'nota': 'B'}\n",
      "C\n",
      "{'nome': 'Rosemary', 'nota': 'C'}\n",
      "{'nome': 'Anderson', 'nota': 'C'}\n",
      "D\n",
      "{'nome': 'Joana', 'nota': 'D'}\n"
     ]
    }
   ],
   "source": [
    "# groupby - agrupando valores (itertools)\n",
    "from itertools import groupby\n",
    "\n",
    "alunos = [\n",
    "    {'nome': 'Luiz', 'nota': 'A'},\n",
    "    {'nome': 'Letícia', 'nota': 'B'},\n",
    "    {'nome': 'Fabrício', 'nota': 'A'},\n",
    "    {'nome': 'Rosemary', 'nota': 'C'},\n",
    "    {'nome': 'Joana', 'nota': 'D'},\n",
    "    {'nome': 'João', 'nota': 'A'},\n",
    "    {'nome': 'Eduardo', 'nota': 'B'},\n",
    "    {'nome': 'André', 'nota': 'A'},\n",
    "    {'nome': 'Anderson', 'nota': 'C'},\n",
    "]\n",
    "\n",
    "\n",
    "def ordena(aluno):\n",
    "    return aluno['nota']\n",
    "\n",
    "\n",
    "alunos_agrupados = sorted(alunos, key=ordena)\n",
    "grupos = groupby(alunos_agrupados, key=ordena)\n",
    "\n",
    "for chave, grupo in grupos:\n",
    "    print(chave)\n",
    "    for aluno in grupo:\n",
    "        print(aluno)"
   ]
  },
  {
   "cell_type": "markdown",
   "id": "bd6a1d5f",
   "metadata": {},
   "source": [
    "[Summary](#Summary)"
   ]
  },
  {
   "cell_type": "markdown",
   "id": "b6a62ae1",
   "metadata": {},
   "source": [
    "### 16. `map()`, `filter()` e `reduce()` <a id='MapFilterReduce'></a>"
   ]
  },
  {
   "cell_type": "markdown",
   "id": "704c179d",
   "metadata": {},
   "source": [
    "#### 16.1 map() <a id='map'></a>"
   ]
  },
  {
   "cell_type": "code",
   "execution_count": 654,
   "id": "761ab06f",
   "metadata": {},
   "outputs": [
    {
     "name": "stdout",
     "output_type": "stream",
     "text": [
      "{'nome': 'Produto 5', 'preco': 10.0}\n",
      "{'nome': 'Produto 1', 'preco': 22.32}\n",
      "{'nome': 'Produto 3', 'preco': 10.11}\n",
      "{'nome': 'Produto 2', 'preco': 105.87}\n",
      "{'nome': 'Produto 4', 'preco': 69.9}\n",
      "\n"
     ]
    }
   ],
   "source": [
    "# map, partial, GeneratorType e esgotamento de Iterators\n",
    "\n",
    "from functools import partial\n",
    "from types import GeneratorType\n",
    "\n",
    "# map - para mapear dados\n",
    "def print_iter(produtos):\n",
    "    print(*list(produtos), sep='\\n')\n",
    "    print()\n",
    "\n",
    "\n",
    "produtos = [\n",
    "    {'nome': 'Produto 5', 'preco': 10.00},\n",
    "    {'nome': 'Produto 1', 'preco': 22.32},\n",
    "    {'nome': 'Produto 3', 'preco': 10.11},\n",
    "    {'nome': 'Produto 2', 'preco': 105.87},\n",
    "    {'nome': 'Produto 4', 'preco': 69.90},\n",
    "]\n",
    "\n",
    "print_iter(produtos)"
   ]
  },
  {
   "cell_type": "code",
   "execution_count": 668,
   "id": "a23f9440",
   "metadata": {},
   "outputs": [
    {
     "name": "stdout",
     "output_type": "stream",
     "text": [
      "{'nome': 'Produto 5', 'preco': 10.0}\n",
      "{'nome': 'Produto 1', 'preco': 22.32}\n",
      "{'nome': 'Produto 3', 'preco': 10.11}\n",
      "{'nome': 'Produto 2', 'preco': 105.87}\n",
      "{'nome': 'Produto 4', 'preco': 69.9}\n",
      "\n",
      "{'nome': 'Produto 5', 'preco': 11.0}\n",
      "{'nome': 'Produto 1', 'preco': 24.55}\n",
      "{'nome': 'Produto 3', 'preco': 11.12}\n",
      "{'nome': 'Produto 2', 'preco': 116.46}\n",
      "{'nome': 'Produto 4', 'preco': 76.89}\n",
      "\n"
     ]
    }
   ],
   "source": [
    "def aumentar_porcentagem(valor, porcentagem):\n",
    "    return round(valor * porcentagem, 2)\n",
    "\n",
    "\n",
    "aumentar_dez_porcento = partial(\n",
    "    aumentar_porcentagem,\n",
    "    porcentagem=1.1\n",
    ")\n",
    "\n",
    "# novos_produtos = [\n",
    "#     {**p,\n",
    "#         'preco': aumentar_dez_porcento(p['preco'])}\n",
    "#     for p in produtos\n",
    "# ]\n",
    "\n",
    "\n",
    "def muda_preco_de_produtos(produto):\n",
    "    return {\n",
    "        **produto,\n",
    "        'preco': aumentar_dez_porcento(\n",
    "            produto['preco']\n",
    "        )\n",
    "    }\n",
    "\n",
    "\n",
    "novos_produtos = list(map(\n",
    "    muda_preco_de_produtos,\n",
    "    produtos\n",
    "))\n",
    "\n",
    "\n",
    "print_iter(produtos)\n",
    "('---')\n",
    "print_iter(novos_produtos)"
   ]
  },
  {
   "cell_type": "code",
   "execution_count": 652,
   "id": "010d48b7",
   "metadata": {},
   "outputs": [
    {
     "name": "stdout",
     "output_type": "stream",
     "text": [
      "[[1, 2], [3, 4]]\n",
      "---\n",
      "[1, 2]\n",
      "[3, 4]\n"
     ]
    }
   ],
   "source": [
    "# utilizar * para expandir o conteúdo da lista\n",
    "a = [[1,2], [3, 4]]\n",
    "print(a)\n",
    "print('---')\n",
    "print(*a, sep='\\n')"
   ]
  },
  {
   "cell_type": "code",
   "execution_count": 667,
   "id": "14f84619",
   "metadata": {},
   "outputs": [
    {
     "name": "stdout",
     "output_type": "stream",
     "text": [
      "lista: [1, 2, 3, 4]\n",
      "lista * 3: [3, 6, 9, 12]\n"
     ]
    }
   ],
   "source": [
    "# Utilizando map e lambda\n",
    "print(f'lista: {[1, 2, 3, 4]}', \n",
    "    f'lista * 3: {list(map(lambda x: x * 3, [1, 2, 3, 4]))}',\n",
    "    sep='\\n'\n",
    ")"
   ]
  },
  {
   "cell_type": "markdown",
   "id": "eed898dc",
   "metadata": {},
   "source": [
    "[Summary](#Summary)"
   ]
  },
  {
   "cell_type": "markdown",
   "id": "83632df8",
   "metadata": {},
   "source": [
    "#### 16.2 filter() <a id='filter'></a>"
   ]
  },
  {
   "cell_type": "code",
   "execution_count": 670,
   "id": "3bc96c69",
   "metadata": {},
   "outputs": [
    {
     "name": "stdout",
     "output_type": "stream",
     "text": [
      "{'nome': 'Produto 5', 'preco': 10.0}\n",
      "{'nome': 'Produto 1', 'preco': 22.32}\n",
      "{'nome': 'Produto 3', 'preco': 10.11}\n",
      "{'nome': 'Produto 2', 'preco': 105.87}\n",
      "{'nome': 'Produto 4', 'preco': 69.9}\n",
      "\n",
      "{'nome': 'Produto 2', 'preco': 105.87}\n",
      "\n"
     ]
    }
   ],
   "source": [
    "# filter é um filtro funcional\n",
    "def print_iter(iterator):\n",
    "    print(*list(iterator), sep='\\n')\n",
    "    print()\n",
    "\n",
    "\n",
    "produtos = [\n",
    "    {'nome': 'Produto 5', 'preco': 10.00},\n",
    "    {'nome': 'Produto 1', 'preco': 22.32},\n",
    "    {'nome': 'Produto 3', 'preco': 10.11},\n",
    "    {'nome': 'Produto 2', 'preco': 105.87},\n",
    "    {'nome': 'Produto 4', 'preco': 69.90},\n",
    "]\n",
    "\n",
    "\n",
    "def filtrar_preco(produto):\n",
    "    return produto['preco'] > 100\n",
    "\n",
    "\n",
    "# novos_produtos = [\n",
    "#     p for p in produtos\n",
    "#     if p['preco'] > 100\n",
    "# ]\n",
    "novos_produtos = filter(\n",
    "    # lambda produto: produto['preco'] > 100,\n",
    "    filtrar_preco,\n",
    "    produtos\n",
    ")\n",
    "\n",
    "\n",
    "print_iter(produtos)\n",
    "print_iter(novos_produtos)"
   ]
  },
  {
   "cell_type": "markdown",
   "id": "3e7076ac",
   "metadata": {},
   "source": [
    "[Summary](#Summary)"
   ]
  },
  {
   "cell_type": "markdown",
   "id": "69f88d97",
   "metadata": {},
   "source": [
    "#### 16.3 reduce() <a id='reduce'></a>"
   ]
  },
  {
   "cell_type": "code",
   "execution_count": 2,
   "id": "b0d9c7ea",
   "metadata": {},
   "outputs": [
    {
     "ename": "NameError",
     "evalue": "name 'function' is not defined",
     "output_type": "error",
     "traceback": [
      "\u001b[1;31m---------------------------------------------------------------------------\u001b[0m",
      "\u001b[1;31mNameError\u001b[0m                                 Traceback (most recent call last)",
      "Cell \u001b[1;32mIn[2], line 4\u001b[0m\n\u001b[0;32m      1\u001b[0m \u001b[38;5;66;03m# Assinatura do método reduce()\u001b[39;00m\n\u001b[0;32m      2\u001b[0m \u001b[38;5;28;01mimport\u001b[39;00m \u001b[38;5;21;01mfunctools\u001b[39;00m\n\u001b[1;32m----> 4\u001b[0m functools\u001b[38;5;241m.\u001b[39mreduce(\u001b[43mfunction\u001b[49m, iterable[initializer])\n\u001b[0;32m      6\u001b[0m \u001b[38;5;66;03m# Função em Python equivalente ao reduce()\u001b[39;00m\n\u001b[0;32m      7\u001b[0m \u001b[38;5;28;01mdef\u001b[39;00m \u001b[38;5;21mreduce\u001b[39m(function, iterable, initializer\u001b[38;5;241m=\u001b[39m\u001b[38;5;28;01mNone\u001b[39;00m):\n",
      "\u001b[1;31mNameError\u001b[0m: name 'function' is not defined"
     ]
    }
   ],
   "source": [
    "# Assinatura do método reduce()\n",
    "import functools\n",
    "\n",
    "functools.reduce(function, iterable[initializer])\n",
    "\n",
    "# Função em Python equivalente ao reduce()\n",
    "def reduce(function, iterable, initializer=None):\n",
    "    it = iter(iterable)\n",
    "    if initializer is None:\n",
    "        value = next(it)\n",
    "    else:\n",
    "        value = initializer\n",
    "    for element in it:\n",
    "        value = function(value, element)\n",
    "    return value"
   ]
  },
  {
   "cell_type": "code",
   "execution_count": 676,
   "id": "2f2fa816",
   "metadata": {},
   "outputs": [
    {
     "name": "stdout",
     "output_type": "stream",
     "text": [
      "Total é 44\n"
     ]
    }
   ],
   "source": [
    "# reduce - faz a redução de um iterável em um valor\n",
    "from functools import reduce\n",
    "\n",
    "produtos = [\n",
    "    {'nome': 'Produto 5', 'preco': 10},\n",
    "    {'nome': 'Produto 1', 'preco': 22},\n",
    "    {'nome': 'Produto 3', 'preco': 2},\n",
    "    {'nome': 'Produto 2', 'preco': 6},\n",
    "    {'nome': 'Produto 4', 'preco': 4},\n",
    "]\n",
    "\n",
    "\n",
    "# def funcao_do_reduce(acumulador, produto):\n",
    "#     print('acumulador', acumulador)\n",
    "#     print('produto', produto)\n",
    "#     print()\n",
    "#     return acumulador + produto['preco']\n",
    "\n",
    "\n",
    "total = reduce(\n",
    "    lambda ac, p: ac + p['preco'], # function\n",
    "    produtos, # iterable\n",
    "    0 # initializer\n",
    ") \n",
    "\n",
    "print('Total é', total)"
   ]
  },
  {
   "cell_type": "code",
   "execution_count": 677,
   "id": "a943e50a",
   "metadata": {},
   "outputs": [
    {
     "name": "stdout",
     "output_type": "stream",
     "text": [
      "44\n",
      "---\n",
      "44\n"
     ]
    }
   ],
   "source": [
    "produtos = [\n",
    "    {'nome': 'Produto 5', 'preco': 10},\n",
    "    {'nome': 'Produto 1', 'preco': 22},\n",
    "    {'nome': 'Produto 3', 'preco': 2},\n",
    "    {'nome': 'Produto 2', 'preco': 6},\n",
    "    {'nome': 'Produto 4', 'preco': 4},\n",
    "]\n",
    "\n",
    "total = 0\n",
    "for p in produtos:\n",
    "    total += p['preco']\n",
    "\n",
    "print(total)\n",
    "\n",
    "print('---')\n",
    "\n",
    "print(sum([p['preco'] for p in produtos]))"
   ]
  },
  {
   "cell_type": "markdown",
   "id": "cece3178",
   "metadata": {},
   "source": [
    "[Summary](#Summary)"
   ]
  },
  {
   "cell_type": "markdown",
   "id": "5100c513",
   "metadata": {},
   "source": [
    "### 17. Funções recursivas (Recursion)  <a id='FuncoesRecursivas'></a>"
   ]
  },
  {
   "cell_type": "code",
   "execution_count": 690,
   "id": "d1c4ab98",
   "metadata": {},
   "outputs": [
    {
     "name": "stdout",
     "output_type": "stream",
     "text": [
      "0 10\n",
      "1 10\n",
      "2 10\n",
      "3 10\n",
      "4 10\n",
      "5 10\n",
      "6 10\n",
      "7 10\n",
      "8 10\n",
      "9 10\n",
      "10 10\n",
      "10\n"
     ]
    }
   ],
   "source": [
    "# Funções recursivas e recursividade\n",
    "# - funções que podem se chamar de volta\n",
    "# - úteis p/ dividir problemas grandes em partes menores\n",
    "# Toda função recursiva deve ter:\n",
    "# - Um problema que possa ser dividido em partes menores\n",
    "# - Um caso recursivo que resolve o pequeno problema\n",
    "# - Um caso base que para (stop) a recursão\n",
    "# - fatorial - n! = 5! = 5 * 4 * 3 * 2 * 1 = 120\n",
    "# https://brasilescola.uol.com.br/matematica/fatorial.htm\n",
    "\n",
    "import sys\n",
    "\n",
    "sys.setrecursionlimit(50)\n",
    "\n",
    "\n",
    "def recursiva(inicio, fim):\n",
    "\n",
    "     print(inicio, fim)\n",
    "\n",
    "     # Caso base\n",
    "     if inicio >= 10:\n",
    "        return fim\n",
    "\n",
    "     # Caso recursivo\n",
    "     # contar até chegar ao final\n",
    "     inicio += 1\n",
    "     return recursiva(inicio, fim)\n",
    "\n",
    "\n",
    "print(recursiva(0, 10))"
   ]
  },
  {
   "cell_type": "code",
   "execution_count": 683,
   "id": "d6031a25",
   "metadata": {},
   "outputs": [
    {
     "name": "stdout",
     "output_type": "stream",
     "text": [
      "5! é: 120\n",
      "10! é: 3628800\n",
      "50! é: 30414093201713378043612608166064768844377641568960512000000000000\n"
     ]
    }
   ],
   "source": [
    "# Cálculo recursivo do fatorial de N\n",
    "def fatorial(n):\n",
    "    if n <= 1:\n",
    "        return 1 # caso base\n",
    "    \n",
    "    # chamada recursiva\n",
    "    return n * fatorial(n - 1)\n",
    "\n",
    "n=5\n",
    "print(f'{n}! é: {fatorial(n)}')\n",
    "\n",
    "n=10\n",
    "print(f'{n}! é: {fatorial(n)}')\n",
    "\n",
    "n=50\n",
    "print(f'{n}! é: {fatorial(n)}')"
   ]
  },
  {
   "cell_type": "markdown",
   "id": "ca16b7a7",
   "metadata": {},
   "source": [
    "[Summary](#Summary)"
   ]
  },
  {
   "cell_type": "markdown",
   "id": "59f54faa",
   "metadata": {},
   "source": [
    "### 18. Criando ambientes virtuais (Creating Virtual Environments) <a id='CriandoAmbientesVirtuais'></a>"
   ]
  },
  {
   "cell_type": "code",
   "execution_count": 4,
   "id": "8291267d",
   "metadata": {},
   "outputs": [],
   "source": [
    "# Ambientes virtuais em Python (venv)\n",
    "# Um ambiente virtual carrega toda a sua instalação\n",
    "# do Python para uma pasta no caminho escolhido.\n",
    "# Ao ativar um ambiente virtual, a instalação do\n",
    "# ambiente virtual será usada.\n",
    "# venv é o módulo que vamos usar para\n",
    "# criar ambientes virtuais.\n",
    "# Você pode dar o nome que preferir para um\n",
    "# ambiente virtual, mas os mais comuns são:\n",
    "# venv env .venv .env\n",
    "#\n",
    "# Como criar ambientes virtuais\n",
    "# Abra a pasta do seu projeto no terminal\n",
    "# e digite:\n",
    "# python -m venv venv\n",
    "#\n",
    "# Ativando e desativando meu ambiente virtual\n",
    "# Windows: .\\venv\\Scripts\\activate\n",
    "# Linux e Mac: source venv/bin/activate\n",
    "# Desativar: deactivate\n",
    "#\n",
    "# pip - instalando pacotes e bibliotecas\n",
    "# Instalar última versão:\n",
    "# pip install nome_pacote\n",
    "# Instalar versão específica\n",
    "# (tem outras formas também não mencionadas)\n",
    "# pip install nome_pacote==0.0.0\n",
    "# Desinstalar pacote\n",
    "# pip uninstall nome_pacote\n",
    "# Congelar (ver pacotes)\n",
    "# pip freeze\n",
    "#\n",
    "# Criando e usando um requirements.txt\n",
    "# pip freeze > requirements.txt\n",
    "# Instalando tudo do requirements.txt\n",
    "# pip install -r requirements.txt"
   ]
  },
  {
   "cell_type": "markdown",
   "id": "113c900f",
   "metadata": {},
   "source": [
    "[Summary](#Summary)"
   ]
  },
  {
   "cell_type": "markdown",
   "id": "4275994d",
   "metadata": {},
   "source": [
    "### 19. Gerenciador de Contexto (Context Manager) <a id='ContextManager'></a>"
   ]
  },
  {
   "cell_type": "markdown",
   "id": "f821bee3",
   "metadata": {},
   "source": [
    "The context manager associated with the `with` statement in Python is a construct that allows you to manage resources such as files, network connections, or any object that needs careful initialization and cleanup after use. The context manager is designed to ensure that resources are properly released, even in the case of exceptions or early exits from the `with` block.\n",
    "\n",
    "The syntax of the `with` statement in Python is as follows:\n",
    "\n",
    "```python\n",
    "with context_manager_expression as variable:\n",
    "    # Code that uses the resource\n",
    "    # The resource is automatically released after exiting this block\n",
    "```\n",
    "\n",
    "The context managed by `with` can be implemented in two main ways:\n",
    "\n",
    "1. **Using a Class with `__enter__` and `__exit__` Methods:**\n",
    "   You create a class that defines the special methods `__enter__` and `__exit__`, which are executed when the `with` block is entered and exited, respectively. The `__enter__` method initializes the resource, and the `__exit__` method takes care of releasing the resource.\n",
    "\n",
    "2. **Using the `contextlib.contextmanager` Function:**\n",
    "   The `contextlib` module provides the `contextmanager` decorator, which allows you to create context managers using a generator function approach. This is useful for simpler scenarios and avoids the need to create a separate class.\n",
    "\n",
    "Example using the class-based context manager:\n",
    "\n",
    "```python\n",
    "class FileContext:\n",
    "    def __init__(self, filename):\n",
    "        self.filename = filename\n",
    "        \n",
    "    def __enter__(self):\n",
    "        self.file = open(self.filename, 'r')\n",
    "        return self.file\n",
    "    \n",
    "    def __exit__(self, exc_type, exc_value, traceback):\n",
    "        self.file.close()\n",
    "\n",
    "with FileContext('myfile.txt') as file:\n",
    "    contents = file.read()\n",
    "    # The file will be automatically closed after exiting the with block\n",
    "```\n",
    "\n",
    "Example using `contextlib.contextmanager`:\n",
    "\n",
    "```python\n",
    "from contextlib import contextmanager\n",
    "\n",
    "@contextmanager\n",
    "def file_context(filename):\n",
    "    file = open(filename, 'r')\n",
    "    try:\n",
    "        yield file\n",
    "    finally:\n",
    "        file.close()\n",
    "\n",
    "with file_context('myfile.txt') as file:\n",
    "    contents = file.read()\n",
    "    # The file will be automatically closed after exiting the with block\n",
    "```\n",
    "\n",
    "Using the context manager with the `with` statement is a recommended practice to ensure that resources are released properly, improving code readability and robustness, and avoiding resource leaks."
   ]
  },
  {
   "cell_type": "markdown",
   "id": "f1a828f4",
   "metadata": {},
   "source": [
    "[Summary](#Summary)"
   ]
  },
  {
   "cell_type": "markdown",
   "id": "ee274d2c",
   "metadata": {},
   "source": [
    "### 20. Manipulação de arquivos no Python (Python File Handling) <a id='ManipArquivosPython'></a>"
   ]
  },
  {
   "cell_type": "markdown",
   "id": "f09674f0",
   "metadata": {},
   "source": [
    "#### 20.1 Arquivos Padrão no Python"
   ]
  },
  {
   "cell_type": "code",
   "execution_count": 13,
   "id": "c6b1aa34",
   "metadata": {},
   "outputs": [],
   "source": [
    "import os\n",
    "\n",
    "# Leia também: https://www.otaviomiranda.com.br/2020/normalizacao-unicode-em-python/\n",
    "# with open (context manager) e métodos úteis do TextIOWrapper\n",
    "# Usamos a função open para abrir\n",
    "# um arquivo em Python (ele pode ou não existir)\n",
    "# Modos:\n",
    "# r (leitura), w (escrita), x (para criação)\n",
    "# a (escreve ao final), b (binário)\n",
    "# t (modo texto), + (leitura e escrita)\n",
    "# Context manager - with (abre e fecha)\n",
    "# Métodos úteis\n",
    "# write, read (escrever e ler)\n",
    "# writelines (escrever várias linhas)\n",
    "# seek (move o cursor)\n",
    "# readline (ler linha)\n",
    "# readlines (ler linhas)\n",
    "# Vamos falar mais sobre o módulo os, mas:\n",
    "# os.remove ou unlink - apaga o arquivo\n",
    "# os.rename - troca o nome ou move o arquivo\n",
    "# Vamos falar mais sobre o módulo json, mas:\n",
    "# json.dump = Gera um arquivo json\n",
    "# json.load\n",
    "caminho_arquivo = 'aula116.txt'\n",
    "\n",
    "# arquivo = open(caminho_arquivo, 'w')\n",
    "# #\n",
    "# arquivo.close()\n",
    "\n",
    "# with open(caminho_arquivo, 'w+') as arquivo:\n",
    "#     arquivo.write('Linha 1\\n')\n",
    "#     arquivo.write('Linha 2\\n')\n",
    "#     arquivo.writelines(\n",
    "#         ('Linha 3\\n', 'Linha 4\\n')\n",
    "#     )\n",
    "#     arquivo.seek(0, 0)\n",
    "#     print(arquivo.read())\n",
    "#     print('Lendo')\n",
    "#     arquivo.seek(0, 0)\n",
    "#     print(arquivo.readline(), end='')\n",
    "#     print(arquivo.readline().strip())\n",
    "#     print(arquivo.readline().strip())\n",
    "\n",
    "#     print('READLINES')\n",
    "#     arquivo.seek(0, 0)\n",
    "#     for linha in arquivo.readlines():\n",
    "#         print(linha.strip())\n",
    "\n",
    "\n",
    "# print('#' * 10)\n",
    "\n",
    "# with open(caminho_arquivo, 'r') as arquivo:\n",
    "#     print(arquivo.read())\n",
    "\n",
    "with open(caminho_arquivo, 'w', encoding='utf8') as arquivo:\n",
    "    arquivo.write('Cores:\\n')\n",
    "    arquivo.write('Azul\\n')\n",
    "    arquivo.write('Amarelo\\n')\n",
    "    arquivo.writelines(\n",
    "        ('Verde\\n', 'Vermelho\\n')\n",
    "    )\n",
    "\n",
    "# os.remove(caminho_arquivo) # ou unlink\n",
    "# os.rename(caminho_arquivo, 'aula116-2.txt')"
   ]
  },
  {
   "cell_type": "markdown",
   "id": "4593b70d",
   "metadata": {},
   "source": [
    "#### 20.2 Arquivos JSON no Python"
   ]
  },
  {
   "cell_type": "code",
   "execution_count": 4,
   "id": "60c9a81d",
   "metadata": {},
   "outputs": [
    {
     "name": "stdout",
     "output_type": "stream",
     "text": [
      "{'nome': 'Cleiber', 'sobrenome': 'Garcia', 'enderecos': [{'rua': 'R1', 'numero': 32}, {'rua': 'R2', 'numero': 55}], 'altura': 1.7, 'numeros_preferidos': [3, 7, 11, 22], 'dev': True, 'nada': None}\n",
      "\n",
      "<class 'dict'>\n"
     ]
    }
   ],
   "source": [
    "import json\n",
    "\n",
    "pessoa = {\n",
    "    'nome': 'Cleiber',\n",
    "    'sobrenome': 'Garcia',\n",
    "    'enderecos': [\n",
    "        {'rua': 'R1', 'numero': 32},\n",
    "        {'rua': 'R2', 'numero': 55},\n",
    "    ],\n",
    "    'altura': 1.7,\n",
    "    'numeros_preferidos': (3, 7, 11, 22),\n",
    "    'dev': True,\n",
    "    'nada': None,\n",
    "}\n",
    "\n",
    "with open('aula117.json', 'w', encoding='utf8') as arquivo:\n",
    "    json.dump(\n",
    "        pessoa,\n",
    "        arquivo,\n",
    "        ensure_ascii=False,\n",
    "        indent=2,\n",
    "    )\n",
    "\n",
    "with open('aula117.json', 'r', encoding='utf8') as arquivo:\n",
    "    pessoa = json.load(arquivo)\n",
    "    print(pessoa, sep='\\n')\n",
    "    print('')\n",
    "    print(type(pessoa))\n",
    "    # print(pessoa['nome'])\n"
   ]
  },
  {
   "cell_type": "markdown",
   "id": "f705ca45",
   "metadata": {},
   "source": [
    "#### 20.3 Parâmetros Mutáveis"
   ]
  },
  {
   "cell_type": "code",
   "execution_count": 17,
   "id": "e3a295d7",
   "metadata": {},
   "outputs": [
    {
     "name": "stdout",
     "output_type": "stream",
     "text": [
      "cliente1: ['luiz', 'Joana', 'Fernando', 'Edu']\n",
      "cliente2: ['Helena', 'Maria']\n",
      "cliente3: ['Moreira', 'Vivi']\n"
     ]
    }
   ],
   "source": [
    "# Problema dos parâmetros mutáveis em funções Python\n",
    "def adiciona_clientes(nome, lista=None):\n",
    "    if lista is None:\n",
    "        lista = []\n",
    "    lista.append(nome)\n",
    "    return lista\n",
    "\n",
    "\n",
    "cliente1 = adiciona_clientes('luiz')\n",
    "adiciona_clientes('Joana', cliente1)\n",
    "adiciona_clientes('Fernando', cliente1)\n",
    "cliente1.append('Edu')\n",
    "\n",
    "cliente2 = adiciona_clientes('Helena')\n",
    "adiciona_clientes('Maria', cliente2)\n",
    "\n",
    "cliente3 = adiciona_clientes('Moreira')\n",
    "adiciona_clientes('Vivi', cliente3)\n",
    "\n",
    "print(f'cliente1: {cliente1}')\n",
    "print(f'cliente2: {cliente2}')\n",
    "print(f'cliente3: {cliente3}')"
   ]
  },
  {
   "cell_type": "markdown",
   "id": "5ee237ce",
   "metadata": {},
   "source": [
    "[Summary](#Summary)"
   ]
  },
  {
   "cell_type": "markdown",
   "id": "e7fcceb7",
   "metadata": {},
   "source": [
    "### 21. Positional arguments <a id='PositionalArguments'></a>"
   ]
  },
  {
   "cell_type": "code",
   "execution_count": 135,
   "id": "e6dc77a1",
   "metadata": {},
   "outputs": [
    {
     "name": "stdout",
     "output_type": "stream",
     "text": [
      "{'nome': 'teste'}\n",
      "6\n"
     ]
    }
   ],
   "source": [
    "# Positional-Only Parameters (/) e Keyword-Only Arguments (*)\n",
    "# *args (ilimitado de argumentos posicionais)\n",
    "# **kwargs (ilimitado de argumentos nomeados)\n",
    "# - Positional-only Parameters (/) - Tudo antes da barra deve\n",
    "# ser APENAS posicional.\n",
    "# PEP 570 – Python Positional-Only Parameters\n",
    "# https://peps.python.org/pep-0570/\n",
    "# - Keyword-Only Arguments (*) - * sozinho NÃO SUGA valores.\n",
    "# PEP 3102 – Keyword-Only Arguments\n",
    "# https://peps.python.org/pep-3102/\n",
    "def soma(a, b, /, *, c, **kwargs):\n",
    "    print(kwargs)\n",
    "    print(a + b + c)\n",
    "\n",
    "\n",
    "soma(1, 2, c=3, nome='teste')"
   ]
  },
  {
   "cell_type": "markdown",
   "id": "8f91a1db",
   "metadata": {},
   "source": [
    "[Summary](#Summary)"
   ]
  },
  {
   "cell_type": "markdown",
   "id": "fa94608d",
   "metadata": {},
   "source": [
    "### 22. Raising of exceptions <a id='RaisingOfExceptions'></a>"
   ]
  },
  {
   "cell_type": "code",
   "execution_count": 128,
   "id": "0149109b",
   "metadata": {},
   "outputs": [
    {
     "name": "stdout",
     "output_type": "stream",
     "text": [
      "MeuError\n",
      "('a', 'b', 'c')\n",
      "\n"
     ]
    },
    {
     "ename": "OutroError",
     "evalue": "Vou lançar de novo",
     "output_type": "error",
     "traceback": [
      "\u001b[1;31m---------------------------------------------------------------------------\u001b[0m",
      "\u001b[1;31mMeuError\u001b[0m                                  Traceback (most recent call last)",
      "Cell \u001b[1;32mIn[128], line 41\u001b[0m\n\u001b[0;32m     40\u001b[0m \u001b[38;5;28;01mtry\u001b[39;00m:\n\u001b[1;32m---> 41\u001b[0m     \u001b[43mlevantar\u001b[49m\u001b[43m(\u001b[49m\u001b[43m)\u001b[49m\n\u001b[0;32m     42\u001b[0m \u001b[38;5;28;01mexcept\u001b[39;00m (MeuError, \u001b[38;5;167;01mZeroDivisionError\u001b[39;00m) \u001b[38;5;28;01mas\u001b[39;00m error:\n",
      "Cell \u001b[1;32mIn[128], line 37\u001b[0m, in \u001b[0;36mlevantar\u001b[1;34m()\u001b[0m\n\u001b[0;32m     36\u001b[0m exception_\u001b[38;5;241m.\u001b[39madd_note(\u001b[38;5;124m'\u001b[39m\u001b[38;5;124mvocê errou isso\u001b[39m\u001b[38;5;124m'\u001b[39m)\n\u001b[1;32m---> 37\u001b[0m \u001b[38;5;28;01mraise\u001b[39;00m exception_\n",
      "\u001b[1;31mMeuError\u001b[0m: ('a', 'b', 'c')",
      "\nThe above exception was the direct cause of the following exception:\n",
      "\u001b[1;31mOutroError\u001b[0m                                Traceback (most recent call last)",
      "Cell \u001b[1;32mIn[128], line 49\u001b[0m\n\u001b[0;32m     47\u001b[0m exception_\u001b[38;5;241m.\u001b[39m__notes__ \u001b[38;5;241m=\u001b[39m error\u001b[38;5;241m.\u001b[39m__notes__\u001b[38;5;241m.\u001b[39mcopy()\n\u001b[0;32m     48\u001b[0m exception_\u001b[38;5;241m.\u001b[39madd_note(\u001b[38;5;124m'\u001b[39m\u001b[38;5;124mMais uma nota\u001b[39m\u001b[38;5;124m'\u001b[39m)\n\u001b[1;32m---> 49\u001b[0m \u001b[38;5;28;01mraise\u001b[39;00m exception_ \u001b[38;5;28;01mfrom\u001b[39;00m \u001b[38;5;21;01merror\u001b[39;00m\n",
      "\u001b[1;31mOutroError\u001b[0m: Vou lançar de novo"
     ]
    }
   ],
   "source": [
    "# Notas das exceptions em Python (add_notes, __notes__)\n",
    "# https://docs.python.org/3/library/exceptions.html\n",
    "# Levantando (raise) / Lançando (throw) exceções\n",
    "# Relançando exceções\n",
    "# Adicionando notas em exceções (3.11.0)\n",
    "class MeuError(Exception):\n",
    "    ...\n",
    "    \n",
    "    def add_note(self, note):\n",
    "        if not hasattr(self, '__notes__'):\n",
    "            self.__notes__ = []\n",
    "        self.__notes__.append(note)\n",
    "        \n",
    "    def list_note(self):\n",
    "        for note in notes:\n",
    "            print(notes[note])\n",
    "\n",
    "\n",
    "\n",
    "class OutroError(Exception):\n",
    "    ...\n",
    "    \n",
    "    def add_note(self, note):\n",
    "        if not hasattr(self, '__notes__'):\n",
    "            self.__notes__ = []\n",
    "        self.__notes__.append(note)\n",
    "        \n",
    "        def list_note(self):\n",
    "            for note in notes:\n",
    "                print(notes[note])\n",
    "\n",
    "\n",
    "def levantar():\n",
    "    exception_ = MeuError('a', 'b', 'c')\n",
    "    exception_.add_note('Olha a nota 1')\n",
    "    exception_.add_note('você errou isso')\n",
    "    raise exception_\n",
    "\n",
    "\n",
    "try:\n",
    "    levantar()\n",
    "except (MeuError, ZeroDivisionError) as error:\n",
    "    print(error.__class__.__name__)\n",
    "    print(error.args)\n",
    "    print()\n",
    "    exception_ = OutroError('Vou lançar de novo')\n",
    "    exception_.__notes__ = error.__notes__.copy()\n",
    "    exception_.add_note('Mais uma nota')\n",
    "    raise exception_ from error"
   ]
  },
  {
   "cell_type": "markdown",
   "id": "5e338282",
   "metadata": {},
   "source": [
    "[Summary](#Summary)"
   ]
  },
  {
   "cell_type": "markdown",
   "id": "cbd0c3db",
   "metadata": {},
   "source": [
    "# 3. Nível Ouro (Gold: Advanced)"
   ]
  },
  {
   "cell_type": "markdown",
   "id": "7a9bac97",
   "metadata": {},
   "source": [
    "## 3.1. Orientação a Objetos (Object-Oriented Programming) <a id='OrientacaoObjetos'></a>"
   ]
  },
  {
   "cell_type": "markdown",
   "id": "67fd58f4",
   "metadata": {},
   "source": [
    "### 3.1.1 Método construtor de instâncias da classe: __init__(self, atributo1, atributo2, ...)"
   ]
  },
  {
   "cell_type": "code",
   "execution_count": 21,
   "id": "645fc087",
   "metadata": {},
   "outputs": [
    {
     "name": "stdout",
     "output_type": "stream",
     "text": [
      "nome completo: Luiz Otávio\n",
      "\n",
      "nome completo: Maria Joana\n"
     ]
    }
   ],
   "source": [
    "# Introdução ao método __init__ (Construtor da Classe)\n",
    "# As classes geram novos objetos (instâncias) que\n",
    "# podem ter seus próprios atributos e métodos.\n",
    "# Os objetos gerados pela classe podem usar seus dados\n",
    "# internos para realizar várias ações.\n",
    "# Por convenção, usamos PascalCase para nomes de\n",
    "# classes.\n",
    "\n",
    "class Pessoa:\n",
    "    def __init__(self, nome, sobrenome):\n",
    "        self.nome = nome\n",
    "        self.sobrenome = sobrenome\n",
    "\n",
    "\n",
    "p1 = Pessoa('Luiz', 'Otávio')\n",
    "# p1.nome = 'Luiz'\n",
    "# p1.sobrenome = 'Otávio'\n",
    "\n",
    "p2 = Pessoa('Maria', 'Joana')\n",
    "# p2.nome = 'Maria'\n",
    "# p2.sobrenome = 'Joana'\n",
    "\n",
    "print(f'nome completo: {p1.nome} {p1.sobrenome}')\n",
    "\n",
    "print(f'\\nnome completo: {p2.nome} {p2.sobrenome}')"
   ]
  },
  {
   "cell_type": "code",
   "execution_count": 22,
   "id": "1cb3a2d2",
   "metadata": {},
   "outputs": [
    {
     "name": "stdout",
     "output_type": "stream",
     "text": [
      "Fusca está acelerando...\n"
     ]
    }
   ],
   "source": [
    "# Entendendo self em classes Python\n",
    "# Classe - Molde (geralmente sem dados)\n",
    "# Instância da class (objeto) - Tem os dados\n",
    "# Uma classe pode gerar várias instâncias.\n",
    "# Na classe o self é a própria instância.\n",
    "\n",
    "class Carro:\n",
    "    def __init__(self, nome):\n",
    "        self.nome = nome\n",
    "\n",
    "    def acelerar(self):\n",
    "        print(f'{self.nome} está acelerando...')\n",
    "\n",
    "\n",
    "fusca = Carro('Fusca')\n",
    "Carro.acelerar(fusca)"
   ]
  },
  {
   "cell_type": "code",
   "execution_count": 24,
   "id": "e4fb0177",
   "metadata": {},
   "outputs": [
    {
     "name": "stdout",
     "output_type": "stream",
     "text": [
      "Fusca está acelerando...\n"
     ]
    }
   ],
   "source": [
    "fusca.acelerar()"
   ]
  },
  {
   "cell_type": "markdown",
   "id": "f7fdf4ee",
   "metadata": {},
   "source": [
    "### 3.1.2 Métodos em instâncias de classe (Instance Methods)"
   ]
  },
  {
   "cell_type": "code",
   "execution_count": 23,
   "id": "3d4e5b39",
   "metadata": {},
   "outputs": [
    {
     "name": "stdout",
     "output_type": "stream",
     "text": [
      "Fusca\n",
      "Fusca está acelerando...\n",
      "Celta\n",
      "Celta está acelerando...\n"
     ]
    }
   ],
   "source": [
    "# Métodos em instâncias de classes Python\n",
    "# Hard coded - É algo que foi escrito diretamente no código\n",
    "\n",
    "class Carro:\n",
    "    def __init__(self, nome):\n",
    "        self.nome = nome\n",
    "\n",
    "    def acelerar(self):\n",
    "        print(f'{self.nome} está acelerando...')\n",
    "\n",
    "\n",
    "fusca = Carro('Fusca')\n",
    "print(fusca.nome)\n",
    "fusca.acelerar()\n",
    "\n",
    "celta = Carro(nome='Celta')\n",
    "print(celta.nome)\n",
    "celta.acelerar()"
   ]
  },
  {
   "cell_type": "markdown",
   "id": "974d1488",
   "metadata": {},
   "source": [
    "### 3.1.3 Escopo da classe e métodos da classe (Class Scope and Class Methods)"
   ]
  },
  {
   "cell_type": "code",
   "execution_count": 17,
   "id": "774d04f6",
   "metadata": {},
   "outputs": [
    {
     "name": "stdout",
     "output_type": "stream",
     "text": [
      "valor\n",
      "Leão\n",
      "Leão está comendo carne\n",
      "Leão está comendo fruta\n"
     ]
    }
   ],
   "source": [
    "# Escopo da classe e de métodos da classe\n",
    "class Animal:\n",
    "    # nome = 'Leão'\n",
    "\n",
    "    def __init__(self, nome):\n",
    "        self.nome = nome\n",
    "\n",
    "        variavel = 'valor'\n",
    "        print(variavel)\n",
    "\n",
    "    def comendo(self, alimento):\n",
    "        return f'{self.nome} está comendo {alimento}'\n",
    "\n",
    "    def executar(self, *args, **kwargs):\n",
    "        return self.comendo(*args, **kwargs)\n",
    "\n",
    "\n",
    "leao = Animal(nome='Leão')\n",
    "print(leao.nome)\n",
    "print(leao.executar(alimento='carne'))\n",
    "\n",
    "print(leao.comendo('fruta'))"
   ]
  },
  {
   "cell_type": "markdown",
   "id": "8a509dde",
   "metadata": {},
   "source": [
    "### 3.1.4 Mantendo estados dentro da classe (Maintaining States Within the Class)"
   ]
  },
  {
   "cell_type": "code",
   "execution_count": 29,
   "id": "bc51fc0e",
   "metadata": {},
   "outputs": [
    {
     "name": "stdout",
     "output_type": "stream",
     "text": [
      "Canon em modo filmar...\n",
      "Canon JÁ está filmando...\n",
      "Canon não pode fotografar filmando\n",
      "Canon parando de filmar...\n",
      "Canon em modo fotografar...\n",
      "\n",
      "Sony NÃO está filmando...\n",
      "Sony em modo filmar...\n",
      "Sony JÁ está filmando...\n",
      "Sony não pode fotografar filmando\n",
      "Sony parando de filmar...\n",
      "Sony em modo fotografar...\n"
     ]
    }
   ],
   "source": [
    "# Mantendo estados dentro da classe\n",
    "class Camera:\n",
    "    def __init__(self, nome, filmando=False):\n",
    "        self.nome = nome\n",
    "        self.filmando = filmando\n",
    "\n",
    "    def filmar(self):\n",
    "        if self.filmando:\n",
    "            print(f'{self.nome} JÁ está filmando...')\n",
    "            return\n",
    "\n",
    "        print(f'{self.nome} em modo filmar...')\n",
    "        self.filmando = True\n",
    "\n",
    "    def parar_filmar(self):\n",
    "        if not self.filmando:\n",
    "            print(f'{self.nome} NÃO está filmando...')\n",
    "            return\n",
    "\n",
    "        print(f'{self.nome} parando de filmar...')\n",
    "        self.filmando = False\n",
    "\n",
    "    def fotografar(self):\n",
    "        if self.filmando:\n",
    "            print(f'{self.nome} não pode fotografar filmando')\n",
    "            return\n",
    "\n",
    "        print(f'{self.nome} em modo fotografar...')\n",
    "\n",
    "\n",
    "c1 = Camera('Canon')\n",
    "c2 = Camera('Sony')\n",
    "\n",
    "c1.filmar()\n",
    "c1.filmar()\n",
    "c1.fotografar()\n",
    "c1.parar_filmar()\n",
    "c1.fotografar()\n",
    "\n",
    "print()\n",
    "\n",
    "c2.parar_filmar()\n",
    "c2.filmar()\n",
    "c2.filmar()\n",
    "c2.fotografar()\n",
    "c2.parar_filmar()\n",
    "c2.fotografar()"
   ]
  },
  {
   "cell_type": "markdown",
   "id": "42161071",
   "metadata": {},
   "source": [
    "### 3.1.5 Atributos da classe (vale para todas as instâncias da classe) (Class Attributes)"
   ]
  },
  {
   "cell_type": "code",
   "execution_count": 28,
   "id": "9f66107f",
   "metadata": {},
   "outputs": [
    {
     "name": "stdout",
     "output_type": "stream",
     "text": [
      "Ano atual: 2022\n",
      "Ano de nascimento do João: 1987\n",
      "Ano de nascimento da Helena: 2010\n"
     ]
    }
   ],
   "source": [
    "# Atributos de classe\n",
    "class Pessoa:\n",
    "    ano_atual = 2022\n",
    "\n",
    "    def __init__(self, nome, idade):\n",
    "        self.nome = nome\n",
    "        self.idade = idade\n",
    "\n",
    "    def get_ano_nascimento(self):\n",
    "        return Pessoa.ano_atual - self.idade\n",
    "\n",
    "\n",
    "Joao = Pessoa('João', 35)\n",
    "Helena = Pessoa('Helena', 12)\n",
    "\n",
    "print(f'Ano atual: {Pessoa.ano_atual}')\n",
    "\n",
    "print(f'Ano de nascimento do João: {Joao.get_ano_nascimento()}')\n",
    "print(f'Ano de nascimento da Helena: {Helena.get_ano_nascimento()}')"
   ]
  },
  {
   "cell_type": "markdown",
   "id": "898f2199",
   "metadata": {},
   "source": [
    "### 3.1.6 Atributos de instância (e __dict___, vars()) - (Instance Attributes)"
   ]
  },
  {
   "cell_type": "code",
   "execution_count": 84,
   "id": "980859f5",
   "metadata": {},
   "outputs": [
    {
     "name": "stdout",
     "output_type": "stream",
     "text": [
      "Dados de p1:  nome: João - idade: 35\n",
      "Dados de p2:  nome: Paulo - idade: 28\n",
      "Dados de p1:  nome: João - idade: 35\n",
      "p1.__dict__:  {'nome': 'João', 'idade': 35, 'sexo': 'masculino'}\n",
      "vars(p1): {'nome': 'João', 'idade': 35, 'sexo': 'masculino'}\n"
     ]
    }
   ],
   "source": [
    "# __dict__ e vars para atributos de instância\n",
    "class Pessoa:\n",
    "    # atributo de classe (vale para todas as\n",
    "    # instâncias)\n",
    "    ano_atual = 2022\n",
    "\n",
    "    def __init__(self, nome, idade):\n",
    "        # atributos de instância (valor específico\n",
    "        # para cada instância)\n",
    "        self.nome = nome\n",
    "        self.idade = idade\n",
    "\n",
    "    def get_ano_nascimento(self):\n",
    "        return Pessoa.ano_atual - self.idade\n",
    "    \n",
    "    def get_atributos_instancia(self):\n",
    "        return f'nome: {self.nome} - idade: {self.idade}'\n",
    "\n",
    "\n",
    "dados = {'nome': 'João', 'idade': 35}\n",
    "p1 = Pessoa(**dados)\n",
    "print('Dados de p1: ', p1.get_atributos_instancia())\n",
    "\n",
    "p2 = Pessoa('Paulo', 28)\n",
    "print('Dados de p2: ', p2.get_atributos_instancia())\n",
    "\n",
    "p1.__dict__['sexo'] = 'masculino'\n",
    "print('Dados de p1: ', p1.get_atributos_instancia())\n",
    "print(f'p1.__dict__:  {p1.__dict__}')\n",
    "print(f'vars(p1): {vars(p1)}')"
   ]
  },
  {
   "cell_type": "markdown",
   "id": "3866bf56",
   "metadata": {},
   "source": [
    "### 3.1.7 Métodos de classe - factories (Class Methods - Factories)"
   ]
  },
  {
   "cell_type": "code",
   "execution_count": 86,
   "id": "8988e2fd",
   "metadata": {},
   "outputs": [
    {
     "name": "stdout",
     "output_type": "stream",
     "text": [
      "Helena 50\n",
      "Anônima 23\n",
      "Anônima 25\n"
     ]
    }
   ],
   "source": [
    "# Métodos de classe + factories (fábricas)\n",
    "# São métodos onde \"self\" será \"cls\", ou seja,\n",
    "# ao invés de receber a instância no primeiro\n",
    "# parâmetro, receberemos a própria classe.\n",
    "class Pessoa:\n",
    "    ano = 2023  # atributo de classe\n",
    "\n",
    "    def __init__(self, nome, idade):\n",
    "        self.nome = nome\n",
    "        self.idade = idade\n",
    "\n",
    "    @classmethod\n",
    "    def metodo_de_classe(cls):\n",
    "        print('Hey')\n",
    "\n",
    "    @classmethod\n",
    "    def criar_com_50_anos(cls, nome):\n",
    "        return cls(nome, 50)\n",
    "\n",
    "    @classmethod\n",
    "    def criar_sem_nome(cls, idade):\n",
    "        return cls('Anônima', idade)\n",
    "\n",
    "\n",
    "p1 = Pessoa('João', 34)\n",
    "p2 = Pessoa.criar_com_50_anos('Helena')\n",
    "p3 = Pessoa('Anônima', 23)\n",
    "p4 = Pessoa.criar_sem_nome(25)\n",
    "print(p2.nome, p2.idade)\n",
    "print(p3.nome, p3.idade)\n",
    "print(p4.nome, p4.idade)\n",
    "# print(Pessoa.ano)\n",
    "# Pessoa.metodo_de_classe()"
   ]
  },
  {
   "cell_type": "markdown",
   "id": "95a863c2",
   "metadata": {},
   "source": [
    "### 3.1.8 Métodos estáticos (Static Methods)"
   ]
  },
  {
   "cell_type": "code",
   "execution_count": 90,
   "id": "a9e26f3a",
   "metadata": {},
   "outputs": [
    {
     "name": "stdout",
     "output_type": "stream",
     "text": [
      "Função (método) dentro da classe. (1, 2, 3) {}\n",
      "Função que está fora da classe. (1, 2, 3) {}\n",
      "Função (método) dentro da classe. () {'nomeado': 1}\n",
      "Função que está fora da classe. () {'nomeado': 1}\n"
     ]
    }
   ],
   "source": [
    "# @staticmethod (métodos estáticos) \n",
    "# Métodos estáticos são métodos que estão dentro da\n",
    "# classe, mas não tem acesso ao self nem ao cls.\n",
    "# Em resumo, são funções que existem dentro da sua\n",
    "# classe.\n",
    "class Classe:\n",
    "    @staticmethod\n",
    "    def funcao_que_esta_na_classe(*args, **kwargs):\n",
    "        print('Função (método) dentro da classe.', args, kwargs)\n",
    "\n",
    "\n",
    "def funcao(*args, **kwargs):\n",
    "    print('Função que está fora da classe.', args, kwargs)\n",
    "\n",
    "\n",
    "c1 = Classe()\n",
    "c1.funcao_que_esta_na_classe(1, 2, 3)\n",
    "funcao(1, 2, 3)\n",
    "Classe.funcao_que_esta_na_classe(nomeado=1)\n",
    "funcao(nomeado=1)\n"
   ]
  },
  {
   "cell_type": "markdown",
   "id": "d83a40e2",
   "metadata": {},
   "source": [
    "[Summary](#Summary)"
   ]
  },
  {
   "cell_type": "markdown",
   "id": "0967b747",
   "metadata": {},
   "source": [
    "### 3.1.9 Method versus @classmethod versus @staticmethod"
   ]
  },
  {
   "cell_type": "code",
   "execution_count": 93,
   "id": "29f504c5",
   "metadata": {},
   "outputs": [
    {
     "name": "stdout",
     "output_type": "stream",
     "text": [
      "LOG: Essa é a mensagem de log\n",
      "None\n",
      "luiz\n",
      "1234\n"
     ]
    }
   ],
   "source": [
    "# method vs @classmethod vs @staticmethod\n",
    "# method - self, método de instância\n",
    "# @classmethod - cls, método de classe\n",
    "# @staticmethod - método estático (❌self, ❌cls)\n",
    "class Connection:\n",
    "    def __init__(self, host='localhost'):\n",
    "        self.host = host\n",
    "        self.user = None\n",
    "        self.password = None\n",
    "\n",
    "    def set_user(self, user):\n",
    "        self.user = user\n",
    "\n",
    "    def set_password(self, password):\n",
    "        self.password = password\n",
    "\n",
    "    @classmethod\n",
    "    def create_with_auth(cls, user, password):\n",
    "        connection = cls()\n",
    "        connection.user = user\n",
    "        connection.password = password\n",
    "        return connection\n",
    "\n",
    "    @staticmethod\n",
    "    def log(msg):\n",
    "        print('LOG:', msg)\n",
    "\n",
    "\n",
    "def connection_log(msg):\n",
    "    print('LOG:', msg)\n",
    "\n",
    "\n",
    "# c1 = Connection()\n",
    "c1 = Connection.create_with_auth('luiz', '1234')\n",
    "# c1.set_user('luiz')\n",
    "# c1.set_password('123')\n",
    "print(Connection.log('Essa é a mensagem de log'))\n",
    "print(c1.user)\n",
    "print(c1.password)"
   ]
  },
  {
   "cell_type": "markdown",
   "id": "60c7983d",
   "metadata": {},
   "source": [
    "[Summary](#Summary)"
   ]
  },
  {
   "cell_type": "markdown",
   "id": "3c4db7d4",
   "metadata": {},
   "source": [
    "### 3.1.10 @property: um getter (um método) para obter um atributo)"
   ]
  },
  {
   "cell_type": "code",
   "execution_count": 96,
   "id": "e1055cfc",
   "metadata": {},
   "outputs": [
    {
     "name": "stdout",
     "output_type": "stream",
     "text": [
      "PROPERTY\n",
      "Azul\n",
      "123456\n",
      "---\n",
      "GET COR\n",
      "Azul\n",
      "GET COR\n",
      "Azul\n"
     ]
    }
   ],
   "source": [
    "# @property - um getter no modo Pythônico\n",
    "# getter - um método para obter um atributo\n",
    "# cor -> get_cor()\n",
    "# modo pythônico - modo do Python de fazer coisas\n",
    "# @property é uma propriedade do objeto, ela\n",
    "# é um método que se comporta como um\n",
    "# atributo \n",
    "# Geralmente é usada nas seguintes situações:\n",
    "# - como getter\n",
    "# - p/ evitar quebrar código cliente\n",
    "# - p/ habilitar setter\n",
    "# - p/ executar ações ao obter um atributo\n",
    "# Código cliente - é o código que usa seu código\n",
    "class Caneta:\n",
    "    def __init__(self, cor):\n",
    "        self.cor_tinta = cor\n",
    "\n",
    "    @property\n",
    "    def cor(self):\n",
    "        print('PROPERTY')\n",
    "        return self.cor_tinta\n",
    "\n",
    "    @property\n",
    "    def cor_tampa(self):\n",
    "        return 123456\n",
    "\n",
    "###########################\n",
    "\n",
    "\n",
    "caneta = Caneta('Azul')\n",
    "print(caneta.cor)\n",
    "print(caneta.cor_tampa)\n",
    "\n",
    "#####################################\n",
    "\n",
    "class Caneta:\n",
    "     def __init__(self, cor):\n",
    "         self.cor_tinta = cor\n",
    "\n",
    "     def get_cor(self):\n",
    "         print('GET COR')\n",
    "         return self.cor_tinta\n",
    "\n",
    "# ###########################\n",
    "\n",
    "\n",
    "caneta = Caneta('Azul')\n",
    "print('---')\n",
    "print(caneta.get_cor())\n",
    "print(caneta.get_cor())\n"
   ]
  },
  {
   "cell_type": "markdown",
   "id": "f9fc198f",
   "metadata": {},
   "source": [
    "[Summary](#Summary)"
   ]
  },
  {
   "cell_type": "markdown",
   "id": "b34705fa",
   "metadata": {},
   "source": [
    "### 3.1.11 Getter e Setter"
   ]
  },
  {
   "cell_type": "code",
   "execution_count": 98,
   "id": "e2364952",
   "metadata": {},
   "outputs": [
    {
     "name": "stdout",
     "output_type": "stream",
     "text": [
      "ESTOU NO SETTER\n",
      "ESTOU NO SETTER\n",
      "ESTOU NO GETTER\n",
      "Rosa\n",
      "Azul\n"
     ]
    }
   ],
   "source": [
    "# @property + @setter - getter e setter no modo Pythônico\n",
    "# - como getter\n",
    "# - p/ evitar quebrar código cliente\n",
    "# - p/ habilitar setter\n",
    "# - p/ executar ações ao obter um atributo\n",
    "# Atributos que começar com um ou dois underlines\n",
    "# não devem ser usados fora da classe.\n",
    "\n",
    "class Caneta:\n",
    "    def __init__(self, cor):\n",
    "        # private protected\n",
    "        self.cor = cor\n",
    "        self._cor_tampa = None\n",
    "\n",
    "    @property\n",
    "    def cor(self):\n",
    "        print('ESTOU NO GETTER')\n",
    "        return self._cor\n",
    "\n",
    "    @cor.setter\n",
    "    def cor(self, valor):\n",
    "        print('ESTOU NO SETTER')\n",
    "        self._cor = valor\n",
    "\n",
    "    @property\n",
    "    def cor_tampa(self):\n",
    "        return self._cor_tampa\n",
    "\n",
    "    @cor_tampa.setter\n",
    "    def cor_tampa(self, valor):\n",
    "        self._cor_tampa = valor\n",
    "\n",
    "\n",
    "caneta = Caneta('Azul')\n",
    "caneta.cor = 'Rosa'\n",
    "caneta.cor_tampa = 'Azul'\n",
    "print(caneta.cor)\n",
    "print(caneta.cor_tampa)"
   ]
  },
  {
   "cell_type": "markdown",
   "id": "f829f48d",
   "metadata": {},
   "source": [
    "[Summary](#Summary)"
   ]
  },
  {
   "cell_type": "markdown",
   "id": "3cee9d5c",
   "metadata": {},
   "source": [
    "### 3.1.12 Modificadores de acesso: public, protected, private"
   ]
  },
  {
   "cell_type": "code",
   "execution_count": 100,
   "id": "3662538c",
   "metadata": {},
   "outputs": [
    {
     "name": "stdout",
     "output_type": "stream",
     "text": [
      "isso é private\n",
      "__metodo_private\n",
      "metodo_publico\n"
     ]
    }
   ],
   "source": [
    "# Encapsulamento (modificadores de acesso: public, protected, private)\n",
    "# Python NÃO TEM modificadores de acesso\n",
    "# Mas podemos seguir as seguintes convenções\n",
    "#   (sem underline) = public\n",
    "#       pode ser usado em qualquer lugar\n",
    "# _ (um underline) = protected\n",
    "#       não DEVE ser usado fora da classe\n",
    "#       ou suas subclasses.\n",
    "# __ (dois underlines) = private\n",
    "#       \"name mangling\" (desfiguração de nomes) em Python\n",
    "#       _NomeClasse__nome_attr_ou_method\n",
    "#       só DEVE ser usado na classe em que foi\n",
    "#       declarado.\n",
    "from functools import partial\n",
    "\n",
    "\n",
    "class Foo:\n",
    "    def __init__(self):\n",
    "        self.public = 'isso é público'\n",
    "        self._protected = 'isso é protegido'\n",
    "        self.__exemplo = 'isso é private'\n",
    "\n",
    "    def metodo_publico(self):\n",
    "        # self._metodo_protected()\n",
    "        # print(self._protected)\n",
    "        print(self.__exemplo)\n",
    "        self.__metodo_private()\n",
    "        return 'metodo_publico'\n",
    "\n",
    "    def _metodo_protected(self):\n",
    "        print('_metodo_protected')\n",
    "        return '_metodo_protected'\n",
    "\n",
    "    def __metodo_private(self):\n",
    "        print('__metodo_private')\n",
    "        return '__metodo_private'\n",
    "\n",
    "\n",
    "f = Foo()\n",
    "# print(f.public)\n",
    "print(f.metodo_publico())"
   ]
  },
  {
   "cell_type": "markdown",
   "id": "fb3ed647",
   "metadata": {},
   "source": [
    "[Summary](#Summary)"
   ]
  },
  {
   "cell_type": "markdown",
   "id": "106f3f47",
   "metadata": {},
   "source": [
    "### 3.1.13 Relação entre classes: associação (Relation between Classes: association)"
   ]
  },
  {
   "cell_type": "code",
   "execution_count": 104,
   "id": "72a38f01",
   "metadata": {},
   "outputs": [
    {
     "name": "stdout",
     "output_type": "stream",
     "text": [
      "Caneta Bic está escrevendo\n",
      "Máquina está escrevendo\n",
      "Máquina está escrevendo\n"
     ]
    }
   ],
   "source": [
    "# Relações entre classes: associação\n",
    "# Associação é um tipo de relação onde os objetos\n",
    "# estão ligados dentro do sistema.\n",
    "# Essa é a relação mais comum entre objetos e tem subconjuntos\n",
    "# como agregação e composição (que veremos depois).\n",
    "# Geralmente, temos uma associação quando um objeto tem\n",
    "# um atributo que referencia outro objeto.\n",
    "# A associação não especifica como um objeto controla\n",
    "# o ciclo de vida de outro objeto.\n",
    "\n",
    "class Escritor:\n",
    "    def __init__(self, nome) -> None:\n",
    "        self.nome = nome\n",
    "        self._ferramenta = None\n",
    "\n",
    "    @property\n",
    "    def ferramenta(self):\n",
    "        return self._ferramenta\n",
    "\n",
    "    @ferramenta.setter\n",
    "    def ferramenta(self, ferramenta):\n",
    "        self._ferramenta = ferramenta\n",
    "\n",
    "\n",
    "class FerramentaDeEscrever:\n",
    "    def __init__(self, nome):\n",
    "        self.nome = nome\n",
    "\n",
    "    def escrever(self):\n",
    "        return f'{self.nome} está escrevendo'\n",
    "\n",
    "\n",
    "escritor = Escritor('Luiz')\n",
    "caneta = FerramentaDeEscrever('Caneta Bic')\n",
    "maquina_de_escrever = FerramentaDeEscrever('Máquina')\n",
    "escritor.ferramenta = maquina_de_escrever\n",
    "\n",
    "print(caneta.escrever())\n",
    "print(maquina_de_escrever.escrever())\n",
    "print(escritor.ferramenta.escrever())"
   ]
  },
  {
   "cell_type": "markdown",
   "id": "308d3719",
   "metadata": {},
   "source": [
    "[Summary](#Summary)"
   ]
  },
  {
   "cell_type": "markdown",
   "id": "88bad6ce",
   "metadata": {},
   "source": [
    "### 3.1.14 Relação entre classes: agregação (Relation between Classes: aggregation)"
   ]
  },
  {
   "cell_type": "code",
   "execution_count": 105,
   "id": "46566652",
   "metadata": {},
   "outputs": [
    {
     "name": "stdout",
     "output_type": "stream",
     "text": [
      "\n",
      "Caneta 1.2\n",
      "Camiseta 20\n",
      "\n",
      "21.2\n"
     ]
    }
   ],
   "source": [
    "# Relações entre classes: agregação\n",
    "# Agregação é uma forma mais especializada de associação\n",
    "# entre dois ou mais objetos. Cada objeto terá\n",
    "# seu ciclo de vida independente.\n",
    "# Geralmente é uma relação de um para muitos, onde um\n",
    "# objeto tem um ou muitos objetos.\n",
    "# Os objetos podem viver separadamente, mas pode\n",
    "# se tratar de uma relação onde um objeto precisa de\n",
    "# outro para fazer determinada tarefa.\n",
    "# (existem controvérsias sobre as definições de agregação).\n",
    "class Carrinho:\n",
    "    def __init__(self):\n",
    "        self._produtos = []\n",
    "\n",
    "    def total(self):\n",
    "        return sum([p.preco for p in self._produtos])\n",
    "\n",
    "    def inserir_produtos(self, *produtos):\n",
    "        # self._produtos.extend(produtos)\n",
    "        # self._produtos += produtos\n",
    "        for produto in produtos:\n",
    "            self._produtos.append(produto)\n",
    "\n",
    "    def listar_produtos(self):\n",
    "        print()\n",
    "        for produto in self._produtos:\n",
    "            print(produto.nome, produto.preco)\n",
    "        print()\n",
    "\n",
    "\n",
    "class Produto:\n",
    "    def __init__(self, nome, preco):\n",
    "        self.nome = nome\n",
    "        self.preco = preco\n",
    "\n",
    "\n",
    "carrinho = Carrinho()\n",
    "p1, p2 = Produto('Caneta', 1.20), Produto('Camiseta', 20)\n",
    "carrinho.inserir_produtos(p1, p2)\n",
    "carrinho.listar_produtos()\n",
    "print(carrinho.total())"
   ]
  },
  {
   "cell_type": "markdown",
   "id": "da3e2fa6",
   "metadata": {},
   "source": [
    "[Summary](#Summary)"
   ]
  },
  {
   "cell_type": "markdown",
   "id": "6e624559",
   "metadata": {},
   "source": [
    "### 3.1.15 Relação entre classes: composição (Relation between Classes: composition)"
   ]
  },
  {
   "cell_type": "code",
   "execution_count": 110,
   "id": "7e6c61c1",
   "metadata": {},
   "outputs": [
    {
     "name": "stdout",
     "output_type": "stream",
     "text": [
      "APAGANDO, Av Saudade 123213\n",
      "Av Brasil 54\n",
      "Rua B 6745\n",
      "Av Saudade 123213\n",
      "APAGANDO, Maria\n",
      "APAGANDO, Rua B 6745\n",
      "APAGANDO, Av Brasil 54\n",
      "Av Saudade 123213\n",
      "######################## AQUI TERMINA MEU CÓDIGO\n"
     ]
    }
   ],
   "source": [
    "# Relações entre classes: composição\n",
    "# Composição é uma especialização da agregação.\n",
    "# Mas nela, quando o objeto \"pai\" for apagado, todas\n",
    "# as referências dos objetos filhos também são\n",
    "# apagadas.\n",
    "class Cliente:\n",
    "    def __init__(self, nome):\n",
    "        self.nome = nome\n",
    "        self.enderecos = []\n",
    "\n",
    "    def inserir_endereco(self, rua, numero):\n",
    "        self.enderecos.append(Endereco(rua, numero))\n",
    "\n",
    "    def inserir_endereco_externo(self, endereco):\n",
    "        self.enderecos.append(endereco)\n",
    "\n",
    "    def listar_enderecos(self):\n",
    "        for endereco in self.enderecos:\n",
    "            print(endereco.rua, endereco.numero)\n",
    "\n",
    "    def __del__(self):\n",
    "        print('APAGANDO,', self.nome)\n",
    "\n",
    "\n",
    "class Endereco:\n",
    "    def __init__(self, rua, numero):\n",
    "        self.rua = rua\n",
    "        self.numero = numero\n",
    "\n",
    "    def __del__(self):\n",
    "        print('APAGANDO,', self.rua, self.numero)\n",
    "\n",
    "\n",
    "cliente1 = Cliente('Maria')\n",
    "cliente1.inserir_endereco('Av Brasil', 54)\n",
    "cliente1.inserir_endereco('Rua B', 6745)\n",
    "endereco_externo = Endereco('Av Saudade', 123213)\n",
    "cliente1.inserir_endereco_externo(endereco_externo)\n",
    "cliente1.listar_enderecos()\n",
    "\n",
    "del cliente1\n",
    "\n",
    "\n",
    "print(endereco_externo.rua, endereco_externo.numero)\n",
    "print('######################## AQUI TERMINA MEU CÓDIGO')"
   ]
  },
  {
   "cell_type": "markdown",
   "id": "38ee2cfd",
   "metadata": {},
   "source": [
    "### 3.1.16 Herança simples (Single Inheritance) <a id='HerancaSimples'></a>"
   ]
  },
  {
   "cell_type": "code",
   "execution_count": 111,
   "id": "564f64f5",
   "metadata": {},
   "outputs": [
    {
     "name": "stdout",
     "output_type": "stream",
     "text": [
      "EITA, nem saí da classe CLIENTE\n",
      "Luiz Otávio Cliente\n",
      "Classe PESSOA\n",
      "Maria Helena Aluno\n",
      "cpf aluno\n"
     ]
    }
   ],
   "source": [
    "# Herança simples - Relações entre classes\n",
    "# Associação - usa, Agregação - tem\n",
    "# Composição - É dono de, Herança - É um\n",
    "#\n",
    "# Herança vs Composição\n",
    "#\n",
    "# Classe principal (Pessoa)\n",
    "#   -> super class, base class, parent class\n",
    "# Classes filhas (Cliente)\n",
    "#   -> sub class, child class, derived class\n",
    "class Pessoa:\n",
    "    cpf = '1234'\n",
    "\n",
    "    def __init__(self, nome, sobrenome):\n",
    "        self.nome = nome\n",
    "        self.sobrenome = sobrenome\n",
    "\n",
    "    def falar_nome_classe(self):\n",
    "        print('Classe PESSOA')\n",
    "        print(self.nome, self.sobrenome, self.__class__.__name__)\n",
    "\n",
    "\n",
    "class Cliente(Pessoa):\n",
    "    def falar_nome_classe(self):\n",
    "        print('EITA, nem saí da classe CLIENTE')\n",
    "        print(self.nome, self.sobrenome, self.__class__.__name__)\n",
    "\n",
    "\n",
    "class Aluno(Pessoa):\n",
    "    cpf = 'cpf aluno'\n",
    "    ...\n",
    "\n",
    "\n",
    "c1 = Cliente('Luiz', 'Otávio')\n",
    "c1.falar_nome_classe()\n",
    "a1 = Aluno('Maria', 'Helena')\n",
    "a1.falar_nome_classe()\n",
    "print(a1.cpf)\n",
    "# help(Cliente)"
   ]
  },
  {
   "cell_type": "markdown",
   "id": "9b88914e",
   "metadata": {},
   "source": [
    "[Summary](#Summary)"
   ]
  },
  {
   "cell_type": "markdown",
   "id": "52046dff",
   "metadata": {},
   "source": [
    "### 3.1.17 Acessando a superclasse: super()"
   ]
  },
  {
   "cell_type": "code",
   "execution_count": 112,
   "id": "8d8fbda3",
   "metadata": {},
   "outputs": [
    {
     "name": "stdout",
     "output_type": "stream",
     "text": [
      "CHAMOU UPPER\n",
      "DEPOIS DO UPPER\n",
      "LUIZ\n"
     ]
    }
   ],
   "source": [
    "# super() e a sobreposição de membros - Python Orientado a Objetos\n",
    "# Classe principal (Pessoa)\n",
    "#   -> super class, base class, parent class\n",
    "# Classes filhas (Cliente)\n",
    "#   -> sub class, child class, derived class\n",
    "\n",
    "class MinhaString(str):\n",
    "     def upper(self):\n",
    "         print('CHAMOU UPPER')\n",
    "         retorno = super(MinhaString, self).upper()\n",
    "         print('DEPOIS DO UPPER')\n",
    "         return retorno\n",
    "\n",
    "\n",
    "string = MinhaString('Luiz')\n",
    "print(string.upper())"
   ]
  },
  {
   "cell_type": "code",
   "execution_count": 113,
   "id": "0225973c",
   "metadata": {},
   "outputs": [
    {
     "name": "stdout",
     "output_type": "stream",
     "text": [
      "[<class '__main__.C'>, <class '__main__.B'>, <class '__main__.A'>, <class 'object'>]\n",
      "[<class '__main__.B'>, <class '__main__.A'>, <class 'object'>]\n",
      "[<class '__main__.A'>, <class 'object'>]\n",
      "A\n",
      "B\n",
      "C\n"
     ]
    }
   ],
   "source": [
    "class A(object):\n",
    "    atributo_a = 'valor a'\n",
    "\n",
    "    def __init__(self, atributo):\n",
    "        self.atributo = atributo\n",
    "\n",
    "    def metodo(self):\n",
    "        print('A')\n",
    "\n",
    "\n",
    "class B(A):\n",
    "    atributo_b = 'valor b'\n",
    "\n",
    "    def __init__(self, atributo, outra_coisa):\n",
    "        super().__init__(atributo)\n",
    "        self.outra_coisa = outra_coisa\n",
    "\n",
    "    def metodo(self):\n",
    "        print('B')\n",
    "\n",
    "\n",
    "class C(B):\n",
    "    atributo_c = 'valor c'\n",
    "\n",
    "    def __init__(self, *args, **kwargs):\n",
    "        # print('EI, burlei o sistema.')\n",
    "        super().__init__(*args, **kwargs)\n",
    "\n",
    "    def metodo(self):\n",
    "        # super().metodo()  # B\n",
    "        # super(B, self).metodo()  # A\n",
    "        # super(A, self).metodo()  # object\n",
    "        A.metodo(self)\n",
    "        B.metodo(self)\n",
    "        print('C')\n",
    "\n",
    "\n",
    "print(C.mro())\n",
    "print(B.mro())\n",
    "print(A.mro())\n",
    "c = C('Atributo', 'Qualquer')\n",
    "# print(c.atributo)\n",
    "# print(c.outra_coisa)\n",
    "c.metodo()\n",
    "# print(c.atributo_a)\n",
    "# print(c.atributo_b)\n",
    "# print(c.atributo_c)\n",
    "# c.metodo()\n"
   ]
  },
  {
   "cell_type": "markdown",
   "id": "d6d9c687",
   "metadata": {},
   "source": [
    "[Summary](#Summary)"
   ]
  },
  {
   "cell_type": "markdown",
   "id": "77ec2624",
   "metadata": {},
   "source": [
    "### 3.1.18 Herança múltipla (Multiple Inheritance) <a id='HerancaMultipla'></a>"
   ]
  },
  {
   "cell_type": "code",
   "execution_count": 114,
   "id": "19f408d0",
   "metadata": {},
   "outputs": [
    {
     "name": "stdout",
     "output_type": "stream",
     "text": [
      "D\n",
      "(<class '__main__.D'>, <class '__main__.B'>, <class '__main__.C'>, <class '__main__.A'>, <class 'object'>)\n",
      "[<class '__main__.D'>, <class '__main__.B'>, <class '__main__.C'>, <class '__main__.A'>, <class 'object'>]\n"
     ]
    }
   ],
   "source": [
    "# Herança Múltipla - Python Orientado a Objetos\n",
    "# Quer dizer que no Python, uma classe pode estender\n",
    "# várias outras classes.\n",
    "# Herança simples:\n",
    "# Animal -> Mamifero -> Humano -> Pessoa -> Cliente\n",
    "# Herança múltipla e mixins\n",
    "# Log -> FileLog\n",
    "# Animal -> Mamifero -> Humano -> Pessoa -> Cliente\n",
    "# Cliente(Pessoa, FileLog)\n",
    "#\n",
    "# A, B, C, D\n",
    "# D(B, C) - C(A) - B(A) - A\n",
    "#\n",
    "# método -> falar\n",
    "#           A\n",
    "#         /   \\\n",
    "#        B     C\n",
    "#         \\   /\n",
    "#           D\n",
    "#\n",
    "# Python 3 usa C3 superclass linearization\n",
    "# para gerar o mro.\n",
    "# Você não precisa estudar isso (é complexo)\n",
    "# https://en.wikipedia.org/wiki/C3_linearization\n",
    "#\n",
    "# Para saber a ordem de chamada dos métodos\n",
    "# Use o método de classe Classe.mro()\n",
    "# Ou o atributo __mro__ (Dunder - Double Underscore)\n",
    "class A:\n",
    "    ...\n",
    "\n",
    "    def quem_sou(self):\n",
    "        print('A')\n",
    "\n",
    "\n",
    "class B(A):\n",
    "    ...\n",
    "\n",
    "    def quem_sou(self):\n",
    "        print('B')\n",
    "\n",
    "\n",
    "class C(A):\n",
    "    ...\n",
    "\n",
    "    def quem_sou(self):\n",
    "        print('C')\n",
    "\n",
    "\n",
    "class D(B, C):\n",
    "    ...\n",
    "\n",
    "    def quem_sou(self):\n",
    "        print('D')\n",
    "\n",
    "\n",
    "d = D()\n",
    "d.quem_sou()\n",
    "print(D.__mro__)\n",
    "print(D.mro())\n"
   ]
  },
  {
   "cell_type": "markdown",
   "id": "98ad9e23",
   "metadata": {},
   "source": [
    "[Summary](#Summary)"
   ]
  },
  {
   "cell_type": "markdown",
   "id": "62abc73d",
   "metadata": {},
   "source": [
    "### 3.1.19 Classes abstratas (Abstract Classes)"
   ]
  },
  {
   "cell_type": "code",
   "execution_count": 115,
   "id": "fb4cde17",
   "metadata": {},
   "outputs": [
    {
     "name": "stdout",
     "output_type": "stream",
     "text": [
      "Error: Oi (LogPrintMixin)\n"
     ]
    }
   ],
   "source": [
    "# Classes abstratas - Abstract Base Class (abc)\n",
    "# ABCs são usadas como contratos para a definição\n",
    "# de novas classes. Elas podem forçar outras classes\n",
    "# a criarem métodos concretos. Também podem ter\n",
    "# métodos concretos por elas mesmas.\n",
    "# @abstractmethods são métodos que não têm corpo.\n",
    "# As regras para classes abstratas com métodos\n",
    "# abstratos é que elas NÃO PODEM ser instânciadas\n",
    "# diretamente.\n",
    "# Métodos abstratos DEVEM ser implementados\n",
    "# nas subclasses (@abstractmethod).\n",
    "# Uma classe abstrata em Python tem sua metaclasse\n",
    "# sendo ABCMeta.\n",
    "# É possível criar @property @setter @classmethod\n",
    "# @staticmethod e @method como abstratos, para isso\n",
    "# use @abstractmethod como decorator mais interno.\n",
    "from abc import ABC, abstractmethod\n",
    "\n",
    "\n",
    "class Log(ABC):\n",
    "    @abstractmethod\n",
    "    def _log(self, msg): ...\n",
    "\n",
    "    def log_error(self, msg):\n",
    "        return self._log(f'Error: {msg}')\n",
    "\n",
    "    def log_success(self, msg):\n",
    "        return self._log(f'Success: {msg}')\n",
    "\n",
    "\n",
    "class LogPrintMixin(Log):\n",
    "    def _log(self, msg):\n",
    "        print(f'{msg} ({self.__class__.__name__})')\n",
    "\n",
    "\n",
    "l = LogPrintMixin()\n",
    "l.log_error('Oi')"
   ]
  },
  {
   "cell_type": "markdown",
   "id": "581841c3",
   "metadata": {},
   "source": [
    "[Summary](#Summary)"
   ]
  },
  {
   "cell_type": "markdown",
   "id": "a389ba02",
   "metadata": {},
   "source": [
    "### 3.1.20 Métodos abstratos (Abstract Methods)"
   ]
  },
  {
   "cell_type": "code",
   "execution_count": 116,
   "id": "c302a2de",
   "metadata": {},
   "outputs": [
    {
     "name": "stdout",
     "output_type": "stream",
     "text": [
      "Bar\n"
     ]
    }
   ],
   "source": [
    "# abstractmethod para qualquer método já decorado (@property e setter)\n",
    "# É possível criar @property @property.setter @classmethod\n",
    "# @staticmethod e métodos normais como abstratos, para isso\n",
    "# use @abstractmethod como decorator mais interno.\n",
    "# Foo - Bar são palavras usadas como placeholder\n",
    "# para palavras que podem mudar na programação.\n",
    "from abc import ABC, abstractmethod\n",
    "\n",
    "\n",
    "class AbstractFoo(ABC):\n",
    "    def __init__(self, name):\n",
    "        self._name = None\n",
    "        self.name = name\n",
    "\n",
    "    @property\n",
    "    def name(self):\n",
    "        return self._name\n",
    "\n",
    "    @name.setter\n",
    "    @abstractmethod\n",
    "    def name(self, name): ...\n",
    "\n",
    "\n",
    "class Foo(AbstractFoo):\n",
    "    def __init__(self, name):\n",
    "        super().__init__(name)\n",
    "        # print('Sou inútil')\n",
    "\n",
    "    @AbstractFoo.name.setter\n",
    "    def name(self, name):\n",
    "        self._name = name\n",
    "\n",
    "\n",
    "foo = Foo('Bar')\n",
    "print(foo.name)"
   ]
  },
  {
   "cell_type": "markdown",
   "id": "2fe444a1",
   "metadata": {},
   "source": [
    "[Summary](#Summary)"
   ]
  },
  {
   "cell_type": "markdown",
   "id": "2debc797",
   "metadata": {},
   "source": [
    "### 3.1.21 Polimorfismo (Polimorfism)"
   ]
  },
  {
   "cell_type": "code",
   "execution_count": 118,
   "id": "4cdfe517",
   "metadata": {},
   "outputs": [
    {
     "name": "stdout",
     "output_type": "stream",
     "text": [
      "E-mail: enviando -  testando e-mail\n",
      "Notificação enviada\n",
      "SMS: enviando -  testando SMS\n",
      "Notificação NÃO enviada\n"
     ]
    }
   ],
   "source": [
    "# Polimorfismo em Python Orientado a Objetos\n",
    "# Polimorfismo é o princípio que permite que\n",
    "# classes deridavas de uma mesma superclasse\n",
    "# tenham métodos iguais (com mesma assinatura)\n",
    "# mas comportamentos diferentes.\n",
    "# Assinatura do método = Mesmo nome e quantidade\n",
    "# de parâmetros (retorno não faz parte da assinatura)\n",
    "# Opinião + princípios que contam:\n",
    "# Assinatura do método: nome, parâmetros e retorno iguais\n",
    "# SO\"L\"ID\n",
    "# Princípio da substituição de liskov\n",
    "# Objetos de uma superclasse devem ser substituíveis\n",
    "# por objetos de uma subclasse sem quebrar a aplicação.\n",
    "# Sobrecarga de métodos (overload)  \n",
    "# Sobreposição de métodos (override) \n",
    "from abc import ABC, abstractmethod\n",
    "\n",
    "\n",
    "class Notificacao(ABC):\n",
    "    def __init__(self, mensagem):\n",
    "        self.mensagem = mensagem\n",
    "\n",
    "    @abstractmethod\n",
    "    def enviar(self) -> bool: ...\n",
    "\n",
    "\n",
    "class NotificacaoEmail(Notificacao):\n",
    "    def enviar(self) -> bool:\n",
    "        print('E-mail: enviando - ', self.mensagem)\n",
    "        return True\n",
    "\n",
    "\n",
    "class NotificacaoSMS(Notificacao):\n",
    "    def enviar(self) -> bool:\n",
    "        print('SMS: enviando - ', self.mensagem)\n",
    "        return False\n",
    "\n",
    "\n",
    "def notificar(notificacao: Notificacao):\n",
    "    notificacao_enviada = notificacao.enviar()\n",
    "\n",
    "    if notificacao_enviada:\n",
    "        print('Notificação enviada')\n",
    "    else:\n",
    "        print('Notificação NÃO enviada')\n",
    "\n",
    "\n",
    "notificacao_email = NotificacaoEmail('testando e-mail')\n",
    "notificar(notificacao_email)\n",
    "\n",
    "notificacao_sms = NotificacaoSMS('testando SMS')\n",
    "notificar(notificacao_sms)"
   ]
  },
  {
   "cell_type": "markdown",
   "id": "e33bf80f",
   "metadata": {},
   "source": [
    "[Summary](#Summary)"
   ]
  },
  {
   "cell_type": "markdown",
   "id": "e385328a",
   "metadata": {},
   "source": [
    "### 3.1.22 Using dunder methods <a id='UsingDunderMethods'></a>"
   ]
  },
  {
   "cell_type": "code",
   "execution_count": 130,
   "id": "5e5ec744",
   "metadata": {},
   "outputs": [
    {
     "name": "stdout",
     "output_type": "stream",
     "text": [
      "Ponto(x=10, y=6)\n",
      "P1 é maior que p2 False\n",
      "P2 é maior que p1 True\n"
     ]
    }
   ],
   "source": [
    "# Exemplo de uso de dunder methods (métodos mágicos)\n",
    "# __lt__(self,other) - self < other\n",
    "# __le__(self,other) - self <= other\n",
    "# __gt__(self,other) - self > other\n",
    "# __ge__(self,other) - self >= other\n",
    "# __eq__(self,other) - self == other\n",
    "# __ne__(self,other) - self != other\n",
    "# __add__(self,other) - self + other\n",
    "# __sub__(self,other) - self - other\n",
    "# __mul__(self,other) - self * other\n",
    "# __truediv__(self,other) - self / other\n",
    "# __neg__(self) - -self\n",
    "# __str__(self) - str\n",
    "# __repr__(self) - str\n",
    "class Ponto:\n",
    "    def __init__(self, x, y):\n",
    "        self.x = x\n",
    "        self.y = y\n",
    "\n",
    "    def __repr__(self):\n",
    "        class_name = type(self).__name__\n",
    "        return f'{class_name}(x={self.x!r}, y={self.y!r})'\n",
    "\n",
    "    def __add__(self, other):\n",
    "        novo_x = self.x + other.x\n",
    "        novo_y = self.y + other.y\n",
    "        return Ponto(novo_x, novo_y)\n",
    "\n",
    "    def __gt__(self, other):\n",
    "        resultado_self = self.x + self.y\n",
    "        resultado_other = other.x + other.y\n",
    "        return resultado_self > resultado_other\n",
    "\n",
    "\n",
    "if __name__ == '__main__':\n",
    "    p1 = Ponto(4, 2)  # 6\n",
    "    p2 = Ponto(6, 4)  # 10\n",
    "    p3 = p1 + p2\n",
    "    print(p3)\n",
    "    print('P1 é maior que p2', p1 > p2)\n",
    "    print('P2 é maior que p1', p2 > p1)"
   ]
  },
  {
   "cell_type": "markdown",
   "id": "5de945e5",
   "metadata": {},
   "source": [
    "[Summary](#Summary)"
   ]
  },
  {
   "cell_type": "markdown",
   "id": "e3fb3c71",
   "metadata": {},
   "source": [
    "### 3.1.23 __new__ e __init__"
   ]
  },
  {
   "cell_type": "code",
   "execution_count": 138,
   "id": "5927ba06",
   "metadata": {},
   "outputs": [
    {
     "name": "stdout",
     "output_type": "stream",
     "text": [
      "Sou o init\n",
      "123\n"
     ]
    }
   ],
   "source": [
    "# __new__ e __init__ em classes Python\n",
    "# __new__ é o método responsável por criar e\n",
    "# retornar o novo objeto. Por isso, new recebe cls.\n",
    "# __new__ ❗️DEVE retornar o novo objeto❗️\n",
    "# __init__ é o método responsável por inicializar\n",
    "# a instância. Por isso, init recebe self.\n",
    "# __init__ ❗️NÃO DEVE retornar nada (None)❗️\n",
    "# object é a super classe de uma classe\n",
    "class A:\n",
    "    def __new__(cls, *args, **kwargs):\n",
    "        instancia = super().__new__(cls)\n",
    "        return instancia\n",
    "\n",
    "    def __init__(self, x):\n",
    "        self.x = x\n",
    "        print('Sou o init')\n",
    "\n",
    "    def __repr__(self):\n",
    "        return 'A()'\n",
    "\n",
    "\n",
    "a = A(123)\n",
    "print(a.x)"
   ]
  },
  {
   "cell_type": "markdown",
   "id": "552d5de5",
   "metadata": {},
   "source": [
    "[Summary](#Summary)"
   ]
  },
  {
   "cell_type": "markdown",
   "id": "25c4c26a",
   "metadata": {},
   "source": [
    "### 3.2 Dataclasses <a id='DataClasses'></a>"
   ]
  },
  {
   "cell_type": "markdown",
   "id": "2a4ceddb",
   "metadata": {},
   "source": [
    "### 3.2.1 Dataclasses: o que são e para que servem"
   ]
  },
  {
   "cell_type": "markdown",
   "id": "09c2e4ae",
   "metadata": {},
   "source": [
    "**ChatGPT:** As dataclasses são um recurso introduzido no Python 3.7 (e disponível através do módulo `dataclasses` em versões anteriores) que oferece uma maneira conveniente de criar classes para armazenar dados, sem a necessidade de escrever muitos métodos padrão manualmente, como `__init__`, `__repr__`, `__eq__`, entre outros.\n",
    "\n",
    "Elas servem para simplificar a criação de classes que são principalmente usadas para armazenar dados, fornecendo uma sintaxe compacta e intuitiva. Ao usar as dataclasses, você só precisa definir os campos e seus tipos, e a própria dataclass se encarregará de gerar automaticamente métodos como o construtor `__init__`, o método de representação `__repr__`, métodos de comparação `__eq__` e muito mais.\n",
    "\n",
    "Aqui está um exemplo básico de como uma dataclass é definida e como ela pode ser usada:\n",
    "\n",
    "```python\n",
    "from dataclasses import dataclass\n",
    "\n",
    "@dataclass\n",
    "class Pessoa:\n",
    "    nome: str\n",
    "    idade: int\n",
    "\n",
    "# Criando instâncias da dataclass\n",
    "p1 = Pessoa(nome=\"Alice\", idade=25)\n",
    "p2 = Pessoa(nome=\"Bob\", idade=30)\n",
    "\n",
    "# Usando a representação padrão\n",
    "print(p1)  # Saída: Pessoa(nome='Alice', idade=25)\n",
    "print(p2)  # Saída: Pessoa(nome='Bob', idade=30)\n",
    "\n",
    "# Comparando instâncias\n",
    "print(p1 == p2)  # Saída: False\n",
    "```\n",
    "\n",
    "Nesse exemplo, a dataclass `Pessoa` foi criada com os campos `nome` e `idade`. Os métodos de comparação e representação foram gerados automaticamente pela dataclass.\n",
    "\n",
    "As dataclasses são especialmente úteis para tornar o código mais limpo e legível, especialmente quando você precisa criar muitas classes simples para armazenar dados."
   ]
  },
  {
   "cell_type": "markdown",
   "id": "0a3d7398",
   "metadata": {},
   "source": [
    "**ChatGPT:** Aqui está o mesmo exemplo utilizando orientação a objetos tradicional:\n",
    "\n",
    "```python\n",
    "class Pessoa:\n",
    "    def __init__(self, nome, idade):\n",
    "        self.nome = nome\n",
    "        self.idade = idade\n",
    "    \n",
    "    def __repr__(self):\n",
    "        return f\"Pessoa(nome='{self.nome}', idade={self.idade})\"\n",
    "    \n",
    "    def __eq__(self, other):\n",
    "        if isinstance(other, Pessoa):\n",
    "            return self.nome == other.nome and self.idade == other.idade\n",
    "        return False\n",
    "\n",
    "# Criando instâncias da classe\n",
    "p1 = Pessoa(nome=\"Alice\", idade=25)\n",
    "p2 = Pessoa(nome=\"Bob\", idade=30)\n",
    "\n",
    "# Usando o método de representação\n",
    "print(p1)  # Saída: Pessoa(nome='Alice', idade=25)\n",
    "print(p2)  # Saída: Pessoa(nome='Bob', idade=30)\n",
    "\n",
    "# Comparando instâncias\n",
    "print(p1 == p2)  # Saída: False\n",
    "```\n",
    "\n",
    "Nesse exemplo, a classe `Pessoa` foi definida de forma tradicional com o método `__init__` para inicialização, `__repr__` para representação, e `__eq__` para comparação. Comparando com o exemplo anterior utilizando dataclasses, você pode perceber como a definição da classe é mais extensa e requer a implementação manual de métodos que as dataclasses geram automaticamente."
   ]
  },
  {
   "cell_type": "markdown",
   "id": "25411b60",
   "metadata": {},
   "source": [
    "[Summary](#Summary)"
   ]
  },
  {
   "cell_type": "markdown",
   "id": "34788bbd",
   "metadata": {},
   "source": [
    "## 4. Nível Diamante "
   ]
  },
  {
   "cell_type": "markdown",
   "id": "06a0af96",
   "metadata": {},
   "source": [
    "### 4.1 Context manager "
   ]
  },
  {
   "cell_type": "code",
   "execution_count": 2,
   "id": "97859ba4",
   "metadata": {},
   "outputs": [
    {
     "name": "stdout",
     "output_type": "stream",
     "text": [
      "ABRINDO ARQUIVO\n",
      "WITH <_io.TextIOWrapper name='aula149.txt' mode='w' encoding='utf8'>\n",
      "FECHANDO ARQUIVO\n"
     ]
    }
   ],
   "source": [
    "# Context Manager com classes - Criando e Usando gerenciadores de contexto\n",
    "# Você pode implementar seus próprios protocolos\n",
    "# apenas implementando os dunder methods que o\n",
    "# Python vai usar.\n",
    "# Isso é chamado de Duck typing. Um conceito\n",
    "# relacionado com tipagem dinâmica onde o Python não\n",
    "# está interessado no tipo, mas se alguns métodos existem\n",
    "# no seu objeto para que ele funcione de forma adequada.\n",
    "# Duck Typing:\n",
    "# Quando vejo um pássaro que caminha como um pato, nada como\n",
    "# um pato e grasna como um pato, eu chamo aquele pássaro de pato.\n",
    "# Para criar um context manager, os métodos __enter__ e __exit__\n",
    "# devem ser implementados.\n",
    "# O método __exit__ receberá a classe de exceção, a exceção e o\n",
    "# traceback. Se ele retornar True, exceção no with será\n",
    "# suprimida.\n",
    "#\n",
    "# Ex:\n",
    "# with open('aula149.txt', 'w') as arquivo:\n",
    "#     ...\n",
    "class MyOpen:\n",
    "    def __init__(self, caminho_arquivo, modo):\n",
    "        self.caminho_arquivo = caminho_arquivo\n",
    "        self.modo = modo\n",
    "        self._arquivo = None\n",
    "\n",
    "    def __enter__(self):\n",
    "        print('ABRINDO ARQUIVO')\n",
    "        self._arquivo = open(self.caminho_arquivo, self.modo, encoding='utf8')\n",
    "        return self._arquivo\n",
    "\n",
    "    def __exit__(self, class_exception, exception_, traceback_):\n",
    "        print('FECHANDO ARQUIVO')\n",
    "        self._arquivo.close()\n",
    "\n",
    "        # raise class_exception(*exception_.args).with_traceback(traceback_)\n",
    "\n",
    "        # print(class_exception)\n",
    "        # print(exception_)\n",
    "        # print(traceback_)\n",
    "        # exception_.add_note('Minha nota')\n",
    "\n",
    "        # return True  # Tratei a exceção\n",
    "    \n",
    "with MyOpen('aula149.txt', 'w') as arquivo:\n",
    "    arquivo.write('Linha 1\\n')\n",
    "    arquivo.write('Linha 2\\n' + str(123) + '\\n')\n",
    "    arquivo.write('Linha 3\\n')\n",
    "    print('WITH', arquivo)"
   ]
  },
  {
   "cell_type": "code",
   "execution_count": 143,
   "id": "d1119a4c",
   "metadata": {},
   "outputs": [
    {
     "name": "stdout",
     "output_type": "stream",
     "text": [
      "Abrindo arquivo\n",
      "Ocorreu erro TextIOWrapper.write() takes exactly one argument (2 given)\n",
      "Fechando arquivo\n"
     ]
    }
   ],
   "source": [
    "# Context Manager com função - Criando e Usando gerenciadores de contexto\n",
    "from contextlib import contextmanager\n",
    "\n",
    "\n",
    "@contextmanager\n",
    "def my_open(caminho_arquivo, modo):\n",
    "    try:\n",
    "        print('Abrindo arquivo')\n",
    "        arquivo = open(caminho_arquivo, modo, encoding='utf8')\n",
    "        yield arquivo\n",
    "    except Exception as e:\n",
    "        print('Ocorreu erro', e)\n",
    "    finally:\n",
    "        print('Fechando arquivo')\n",
    "        arquivo.close()\n",
    "\n",
    "with MyOpen('aula149.txt', 'w') as arquivo:\n",
    "    arquivo.write('Linha 1\\n')\n",
    "    arquivo.write('Linha 2\\n' + str(123) + '\\n')\n",
    "    arquivo.write('Linha 3\\n')\n",
    "    print('WITH', arquivo)"
   ]
  },
  {
   "cell_type": "markdown",
   "id": "5f1b07a5",
   "metadata": {},
   "source": [
    "### 4.2 Metaclass <a id='Metaclass'></a>"
   ]
  },
  {
   "cell_type": "markdown",
   "id": "345eda3d",
   "metadata": {},
   "source": [
    "**ChatGPT:** **as metaclassessão um conceito avançado em programação orientada a objetos do Python, e elas permitem que você controle o comportamento da criação de classes. Em termos simples, uma metaclasse é uma classe de uma classe - ela define como as classes devem ser construídas.** Metaclasses oferecem um alto nível de personalização na definição de classes e podem ser usadas para adicionar funcionalidades ou restrições específicas às classes.\n",
    "\n",
    "Aqui estão alguns pontos-chave sobre metaclasses:\n",
    "\n",
    "1. **Classes como Objetos:**\n",
    "   Em Python, as classes são objetos, o que significa que elas também são instâncias de uma classe. Essa classe de classe é chamada de metaclasse.\n",
    "\n",
    "2. **O Atributo `__metaclass__`:**\n",
    "   Você pode definir uma metaclasse para uma classe usando o atributo especial `__metaclass__` ou definindo uma classe personalizada que herda da classe `type`.\n",
    "\n",
    "3. **Controle da Criação de Classes:**\n",
    "   As metaclasses permitem que você controle a criação de classes. Você pode personalizar a forma como os atributos da classe são processados, como os métodos são adicionados e até mesmo como os objetos da classe são instanciados.\n",
    "\n",
    "4. **Exemplo de Uso:**\n",
    "   Metaclasses são usadas para implementar frameworks, sistemas de ORM (Object-Relational Mapping), validações de atributos, monitoramento e muitas outras funcionalidades avançadas.\n",
    "\n",
    "5. **`type` é uma Metaclass Padrão:**\n",
    "   Todas as classes em Python são instâncias da metaclasse `type`. Quando você define uma nova classe, está usando a metaclasse `type` para criar essa classe.\n",
    "\n",
    "Exemplo simplificado de uma metaclasse:\n",
    "\n",
    "```python\n",
    "class MyMeta(type):\n",
    "    def __new__(cls, name, bases, attrs):\n",
    "        # Manipula o comportamento da criação da classe\n",
    "        attrs['x'] = 100  # Adiciona um atributo 'x' a todas as classes\n",
    "        return super().__new__(cls, name, bases, attrs)\n",
    "\n",
    "class MyClass(metaclass=MyMeta):\n",
    "    pass\n",
    "\n",
    "print(MyClass.x)  # Output: 100\n",
    "```\n",
    "\n",
    "Neste exemplo, a metaclasse `MyMeta` é definida com um método `__new__` que adiciona um atributo 'x' a todas as classes que usam essa metaclasse. A classe `MyClass` é definida com `metaclass=MyMeta`, e, como resultado, ela herda o comportamento definido na metaclasse.\n",
    "\n",
    "Embora o uso de metaclasses seja poderoso, também é uma funcionalidade avançada e geralmente não é necessária na maioria dos projetos. Metaclasses podem complicar o código e torná-lo menos legível se usadas desnecessariamente. Portanto, é importante ponderar cuidadosamente se o uso de metaclasses é a abordagem mais adequada para um problema específico."
   ]
  },
  {
   "cell_type": "markdown",
   "id": "f68efad7",
   "metadata": {},
   "source": [
    "**A more advanced example where a metaclass is used to create a class that automatically generates properties with getter and setter methods for attributes defined in a specific format.** This can be a powerful way to enforce a consistent pattern in your classes while reducing code repetition.\n",
    "\n",
    "```python\n",
    "class PropertyMeta(type):\n",
    "    def __new__(cls, name, bases, attrs):\n",
    "        new_attrs = {}\n",
    "        for attr_name, attr_value in attrs.items():\n",
    "            if attr_name.startswith('_prop_'):\n",
    "                prop_name = attr_name[6:]  # Extract the property name\n",
    "                new_attrs[prop_name] = property(\n",
    "                    lambda self, value=attr_value: value,  # Getter\n",
    "                    lambda self, new_value: setattr(self, attr_name, new_value)  # Setter\n",
    "                )\n",
    "        return super().__new__(cls, name, bases, new_attrs)\n",
    "\n",
    "class MyClass(metaclass=PropertyMeta):\n",
    "    _prop_name = 'John'\n",
    "    _prop_age = 30\n",
    "\n",
    "my_instance = MyClass()\n",
    "\n",
    "print(my_instance.name)  # Output: 'John'\n",
    "print(my_instance.age)   # Output: 30\n",
    "\n",
    "my_instance.name = 'Alice'\n",
    "my_instance.age = 25\n",
    "\n",
    "print(my_instance.name)  # Output: 'John' (Getter is not affected)\n",
    "print(my_instance.age)   # Output: 25\n",
    "```\n",
    "\n",
    "In this example, the `PropertyMeta` metaclass automatically generates properties for attributes that follow the naming convention `_prop_`. The properties have getter and setter methods that provide controlled access to the attributes.\n",
    "\n",
    "By using this metaclass, you can ensure that properties are consistently created for attributes with specific prefixes, reducing the need for boilerplate code and enforcing a certain pattern throughout your classes. This example demonstrates how metaclasses can be used to implement a higher level of automation and customization in class creation. Keep in mind that while metaclasses can provide powerful solutions, they should be used judiciously and only when necessary, as they can introduce complexity to the codebase."
   ]
  },
  {
   "cell_type": "markdown",
   "id": "8378c757",
   "metadata": {},
   "source": [
    "[Summary](#Summary)"
   ]
  },
  {
   "cell_type": "markdown",
   "id": "00e368e6",
   "metadata": {},
   "source": [
    "### 4.3 Funções decoradoras e decoradores com classes"
   ]
  },
  {
   "cell_type": "code",
   "execution_count": 145,
   "id": "197ca953",
   "metadata": {},
   "outputs": [
    {
     "name": "stdout",
     "output_type": "stream",
     "text": [
      "Time({'nome': 'Brasil'})\n",
      "Time({'nome': 'Portugal'})\n",
      "Planeta({'nome': 'Terra'})\n",
      "Planeta({'nome': 'Marte'})\n"
     ]
    }
   ],
   "source": [
    "# Funções decoradoras e decoradores com classes\n",
    "\n",
    "def meu_repr(self):\n",
    "    class_name = self.__class__.__name__\n",
    "    class_dict = self.__dict__\n",
    "    class_repr = f'{class_name}({class_dict})'\n",
    "    return class_repr\n",
    "\n",
    "\n",
    "def adiciona_repr(cls):\n",
    "    cls.__repr__ = meu_repr\n",
    "    return cls\n",
    "\n",
    "@adiciona_repr\n",
    "class Time:\n",
    "    def __init__(self, nome):\n",
    "        self.nome = nome\n",
    "\n",
    "@adiciona_repr\n",
    "class Planeta:\n",
    "    def __init__(self, nome):\n",
    "        self.nome = nome\n",
    "\n",
    "brasil = Time('Brasil')\n",
    "portugal = Time('Portugal')\n",
    "\n",
    "terra = Planeta('Terra')\n",
    "marte = Planeta('Marte')\n",
    "\n",
    "print(brasil)\n",
    "print(portugal)\n",
    "\n",
    "print(terra)\n",
    "print(marte)"
   ]
  },
  {
   "cell_type": "markdown",
   "id": "5b81c38c",
   "metadata": {},
   "source": [
    "### 4.4 Funções decoradoras e decoradores com métodos"
   ]
  },
  {
   "cell_type": "code",
   "execution_count": 1,
   "id": "3cb60f36",
   "metadata": {},
   "outputs": [
    {
     "name": "stdout",
     "output_type": "stream",
     "text": [
      "Time({'nome': 'Brasil'})\n",
      "Time({'nome': 'Portugal'})\n",
      "Planeta({'nome': 'Terra'})\n",
      "Planeta({'nome': 'Marte'})\n",
      "Você está em casa\n",
      "O planeta é Marte\n"
     ]
    }
   ],
   "source": [
    "# Funções decoradoras e decoradores com métodos\n",
    "\n",
    "def meu_repr(self):\n",
    "    class_name = self.__class__.__name__\n",
    "    class_dict = self.__dict__\n",
    "    class_repr = f'{class_name}({class_dict})'\n",
    "    return class_repr\n",
    "\n",
    "\n",
    "def adiciona_repr(cls):\n",
    "    cls.__repr__ = meu_repr\n",
    "    return cls\n",
    "\n",
    "\n",
    "def meu_planeta(metodo):\n",
    "    def interno(self, *args, **kwargs):\n",
    "        resultado = metodo(self, *args, **kwargs)\n",
    "\n",
    "        if 'Terra' in resultado:\n",
    "            return 'Você está em casa'\n",
    "        return resultado\n",
    "    return interno\n",
    "\n",
    "\n",
    "@adiciona_repr\n",
    "class Time:\n",
    "    def __init__(self, nome):\n",
    "        self.nome = nome\n",
    "\n",
    "\n",
    "@adiciona_repr\n",
    "class Planeta:\n",
    "    def __init__(self, nome):\n",
    "        self.nome = nome\n",
    "\n",
    "    @meu_planeta\n",
    "    def falar_nome(self):\n",
    "        return f'O planeta é {self.nome}'\n",
    "\n",
    "\n",
    "brasil = Time('Brasil')\n",
    "portugal = Time('Portugal')\n",
    "\n",
    "terra = Planeta('Terra')\n",
    "marte = Planeta('Marte')\n",
    "\n",
    "print(brasil)\n",
    "print(portugal)\n",
    "\n",
    "print(terra)\n",
    "print(marte)\n",
    "\n",
    "print(terra.falar_nome())\n",
    "print(marte.falar_nome())"
   ]
  },
  {
   "cell_type": "markdown",
   "id": "1e7fc76a",
   "metadata": {},
   "source": [
    "[Summary](#Summary)"
   ]
  },
  {
   "cell_type": "markdown",
   "id": "86fd9cb4",
   "metadata": {},
   "source": [
    "## Exercícios de Consolidação (Consolidation Exercises) <a id='ExerciciosConsolidacao'></a>"
   ]
  },
  {
   "cell_type": "markdown",
   "id": "ca5efd42",
   "metadata": {},
   "source": [
    "### Exercício 1: entrada de dados com if/else <a id='Exercicio1'></a>"
   ]
  },
  {
   "cell_type": "code",
   "execution_count": 165,
   "id": "8835b3bb",
   "metadata": {},
   "outputs": [
    {
     "name": "stdout",
     "output_type": "stream",
     "text": [
      "Digite o seu nome: Jonas Gonçalves\n",
      "Digite sua idade: 42\n",
      "Seu nome é Jonas Gonçalves\n",
      "Seu nome invertido é sevlaçnoG sanoJ\n",
      "Seu nome contém espaços\n",
      "Seu nome tem 15 letras\n",
      "A primeira letra do seu nome é J\n",
      "A última letra do seu nome é s\n"
     ]
    }
   ],
   "source": [
    "\"\"\"\n",
    "Exercício\n",
    "Peça ao usuário para digitar seu nome\n",
    "Peça ao usuário para digitar sua idade\n",
    "Se nome e idade forem digitados:\n",
    "    Exiba:\n",
    "        Seu nome é {nome}\n",
    "        Seu nome invertido é {nome invertido}\n",
    "        Seu nome contém (ou não) espaços\n",
    "        Seu nome tem {n} letras\n",
    "        A primeira letra do seu nome é {letra}\n",
    "        A última letra do seu nome é {letra}\n",
    "Se nada for digitado em nome ou idade: \n",
    "    exiba \"Desculpe, você deixou campos vazios.\"\n",
    "\"\"\"\n",
    "nome = input('Digite o seu nome: ')\n",
    "idade = input('Digite sua idade: ')\n",
    "\n",
    "if nome and idade:\n",
    "    print(f'Seu nome é {nome}')\n",
    "    print(f'Seu nome invertido é {nome[::-1]}')\n",
    "\n",
    "    if ' ' in nome:\n",
    "        print('Seu nome contém espaços')\n",
    "    else:\n",
    "        print('Seu nome NÃO contém espaços')\n",
    "\n",
    "    print(f'Seu nome tem {len(nome)} letras')\n",
    "    print(f'A primeira letra do seu nome é {nome[0]}')\n",
    "    print(f'A última letra do seu nome é {nome[-1]}')\n",
    "else:\n",
    "    print(\"Desculpe, você deixou campos vazios.\")"
   ]
  },
  {
   "cell_type": "markdown",
   "id": "6fe9bb01",
   "metadata": {},
   "source": [
    "[Summary](#Summary)"
   ]
  },
  {
   "cell_type": "markdown",
   "id": "60abc8ae",
   "metadata": {},
   "source": [
    "### Exercício 2: teste se par ou ímpar <a id='Exercicio2'></a>"
   ]
  },
  {
   "cell_type": "code",
   "execution_count": 376,
   "id": "9553736f",
   "metadata": {},
   "outputs": [
    {
     "name": "stdout",
     "output_type": "stream",
     "text": [
      "Digite seu primeiro nome: Wenceslaw\n",
      "Seu nome é muito grande\n"
     ]
    }
   ],
   "source": [
    "\"\"\"\n",
    "Faça um programa que peça ao usuário para digitar um número inteiro,\n",
    "informe se este número é par ou ímpar. Caso o usuário não digite um número\n",
    "inteiro, informe que não é um número inteiro.\n",
    "\"\"\"\n",
    "# entrada = input('Digite um número: ')\n",
    "\n",
    "# if entrada.isdigit():\n",
    "#     entrada_int = int(entrada)\n",
    "#     par_impar = entrada_int % 2 == 0\n",
    "#     par_impar_texto = 'ímpar'\n",
    "\n",
    "#     if par_impar:\n",
    "#         par_impar_texto = 'par'\n",
    "\n",
    "#     print(f'O número {entrada_int} é {par_impar_texto}')\n",
    "# else:\n",
    "#     print('Você não digitou um número inteiro')\n",
    "\n",
    "# try:\n",
    "#     entrada_int = float(entrada)\n",
    "#     par_impar = entrada_int % 2 == 0\n",
    "#     par_impar_texto = 'ímpar'\n",
    "\n",
    "#     if par_impar:\n",
    "#         par_impar_texto = 'par'\n",
    "\n",
    "#     print(f'O número {entrada_int} é {par_impar_texto}')\n",
    "# except:\n",
    "#     print('Você não digitou um número inteiro')\n",
    "\"\"\"\n",
    "Faça um programa que pergunte a hora ao usuário e, baseando-se no horário \n",
    "descrito, exiba a saudação apropriada. Ex. \n",
    "Bom dia 0-11, Boa tarde 12-17 e Boa noite 18-23.\n",
    "\"\"\"\n",
    "# entrada = input('Digite a hora em números inteiros: ')\n",
    "\n",
    "# try:\n",
    "#     hora = int(entrada)\n",
    "\n",
    "#     if hora >= 0 and hora <= 11:\n",
    "#         print('Bom dia')\n",
    "#     elif hora >= 12 and hora <= 17:\n",
    "#         print('Bom tarde')\n",
    "#     elif hora >= 18 and hora <= 23:\n",
    "#         print('Bom noite')\n",
    "#     else:\n",
    "#         print('Não conheço essa hora')\n",
    "# except:\n",
    "#     print('Por favor, digite apenas números inteiros')\n",
    "\"\"\"\n",
    "Faça um programa que peça o primeiro nome do usuário. Se o nome tiver 4 letras ou \n",
    "menos escreva \"Seu nome é curto\"; se tiver entre 5 e 6 letras, escreva \n",
    "\"Seu nome é normal\"; maior que 6 escreva \"Seu nome é muito grande\". \n",
    "\"\"\"\n",
    "nome = input('Digite seu primeiro nome: ')\n",
    "tamanho_nome = len(nome)\n",
    "\n",
    "if tamanho_nome > 1:\n",
    "    if tamanho_nome <= 4:\n",
    "        print('Seu nome é curto')\n",
    "    elif tamanho_nome >= 5 and tamanho_nome <= 6:\n",
    "        print('Seu nome é normal')\n",
    "    else:\n",
    "        print('Seu nome é muito grande')\n",
    "else:\n",
    "    print('Digite mais de uma letra.')"
   ]
  },
  {
   "cell_type": "markdown",
   "id": "80093bf5",
   "metadata": {},
   "source": [
    "[Summary](#Summary)"
   ]
  },
  {
   "cell_type": "markdown",
   "id": "ac62ddb3",
   "metadata": {},
   "source": [
    "### Exercício 3: jogo de adivinhação <a id='Exercicio3'></a>"
   ]
  },
  {
   "cell_type": "code",
   "execution_count": 223,
   "id": "17e29650",
   "metadata": {},
   "outputs": [
    {
     "name": "stdout",
     "output_type": "stream",
     "text": [
      "Digite uma letra (9 para terminar): m\n",
      "Palavra formada: *****m*\n",
      "Digite uma letra (9 para terminar): u\n",
      "Palavra formada: ****um*\n",
      "Digite uma letra (9 para terminar): e\n",
      "Palavra formada: *e**ume\n",
      "Digite uma letra (9 para terminar): f\n",
      "Palavra formada: *e*fume\n",
      "Digite uma letra (9 para terminar): p\n",
      "Palavra formada: pe*fume\n",
      "Digite uma letra (9 para terminar): r\n",
      "Palavra formada: perfume\n",
      "VOCÊ GANHOU!! PARABÉNS!\n",
      "A palavra era perfume\n",
      "Tentativas: 6\n",
      "Digite uma letra (9 para terminar): 9\n"
     ]
    }
   ],
   "source": [
    "\"\"\"\n",
    "Faça um jogo para o usuário adivinhar qual\n",
    "a palavra secreta.\n",
    "- Você vai propor uma palavra secreta\n",
    "qualquer e vai dar a possibilidade para\n",
    "o usuário digitar apenas uma letra.\n",
    "- Quando o usuário digitar uma letra, você \n",
    "vai conferir se a letra digitada está\n",
    "na palavra secreta.\n",
    "    - Se a letra digitada estiver na\n",
    "    palavra secreta; exiba a letra;\n",
    "    - Se a letra digitada não estiver\n",
    "    na palavra secreta; exiba *.\n",
    "Faça a contagem de tentativas do seu\n",
    "usuário.\n",
    "\"\"\"\n",
    "import os\n",
    "\n",
    "palavra_secreta = 'perfume'\n",
    "letras_acertadas = ''\n",
    "numero_tentativas = 0\n",
    "\n",
    "while True:\n",
    "    letra_digitada = input('Digite uma letra (9 para terminar): ')\n",
    "    numero_tentativas += 1\n",
    "    \n",
    "    if letra_digitada in '999':\n",
    "        break\n",
    "\n",
    "    if len(letra_digitada) > 1:\n",
    "        print('Digite apenas uma letra.')\n",
    "        continue\n",
    "\n",
    "    if letra_digitada in palavra_secreta:\n",
    "        letras_acertadas += letra_digitada\n",
    "\n",
    "    palavra_formada = ''\n",
    "    for letra_secreta in palavra_secreta:\n",
    "        if letra_secreta in letras_acertadas:\n",
    "            palavra_formada += letra_secreta\n",
    "        else:\n",
    "            palavra_formada += '*'\n",
    "\n",
    "    print('Palavra formada:', palavra_formada)\n",
    "\n",
    "    if palavra_formada == palavra_secreta:\n",
    "        os.system('clear')\n",
    "        print('VOCÊ GANHOU!! PARABÉNS!')\n",
    "        print('A palavra era', palavra_secreta)\n",
    "        print('Tentativas:', numero_tentativas)\n",
    "        letras_acertadas = ''\n",
    "        numero_tentativas = 0"
   ]
  },
  {
   "cell_type": "markdown",
   "id": "0299a38c",
   "metadata": {},
   "source": [
    "[Summary](#Summary)"
   ]
  },
  {
   "cell_type": "markdown",
   "id": "9f407194",
   "metadata": {},
   "source": [
    "### Exercício 4: exibir conteúdo de uma lista <a id='Exercicio4'></a>"
   ]
  },
  {
   "cell_type": "code",
   "execution_count": null,
   "id": "0b75b185",
   "metadata": {},
   "outputs": [],
   "source": [
    "\"\"\"\n",
    "Exercício\n",
    "Exiba os índices da lista\n",
    "0 Maria\n",
    "1 Helena\n",
    "2 Luiz\n",
    "\"\"\"\n",
    "lista = ['Maria', 'Helena', 'Luiz']\n",
    "lista.append('João')\n",
    "\n",
    "\n",
    "indices = range(len(lista))\n",
    "\n",
    "for indice in indices:\n",
    "    print(f'indice: {indice} - lista[{indice}]: {lista[indice]}')"
   ]
  },
  {
   "cell_type": "markdown",
   "id": "d9989a97",
   "metadata": {},
   "source": [
    "[Summary](#Summary)"
   ]
  },
  {
   "cell_type": "markdown",
   "id": "4074fde0",
   "metadata": {},
   "source": [
    "### Exercício 5: lista de compras <a id='Exercicio5'></a>"
   ]
  },
  {
   "cell_type": "code",
   "execution_count": 374,
   "id": "f24b8c8f",
   "metadata": {},
   "outputs": [
    {
     "name": "stdout",
     "output_type": "stream",
     "text": [
      "Selecione uma opção\n",
      "[i]nserir [a]pagar [l]istar [f]inalizar: f\n"
     ]
    }
   ],
   "source": [
    "\"\"\"\n",
    "Faça uma lista de comprar com listas\n",
    "O usuário deve ter a possibilidade de\n",
    "inserir, apagar e listar valores da sua lista\n",
    "Não permita que o programa quebre com \n",
    "erros de índices inexistentes na lista.\n",
    "\"\"\"\n",
    "import os\n",
    "\n",
    "lista = []\n",
    "\n",
    "while True:\n",
    "    print('Selecione uma opção')\n",
    "    opcao = input('[i]nserir [a]pagar [l]istar [f]inalizar: ')\n",
    "\n",
    "    if opcao == 'i':\n",
    "        os.system('clear')\n",
    "        valor = input('Valor: ')\n",
    "        lista.append(valor)\n",
    "    elif opcao == 'a':\n",
    "        indice_str = input('Escolha o índice para apagar: ')\n",
    "        try:\n",
    "            indice = int(indice_str)\n",
    "            del lista[indice]\n",
    "        except ValueError:\n",
    "            print('Por favor digite número int.')\n",
    "        except IndexError:\n",
    "            print('Índice não existe na lista')\n",
    "        except Exception:\n",
    "            print('Erro desconhecido')\n",
    "    elif opcao == 'l':\n",
    "        os.system('clear')\n",
    "        if len(lista) == 0:\n",
    "            print('Nada para listar')\n",
    "            continue\n",
    "        \n",
    "        print('Indice\\tValor')\n",
    "        print('------\\t-----')\n",
    "        for i, valor in enumerate(lista):\n",
    "            print(i, '\\t', valor)\n",
    "            \n",
    "    elif opcao == 'f':\n",
    "        os.system('clear')\n",
    "        break\n",
    "    else:\n",
    "        print('Por favor, escolha i, a, l ou f.')"
   ]
  },
  {
   "cell_type": "markdown",
   "id": "c1f8bd09",
   "metadata": {},
   "source": [
    "[Summary](#Summary)"
   ]
  },
  {
   "cell_type": "markdown",
   "id": "2c5aa262",
   "metadata": {},
   "source": [
    "### Exercício 6: Calcular os dígitos verificadores do CPF <a id='Exercicio6'></a>"
   ]
  },
  {
   "cell_type": "code",
   "execution_count": null,
   "id": "0d106f93",
   "metadata": {},
   "outputs": [],
   "source": [
    "\"\"\"\n",
    "Calculo do primeiro dígito do CPF\n",
    "CPF: 746.824.890-70\n",
    "Colete a soma dos 9 primeiros dígitos do CPF\n",
    "multiplicando cada um dos valores por uma\n",
    "contagem regressiva começando de 10\n",
    "\n",
    "Ex.:  746.824.890-70 (746824890)\n",
    "   10  9  8  7  6  5  4  3  2\n",
    "*  7   4  6  8  2  4  8  9  0\n",
    "   70  36 48 56 12 20 32 27 0\n",
    "\n",
    "Somar todos os resultados: \n",
    "70+36+48+56+12+20+32+27+0 = 301\n",
    "Multiplicar o resultado anterior por 10\n",
    "301 * 10 = 3010\n",
    "Obter o resto da divisão da conta anterior por 11\n",
    "3010 % 11 = 7\n",
    "Se o resultado anterior for maior que 9:\n",
    "    resultado é 0\n",
    "contrário disso:\n",
    "    resultado é o valor da conta\n",
    "\n",
    "O primeiro dígito do CPF é 7\n",
    "\"\"\""
   ]
  },
  {
   "cell_type": "code",
   "execution_count": null,
   "id": "e6619f80",
   "metadata": {},
   "outputs": [],
   "source": [
    "\"\"\"\n",
    "Calculo do segundo dígito do CPF\n",
    "CPF: 746.824.890-70\n",
    "Colete a soma dos 9 primeiros dígitos do CPF,\n",
    "MAIS O PRIMEIRO DIGITO,\n",
    "multiplicando cada um dos valores por uma\n",
    "contagem regressiva começando de 11\n",
    "\n",
    "Ex.:  746.824.890-70 (7468248907)\n",
    "   11 10  9  8  7  6  5  4  3  2\n",
    "*  7   4  6  8  2  4  8  9  0  7 <-- PRIMEIRO DIGITO\n",
    "   77 40 54 64 14 24 40 36  0 14\n",
    "\n",
    "Somar todos os resultados:\n",
    "77+40+54+64+14+24+40+36+0+14 = 363\n",
    "Multiplicar o resultado anterior por 10\n",
    "363 * 10 = 3630\n",
    "Obter o resto da divisão da conta anterior por 11\n",
    "3630 % 11 = 0\n",
    "Se o resultado anterior for maior que 9:\n",
    "    resultado é 0\n",
    "contrário disso:\n",
    "    resultado é o valor da conta\n",
    "\n",
    "O segundo dígito do CPF é 0\n",
    "\"\"\""
   ]
  },
  {
   "cell_type": "code",
   "execution_count": 372,
   "id": "5cb15596",
   "metadata": {},
   "outputs": [
    {
     "name": "stdout",
     "output_type": "stream",
     "text": [
      "CPF: 74682489070\n",
      "Nove primeiros digitos: 746824890\n",
      "Primeiro digito verificador: 7\n"
     ]
    }
   ],
   "source": [
    "# Minha versão do cálculo do primeiro\n",
    "# digito verificador do CPF\n",
    "CPF = str(74682489070)\n",
    "print(f'CPF: {CPF}')\n",
    "\n",
    "nove_digitos = CPF[0:9]\n",
    "print(f'Nove primeiros digitos: {nove_digitos}')\n",
    "\n",
    "soma = 0\n",
    "for i in range(10,1,-1):\n",
    "    soma = soma + i * int(nove_digitos[abs(i-10)])\n",
    "\n",
    "resultado = (soma * 10) % 11\n",
    "\n",
    "digito_1 = resultado if resultado <= 9 else 0\n",
    "print(f'Primeiro digito verificador: {digito_1}')"
   ]
  },
  {
   "cell_type": "code",
   "execution_count": 373,
   "id": "c2c66d76",
   "metadata": {},
   "outputs": [
    {
     "name": "stdout",
     "output_type": "stream",
     "text": [
      "CPF: 74682489070\n",
      "dez digitos: 7468248907\n",
      "Segundo digito verificador: 0\n"
     ]
    }
   ],
   "source": [
    "# Minha versão do cálculo do segundo\n",
    "# digito verificador do CPF\n",
    "CPF = str(74682489070)\n",
    "print(f'CPF: {CPF}')\n",
    "\n",
    "dez_digitos = nove_digitos + str(digito_1)\n",
    "print(f'dez digitos: {dez_digitos}')\n",
    "\n",
    "soma = 0\n",
    "for i in range(11,1,-1):\n",
    "    soma = soma + i * int(dez_digitos[abs(i-11)])\n",
    "\n",
    "resultado = (soma * 10) % 11\n",
    "\n",
    "digito_2 = resultado if resultado <= 9 else 0\n",
    "print(f'Segundo digito verificador: {digito_2}')"
   ]
  },
  {
   "cell_type": "markdown",
   "id": "6297c86f",
   "metadata": {},
   "source": [
    "[Summary](#Summary)"
   ]
  },
  {
   "cell_type": "code",
   "execution_count": 380,
   "id": "0e807f29",
   "metadata": {},
   "outputs": [
    {
     "name": "stdout",
     "output_type": "stream",
     "text": [
      "CPF [746.824.890-70]: 47013794252\n",
      "Nove primeiros digitos: 470137942\n",
      "Primeiro digito verificador: 5\n",
      "dez digitos: 4701379425\n",
      "Segundo digito verificador: 2\n",
      "47013794252 é válido\n"
     ]
    }
   ],
   "source": [
    "import re\n",
    "import sys\n",
    "\n",
    "entrada = input('CPF [746.824.890-70]: ')\n",
    "cpf_enviado_usuario = re.sub(\n",
    "    r'[^0-9]',\n",
    "    '',\n",
    "    entrada\n",
    ")\n",
    "\n",
    "entrada_e_sequencial = entrada == entrada[0] * len(entrada)\n",
    "\n",
    "if entrada_e_sequencial:\n",
    "    print('Você enviou dados sequenciais.')\n",
    "    sys.exit()\n",
    "\n",
    "# Cálculo do primeiro dígito verificador do CPF\n",
    "nove_digitos = cpf_enviado_usuario[:9]\n",
    "print(f'Nove primeiros digitos: {nove_digitos}')\n",
    "\n",
    "soma = 0\n",
    "for i in range(10,1,-1):\n",
    "    soma = soma + i * int(nove_digitos[abs(i-10)])\n",
    "\n",
    "resultado = (soma * 10) % 11\n",
    "\n",
    "digito_1 = resultado if resultado <= 9 else 0\n",
    "print(f'Primeiro digito verificador: {digito_1}')\n",
    "\n",
    "# Cálculo do segundo dígito verificador do CPF\n",
    "dez_digitos = nove_digitos + str(digito_1)\n",
    "print(f'dez digitos: {dez_digitos}')\n",
    "\n",
    "soma = 0\n",
    "for i in range(11,1,-1):\n",
    "    soma = soma + i * int(dez_digitos[abs(i-11)])\n",
    "\n",
    "resultado = (soma * 10) % 11\n",
    "\n",
    "digito_2 = resultado if resultado <= 9 else 0\n",
    "print(f'Segundo digito verificador: {digito_2}')\n",
    "\n",
    "cpf_gerado_pelo_calculo = f'{nove_digitos}{digito_1}{digito_2}'\n",
    "\n",
    "if cpf_enviado_usuario == cpf_gerado_pelo_calculo:\n",
    "    print(f'{cpf_enviado_usuario} é válido')\n",
    "else:\n",
    "    print('CPF inválido')"
   ]
  },
  {
   "cell_type": "markdown",
   "id": "4cce6b58",
   "metadata": {},
   "source": [
    "[Summary](#Summary)"
   ]
  },
  {
   "cell_type": "markdown",
   "id": "484ef60c",
   "metadata": {},
   "source": [
    "### Exercício 7: Função para multiplicar números] <a id='Exercicio7'></a>"
   ]
  },
  {
   "cell_type": "code",
   "execution_count": 462,
   "id": "c1315bed",
   "metadata": {},
   "outputs": [
    {
     "name": "stdout",
     "output_type": "stream",
     "text": [
      "1200\n",
      "60\n"
     ]
    }
   ],
   "source": [
    "# Exercícios com funções\n",
    "\n",
    "# Crie uma função que multiplica todos os argumentos\n",
    "# não nomeados recebidos\n",
    "# Retorne o total para uma variável e mostre o valor\n",
    "# da variável.\n",
    "def multiplicar(*args):\n",
    "    total = 1\n",
    "    for numero in args:\n",
    "        total *= numero\n",
    "    return total\n",
    "\n",
    "\n",
    "multiplicação = multiplicar(10, 2, 3, 4, 5)\n",
    "print(multiplicação)\n",
    "\n",
    "multiplicação = multiplicar(3, 4, 5)\n",
    "print(multiplicação)"
   ]
  },
  {
   "cell_type": "markdown",
   "id": "9a3a045e",
   "metadata": {},
   "source": [
    "[Summary](#Summary)"
   ]
  },
  {
   "cell_type": "markdown",
   "id": "03a8e8d8",
   "metadata": {},
   "source": [
    "### Exercício 8: Aninhamento de Funções <a id='Exercicio8'></a>"
   ]
  },
  {
   "cell_type": "code",
   "execution_count": 455,
   "id": "b4400953",
   "metadata": {},
   "outputs": [
    {
     "name": "stdout",
     "output_type": "stream",
     "text": [
      "4\n",
      "6\n",
      "8\n"
     ]
    }
   ],
   "source": [
    "# Exercícios\n",
    "# Crie funções que duplicam, triplicam e quadruplicam\n",
    "# o número recebido como parâmetro\n",
    "\n",
    "def duplicar(numero):\n",
    "    return numero * 2\n",
    "\n",
    "def triplicar(numero):\n",
    "    return numero * 3\n",
    "\n",
    "def quadruplicar(numero):\n",
    "    return numero * 4\n",
    "\n",
    "print(duplicar(2))\n",
    "print(triplicar(2))\n",
    "print(quadruplicar(2))\n"
   ]
  },
  {
   "cell_type": "code",
   "execution_count": 457,
   "id": "18454ae4",
   "metadata": {},
   "outputs": [
    {
     "name": "stdout",
     "output_type": "stream",
     "text": [
      "10\n",
      "24\n",
      "36\n"
     ]
    }
   ],
   "source": [
    "def criar_multiplicador(multiplicador):\n",
    "    def multiplicar(numero):\n",
    "        return numero * multiplicador\n",
    "    return multiplicar\n",
    "\n",
    "\n",
    "duplicar = criar_multiplicador(2)\n",
    "triplicar = criar_multiplicador(3)\n",
    "quadruplicar = criar_multiplicador(4)\n",
    "\n",
    "print(duplicar(5))\n",
    "print(triplicar(8))\n",
    "print(quadruplicar(9))"
   ]
  },
  {
   "cell_type": "markdown",
   "id": "13a4b308",
   "metadata": {},
   "source": [
    "[Summary](#Summary)"
   ]
  },
  {
   "cell_type": "markdown",
   "id": "6a55559a",
   "metadata": {},
   "source": [
    "### Exercício 9: Perguntas e respostas  <a id='Exercicio9'></a>"
   ]
  },
  {
   "cell_type": "code",
   "execution_count": 479,
   "id": "a6f0bbb3",
   "metadata": {},
   "outputs": [
    {
     "name": "stdout",
     "output_type": "stream",
     "text": [
      "Pergunta: Quanto é 2+2?\n",
      "\n",
      "0) 1\n",
      "1) 3\n",
      "2) 4\n",
      "3) 5\n",
      "\n",
      "Escolha uma opção: 2\n",
      "\n",
      "Acertou 👍\n",
      "\n",
      "Pergunta: Quanto é 5*5?\n",
      "\n",
      "0) 25\n",
      "1) 55\n",
      "2) 10\n",
      "3) 51\n",
      "\n",
      "Escolha uma opção: 0\n",
      "\n",
      "Acertou 👍\n",
      "\n",
      "Pergunta: Quanto é 10/2?\n",
      "\n",
      "0) 4\n",
      "1) 5\n",
      "2) 2\n",
      "3) 1\n",
      "\n",
      "Escolha uma opção: 1\n",
      "\n",
      "Acertou 👍\n",
      "\n",
      "Você acertou 3\n",
      "de 3 perguntas.\n"
     ]
    }
   ],
   "source": [
    "# Exercício - sistema de perguntas e respostas\n",
    "\n",
    "\n",
    "perguntas = [\n",
    "    {\n",
    "        'Pergunta': 'Quanto é 2+2?',\n",
    "        'Opções': ['1', '3', '4', '5'],\n",
    "        'Resposta': '4',\n",
    "    },\n",
    "    {\n",
    "        'Pergunta': 'Quanto é 5*5?',\n",
    "        'Opções': ['25', '55', '10', '51'],\n",
    "        'Resposta': '25',\n",
    "    },\n",
    "    {\n",
    "        'Pergunta': 'Quanto é 10/2?',\n",
    "        'Opções': ['4', '5', '2', '1'],\n",
    "        'Resposta': '5',\n",
    "    },\n",
    "]\n",
    "\n",
    "qtd_acertos = 0\n",
    "for pergunta in perguntas:\n",
    "    print('Pergunta:', pergunta['Pergunta'])\n",
    "    print()\n",
    "\n",
    "    opcoes = pergunta['Opções']\n",
    "    for i, opcao in enumerate(opcoes):\n",
    "        print(f'{i})', opcao)\n",
    "    print()\n",
    "\n",
    "    escolha = input('Escolha uma opção: ')\n",
    "\n",
    "    acertou = False\n",
    "    escolha_int = None\n",
    "    qtd_opcoes = len(opcoes)\n",
    "\n",
    "    if escolha.isdigit():\n",
    "        escolha_int = int(escolha)\n",
    "\n",
    "    if escolha_int is not None:\n",
    "        if escolha_int >= 0 and escolha_int < qtd_opcoes:\n",
    "            if opcoes[escolha_int] == pergunta['Resposta']:\n",
    "                acertou = True\n",
    "\n",
    "    print()\n",
    "    if acertou:\n",
    "        qtd_acertos += 1\n",
    "        print('Acertou 👍')\n",
    "    else:\n",
    "        print('Errou ❌')\n",
    "\n",
    "    print()\n",
    "\n",
    "\n",
    "print('Você acertou', qtd_acertos)\n",
    "print('de', len(perguntas), 'perguntas.')"
   ]
  },
  {
   "cell_type": "markdown",
   "id": "f4a8aff6",
   "metadata": {},
   "source": [
    "[Summary](#Summary)"
   ]
  },
  {
   "cell_type": "markdown",
   "id": "2e25d163",
   "metadata": {},
   "source": [
    "### Exercício 10: Elimina registros duplicados <a id='Exercicio10'></a>"
   ]
  },
  {
   "cell_type": "code",
   "execution_count": 480,
   "id": "ef6af8c9",
   "metadata": {},
   "outputs": [
    {
     "name": "stdout",
     "output_type": "stream",
     "text": [
      "[1, 2, 3, 4, 5, 6, 7, 8, 9, 10] -1\n",
      "[9, 1, 8, 9, 9, 7, 2, 1, 6, 8] 9\n",
      "[1, 3, 2, 2, 8, 6, 5, 9, 6, 7] 2\n",
      "[3, 8, 2, 8, 6, 7, 7, 3, 1, 9] 8\n",
      "[4, 8, 8, 8, 5, 1, 10, 3, 1, 7] 8\n",
      "[1, 3, 7, 2, 2, 1, 5, 1, 9, 9] 2\n",
      "[10, 2, 2, 1, 3, 5, 10, 5, 10, 1] 2\n",
      "[1, 6, 1, 5, 1, 1, 1, 4, 7, 3] 1\n",
      "[1, 3, 7, 1, 10, 5, 9, 2, 5, 7] 1\n",
      "[4, 7, 6, 5, 2, 9, 2, 1, 2, 1] 2\n",
      "[5, 3, 1, 8, 5, 7, 1, 8, 8, 7] 5\n",
      "[10, 9, 8, 7, 6, 5, 4, 3, 2, 1] -1\n"
     ]
    }
   ],
   "source": [
    "\"\"\"\n",
    "Exercício\n",
    "Crie uma função que encontra o primeiro duplicado considerando o segundo\n",
    "número como a duplicação. Retorne a duplicação considerada.\n",
    "Requisitos:\n",
    "    A ordem do número duplicado é considerada a partir da segunda\n",
    "    ocorrência do número, ou seja, o número duplicado em si.\n",
    "    Exemplo:\n",
    "        [1, 2, 3, ->3<-, 2, 1] -> 1, 2 e 3 são duplicados (retorne 3)\n",
    "        [1, 2, 3, 4, 5, 6] -> Retorne -1 (não tem duplicados)\n",
    "        [1, 4, 9, 8, ->9<-, 4, 8] (retorne 9)\n",
    "    Se não encontrar duplicados na lista, retorne -1\n",
    "\"\"\"\n",
    "lista_de_listas_de_inteiros = [\n",
    "    [1, 2, 3, 4, 5, 6, 7, 8, 9, 10],\n",
    "    [9, 1, 8, 9, 9, 7, 2, 1, 6, 8],\n",
    "    [1, 3, 2, 2, 8, 6, 5, 9, 6, 7],\n",
    "    [3, 8, 2, 8, 6, 7, 7, 3, 1, 9],\n",
    "    [4, 8, 8, 8, 5, 1, 10, 3, 1, 7],\n",
    "    [1, 3, 7, 2, 2, 1, 5, 1, 9, 9],\n",
    "    [10, 2, 2, 1, 3, 5, 10, 5, 10, 1],\n",
    "    [1, 6, 1, 5, 1, 1, 1, 4, 7, 3],\n",
    "    [1, 3, 7, 1, 10, 5, 9, 2, 5, 7],\n",
    "    [4, 7, 6, 5, 2, 9, 2, 1, 2, 1],\n",
    "    [5, 3, 1, 8, 5, 7, 1, 8, 8, 7],\n",
    "    [10, 9, 8, 7, 6, 5, 4, 3, 2, 1],\n",
    "]\n",
    "\n",
    "\n",
    "def encontra_primeiro_duplicado(lista_de_inteiros):\n",
    "    numeros_checados = set()\n",
    "    primeiro_duplicado = -1\n",
    "    for numero in lista_de_inteiros:\n",
    "        if numero in numeros_checados:\n",
    "            primeiro_duplicado = numero\n",
    "            break\n",
    "        numeros_checados.add(numero)\n",
    "    return primeiro_duplicado\n",
    "\n",
    "\n",
    "for lista in lista_de_listas_de_inteiros:\n",
    "    print(\n",
    "        lista,\n",
    "        encontra_primeiro_duplicado(lista)\n",
    "    )"
   ]
  },
  {
   "cell_type": "markdown",
   "id": "575b50e7",
   "metadata": {},
   "source": [
    "[Summary](#Summary)"
   ]
  },
  {
   "cell_type": "markdown",
   "id": "cabd3563",
   "metadata": {},
   "source": [
    "### Exercício 11: Manipulando dicionários - aumento de preços de produtos <a id='ManipDicAumentaPreço'></a>"
   ]
  },
  {
   "cell_type": "code",
   "execution_count": 585,
   "id": "21adb9bd",
   "metadata": {},
   "outputs": [
    {
     "name": "stdout",
     "output_type": "stream",
     "text": [
      "{'nome': 'Produto 5', 'preco': 10.0}\n",
      "{'nome': 'Produto 1', 'preco': 22.32}\n",
      "{'nome': 'Produto 3', 'preco': 10.11}\n",
      "{'nome': 'Produto 2', 'preco': 105.87}\n",
      "{'nome': 'Produto 4', 'preco': 69.9}\n",
      "\n",
      "{'nome': 'Produto 5', 'preco': 11.0}\n",
      "{'nome': 'Produto 1', 'preco': 24.55}\n",
      "{'nome': 'Produto 3', 'preco': 11.12}\n",
      "{'nome': 'Produto 2', 'preco': 116.46}\n",
      "{'nome': 'Produto 4', 'preco': 76.89}\n",
      "\n",
      "{'nome': 'Produto 5', 'preco': 10.0}\n",
      "{'nome': 'Produto 4', 'preco': 69.9}\n",
      "{'nome': 'Produto 3', 'preco': 10.11}\n",
      "{'nome': 'Produto 2', 'preco': 105.87}\n",
      "{'nome': 'Produto 1', 'preco': 22.32}\n",
      "\n",
      "{'nome': 'Produto 5', 'preco': 10.0}\n",
      "{'nome': 'Produto 3', 'preco': 10.11}\n",
      "{'nome': 'Produto 1', 'preco': 22.32}\n",
      "{'nome': 'Produto 4', 'preco': 69.9}\n",
      "{'nome': 'Produto 2', 'preco': 105.87}\n"
     ]
    }
   ],
   "source": [
    "import copy\n",
    "\n",
    "from dados import produtos\n",
    "\n",
    "# copy, sorted, produtos.sort\n",
    "# Exercícios\n",
    "# Aumente os preços dos produtos a seguir em 10%\n",
    "# Gere novos_produtos por deep copy (cópia profunda)\n",
    "novos_produtos = [\n",
    "    {**p, 'preco': round(p['preco'] * 1.1, 2)}\n",
    "    for p in copy.deepcopy(produtos)\n",
    "]\n",
    "\n",
    "# print(*produtos, sep='\\n')\n",
    "# print()\n",
    "# print(*novos_produtos, sep='\\n')\n",
    "\n",
    "# Ordene os produtos por nome decrescente (do maior para menor)\n",
    "# Gere produtos_ordenados_por_nome por deep copy (cópia profunda)\n",
    "produtos_ordenados_por_nome = sorted(\n",
    "    copy.deepcopy(produtos),\n",
    "    key=lambda p: p['nome'],\n",
    "    reverse=True\n",
    ")\n",
    "# print(*produtos, sep='\\n')\n",
    "# print()\n",
    "# print(*produtos_ordenados_por_nome, sep='\\n')\n",
    "\n",
    "\n",
    "# Ordene os produtos por preco crescente (do menor para maior)\n",
    "# Gere produtos_ordenados_por_preco por deep copy (cópia profunda)\n",
    "produtos_ordenados_por_preco = sorted(\n",
    "    copy.deepcopy(produtos),\n",
    "    key=lambda p: p['preco']\n",
    ")\n",
    "\n",
    "# FINAL\n",
    "\n",
    "print(*produtos, sep='\\n')\n",
    "print()\n",
    "print(*novos_produtos, sep='\\n')\n",
    "print()\n",
    "print(*produtos_ordenados_por_nome, sep='\\n')\n",
    "print()\n",
    "print(*produtos_ordenados_por_preco, sep='\\n')"
   ]
  },
  {
   "cell_type": "markdown",
   "id": "691cb29a",
   "metadata": {},
   "source": [
    "[Summary](#Summary)"
   ]
  },
  {
   "cell_type": "markdown",
   "id": "1b478dc0",
   "metadata": {},
   "source": [
    "### Exercício 12: Unir duas listas em uma só <a id='UnirListas'></a>"
   ]
  },
  {
   "cell_type": "code",
   "execution_count": 622,
   "id": "36516d9e",
   "metadata": {},
   "outputs": [
    {
     "name": "stdout",
     "output_type": "stream",
     "text": [
      "[('Salvador', 'BA'), ('Ubatuba', 'SP'), ('Belo Horizonte', 'MG')]\n"
     ]
    }
   ],
   "source": [
    "# Exercício - Unir listas\n",
    "# Crie uma função zipper (como o zipper de roupas)\n",
    "# O trabalho dessa função será unir duas\n",
    "# listas na ordem.\n",
    "# Use todos os valores da menor lista.\n",
    "# Ex.:\n",
    "# ['Salvador', 'Ubatuba', 'Belo Horizonte']\n",
    "# ['BA', 'SP', 'MG', 'RJ']\n",
    "# Resultado\n",
    "# [('Salvador', 'BA'), ('Ubatuba', 'SP'), ('Belo Horizonte', 'MG')]\n",
    "\n",
    "def zipper(l1, l2):\n",
    "     intervalo = min(len(l1), len(l2))\n",
    "     return [(l1[i], l2[i]) for i in range(intervalo)]\n",
    "\n",
    "l1 = ['Salvador', 'Ubatuba', 'Belo Horizonte']\n",
    "l2 = ['BA', 'SP', 'MG', 'RJ']\n",
    "print(list(zip(l1, l2)))"
   ]
  },
  {
   "cell_type": "code",
   "execution_count": 626,
   "id": "2dfd96ba",
   "metadata": {},
   "outputs": [
    {
     "name": "stdout",
     "output_type": "stream",
     "text": [
      "[('Salvador', 'BA'), ('Ubatuba', 'SP'), ('Belo Horizonte', 'MG'), ('***', 'RJ')]\n",
      "---\n",
      "[('Salvador', 'BA'), ('Ubatuba', 'SP'), ('Belo Horizonte', 'MG')]\n"
     ]
    }
   ],
   "source": [
    "from itertools import zip_longest\n",
    "\n",
    "l1 = ['Salvador', 'Ubatuba', 'Belo Horizonte']\n",
    "l2 = ['BA', 'SP', 'MG', 'RJ']\n",
    "\n",
    "print(list(zip_longest(l1, l2, fillvalue='***')))\n",
    "\n",
    "print('---')\n",
    "\n",
    "print(list(zip(l1,l2)))"
   ]
  },
  {
   "cell_type": "code",
   "execution_count": 625,
   "id": "1ad64739",
   "metadata": {},
   "outputs": [
    {
     "name": "stdout",
     "output_type": "stream",
     "text": [
      "[('Salvador', 'BA'), ('Ubatuba', 'SP'), ('Belo Horizonte', 'MG'), ('Goiania', 'RJ'), ('Brasilia', '***')]\n"
     ]
    }
   ],
   "source": [
    "from itertools import zip_longest\n",
    "\n",
    "l1 = ['Salvador', 'Ubatuba', 'Belo Horizonte', 'Goiania', 'Brasilia']\n",
    "l2 = ['BA', 'SP', 'MG', 'RJ']\n",
    "\n",
    "print(list(zip_longest(l1, l2, fillvalue='***')))"
   ]
  },
  {
   "cell_type": "markdown",
   "id": "9ed04eb3",
   "metadata": {},
   "source": [
    "[Summary](#Summary)"
   ]
  },
  {
   "cell_type": "markdown",
   "id": "875d1583",
   "metadata": {},
   "source": [
    "### Exercício 13: Lista de tarefas (utilizando JSON) <a id='ListaTarefas'></a>"
   ]
  },
  {
   "cell_type": "code",
   "execution_count": 3,
   "id": "3626ae4b",
   "metadata": {},
   "outputs": [
    {
     "name": "stdout",
     "output_type": "stream",
     "text": [
      "Comandos: listar, desfazer, refazer, finalizar\n",
      "Digite uma tarefa ou comando: Almoçar\n",
      "\n",
      "tarefa='Almoçar' adicionada na lista de tarefas.\n",
      "\n",
      "\n",
      "Tarefas:\n",
      "\ttomar café\n",
      "\tler\n",
      "\tTomar banho\n",
      "\tAlmoçar\n",
      "\tfinalizar\n",
      "\tlistart\n",
      "\tAlmoçar\n",
      "\n",
      "Comandos: listar, desfazer, refazer, finalizar\n",
      "Digite uma tarefa ou comando: finalizar\n"
     ]
    }
   ],
   "source": [
    "# Exercício - Lista de tarefas com desfazer e refazer\n",
    "# todo = [] -> lista de tarefas\n",
    "# todo = ['fazer café'] -> Adicionar fazer café\n",
    "# todo = ['fazer café', 'caminhar'] -> Adicionar caminhar\n",
    "# desfazer = ['fazer café',] -> Refazer ['caminhar']\n",
    "# desfazer = [] -> Refazer ['caminhar', 'fazer café']\n",
    "# refazer = todo ['fazer café']\n",
    "# refazer = todo ['fazer café', 'caminhar']\n",
    "import json\n",
    "import os\n",
    "\n",
    "\n",
    "def listar(tarefas):\n",
    "    print()\n",
    "    if not tarefas:\n",
    "        print('Nenhuma tarefa para listar')\n",
    "        return\n",
    "\n",
    "    print('Tarefas:')\n",
    "    for tarefa in tarefas:\n",
    "        print(f'\\t{tarefa}')\n",
    "    print()\n",
    "\n",
    "\n",
    "def desfazer(tarefas, tarefas_refazer):\n",
    "    print()\n",
    "    if not tarefas:\n",
    "        print('Nenhuma tarefa para desfazer')\n",
    "        return\n",
    "\n",
    "    tarefa = tarefas.pop()\n",
    "    print(f'{tarefa=} removida da lista de tarefas.')\n",
    "    tarefas_refazer.append(tarefa)\n",
    "    print()\n",
    "    listar(tarefas)\n",
    "\n",
    "\n",
    "def refazer(tarefas, tarefas_refazer):\n",
    "    print()\n",
    "    if not tarefas_refazer:\n",
    "        print('Nenhuma tarefa para refazer')\n",
    "        return\n",
    "\n",
    "    tarefa = tarefas_refazer.pop()\n",
    "    print(f'{tarefa=} adicionada na lista de tarefas.')\n",
    "    tarefas.append(tarefa)\n",
    "    print()\n",
    "    listar(tarefas)\n",
    "\n",
    "\n",
    "def adicionar(tarefa, tarefas):\n",
    "    print()\n",
    "    tarefa = tarefa.strip()\n",
    "    if not tarefa:\n",
    "        print('Você não digitou uma tarefa.')\n",
    "        return\n",
    "    print(f'{tarefa=} adicionada na lista de tarefas.')\n",
    "    tarefas.append(tarefa)\n",
    "    print()\n",
    "    listar(tarefas)\n",
    "\n",
    "\n",
    "def ler(tarefas, caminho_arquivo):\n",
    "    dados = []\n",
    "    try:\n",
    "        with open(caminho_arquivo, 'r', encoding='utf8') as arquivo:\n",
    "            dados = json.load(arquivo)\n",
    "    except FileNotFoundError:\n",
    "        print('Arquivo não existe')\n",
    "        salvar(tarefas, caminho_arquivo)\n",
    "    return dados\n",
    "\n",
    "\n",
    "def salvar(tarefas, caminho_arquivo):\n",
    "    dados = tarefas\n",
    "    with open(caminho_arquivo, 'w', encoding='utf8') as arquivo:\n",
    "        dados = json.dump(tarefas, arquivo, indent=2, ensure_ascii=False)\n",
    "    return dados\n",
    "\n",
    "def finalizar():\n",
    "    exit()\n",
    "\n",
    "\n",
    "CAMINHO_ARQUIVO = 'aula119.json'\n",
    "tarefas = ler([], CAMINHO_ARQUIVO)\n",
    "tarefas_refazer = []\n",
    "\n",
    "while True:\n",
    "    print('Comandos: listar, desfazer, refazer, finalizar')\n",
    "    tarefa = input('Digite uma tarefa ou comando: ')\n",
    "\n",
    "    if tarefa == 'finalizar':\n",
    "        break\n",
    "        \n",
    "    comandos = {\n",
    "        'listar': lambda: listar(tarefas),\n",
    "        'desfazer': lambda: desfazer(tarefas, tarefas_refazer),\n",
    "        'refazer': lambda: refazer(tarefas, tarefas_refazer),\n",
    "        'clear': lambda: os.system('clear'),\n",
    "        'adicionar': lambda: adicionar(tarefa, tarefas),\n",
    "        'finalizar': lambda: exit(),\n",
    "    }\n",
    "    comando = comandos.get(tarefa) if comandos.get(tarefa) is not None else \\\n",
    "        comandos['adicionar']\n",
    "    comando()\n",
    "    salvar(tarefas, CAMINHO_ARQUIVO)\n",
    "\n",
    "    # if tarefa == 'listar':\n",
    "    #     listar(tarefas)\n",
    "    #     continue\n",
    "    # elif tarefa == 'desfazer':\n",
    "    #     desfazer(tarefas, tarefas_refazer)\n",
    "    #     listar(tarefas)\n",
    "    #     continue\n",
    "    # elif tarefa == 'refazer':\n",
    "    #     refazer(tarefas, tarefas_refazer)\n",
    "    #     listar(tarefas)\n",
    "    #     continue\n",
    "    # elif tarefa == 'clear':\n",
    "    #     os.system('clear')\n",
    "    #     continue\n",
    "    # else:\n",
    "    #     adicionar(tarefa, tarefas)\n",
    "    #     listar(tarefas)\n",
    "    #     continue\n"
   ]
  },
  {
   "cell_type": "markdown",
   "id": "afd295f6",
   "metadata": {},
   "source": [
    "[Summary](#Summary)"
   ]
  },
  {
   "cell_type": "markdown",
   "id": "4fcf9b08",
   "metadata": {},
   "source": [
    "### Exercício 14: Salvando a classe em JSON <a id='SalvandoClasseEmJSON'></a>"
   ]
  },
  {
   "cell_type": "code",
   "execution_count": 1,
   "id": "f7054cd7",
   "metadata": {},
   "outputs": [
    {
     "name": "stdout",
     "output_type": "stream",
     "text": [
      "ELE É O __main__\n",
      "FAZENDO DUMP\n"
     ]
    }
   ],
   "source": [
    "# Exercício - Salve sua classe em JSON\n",
    "# Salve os dados da sua classe em JSON\n",
    "# e depois crie novamente as instâncias\n",
    "# da classe com os dados salvos\n",
    "# Faça em arquivos separados.\n",
    "import json\n",
    "\n",
    "CAMINHO_ARQUIVO = 'aula127-bd.json'\n",
    "\n",
    "\n",
    "class Pessoa:\n",
    "    def __init__(self, nome, idade):\n",
    "        self.nome = nome\n",
    "        self.idade = idade\n",
    "\n",
    "\n",
    "p1 = Pessoa('Carlos', 33)\n",
    "p2 = Pessoa('Helena', 21)\n",
    "p3 = Pessoa('Joana', 11)\n",
    "bd = [vars(p1), p2.__dict__, vars(p3)]\n",
    "\n",
    "\n",
    "def fazer_dump():\n",
    "    with open(CAMINHO_ARQUIVO, 'w') as arquivo:\n",
    "        print('FAZENDO DUMP')\n",
    "        json.dump(bd, arquivo, ensure_ascii=True, indent=2)\n",
    "\n",
    "\n",
    "if __name__ == '__main__':\n",
    "    print('ELE É O __main__')\n",
    "    fazer_dump()"
   ]
  },
  {
   "cell_type": "code",
   "execution_count": 16,
   "id": "8a9098af",
   "metadata": {},
   "outputs": [],
   "source": [
    "s = '"
   ]
  },
  {
   "cell_type": "code",
   "execution_count": 17,
   "id": "4e92c0a7",
   "metadata": {},
   "outputs": [
    {
     "data": {
      "text/plain": [
       "198"
      ]
     },
     "execution_count": 17,
     "metadata": {},
     "output_type": "execute_result"
    }
   ],
   "source": [
    "len(s)"
   ]
  },
  {
   "cell_type": "code",
   "execution_count": null,
   "id": "09fce1e8",
   "metadata": {},
   "outputs": [],
   "source": []
  },
  {
   "cell_type": "code",
   "execution_count": null,
   "id": "7b02d647",
   "metadata": {},
   "outputs": [],
   "source": []
  },
  {
   "cell_type": "code",
   "execution_count": 3,
   "id": "0987a1c8",
   "metadata": {},
   "outputs": [
    {
     "ename": "ImportError",
     "evalue": "cannot import name 'CAMINHO_ARQUIVO' from 'aula127_a' (D:\\Usuario\\Documents\\Area de Trabalho\\Cursos OnLine - DS-ML-AI-TI\\Curso - Python-Basico-ao-Avancado - Luiz Otavio\\cursopython2023LuizOtavio\\aula127_a.py)",
     "output_type": "error",
     "traceback": [
      "\u001b[1;31m---------------------------------------------------------------------------\u001b[0m",
      "\u001b[1;31mImportError\u001b[0m                               Traceback (most recent call last)",
      "Cell \u001b[1;32mIn[3], line 3\u001b[0m\n\u001b[0;32m      1\u001b[0m \u001b[38;5;28;01mimport\u001b[39;00m \u001b[38;5;21;01mjson\u001b[39;00m\n\u001b[1;32m----> 3\u001b[0m \u001b[38;5;28;01mfrom\u001b[39;00m \u001b[38;5;21;01maula127_a\u001b[39;00m \u001b[38;5;28;01mimport\u001b[39;00m CAMINHO_ARQUIVO, Pessoa, fazer_dump\n\u001b[0;32m      5\u001b[0m \u001b[38;5;66;03m# fazer_dump()\u001b[39;00m\n\u001b[0;32m      7\u001b[0m \u001b[38;5;28mprint\u001b[39m(CAMINHO_ARQUIVO)\n",
      "\u001b[1;31mImportError\u001b[0m: cannot import name 'CAMINHO_ARQUIVO' from 'aula127_a' (D:\\Usuario\\Documents\\Area de Trabalho\\Cursos OnLine - DS-ML-AI-TI\\Curso - Python-Basico-ao-Avancado - Luiz Otavio\\cursopython2023LuizOtavio\\aula127_a.py)"
     ]
    }
   ],
   "source": [
    "import json\n",
    "\n",
    "from aula127_a import CAMINHO_ARQUIVO, Pessoa, fazer_dump\n",
    "\n",
    "# fazer_dump()\n",
    "\n",
    "print(CAMINHO_ARQUIVO)\n",
    "\n",
    "with open(CAMINHO_ARQUIVO, 'r') as arquivo:\n",
    "    pessoas = json.load(arquivo)\n",
    "    p1 = Pessoa(**pessoas[0])\n",
    "    p2 = Pessoa(**pessoas[1])\n",
    "    p3 = Pessoa(**pessoas[2])\n",
    "\n",
    "    print(p1.nome, p1.idade)\n",
    "    print(p2.nome, p2.idade)\n",
    "    print(p3.nome, p3.idade)"
   ]
  },
  {
   "cell_type": "code",
   "execution_count": null,
   "id": "664c6f52",
   "metadata": {},
   "outputs": [],
   "source": []
  },
  {
   "cell_type": "markdown",
   "id": "111df556",
   "metadata": {},
   "source": [
    "[Summary](#Summary)"
   ]
  },
  {
   "cell_type": "markdown",
   "id": "339be283",
   "metadata": {},
   "source": [
    "### Exercício 15: Building Classes <a id='BuildingClasses'></a>"
   ]
  },
  {
   "cell_type": "code",
   "execution_count": 109,
   "id": "adef1b48",
   "metadata": {},
   "outputs": [
    {
     "name": "stdout",
     "output_type": "stream",
     "text": [
      "Fusca Volkswagen 1.0\n",
      "Gol Volkswagen 1.0\n",
      "Uno Fiat 1.0\n",
      "Focus Titanium Ford 2.0\n"
     ]
    }
   ],
   "source": [
    "# Exercício com classes\n",
    "# 1 - Crie uma classe Carro (Nome)\n",
    "# 2 - Crie uma classe Motor (Nome)\n",
    "# 3 - Crie uma classe Fabricante (Nome)\n",
    "# 4 - Faça a ligação entre Carro tem um Motor\n",
    "# Obs.: Um motor pode ser de vários carros\n",
    "# 5 - Faça a ligação entre Carro e um Fabricante\n",
    "# Obs.: Um fabricante pode fabricar vários carros\n",
    "# Exiba o nome do carro, motor e fabricante na tela\n",
    "class Carro:\n",
    "    def __init__(self, nome):\n",
    "        self.nome = nome\n",
    "        self._motor = None\n",
    "        self._fabricante = None\n",
    "\n",
    "    @property\n",
    "    def motor(self):\n",
    "        return self._motor\n",
    "\n",
    "    @motor.setter\n",
    "    def motor(self, valor):\n",
    "        self._motor = valor\n",
    "\n",
    "    @property\n",
    "    def fabricante(self):\n",
    "        return self._fabricante\n",
    "\n",
    "    @fabricante.setter\n",
    "    def fabricante(self, valor):\n",
    "        self._fabricante = valor\n",
    "\n",
    "\n",
    "class Motor:\n",
    "    def __init__(self, nome):\n",
    "        self.nome = nome\n",
    "\n",
    "\n",
    "class Fabricante:\n",
    "    def __init__(self, nome):\n",
    "        self.nome = nome\n",
    "\n",
    "\n",
    "fusca = Carro('Fusca')\n",
    "volkswagen = Fabricante('Volkswagen')\n",
    "motor_1_0 = Motor('1.0')\n",
    "fusca.fabricante = volkswagen\n",
    "fusca.motor = motor_1_0\n",
    "print(fusca.nome, fusca.fabricante.nome, fusca.motor.nome)\n",
    "\n",
    "gol = Carro('Gol')\n",
    "gol.fabricante = volkswagen\n",
    "gol.motor = motor_1_0\n",
    "print(gol.nome, gol.fabricante.nome, gol.motor.nome)\n",
    "\n",
    "fiat_uno = Carro('Uno')\n",
    "fiat = Fabricante('Fiat')\n",
    "fiat_uno.fabricante = fiat\n",
    "fiat_uno.motor = motor_1_0\n",
    "print(fiat_uno.nome, fiat_uno.fabricante.nome, fiat_uno.motor.nome)\n",
    "\n",
    "focus = Carro('Focus Titanium')\n",
    "ford = Fabricante('Ford')\n",
    "motor_2_0 = Motor('2.0')\n",
    "focus.fabricante = ford\n",
    "focus.motor = motor_2_0\n",
    "print(focus.nome, focus.fabricante.nome, focus.motor.nome)"
   ]
  },
  {
   "cell_type": "markdown",
   "id": "4720b60b",
   "metadata": {},
   "source": [
    "[Summary](#Summary)"
   ]
  },
  {
   "cell_type": "markdown",
   "id": "d0f31b53",
   "metadata": {},
   "source": [
    "### Exercício 16: Velocidade dos foguetes"
   ]
  },
  {
   "cell_type": "code",
   "execution_count": 3,
   "id": "439751f5",
   "metadata": {},
   "outputs": [],
   "source": [
    "#Implement function get_result\n",
    "def get_result(rocket_pos,rocket_speed):\n",
    "    def check_equal(pos):\n",
    "        return all(i == pos[0] for i in pos)\n",
    "\n",
    "    try:\n",
    "        pos = rocket_pos\n",
    "        vel = rocket_speed\n",
    "\n",
    "        qty = 0\n",
    "        find_equal = 0\n",
    "        while qty < 10:\n",
    "            for i in range(len(pos)):\n",
    "                pos[i] = pos[i] + vel[i]\n",
    "            qty = qty + 1\n",
    "            equal = 0\n",
    "            equal = check_equal(pos)\n",
    "            if equal == True:\n",
    "               break\n",
    "        if equal == True:\n",
    "           return qty\n",
    "        else:\n",
    "           return -1\n",
    "    except:\n",
    "        return -1"
   ]
  },
  {
   "cell_type": "code",
   "execution_count": 4,
   "id": "4049cbdf",
   "metadata": {},
   "outputs": [
    {
     "data": {
      "text/plain": [
       "-1"
      ]
     },
     "execution_count": 4,
     "metadata": {},
     "output_type": "execute_result"
    }
   ],
   "source": [
    "get_result([4,12,8],[4,1,2])"
   ]
  },
  {
   "cell_type": "code",
   "execution_count": 5,
   "id": "e77bab18",
   "metadata": {},
   "outputs": [
    {
     "data": {
      "text/plain": [
       "3"
      ]
     },
     "execution_count": 5,
     "metadata": {},
     "output_type": "execute_result"
    }
   ],
   "source": [
    "get_result([3,15,12],[5,1,2])"
   ]
  },
  {
   "cell_type": "code",
   "execution_count": null,
   "id": "a55251c9",
   "metadata": {},
   "outputs": [],
   "source": []
  }
 ],
 "metadata": {
  "kernelspec": {
   "display_name": "Python 3 (ipykernel)",
   "language": "python",
   "name": "python3"
  },
  "language_info": {
   "codemirror_mode": {
    "name": "ipython",
    "version": 3
   },
   "file_extension": ".py",
   "mimetype": "text/x-python",
   "name": "python",
   "nbconvert_exporter": "python",
   "pygments_lexer": "ipython3",
   "version": "3.10.9"
  }
 },
 "nbformat": 4,
 "nbformat_minor": 5
}
